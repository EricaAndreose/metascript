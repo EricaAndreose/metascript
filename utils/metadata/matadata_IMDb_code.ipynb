{
 "cells": [
  {
   "cell_type": "markdown",
   "metadata": {},
   "source": [
    "Extracting infos from IMDb database"
   ]
  },
  {
   "cell_type": "markdown",
   "metadata": {},
   "source": [
    "This code extract two simple CSV/JSON files  with some infos as: Title, Year, Rating, Genres and Plot."
   ]
  },
  {
   "cell_type": "code",
   "execution_count": 22,
   "metadata": {},
   "outputs": [
    {
     "name": "stdout",
     "output_type": "stream",
     "text": [
      "Metadata saved to 'metadata_IMDb.json'\n"
     ]
    }
   ],
   "source": [
    "from imdb import IMDb\n",
    "import csv\n",
    "import json\n",
    "\n",
    "# Create an IMDb instance\n",
    "ia = IMDb()\n",
    "\n",
    "# Replace 'movie_title' with the actual title of the movie you're interested in\n",
    "movie_title = \"Eyes Wide Shut\"\n",
    "movies = ia.search_movie(movie_title)\n",
    "\n",
    "if movies:\n",
    "    movie = movies[0]\n",
    "    ia.update(movie)\n",
    "else:\n",
    "    print(\"Movie not found.\")\n",
    "    exit()\n",
    "\n",
    "# Extract more metadata fields\n",
    "movie_data = {\n",
    "    \"Title\": movie.get(\"title\"),\n",
    "    \"Year\": movie.get(\"year\"),\n",
    "    \"Rating\": movie.get(\"rating\"),\n",
    "    \"Genres\": ', '.join(movie.get(\"genres\", [])),\n",
    "    \"Plot\": movie.get(\"plot outline\", \"N/A\"),\n",
    "    # Add more fields as needed\n",
    "}\n",
    "\n",
    "output_file = \"metadata_IMDb.csv\"\n",
    "json_filename = \"metadata_IMDb.json\"\n",
    "\n",
    "with open(output_file, \"w\", newline=\"\", encoding=\"utf-8\") as csv_file:\n",
    "    fieldnames = movie_data.keys()\n",
    "    writer = csv.DictWriter(csv_file, fieldnames=fieldnames)\n",
    "    writer.writeheader()\n",
    "    writer.writerow(movie_data)\n",
    "\n",
    "# Write the data to a JSON file\n",
    "with open(json_filename, 'w', encoding='utf-8') as jsonfile:\n",
    "    json.dump(movie_data, jsonfile, ensure_ascii=False, indent=4)\n",
    "    \n",
    "print(f\"Metadata saved to '{json_filename}'\")\n"
   ]
  },
  {
   "cell_type": "markdown",
   "metadata": {},
   "source": [
    "This code extract infos about the crew and save them in CSV/JSON files."
   ]
  },
  {
   "cell_type": "code",
   "execution_count": 21,
   "metadata": {},
   "outputs": [
    {
     "name": "stdout",
     "output_type": "stream",
     "text": [
      "Metadata saved to 'crew_IMDb_metadata.csv'\n",
      "Metadata saved to 'crew_IMDB_metadata.json'\n"
     ]
    }
   ],
   "source": [
    "import csv\n",
    "import json\n",
    "from imdb import IMDb\n",
    "\n",
    "# Create an IMDb object\n",
    "ia = IMDb()\n",
    "\n",
    "# Replace 'Movie Title' with the actual title of the movie you want to retrieve\n",
    "movie_title = 'Eyes Wide Shut'\n",
    "\n",
    "# Search for the movie by title\n",
    "movies = ia.search_movie(movie_title)\n",
    "\n",
    "if movies:\n",
    "    # Get the first movie in the search results (you can modify this if needed)\n",
    "    movie = movies[0]\n",
    "    \n",
    "    # Fetch the movie details\n",
    "    ia.update(movie, info='main')\n",
    "    \n",
    "    # Create a dictionary to store roles and associated names\n",
    "    roles_dict = {}\n",
    "    \n",
    "    # Production companies\n",
    "    if 'production companies' in movie:\n",
    "        roles_dict['Production Company'] = [str(company) for company in movie['production companies']]\n",
    "    \n",
    "    # Producers\n",
    "    if 'producer' in movie:\n",
    "        roles_dict['Producer'] = [str(producer) for producer in movie['producer']]\n",
    "    \n",
    "    # Writers\n",
    "    if 'writer' in movie:\n",
    "        roles_dict['Writer'] = [str(writer) for writer in movie['writer']]\n",
    "    \n",
    "    # Directors\n",
    "    if 'director' in movie:\n",
    "        roles_dict['Director'] = [str(director) for director in movie['director']]\n",
    "    \n",
    "    # Define the name of the CSV and JSON files\n",
    "    csv_filename = 'crew_IMDb_metadata.csv'\n",
    "    json_filename = 'crew_IMDB_metadata.json'\n",
    "    \n",
    "    # Write the data to a CSV file\n",
    "    with open(csv_filename, 'w', newline='', encoding='utf-8') as csvfile:\n",
    "        csv_writer = csv.writer(csvfile)\n",
    "        csv_writer.writerow(['Role', 'Name'])  # Write header\n",
    "        for role, names in roles_dict.items():\n",
    "            csv_writer.writerows([(role, name) for name in names])\n",
    "        \n",
    "    print(f\"Metadata saved to '{csv_filename}'\")\n",
    "    \n",
    "    # Write the data to a JSON file\n",
    "    with open(json_filename, 'w', encoding='utf-8') as jsonfile:\n",
    "        json.dump(roles_dict, jsonfile, ensure_ascii=False, indent=4)\n",
    "        \n",
    "    print(f\"Metadata saved to '{json_filename}'\")\n",
    "else:\n",
    "    print(f\"No movies found with the title '{movie_title}'\")\n"
   ]
  },
  {
   "cell_type": "markdown",
   "metadata": {},
   "source": [
    "This code collect infos about the name and the role of all the actor playing in a choosen movie.\n",
    "It return the data already in XML format with the tags <role> and <actor>.\n"
   ]
  },
  {
   "cell_type": "code",
   "execution_count": null,
   "metadata": {},
   "outputs": [],
   "source": [
    "from imdb import IMDb\n",
    "from imdb_ref import print_imdb_actor_page\n",
    "\n",
    "# Create an IMDb instance\n",
    "ia = IMDb()\n",
    "\n",
    "# Search for a movie by title\n",
    "movie_title = \"Eyes Wide Shut\" # Choose the title\n",
    "movies = ia.search_movie(movie_title)\n",
    "\n",
    "\n",
    "if movies:\n",
    "    # Get the first search result (movie)\n",
    "    first_movie = movies[0]\n",
    "    \n",
    "    # Update the movie details\n",
    "    ia.update(first_movie, info=['main', 'cast'])\n",
    "    \n",
    "    print(\"Title:\", first_movie[\"title\"])\n",
    "\n",
    "    \n",
    "    # Print the list of actors and their roles\n",
    "    for actor in first_movie[\"cast\"]:\n",
    "        url = print_imdb_actor_page(actor[\"name\"])\n",
    "        print(\"<role>\",actor.currentRole,\"</role>\")\n",
    "        print(\"<actor ref='\",f\"{url}\" ,\"'>\", actor[\"name\"],\"<actor>\")\n",
    "        print(\"---\")\n",
    "else:\n",
    "    print(\"No results found for\", movie_title)"
   ]
  }
 ],
 "metadata": {
  "kernelspec": {
   "display_name": "Python 3",
   "language": "python",
   "name": "python3"
  },
  "language_info": {
   "codemirror_mode": {
    "name": "ipython",
    "version": 3
   },
   "file_extension": ".py",
   "mimetype": "text/x-python",
   "name": "python",
   "nbconvert_exporter": "python",
   "pygments_lexer": "ipython3",
   "version": "3.10.8"
  },
  "orig_nbformat": 4
 },
 "nbformat": 4,
 "nbformat_minor": 2
}
