{
 "cells": [
  {
   "cell_type": "markdown",
   "metadata": {},
   "source": [
    "# Documentation on network analysis\n",
    "The goal of doing a character network analysis is to analyze the number of interactions that the characters have inside the story, do a comparison between interactions in the story, screenplay 1996 and final version of the screenplay (1999). \n",
    "For each of the XML documents analyzed we have created the following: a csv file containing the interactions; a static graph; an interactive graph.  \n",
    "\n",
    "The first thing that was done was to search manually for all the direct and indirect dialogues inside the texts and then tag them inside the **XML-TEI**. The tagging in the book was done using ```<said>``` , and adding for each dialogue the attribute \"who\" that underlines who is speaking and \"toWhom\" addresses the listener. As for the screenplay, we added manually the tag ```<sp>``` which is used to identify individual speeches in performance texts, followed by the attributes \"who\" and \"toWhom\". Multiple speakers or listeners are added as a single string and separated with a comma. \n",
    "\n",
    "The libraries needed to extract information from the TEI document and ... are: [xml.etree](https://docs.python.org/3/library/xml.etree.elementtree.html#).\n",
    "\n",
    "\n",
    "**xml.etree** is used to progressively search into the hierarchical structure of the XML-TEI document. In this case we need to search inside the TEI header the content inside the tag ```<said>``` or ```<sp>``` and get all the information contained in the tags \"who\" and \"toWhom\". This process is done for each ```<said>``` or ```<sp>``` tag and then the information is added as a tuple in a `content_list`. The script founds if speakers or listeners are more than one (so separated by a comma), splits them, adds into a list (`listener_tags` or `who_tags`) and appends them into `content_list`. `interactions` is a dictionary that is used to store the number of times the characters interact with each other, counting the number of times the tuple is inside `content_list`. \n",
    "\n",
    "Then, we store the data into an external csv file. \n",
    "\n"
   ]
  },
  {
   "cell_type": "code",
   "execution_count": 2,
   "metadata": {},
   "outputs": [
    {
     "name": "stdout",
     "output_type": "stream",
     "text": [
      "CSV file 'interactions_book.csv' created.\n"
     ]
    }
   ],
   "source": [
    "from xml.etree import ElementTree as ET\n",
    "import csv\n",
    "\n",
    "def generate_network_csv(xml_file_path):\n",
    "    tree = ET.parse(xml_file_path)\n",
    "    root = tree.getroot()\n",
    "\n",
    "    content_list = []\n",
    "    for said_tag in root.findall('.//{http://www.tei-c.org/ns/1.0}said'):\n",
    "        who_tag = said_tag.get('who')\n",
    "        listener_tag = said_tag.get('toWhom')\n",
    "        if who_tag is not None:\n",
    "            content_list.append((who_tag,listener_tag))\n",
    "\n",
    "    interactions={}\n",
    "    for i in content_list:\n",
    "        if i not in interactions:\n",
    "            interactions[i] = 1\n",
    "        else:\n",
    "            interactions[i] +=1\n",
    "    \n",
    "        # Write interactions to a CSV file\n",
    "    with open('interactions_book.csv', 'w', newline='') as csvfile:\n",
    "        csvwriter = csv.writer(csvfile)\n",
    "        \n",
    "        # Write header\n",
    "        csvwriter.writerow(['Character', 'Listener', 'Interaction Count'])\n",
    "        \n",
    "        # Write data rows\n",
    "        for (who, listener), count in interactions.items():\n",
    "            listener_str = listener if listener else \"unknown\"\n",
    "            csvwriter.writerow([who, listener_str, count])\n",
    "\n",
    "    print(\"CSV file 'interactions_book.csv' created.\")\n",
    "\n",
    "generate_network_csv(\"C:/Users/crosi/Documents/GitHub/metascript/Arthur Schnitzler - Dream Story (2003, Green Integer).xml\")"
   ]
  },
  {
   "cell_type": "code",
   "execution_count": null,
   "metadata": {},
   "outputs": [
    {
     "name": "stdout",
     "output_type": "stream",
     "text": [
      "CSV file 'interactions_screenplay96.csv' created.\n"
     ]
    }
   ],
   "source": [
    "from xml.etree import ElementTree as ET\n",
    "import csv\n",
    "\n",
    "def generate_network_csv(xml_file_path):\n",
    "    tree = ET.parse(xml_file_path)\n",
    "    root = tree.getroot()\n",
    "\n",
    "    content_list = []\n",
    "    for said_tag in root.findall('.//{http://www.tei-c.org/ns/1.0}sp'):\n",
    "        who_tag = said_tag.get('who')\n",
    "        listener_tag = said_tag.get('toWhom')\n",
    "        if listener_tag is not None and who_tag is not None:\n",
    "            if \",\" in listener_tag:\n",
    "                listener_tags = listener_tag.split(',')\n",
    "                for i in listener_tags:\n",
    "                    content_list.append((who_tag, i))\n",
    "            elif ',' in who_tag:\n",
    "                who_tags = who_tag.split(',')\n",
    "                for i in who_tags:\n",
    "                    content_list.append((i, listener_tag))\n",
    "            else:\n",
    "                content_list.append((who_tag, listener_tag))\n",
    "\n",
    "    interactions={}\n",
    "    for i in content_list:\n",
    "        if i not in interactions:\n",
    "            interactions[i] = 1\n",
    "        else:\n",
    "            interactions[i] +=1\n",
    "    \n",
    "        # Write interactions to a CSV file\n",
    "    with open('interactions_screenplay96.csv', 'w', newline='') as csvfile:\n",
    "        csvwriter = csv.writer(csvfile)\n",
    "        \n",
    "        # Write header\n",
    "        csvwriter.writerow(['Character', 'Listener', 'Interaction Count'])\n",
    "        \n",
    "        # Write data rows\n",
    "        for (who, listener), count in interactions.items():\n",
    "            listener_str = listener if listener else \"unknown\"\n",
    "            csvwriter.writerow([who, listener_str, count])\n",
    "\n",
    "    print(\"CSV file 'interactions_screenplay96.csv' created.\")\n",
    "\n",
    "\n",
    "generate_network_csv(\"C:/Users/crosi/Documents/GitHub/metascript/eyes-wide-shut-1996-screenplay.xml\")"
   ]
  }
 ],
 "metadata": {
  "kernelspec": {
   "display_name": "Python 3",
   "language": "python",
   "name": "python3"
  },
  "language_info": {
   "codemirror_mode": {
    "name": "ipython",
    "version": 3
   },
   "file_extension": ".py",
   "mimetype": "text/x-python",
   "name": "python",
   "nbconvert_exporter": "python",
   "pygments_lexer": "ipython3",
   "version": "3.10.8"
  },
  "orig_nbformat": 4
 },
 "nbformat": 4,
 "nbformat_minor": 2
}
