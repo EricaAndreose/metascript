{
 "cells": [
  {
   "cell_type": "code",
   "execution_count": 2,
   "metadata": {},
   "outputs": [
    {
     "name": "stdout",
     "output_type": "stream",
     "text": [
      "CSV file 'interactions_book.csv' created.\n"
     ]
    }
   ],
   "source": [
    "from xml.etree import ElementTree as ET\n",
    "import networkx as nx\n",
    "import matplotlib.pyplot as plt\n",
    "import csv\n",
    "\n",
    "def generate_network_csv(xml_file_path):\n",
    "    tree = ET.parse(xml_file_path)\n",
    "    root = tree.getroot()\n",
    "\n",
    "    content_list = []\n",
    "    for said_tag in root.findall('.//{http://www.tei-c.org/ns/1.0}said'):\n",
    "        who_tag = said_tag.get('who')\n",
    "        listener_tag = said_tag.get('toWhom')\n",
    "        if who_tag is not None:\n",
    "            content_list.append((who_tag,listener_tag))\n",
    "\n",
    "    interactions={}\n",
    "    for i in content_list:\n",
    "        if i not in interactions:\n",
    "            interactions[i] = 1\n",
    "        else:\n",
    "            interactions[i] +=1\n",
    "    \n",
    "        # Write interactions to a CSV file\n",
    "    with open('interactions_book.csv', 'w', newline='') as csvfile:\n",
    "        csvwriter = csv.writer(csvfile)\n",
    "        \n",
    "        # Write header\n",
    "        csvwriter.writerow(['Character', 'Listener', 'Interaction Count'])\n",
    "        \n",
    "        # Write data rows\n",
    "        for (who, listener), count in interactions.items():\n",
    "            listener_str = listener if listener else \"unknown\"\n",
    "            csvwriter.writerow([who, listener_str, count])\n",
    "\n",
    "    print(\"CSV file 'interactions_book.csv' created.\")\n",
    "\n",
    "generate_network_csv(\"C:/Users/crosi/Documents/GitHub/metascript/Dream_Story.xml\")"
   ]
  },
  {
   "cell_type": "code",
   "execution_count": 3,
   "metadata": {},
   "outputs": [
    {
     "name": "stdout",
     "output_type": "stream",
     "text": [
      "CSV file 'interactions_screenplay96.csv' created.\n"
     ]
    }
   ],
   "source": [
    "from xml.etree import ElementTree as ET\n",
    "import networkx as nx\n",
    "import matplotlib.pyplot as plt\n",
    "import csv\n",
    "\n",
    "def generate_network_csv(xml_file_path):\n",
    "    tree = ET.parse(xml_file_path)\n",
    "    root = tree.getroot()\n",
    "\n",
    "    content_list = []\n",
    "    for said_tag in root.findall('.//{http://www.tei-c.org/ns/1.0}sp'):\n",
    "        who_tag = said_tag.get('who')\n",
    "        listener_tag = said_tag.get('toWhom')\n",
    "        if listener_tag is not None and who_tag is not None:\n",
    "            if \",\" in listener_tag:\n",
    "                listener_tags = listener_tag.split(',')\n",
    "                for i in listener_tags:\n",
    "                    content_list.append((who_tag, i))\n",
    "            elif ',' in who_tag:\n",
    "                who_tags = who_tag.split(',')\n",
    "                for i in who_tags:\n",
    "                    content_list.append((i, listener_tag))\n",
    "            else:\n",
    "                content_list.append((who_tag, listener_tag))\n",
    "\n",
    "    interactions={}\n",
    "    for i in content_list:\n",
    "        if i not in interactions:\n",
    "            interactions[i] = 1\n",
    "        else:\n",
    "            interactions[i] +=1\n",
    "    \n",
    "        # Write interactions to a CSV file\n",
    "    with open('interactions_screenplay99.csv', 'w', newline='') as csvfile:\n",
    "        csvwriter = csv.writer(csvfile)\n",
    "        \n",
    "        # Write header\n",
    "        csvwriter.writerow(['Character', 'Listener', 'Interaction Count'])\n",
    "        \n",
    "        # Write data rows\n",
    "        for (who, listener), count in interactions.items():\n",
    "            listener_str = listener if listener else \"unknown\"\n",
    "            csvwriter.writerow([who, listener_str, count])\n",
    "\n",
    "    print(\"CSV file 'interactions_screenplay96.csv' created.\")\n",
    "\n",
    "\n",
    "generate_network_csv(\"C:/Users/crosi/Documents/GitHub/metascript/eyes-wide-shut-1999-transcription.xml\")"
   ]
  }
 ],
 "metadata": {
  "kernelspec": {
   "display_name": "Python 3",
   "language": "python",
   "name": "python3"
  },
  "language_info": {
   "codemirror_mode": {
    "name": "ipython",
    "version": 3
   },
   "file_extension": ".py",
   "mimetype": "text/x-python",
   "name": "python",
   "nbconvert_exporter": "python",
   "pygments_lexer": "ipython3",
   "version": "3.10.8"
  },
  "orig_nbformat": 4
 },
 "nbformat": 4,
 "nbformat_minor": 2
}
