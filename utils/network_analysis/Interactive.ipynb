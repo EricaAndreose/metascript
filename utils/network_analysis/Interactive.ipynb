{
 "cells": [
  {
   "cell_type": "code",
   "execution_count": 19,
   "metadata": {},
   "outputs": [],
   "source": [
    "import pandas as pd\n",
    "import networkx\n",
    "import matplotlib.pyplot as plt\n",
    "import numpy as np"
   ]
  },
  {
   "cell_type": "code",
   "execution_count": 20,
   "metadata": {},
   "outputs": [],
   "source": [
    "from bokeh.io import output_notebook, show, save"
   ]
  },
  {
   "cell_type": "code",
   "execution_count": 21,
   "metadata": {},
   "outputs": [
    {
     "data": {
      "text/html": [
       "\n",
       "    <div class=\"bk-root\">\n",
       "        <a href=\"https://bokeh.org\" target=\"_blank\" class=\"bk-logo bk-logo-small bk-logo-notebook\"></a>\n",
       "        <span id=\"1005\">Loading BokehJS ...</span>\n",
       "    </div>"
      ]
     },
     "metadata": {},
     "output_type": "display_data"
    },
    {
     "data": {
      "application/javascript": "\n(function(root) {\n  function now() {\n    return new Date();\n  }\n\n  var force = true;\n\n  if (typeof root._bokeh_onload_callbacks === \"undefined\" || force === true) {\n    root._bokeh_onload_callbacks = [];\n    root._bokeh_is_loading = undefined;\n  }\n\n  var JS_MIME_TYPE = 'application/javascript';\n  var HTML_MIME_TYPE = 'text/html';\n  var EXEC_MIME_TYPE = 'application/vnd.bokehjs_exec.v0+json';\n  var CLASS_NAME = 'output_bokeh rendered_html';\n\n  /**\n   * Render data to the DOM node\n   */\n  function render(props, node) {\n    var script = document.createElement(\"script\");\n    node.appendChild(script);\n  }\n\n  /**\n   * Handle when an output is cleared or removed\n   */\n  function handleClearOutput(event, handle) {\n    var cell = handle.cell;\n\n    var id = cell.output_area._bokeh_element_id;\n    var server_id = cell.output_area._bokeh_server_id;\n    // Clean up Bokeh references\n    if (id != null && id in Bokeh.index) {\n      Bokeh.index[id].model.document.clear();\n      delete Bokeh.index[id];\n    }\n\n    if (server_id !== undefined) {\n      // Clean up Bokeh references\n      var cmd = \"from bokeh.io.state import curstate; print(curstate().uuid_to_server['\" + server_id + \"'].get_sessions()[0].document.roots[0]._id)\";\n      cell.notebook.kernel.execute(cmd, {\n        iopub: {\n          output: function(msg) {\n            var id = msg.content.text.trim();\n            if (id in Bokeh.index) {\n              Bokeh.index[id].model.document.clear();\n              delete Bokeh.index[id];\n            }\n          }\n        }\n      });\n      // Destroy server and session\n      var cmd = \"import bokeh.io.notebook as ion; ion.destroy_server('\" + server_id + \"')\";\n      cell.notebook.kernel.execute(cmd);\n    }\n  }\n\n  /**\n   * Handle when a new output is added\n   */\n  function handleAddOutput(event, handle) {\n    var output_area = handle.output_area;\n    var output = handle.output;\n\n    // limit handleAddOutput to display_data with EXEC_MIME_TYPE content only\n    if ((output.output_type != \"display_data\") || (!Object.prototype.hasOwnProperty.call(output.data, EXEC_MIME_TYPE))) {\n      return\n    }\n\n    var toinsert = output_area.element.find(\".\" + CLASS_NAME.split(' ')[0]);\n\n    if (output.metadata[EXEC_MIME_TYPE][\"id\"] !== undefined) {\n      toinsert[toinsert.length - 1].firstChild.textContent = output.data[JS_MIME_TYPE];\n      // store reference to embed id on output_area\n      output_area._bokeh_element_id = output.metadata[EXEC_MIME_TYPE][\"id\"];\n    }\n    if (output.metadata[EXEC_MIME_TYPE][\"server_id\"] !== undefined) {\n      var bk_div = document.createElement(\"div\");\n      bk_div.innerHTML = output.data[HTML_MIME_TYPE];\n      var script_attrs = bk_div.children[0].attributes;\n      for (var i = 0; i < script_attrs.length; i++) {\n        toinsert[toinsert.length - 1].firstChild.setAttribute(script_attrs[i].name, script_attrs[i].value);\n        toinsert[toinsert.length - 1].firstChild.textContent = bk_div.children[0].textContent\n      }\n      // store reference to server id on output_area\n      output_area._bokeh_server_id = output.metadata[EXEC_MIME_TYPE][\"server_id\"];\n    }\n  }\n\n  function register_renderer(events, OutputArea) {\n\n    function append_mime(data, metadata, element) {\n      // create a DOM node to render to\n      var toinsert = this.create_output_subarea(\n        metadata,\n        CLASS_NAME,\n        EXEC_MIME_TYPE\n      );\n      this.keyboard_manager.register_events(toinsert);\n      // Render to node\n      var props = {data: data, metadata: metadata[EXEC_MIME_TYPE]};\n      render(props, toinsert[toinsert.length - 1]);\n      element.append(toinsert);\n      return toinsert\n    }\n\n    /* Handle when an output is cleared or removed */\n    events.on('clear_output.CodeCell', handleClearOutput);\n    events.on('delete.Cell', handleClearOutput);\n\n    /* Handle when a new output is added */\n    events.on('output_added.OutputArea', handleAddOutput);\n\n    /**\n     * Register the mime type and append_mime function with output_area\n     */\n    OutputArea.prototype.register_mime_type(EXEC_MIME_TYPE, append_mime, {\n      /* Is output safe? */\n      safe: true,\n      /* Index of renderer in `output_area.display_order` */\n      index: 0\n    });\n  }\n\n  // register the mime type if in Jupyter Notebook environment and previously unregistered\n  if (root.Jupyter !== undefined) {\n    var events = require('base/js/events');\n    var OutputArea = require('notebook/js/outputarea').OutputArea;\n\n    if (OutputArea.prototype.mime_types().indexOf(EXEC_MIME_TYPE) == -1) {\n      register_renderer(events, OutputArea);\n    }\n  }\n\n  \n  if (typeof (root._bokeh_timeout) === \"undefined\" || force === true) {\n    root._bokeh_timeout = Date.now() + 5000;\n    root._bokeh_failed_load = false;\n  }\n\n  var NB_LOAD_WARNING = {'data': {'text/html':\n     \"<div style='background-color: #fdd'>\\n\"+\n     \"<p>\\n\"+\n     \"BokehJS does not appear to have successfully loaded. If loading BokehJS from CDN, this \\n\"+\n     \"may be due to a slow or bad network connection. Possible fixes:\\n\"+\n     \"</p>\\n\"+\n     \"<ul>\\n\"+\n     \"<li>re-rerun `output_notebook()` to attempt to load from CDN again, or</li>\\n\"+\n     \"<li>use INLINE resources instead, as so:</li>\\n\"+\n     \"</ul>\\n\"+\n     \"<code>\\n\"+\n     \"from bokeh.resources import INLINE\\n\"+\n     \"output_notebook(resources=INLINE)\\n\"+\n     \"</code>\\n\"+\n     \"</div>\"}};\n\n  function display_loaded() {\n    var el = document.getElementById(\"1005\");\n    if (el != null) {\n      el.textContent = \"BokehJS is loading...\";\n    }\n    if (root.Bokeh !== undefined) {\n      if (el != null) {\n        el.textContent = \"BokehJS \" + root.Bokeh.version + \" successfully loaded.\";\n      }\n    } else if (Date.now() < root._bokeh_timeout) {\n      setTimeout(display_loaded, 100)\n    }\n  }\n\n\n  function run_callbacks() {\n    try {\n      root._bokeh_onload_callbacks.forEach(function(callback) {\n        if (callback != null)\n          callback();\n      });\n    } finally {\n      delete root._bokeh_onload_callbacks\n    }\n    console.debug(\"Bokeh: all callbacks have finished\");\n  }\n\n  function load_libs(css_urls, js_urls, callback) {\n    if (css_urls == null) css_urls = [];\n    if (js_urls == null) js_urls = [];\n\n    root._bokeh_onload_callbacks.push(callback);\n    if (root._bokeh_is_loading > 0) {\n      console.debug(\"Bokeh: BokehJS is being loaded, scheduling callback at\", now());\n      return null;\n    }\n    if (js_urls == null || js_urls.length === 0) {\n      run_callbacks();\n      return null;\n    }\n    console.debug(\"Bokeh: BokehJS not loaded, scheduling load and callback at\", now());\n    root._bokeh_is_loading = css_urls.length + js_urls.length;\n\n    function on_load() {\n      root._bokeh_is_loading--;\n      if (root._bokeh_is_loading === 0) {\n        console.debug(\"Bokeh: all BokehJS libraries/stylesheets loaded\");\n        run_callbacks()\n      }\n    }\n\n    function on_error(url) {\n      console.error(\"failed to load \" + url);\n    }\n\n    for (let i = 0; i < css_urls.length; i++) {\n      const url = css_urls[i];\n      const element = document.createElement(\"link\");\n      element.onload = on_load;\n      element.onerror = on_error.bind(null, url);\n      element.rel = \"stylesheet\";\n      element.type = \"text/css\";\n      element.href = url;\n      console.debug(\"Bokeh: injecting link tag for BokehJS stylesheet: \", url);\n      document.body.appendChild(element);\n    }\n\n    const hashes = {\"https://cdn.bokeh.org/bokeh/release/bokeh-2.3.3.min.js\": \"dM3QQsP+wXdHg42wTqW85BjZQdLNNIXqlPw/BgKoExPmTG7ZLML4EGqLMfqHT6ON\", \"https://cdn.bokeh.org/bokeh/release/bokeh-tables-2.3.3.min.js\": \"8x57I4YuIfu8XyZfFo0XVr2WAT8EK4rh/uDe3wF7YuW2FNUSNEpJbsPaB1nJ2fz2\", \"https://cdn.bokeh.org/bokeh/release/bokeh-widgets-2.3.3.min.js\": \"3QTqdz9LyAm2i0sG5XTePsHec3UHWwVsrOL68SYRoAXsafvfAyqtQ+h440+qIBhS\"};\n\n    for (let i = 0; i < js_urls.length; i++) {\n      const url = js_urls[i];\n      const element = document.createElement('script');\n      element.onload = on_load;\n      element.onerror = on_error.bind(null, url);\n      element.async = false;\n      element.src = url;\n      if (url in hashes) {\n        element.crossOrigin = \"anonymous\";\n        element.integrity = \"sha384-\" + hashes[url];\n      }\n      console.debug(\"Bokeh: injecting script tag for BokehJS library: \", url);\n      document.head.appendChild(element);\n    }\n  };\n\n  function inject_raw_css(css) {\n    const element = document.createElement(\"style\");\n    element.appendChild(document.createTextNode(css));\n    document.body.appendChild(element);\n  }\n\n  \n  var js_urls = [\"https://cdn.bokeh.org/bokeh/release/bokeh-2.3.3.min.js\", \"https://cdn.bokeh.org/bokeh/release/bokeh-widgets-2.3.3.min.js\", \"https://cdn.bokeh.org/bokeh/release/bokeh-tables-2.3.3.min.js\"];\n  var css_urls = [];\n  \n\n  var inline_js = [\n    function(Bokeh) {\n      Bokeh.set_log_level(\"info\");\n    },\n    function(Bokeh) {\n    \n    \n    }\n  ];\n\n  function run_inline_js() {\n    \n    if (root.Bokeh !== undefined || force === true) {\n      \n    for (var i = 0; i < inline_js.length; i++) {\n      inline_js[i].call(root, root.Bokeh);\n    }\n    if (force === true) {\n        display_loaded();\n      }} else if (Date.now() < root._bokeh_timeout) {\n      setTimeout(run_inline_js, 100);\n    } else if (!root._bokeh_failed_load) {\n      console.log(\"Bokeh: BokehJS failed to load within specified timeout.\");\n      root._bokeh_failed_load = true;\n    } else if (force !== true) {\n      var cell = $(document.getElementById(\"1005\")).parents('.cell').data().cell;\n      cell.output_area.append_execute_result(NB_LOAD_WARNING)\n    }\n\n  }\n\n  if (root._bokeh_is_loading === 0) {\n    console.debug(\"Bokeh: BokehJS loaded, going straight to plotting\");\n    run_inline_js();\n  } else {\n    load_libs(css_urls, js_urls, function() {\n      console.debug(\"Bokeh: BokehJS plotting callback run at\", now());\n      run_inline_js();\n    });\n  }\n}(window));",
      "application/vnd.bokehjs_load.v0+json": ""
     },
     "metadata": {},
     "output_type": "display_data"
    }
   ],
   "source": [
    "output_notebook()"
   ]
  },
  {
   "cell_type": "code",
   "execution_count": 22,
   "metadata": {},
   "outputs": [],
   "source": [
    "import pandas as pd\n",
    "\n",
    "\n",
    "# Read the csv files\n",
    "df_ds = pd.read_csv('interactions_book.csv')\n",
    "\n"
   ]
  },
  {
   "cell_type": "code",
   "execution_count": 23,
   "metadata": {},
   "outputs": [],
   "source": [
    "G = networkx.from_pandas_edgelist(df_ds, 'Character', 'Listener', 'Interaction Count')"
   ]
  },
  {
   "cell_type": "code",
   "execution_count": 24,
   "metadata": {},
   "outputs": [],
   "source": [
    "from bokeh.io import output_notebook, show, save\n",
    "from bokeh.models import Range1d, Circle, ColumnDataSource, MultiLine\n",
    "from bokeh.plotting import figure\n",
    "from bokeh.plotting import from_networkx"
   ]
  },
  {
   "cell_type": "code",
   "execution_count": 25,
   "metadata": {},
   "outputs": [
    {
     "data": {
      "text/html": [
       "\n",
       "\n",
       "\n",
       "\n",
       "\n",
       "\n",
       "  <div class=\"bk-root\" id=\"6f1a0d6d-8ba1-4ba6-a66d-4ca920459ae8\" data-root-id=\"1008\"></div>\n"
      ]
     },
     "metadata": {},
     "output_type": "display_data"
    },
    {
     "data": {
      "application/javascript": "(function(root) {\n  function embed_document(root) {\n    \n  var docs_json = {\"a80236d8-5c19-41d4-81a3-62e97dd6c759\":{\"defs\":[],\"roots\":{\"references\":[{\"attributes\":{\"below\":[{\"id\":\"1017\"}],\"center\":[{\"id\":\"1020\"},{\"id\":\"1024\"}],\"left\":[{\"id\":\"1021\"}],\"renderers\":[{\"id\":\"1036\"}],\"title\":{\"id\":\"1009\"},\"toolbar\":{\"id\":\"1030\"},\"x_range\":{\"id\":\"1006\"},\"x_scale\":{\"id\":\"1013\"},\"y_range\":{\"id\":\"1007\"},\"y_scale\":{\"id\":\"1015\"}},\"id\":\"1008\",\"subtype\":\"Figure\",\"type\":\"Plot\"},{\"attributes\":{\"source\":{\"id\":\"1042\"}},\"id\":\"1044\",\"type\":\"CDSView\"},{\"attributes\":{},\"id\":\"1027\",\"type\":\"SaveTool\"},{\"attributes\":{},\"id\":\"1018\",\"type\":\"BasicTicker\"},{\"attributes\":{},\"id\":\"1028\",\"type\":\"ResetTool\"},{\"attributes\":{\"formatter\":{\"id\":\"1059\"},\"major_label_policy\":{\"id\":\"1058\"},\"ticker\":{\"id\":\"1022\"}},\"id\":\"1021\",\"type\":\"LinearAxis\"},{\"attributes\":{},\"id\":\"1072\",\"type\":\"NodesOnly\"},{\"attributes\":{\"axis\":{\"id\":\"1017\"},\"ticker\":null},\"id\":\"1020\",\"type\":\"Grid\"},{\"attributes\":{\"source\":{\"id\":\"1038\"}},\"id\":\"1040\",\"type\":\"CDSView\"},{\"attributes\":{},\"id\":\"1062\",\"type\":\"BasicTickFormatter\"},{\"attributes\":{\"line_alpha\":{\"value\":0.5}},\"id\":\"1051\",\"type\":\"MultiLine\"},{\"attributes\":{},\"id\":\"1063\",\"type\":\"NodesOnly\"},{\"attributes\":{\"data\":{\"Interaction Count\":[2,29,8,2,5,44,17,10,1,17,1,3,3,2,5,2,2,2,1,4,15,1,3,3,1,3],\"end\":[\"daughter\",\"Albertina\",\"Marianne\",\"unknown\",\"Mizzi\",\"Nachtigall\",\"Gibiser\",\"Fridolin\",\"TWOServants\",\"woman\",\"another woman\",\"cavalier\",\"cavaliers\",\"YellowGentlemen\",\"gentlemen\",\"RedCavalier\",\"servant\",\"maid\",\"Fuchstaler\",\"Roediger\",\"Adler\",\"Mizzi\",\"Gentlemen\",\"Pierrette\",\"another woman\",\"gentlemen\"],\"start\":[\"Fridolin\",\"Fridolin\",\"Fridolin\",\"Fridolin\",\"Fridolin\",\"Fridolin\",\"Fridolin\",\"Fridolin\",\"Fridolin\",\"Fridolin\",\"Fridolin\",\"Fridolin\",\"Fridolin\",\"Fridolin\",\"Fridolin\",\"Fridolin\",\"Fridolin\",\"Fridolin\",\"Fridolin\",\"Fridolin\",\"Fridolin\",\"unknown\",\"Gibiser\",\"Gibiser\",\"woman\",\"woman\"]},\"selected\":{\"id\":\"1076\"},\"selection_policy\":{\"id\":\"1075\"}},\"id\":\"1042\",\"type\":\"ColumnDataSource\"},{\"attributes\":{\"formatter\":{\"id\":\"1062\"},\"major_label_policy\":{\"id\":\"1061\"},\"ticker\":{\"id\":\"1018\"}},\"id\":\"1017\",\"type\":\"LinearAxis\"},{\"attributes\":{},\"id\":\"1074\",\"type\":\"Selection\"},{\"attributes\":{\"fill_color\":{\"value\":\"skyblue\"},\"size\":{\"value\":15}},\"id\":\"1046\",\"type\":\"Circle\"},{\"attributes\":{\"end\":10.1,\"start\":-10.1},\"id\":\"1007\",\"type\":\"Range1d\"},{\"attributes\":{\"graph_layout\":{\"Adler\":[-5.6848058992387624,0.9414016320795858],\"Albertina\":[2.480013825047469,-2.6498256191749565],\"Fridolin\":[-0.8058200242584355,0.13273046249492598],\"Fuchstaler\":[-3.2789638382145925,-4.153467838287831],\"Gentlemen\":[9.715268445219557,-2.620710220057762],\"Gibiser\":[6.043229498080515,-0.8242148949377293],\"Marianne\":[-2.548158427927441,4.747014340430805],\"Mizzi\":[-0.690877873571536,4.4760389216384295],\"Nachtigall\":[-3.1592161842564765,3.1231374982234925],\"Pierrette\":[10.0,-0.08666669993381741],\"RedCavalier\":[1.3214745576035742,4.4645067921233395],\"Roediger\":[-5.433625479845339,-1.029663328416122],\"TWOServants\":[2.670846730333138,2.996268090537908],\"YellowGentlemen\":[-0.8836375367732154,-4.866560497289139],\"another woman\":[0.90994932154399,-3.719178910745887],\"cavalier\":[2.6354882790624803,-0.6847235056914903],\"cavaliers\":[2.8592552340537156,1.2220442590053568],\"daughter\":[-3.849114366331476,0.6468488758774056],\"gentlemen\":[-2.2281072458468842,-2.5604025324856416],\"maid\":[-4.573215025946311,-2.5584023185114724],\"servant\":[-4.858255897765468,2.9212545373963246],\"unknown\":[-0.05977129814172624,3.0808556353048417],\"woman\":[-0.5819567928267617,-2.9982846795805616]}},\"id\":\"1045\",\"type\":\"StaticLayoutProvider\"},{\"attributes\":{\"end\":10.1,\"start\":-10.1},\"id\":\"1006\",\"type\":\"Range1d\"},{\"attributes\":{},\"id\":\"1013\",\"type\":\"LinearScale\"},{\"attributes\":{},\"id\":\"1015\",\"type\":\"LinearScale\"},{\"attributes\":{\"text\":\"Dream Story Network\"},\"id\":\"1009\",\"type\":\"Title\"},{\"attributes\":{\"data_source\":{\"id\":\"1042\"},\"glyph\":{\"id\":\"1051\"},\"hover_glyph\":null,\"muted_glyph\":null,\"view\":{\"id\":\"1044\"}},\"id\":\"1043\",\"type\":\"GlyphRenderer\"},{\"attributes\":{\"data\":{\"index\":[\"Fridolin\",\"daughter\",\"Albertina\",\"Marianne\",\"unknown\",\"Mizzi\",\"Nachtigall\",\"Gibiser\",\"Gentlemen\",\"Pierrette\",\"TWOServants\",\"woman\",\"another woman\",\"cavalier\",\"cavaliers\",\"YellowGentlemen\",\"gentlemen\",\"RedCavalier\",\"servant\",\"maid\",\"Fuchstaler\",\"Roediger\",\"Adler\"]},\"selected\":{\"id\":\"1074\"},\"selection_policy\":{\"id\":\"1073\"}},\"id\":\"1038\",\"type\":\"ColumnDataSource\"},{\"attributes\":{\"active_multi\":null,\"active_scroll\":{\"id\":\"1026\"},\"tools\":[{\"id\":\"1025\"},{\"id\":\"1026\"},{\"id\":\"1027\"},{\"id\":\"1028\"},{\"id\":\"1029\"}]},\"id\":\"1030\",\"type\":\"Toolbar\"},{\"attributes\":{},\"id\":\"1059\",\"type\":\"BasicTickFormatter\"},{\"attributes\":{\"edge_renderer\":{\"id\":\"1043\"},\"inspection_policy\":{\"id\":\"1072\"},\"layout_provider\":{\"id\":\"1045\"},\"node_renderer\":{\"id\":\"1039\"},\"selection_policy\":{\"id\":\"1063\"}},\"id\":\"1036\",\"type\":\"GraphRenderer\"},{\"attributes\":{},\"id\":\"1073\",\"type\":\"UnionRenderers\"},{\"attributes\":{},\"id\":\"1061\",\"type\":\"AllLabels\"},{\"attributes\":{},\"id\":\"1075\",\"type\":\"UnionRenderers\"},{\"attributes\":{},\"id\":\"1058\",\"type\":\"AllLabels\"},{\"attributes\":{},\"id\":\"1076\",\"type\":\"Selection\"},{\"attributes\":{},\"id\":\"1025\",\"type\":\"PanTool\"},{\"attributes\":{},\"id\":\"1026\",\"type\":\"WheelZoomTool\"},{\"attributes\":{\"data_source\":{\"id\":\"1038\"},\"glyph\":{\"id\":\"1046\"},\"hover_glyph\":null,\"muted_glyph\":null,\"view\":{\"id\":\"1040\"}},\"id\":\"1039\",\"type\":\"GlyphRenderer\"},{\"attributes\":{\"callback\":null,\"tooltips\":[[\"Character\",\"@index\"]]},\"id\":\"1029\",\"type\":\"HoverTool\"},{\"attributes\":{},\"id\":\"1022\",\"type\":\"BasicTicker\"},{\"attributes\":{\"axis\":{\"id\":\"1021\"},\"dimension\":1,\"ticker\":null},\"id\":\"1024\",\"type\":\"Grid\"}],\"root_ids\":[\"1008\"]},\"title\":\"Bokeh Application\",\"version\":\"2.3.3\"}};\n  var render_items = [{\"docid\":\"a80236d8-5c19-41d4-81a3-62e97dd6c759\",\"root_ids\":[\"1008\"],\"roots\":{\"1008\":\"6f1a0d6d-8ba1-4ba6-a66d-4ca920459ae8\"}}];\n  root.Bokeh.embed.embed_items_notebook(docs_json, render_items);\n\n  }\n  if (root.Bokeh !== undefined) {\n    embed_document(root);\n  } else {\n    var attempts = 0;\n    var timer = setInterval(function(root) {\n      if (root.Bokeh !== undefined) {\n        clearInterval(timer);\n        embed_document(root);\n      } else {\n        attempts++;\n        if (attempts > 100) {\n          clearInterval(timer);\n          console.log(\"Bokeh: ERROR: Unable to run BokehJS code because BokehJS library is missing\");\n        }\n      }\n    }, 10, root)\n  }\n})(window);",
      "application/vnd.bokehjs_exec.v0+json": ""
     },
     "metadata": {
      "application/vnd.bokehjs_exec.v0+json": {
       "id": "1008"
      }
     },
     "output_type": "display_data"
    },
    {
     "name": "stderr",
     "output_type": "stream",
     "text": [
      "C:\\Users\\crosi\\AppData\\Roaming\\Python\\Python310\\site-packages\\bokeh\\io\\saving.py:126: UserWarning: save() called but no resources were supplied and output_file(...) was never called, defaulting to resources.CDN\n",
      "  warn(\"save() called but no resources were supplied and output_file(...) was never called, defaulting to resources.CDN\")\n",
      "C:\\Users\\crosi\\AppData\\Roaming\\Python\\Python310\\site-packages\\bokeh\\io\\saving.py:139: UserWarning: save() called but no title was supplied and output_file(...) was never called, using default title 'Bokeh Plot'\n",
      "  warn(\"save() called but no title was supplied and output_file(...) was never called, using default title 'Bokeh Plot'\")\n"
     ]
    },
    {
     "data": {
      "text/plain": [
       "'c:\\\\Users\\\\crosi\\\\Documents\\\\GitHub\\\\metascript\\\\utils\\\\network_analysis\\\\Dream Story Network.html'"
      ]
     },
     "execution_count": 25,
     "metadata": {},
     "output_type": "execute_result"
    }
   ],
   "source": [
    "#Choose a title!\n",
    "title = 'Dream Story Network'\n",
    "\n",
    "#Establish which categories will appear when hovering over each node\n",
    "HOVER_TOOLTIPS = [(\"Character\", \"@index\")]\n",
    "\n",
    "#Create a plot — set dimensions, toolbar, and title\n",
    "plot = figure(tooltips = HOVER_TOOLTIPS,\n",
    "              tools=\"pan,wheel_zoom,save,reset\", active_scroll='wheel_zoom',\n",
    "            x_range=Range1d(-10.1, 10.1), y_range=Range1d(-10.1, 10.1), title=title)\n",
    "\n",
    "#Create a network graph object with spring layout\n",
    "# https://networkx.github.io/documentation/networkx-1.9/reference/generated/networkx.drawing.layout.spring_layout.html\n",
    "network_graph = from_networkx(G, networkx.spring_layout, scale=10, center=(0, 0))\n",
    "\n",
    "#Set node size and color\n",
    "network_graph.node_renderer.glyph = Circle(size=15, fill_color='skyblue')\n",
    "\n",
    "#Set edge opacity and width\n",
    "network_graph.edge_renderer.glyph = MultiLine(line_alpha=0.5, line_width=1)\n",
    "\n",
    "#Add network graph to the plot\n",
    "plot.renderers.append(network_graph)\n",
    "\n",
    "show(plot)\n",
    "save(plot, filename=f\"{title}.html\")"
   ]
  },
  {
   "cell_type": "code",
   "execution_count": 26,
   "metadata": {},
   "outputs": [],
   "source": [
    "from bokeh.io import output_notebook, show, save\n",
    "from bokeh.models import Range1d, Circle, ColumnDataSource, MultiLine\n",
    "from bokeh.plotting import figure\n",
    "from bokeh.plotting import from_networkx\n",
    "from bokeh.palettes import Blues8, Reds8, Purples8, Oranges8, Viridis8, Spectral8\n",
    "from bokeh.transform import linear_cmap"
   ]
  },
  {
   "cell_type": "code",
   "execution_count": 27,
   "metadata": {},
   "outputs": [],
   "source": [
    "degrees = dict(networkx.degree(G))\n",
    "networkx.set_node_attributes(G, name='degree', values=degrees)"
   ]
  },
  {
   "cell_type": "code",
   "execution_count": 28,
   "metadata": {},
   "outputs": [],
   "source": [
    "number_to_adjust_by = 5\n",
    "adjusted_node_size = dict([(node, degree+number_to_adjust_by) for node, degree in networkx.degree(G)])\n",
    "networkx.set_node_attributes(G, name='adjusted_node_size', values=adjusted_node_size)"
   ]
  },
  {
   "cell_type": "code",
   "execution_count": 29,
   "metadata": {},
   "outputs": [
    {
     "data": {
      "text/html": [
       "\n",
       "\n",
       "\n",
       "\n",
       "\n",
       "\n",
       "  <div class=\"bk-root\" id=\"91bcfb9d-0f94-4782-b9bf-d1126fc2f3e9\" data-root-id=\"1398\"></div>\n"
      ]
     },
     "metadata": {},
     "output_type": "display_data"
    },
    {
     "data": {
      "application/javascript": "(function(root) {\n  function embed_document(root) {\n    \n  var docs_json = {\"9fba8852-ad1a-4b50-ba27-0485985ce663\":{\"defs\":[],\"roots\":{\"references\":[{\"attributes\":{\"below\":[{\"id\":\"1407\"}],\"center\":[{\"id\":\"1410\"},{\"id\":\"1414\"}],\"left\":[{\"id\":\"1411\"}],\"renderers\":[{\"id\":\"1426\"}],\"title\":{\"id\":\"1399\"},\"toolbar\":{\"id\":\"1420\"},\"x_range\":{\"id\":\"1396\"},\"x_scale\":{\"id\":\"1403\"},\"y_range\":{\"id\":\"1397\"},\"y_scale\":{\"id\":\"1405\"}},\"id\":\"1398\",\"subtype\":\"Figure\",\"type\":\"Plot\"},{\"attributes\":{},\"id\":\"1478\",\"type\":\"AllLabels\"},{\"attributes\":{\"formatter\":{\"id\":\"1479\"},\"major_label_policy\":{\"id\":\"1478\"},\"ticker\":{\"id\":\"1412\"}},\"id\":\"1411\",\"type\":\"LinearAxis\"},{\"attributes\":{},\"id\":\"1479\",\"type\":\"BasicTickFormatter\"},{\"attributes\":{\"callback\":null,\"tooltips\":[[\"Character\",\"@index\"],[\"Interactions\",\"@degree\"]]},\"id\":\"1419\",\"type\":\"HoverTool\"},{\"attributes\":{\"data_source\":{\"id\":\"1428\"},\"glyph\":{\"id\":\"1445\"},\"hover_glyph\":null,\"muted_glyph\":null,\"view\":{\"id\":\"1430\"}},\"id\":\"1429\",\"type\":\"GlyphRenderer\"},{\"attributes\":{},\"id\":\"1416\",\"type\":\"WheelZoomTool\"},{\"attributes\":{\"source\":{\"id\":\"1432\"}},\"id\":\"1434\",\"type\":\"CDSView\"},{\"attributes\":{\"end\":10.1,\"start\":-10.1},\"id\":\"1396\",\"type\":\"Range1d\"},{\"attributes\":{},\"id\":\"1415\",\"type\":\"PanTool\"},{\"attributes\":{},\"id\":\"1417\",\"type\":\"SaveTool\"},{\"attributes\":{},\"id\":\"1495\",\"type\":\"UnionRenderers\"},{\"attributes\":{},\"id\":\"1418\",\"type\":\"ResetTool\"},{\"attributes\":{},\"id\":\"1482\",\"type\":\"BasicTickFormatter\"},{\"attributes\":{\"data\":{\"adjusted_node_size\":[27,6,6,6,7,7,6,8,6,6,6,8,7,6,6,6,7,6,6,6,6,6,6],\"degree\":[22,1,1,1,2,2,1,3,1,1,1,3,2,1,1,1,2,1,1,1,1,1,1],\"index\":[\"Fridolin\",\"daughter\",\"Albertina\",\"Marianne\",\"unknown\",\"Mizzi\",\"Nachtigall\",\"Gibiser\",\"Gentlemen\",\"Pierrette\",\"TWOServants\",\"woman\",\"another woman\",\"cavalier\",\"cavaliers\",\"YellowGentlemen\",\"gentlemen\",\"RedCavalier\",\"servant\",\"maid\",\"Fuchstaler\",\"Roediger\",\"Adler\"]},\"selected\":{\"id\":\"1494\"},\"selection_policy\":{\"id\":\"1493\"}},\"id\":\"1428\",\"type\":\"ColumnDataSource\"},{\"attributes\":{\"line_alpha\":{\"value\":0.5}},\"id\":\"1450\",\"type\":\"MultiLine\"},{\"attributes\":{},\"id\":\"1481\",\"type\":\"AllLabels\"},{\"attributes\":{},\"id\":\"1496\",\"type\":\"Selection\"},{\"attributes\":{},\"id\":\"1483\",\"type\":\"NodesOnly\"},{\"attributes\":{},\"id\":\"1492\",\"type\":\"NodesOnly\"},{\"attributes\":{\"axis\":{\"id\":\"1411\"},\"dimension\":1,\"ticker\":null},\"id\":\"1414\",\"type\":\"Grid\"},{\"attributes\":{\"text\":\"Dream Story Network\"},\"id\":\"1399\",\"type\":\"Title\"},{\"attributes\":{},\"id\":\"1405\",\"type\":\"LinearScale\"},{\"attributes\":{\"fill_color\":{\"field\":\"adjusted_node_size\",\"transform\":{\"id\":\"1444\"}},\"size\":{\"field\":\"adjusted_node_size\"}},\"id\":\"1445\",\"type\":\"Circle\"},{\"attributes\":{\"axis\":{\"id\":\"1407\"},\"ticker\":null},\"id\":\"1410\",\"type\":\"Grid\"},{\"attributes\":{},\"id\":\"1494\",\"type\":\"Selection\"},{\"attributes\":{},\"id\":\"1412\",\"type\":\"BasicTicker\"},{\"attributes\":{\"edge_renderer\":{\"id\":\"1433\"},\"inspection_policy\":{\"id\":\"1492\"},\"layout_provider\":{\"id\":\"1435\"},\"node_renderer\":{\"id\":\"1429\"},\"selection_policy\":{\"id\":\"1483\"}},\"id\":\"1426\",\"type\":\"GraphRenderer\"},{\"attributes\":{\"graph_layout\":{\"Adler\":[-3.317283623420403,4.2371867239070236],\"Albertina\":[-2.659651269383737,-2.7555975752279402],\"Fridolin\":[-0.28101357633634494,0.8023751527422036],\"Fuchstaler\":[-1.0084076241957196,-3.5554399614114938],\"Gentlemen\":[2.1433789514563424,-10.0],\"Gibiser\":[2.07084375396014,-5.854956648590506],\"Marianne\":[-4.30368828318271,-2.032066496430968],\"Mizzi\":[3.4513164305566972,-1.2281184286339297],\"Nachtigall\":[0.2731034308495331,-2.179269046427956],\"Pierrette\":[4.632227399019352,-9.13013553415014],\"RedCavalier\":[3.3330078963150163,4.296950021656135],\"Roediger\":[4.39967540947502,0.38065636539579023],\"TWOServants\":[1.5747041802197461,4.414357355476351],\"YellowGentlemen\":[-0.8130516671660263,4.0461973996493015],\"another woman\":[-5.2706478671397115,0.6277027159999893],\"cavalier\":[2.4868469841292944,1.954825841058871],\"cavaliers\":[-1.9648390043303394,5.560582850009082],\"daughter\":[4.396233145786915,2.378421292337933],\"gentlemen\":[-3.312454638780701,1.4301358918786786],\"maid\":[0.4559530790757598,5.845761236890756],\"servant\":[-4.731730037816628,3.0635945749825524],\"unknown\":[2.412388099588217,-2.237139897968742],\"woman\":[-3.9669111686796885,-0.06602383314298547]}},\"id\":\"1435\",\"type\":\"StaticLayoutProvider\"},{\"attributes\":{},\"id\":\"1493\",\"type\":\"UnionRenderers\"},{\"attributes\":{\"end\":10.1,\"start\":-10.1},\"id\":\"1397\",\"type\":\"Range1d\"},{\"attributes\":{\"formatter\":{\"id\":\"1482\"},\"major_label_policy\":{\"id\":\"1481\"},\"ticker\":{\"id\":\"1408\"}},\"id\":\"1407\",\"type\":\"LinearAxis\"},{\"attributes\":{},\"id\":\"1403\",\"type\":\"LinearScale\"},{\"attributes\":{\"data_source\":{\"id\":\"1432\"},\"glyph\":{\"id\":\"1450\"},\"hover_glyph\":null,\"muted_glyph\":null,\"view\":{\"id\":\"1434\"}},\"id\":\"1433\",\"type\":\"GlyphRenderer\"},{\"attributes\":{},\"id\":\"1408\",\"type\":\"BasicTicker\"},{\"attributes\":{\"source\":{\"id\":\"1428\"}},\"id\":\"1430\",\"type\":\"CDSView\"},{\"attributes\":{\"data\":{\"Interaction Count\":[2,29,8,2,5,44,17,10,1,17,1,3,3,2,5,2,2,2,1,4,15,1,3,3,1,3],\"end\":[\"daughter\",\"Albertina\",\"Marianne\",\"unknown\",\"Mizzi\",\"Nachtigall\",\"Gibiser\",\"Fridolin\",\"TWOServants\",\"woman\",\"another woman\",\"cavalier\",\"cavaliers\",\"YellowGentlemen\",\"gentlemen\",\"RedCavalier\",\"servant\",\"maid\",\"Fuchstaler\",\"Roediger\",\"Adler\",\"Mizzi\",\"Gentlemen\",\"Pierrette\",\"another woman\",\"gentlemen\"],\"start\":[\"Fridolin\",\"Fridolin\",\"Fridolin\",\"Fridolin\",\"Fridolin\",\"Fridolin\",\"Fridolin\",\"Fridolin\",\"Fridolin\",\"Fridolin\",\"Fridolin\",\"Fridolin\",\"Fridolin\",\"Fridolin\",\"Fridolin\",\"Fridolin\",\"Fridolin\",\"Fridolin\",\"Fridolin\",\"Fridolin\",\"Fridolin\",\"unknown\",\"Gibiser\",\"Gibiser\",\"woman\",\"woman\"]},\"selected\":{\"id\":\"1496\"},\"selection_policy\":{\"id\":\"1495\"}},\"id\":\"1432\",\"type\":\"ColumnDataSource\"},{\"attributes\":{\"active_multi\":null,\"active_scroll\":{\"id\":\"1416\"},\"tools\":[{\"id\":\"1415\"},{\"id\":\"1416\"},{\"id\":\"1417\"},{\"id\":\"1418\"},{\"id\":\"1419\"}]},\"id\":\"1420\",\"type\":\"Toolbar\"},{\"attributes\":{\"high\":27,\"low\":6,\"palette\":[\"#084594\",\"#2171b5\",\"#4292c6\",\"#6baed6\",\"#9ecae1\",\"#c6dbef\",\"#deebf7\",\"#f7fbff\"]},\"id\":\"1444\",\"type\":\"LinearColorMapper\"}],\"root_ids\":[\"1398\"]},\"title\":\"Bokeh Application\",\"version\":\"2.3.3\"}};\n  var render_items = [{\"docid\":\"9fba8852-ad1a-4b50-ba27-0485985ce663\",\"root_ids\":[\"1398\"],\"roots\":{\"1398\":\"91bcfb9d-0f94-4782-b9bf-d1126fc2f3e9\"}}];\n  root.Bokeh.embed.embed_items_notebook(docs_json, render_items);\n\n  }\n  if (root.Bokeh !== undefined) {\n    embed_document(root);\n  } else {\n    var attempts = 0;\n    var timer = setInterval(function(root) {\n      if (root.Bokeh !== undefined) {\n        clearInterval(timer);\n        embed_document(root);\n      } else {\n        attempts++;\n        if (attempts > 100) {\n          clearInterval(timer);\n          console.log(\"Bokeh: ERROR: Unable to run BokehJS code because BokehJS library is missing\");\n        }\n      }\n    }, 10, root)\n  }\n})(window);",
      "application/vnd.bokehjs_exec.v0+json": ""
     },
     "metadata": {
      "application/vnd.bokehjs_exec.v0+json": {
       "id": "1398"
      }
     },
     "output_type": "display_data"
    }
   ],
   "source": [
    "#Choose attributes from G network to size and color by — setting manual size (e.g. 10) or color (e.g. 'skyblue') also allowed\n",
    "size_by_this_attribute = 'adjusted_node_size'\n",
    "color_by_this_attribute = 'adjusted_node_size'\n",
    "\n",
    "#Pick a color palette — Blues8, Reds8, Purples8, Oranges8, Viridis8\n",
    "color_palette = Blues8\n",
    "\n",
    "#Choose a title!\n",
    "title = 'Dream Story Network'\n",
    "\n",
    "#Establish which categories will appear when hovering over each node\n",
    "HOVER_TOOLTIPS = [\n",
    "       (\"Character\", \"@index\"),\n",
    "        (\"Interactions\", \"@degree\")\n",
    "]\n",
    "\n",
    "#Create a plot — set dimensions, toolbar, and title\n",
    "plot = figure(tooltips = HOVER_TOOLTIPS,\n",
    "              tools=\"pan,wheel_zoom,save,reset\", active_scroll='wheel_zoom',\n",
    "            x_range=Range1d(-10.1, 10.1), y_range=Range1d(-10.1, 10.1), title=title)\n",
    "\n",
    "#Create a network graph object\n",
    "# https://networkx.github.io/documentation/networkx-1.9/reference/generated/networkx.drawing.layout.spring_layout.html\\\n",
    "network_graph = from_networkx(G, networkx.spring_layout, scale=10, center=(0, 0))\n",
    "\n",
    "#Set node sizes and colors according to node degree (color as spectrum of color palette)\n",
    "minimum_value_color = min(network_graph.node_renderer.data_source.data[color_by_this_attribute])\n",
    "maximum_value_color = max(network_graph.node_renderer.data_source.data[color_by_this_attribute])\n",
    "network_graph.node_renderer.glyph = Circle(size=size_by_this_attribute, fill_color=linear_cmap(color_by_this_attribute, color_palette, minimum_value_color, maximum_value_color))\n",
    "\n",
    "#Set edge opacity and width\n",
    "network_graph.edge_renderer.glyph = MultiLine(line_alpha=0.5, line_width=1)\n",
    "\n",
    "plot.renderers.append(network_graph)\n",
    "\n",
    "show(plot)\n",
    "#save(plot, filename=f\"{title}.html\")"
   ]
  },
  {
   "cell_type": "code",
   "execution_count": 30,
   "metadata": {},
   "outputs": [],
   "source": [
    "from bokeh.io import output_notebook, show, save\n",
    "from bokeh.models import Range1d, Circle, ColumnDataSource, MultiLine\n",
    "from bokeh.plotting import figure\n",
    "from bokeh.plotting import from_networkx\n",
    "from bokeh.palettes import Blues8, Reds8, Purples8, Oranges8, Viridis8, Spectral8\n",
    "from bokeh.transform import linear_cmap\n",
    "from networkx.algorithms import community"
   ]
  },
  {
   "cell_type": "code",
   "execution_count": 31,
   "metadata": {},
   "outputs": [],
   "source": [
    "degrees = dict(networkx.degree(G))\n",
    "networkx.set_node_attributes(G, name='degree', values=degrees)"
   ]
  },
  {
   "cell_type": "code",
   "execution_count": 32,
   "metadata": {},
   "outputs": [],
   "source": [
    "number_to_adjust_by = 5\n",
    "adjusted_node_size = dict([(node, degree+number_to_adjust_by) for node, degree in networkx.degree(G)])\n",
    "networkx.set_node_attributes(G, name='adjusted_node_size', values=adjusted_node_size)"
   ]
  },
  {
   "cell_type": "code",
   "execution_count": 33,
   "metadata": {},
   "outputs": [],
   "source": [
    "communities = community.greedy_modularity_communities(G)"
   ]
  },
  {
   "cell_type": "code",
   "execution_count": 34,
   "metadata": {},
   "outputs": [],
   "source": [
    "# Create empty dictionaries\n",
    "modularity_class = {}\n",
    "modularity_color = {}\n",
    "#Loop through each community in the network\n",
    "for community_number, community in enumerate(communities):\n",
    "    #For each member of the community, add their community number and a distinct color\n",
    "    for name in community: \n",
    "        modularity_class[name] = community_number\n",
    "        modularity_color[name] = Spectral8[community_number]"
   ]
  },
  {
   "cell_type": "code",
   "execution_count": 35,
   "metadata": {},
   "outputs": [],
   "source": [
    "# Add modularity class and color as attributes from the network above\n",
    "networkx.set_node_attributes(G, modularity_class, 'modularity_class')\n",
    "networkx.set_node_attributes(G, modularity_color, 'modularity_color')"
   ]
  },
  {
   "cell_type": "code",
   "execution_count": 36,
   "metadata": {},
   "outputs": [
    {
     "data": {
      "text/html": [
       "\n",
       "\n",
       "\n",
       "\n",
       "\n",
       "\n",
       "  <div class=\"bk-root\" id=\"c596c6f0-07a5-4624-853d-d02a637156f7\" data-root-id=\"1616\"></div>\n"
      ]
     },
     "metadata": {},
     "output_type": "display_data"
    },
    {
     "data": {
      "application/javascript": "(function(root) {\n  function embed_document(root) {\n    \n  var docs_json = {\"8892bab0-1939-4386-93ed-2c6b2b6448cf\":{\"defs\":[],\"roots\":{\"references\":[{\"attributes\":{\"below\":[{\"id\":\"1625\"}],\"center\":[{\"id\":\"1628\"},{\"id\":\"1632\"}],\"left\":[{\"id\":\"1629\"}],\"renderers\":[{\"id\":\"1646\"}],\"title\":{\"id\":\"1617\"},\"toolbar\":{\"id\":\"1639\"},\"x_range\":{\"id\":\"1614\"},\"x_scale\":{\"id\":\"1621\"},\"y_range\":{\"id\":\"1615\"},\"y_scale\":{\"id\":\"1623\"}},\"id\":\"1616\",\"subtype\":\"Figure\",\"type\":\"Plot\"},{\"attributes\":{\"source\":{\"id\":\"1648\"}},\"id\":\"1650\",\"type\":\"CDSView\"},{\"attributes\":{\"formatter\":{\"id\":\"1714\"},\"major_label_policy\":{\"id\":\"1713\"},\"ticker\":{\"id\":\"1626\"}},\"id\":\"1625\",\"type\":\"LinearAxis\"},{\"attributes\":{},\"id\":\"1623\",\"type\":\"LinearScale\"},{\"attributes\":{\"fill_color\":{\"field\":\"modularity_color\"},\"size\":{\"field\":\"adjusted_node_size\"}},\"id\":\"1656\",\"type\":\"Circle\"},{\"attributes\":{},\"id\":\"1725\",\"type\":\"UnionRenderers\"},{\"attributes\":{\"data\":{\"Interaction Count\":[2,29,8,2,5,44,17,10,1,17,1,3,3,2,5,2,2,2,1,4,15,1,3,3,1,3],\"end\":[\"daughter\",\"Albertina\",\"Marianne\",\"unknown\",\"Mizzi\",\"Nachtigall\",\"Gibiser\",\"Fridolin\",\"TWOServants\",\"woman\",\"another woman\",\"cavalier\",\"cavaliers\",\"YellowGentlemen\",\"gentlemen\",\"RedCavalier\",\"servant\",\"maid\",\"Fuchstaler\",\"Roediger\",\"Adler\",\"Mizzi\",\"Gentlemen\",\"Pierrette\",\"another woman\",\"gentlemen\"],\"start\":[\"Fridolin\",\"Fridolin\",\"Fridolin\",\"Fridolin\",\"Fridolin\",\"Fridolin\",\"Fridolin\",\"Fridolin\",\"Fridolin\",\"Fridolin\",\"Fridolin\",\"Fridolin\",\"Fridolin\",\"Fridolin\",\"Fridolin\",\"Fridolin\",\"Fridolin\",\"Fridolin\",\"Fridolin\",\"Fridolin\",\"Fridolin\",\"unknown\",\"Gibiser\",\"Gibiser\",\"woman\",\"woman\"]},\"selected\":{\"id\":\"1728\"},\"selection_policy\":{\"id\":\"1727\"}},\"id\":\"1652\",\"type\":\"ColumnDataSource\"},{\"attributes\":{},\"id\":\"1726\",\"type\":\"Selection\"},{\"attributes\":{},\"id\":\"1636\",\"type\":\"ResetTool\"},{\"attributes\":{\"data_source\":{\"id\":\"1652\"},\"glyph\":{\"id\":\"1661\"},\"hover_glyph\":null,\"muted_glyph\":null,\"view\":{\"id\":\"1654\"}},\"id\":\"1653\",\"type\":\"GlyphRenderer\"},{\"attributes\":{},\"id\":\"1635\",\"type\":\"SaveTool\"},{\"attributes\":{},\"id\":\"1714\",\"type\":\"BasicTickFormatter\"},{\"attributes\":{},\"id\":\"1633\",\"type\":\"PanTool\"},{\"attributes\":{},\"id\":\"1634\",\"type\":\"WheelZoomTool\"},{\"attributes\":{\"callback\":null,\"tooltips\":[[\"Character\",\"@index\"],[\"Interactions\",\"@degree\"],[\"Modularity Class\",\"@modularity_class\"],[\"Modularity Color\",\"$color[swatch]:modularity_color\"]]},\"id\":\"1638\",\"type\":\"HoverTool\"},{\"attributes\":{\"end\":10.1,\"start\":-10.1},\"id\":\"1614\",\"type\":\"Range1d\"},{\"attributes\":{},\"id\":\"1630\",\"type\":\"BasicTicker\"},{\"attributes\":{\"data\":{\"adjusted_node_size\":[27,6,6,6,7,7,6,8,6,6,6,8,7,6,6,6,7,6,6,6,6,6,6],\"degree\":[22,1,1,1,2,2,1,3,1,1,1,3,2,1,1,1,2,1,1,1,1,1,1],\"index\":[\"Fridolin\",\"daughter\",\"Albertina\",\"Marianne\",\"unknown\",\"Mizzi\",\"Nachtigall\",\"Gibiser\",\"Gentlemen\",\"Pierrette\",\"TWOServants\",\"woman\",\"another woman\",\"cavalier\",\"cavaliers\",\"YellowGentlemen\",\"gentlemen\",\"RedCavalier\",\"servant\",\"maid\",\"Fuchstaler\",\"Roediger\",\"Adler\"],\"modularity_class\":[0,0,0,0,3,3,0,1,1,1,0,2,2,0,0,0,2,0,0,0,0,0,0],\"modularity_color\":[\"#3288bd\",\"#3288bd\",\"#3288bd\",\"#3288bd\",\"#e6f598\",\"#e6f598\",\"#3288bd\",\"#66c2a5\",\"#66c2a5\",\"#66c2a5\",\"#3288bd\",\"#abdda4\",\"#abdda4\",\"#3288bd\",\"#3288bd\",\"#3288bd\",\"#abdda4\",\"#3288bd\",\"#3288bd\",\"#3288bd\",\"#3288bd\",\"#3288bd\",\"#3288bd\"]},\"selected\":{\"id\":\"1726\"},\"selection_policy\":{\"id\":\"1725\"}},\"id\":\"1648\",\"type\":\"ColumnDataSource\"},{\"attributes\":{\"axis\":{\"id\":\"1629\"},\"dimension\":1,\"ticker\":null},\"id\":\"1632\",\"type\":\"Grid\"},{\"attributes\":{},\"id\":\"1727\",\"type\":\"UnionRenderers\"},{\"attributes\":{},\"id\":\"1728\",\"type\":\"Selection\"},{\"attributes\":{\"end\":10.1,\"start\":-10.1},\"id\":\"1615\",\"type\":\"Range1d\"},{\"attributes\":{},\"id\":\"1621\",\"type\":\"LinearScale\"},{\"attributes\":{\"graph_layout\":{\"Adler\":[0.008206295036329832,4.778350445269307],\"Albertina\":[0.43711120358240935,2.8551177088227027],\"Fridolin\":[-0.8220102034603434,0.06084396217810344],\"Fuchstaler\":[-3.894812738929768,-4.171362331436725],\"Gentlemen\":[9.958745585713924,-1.538103537091092],\"Gibiser\":[6.130178268447761,-0.1517991054512656],\"Marianne\":[-5.507618885379382,-1.9298063604106113],\"Mizzi\":[-5.675148060193521,1.1600720889383513],\"Nachtigall\":[2.8031196437762023,-2.0790030858239534],\"Pierrette\":[10.0,1.066122161319586],\"RedCavalier\":[-0.09208804170564554,-4.960636792482072],\"Roediger\":[2.675887500364721,-0.12867267278914007],\"TWOServants\":[-2.0559418659584523,4.844744611899053],\"YellowGentlemen\":[1.874601412123559,-3.716859254253824],\"another woman\":[-0.31427509285590816,-3.0931917453428306],\"cavalier\":[-2.392988802845528,3.129774982741169],\"cavaliers\":[2.873238026022956,1.8572114916990043],\"daughter\":[-4.517990457505116,-0.5465353683321016],\"gentlemen\":[-3.1329073160081973,-2.6340974712917933],\"maid\":[2.155464232330785,3.7780395859808364],\"servant\":[-4.399522885669156,3.574541690856544],\"unknown\":[-4.26088581904644,1.5980808401823838],\"woman\":[-1.850361997841196,-3.7528318451816345]}},\"id\":\"1655\",\"type\":\"StaticLayoutProvider\"},{\"attributes\":{\"source\":{\"id\":\"1652\"}},\"id\":\"1654\",\"type\":\"CDSView\"},{\"attributes\":{\"active_multi\":null,\"active_scroll\":{\"id\":\"1634\"},\"tools\":[{\"id\":\"1633\"},{\"id\":\"1634\"},{\"id\":\"1635\"},{\"id\":\"1636\"},{\"id\":\"1637\"},{\"id\":\"1638\"}]},\"id\":\"1639\",\"type\":\"Toolbar\"},{\"attributes\":{\"data_source\":{\"id\":\"1648\"},\"glyph\":{\"id\":\"1656\"},\"hover_glyph\":null,\"muted_glyph\":null,\"view\":{\"id\":\"1650\"}},\"id\":\"1649\",\"type\":\"GlyphRenderer\"},{\"attributes\":{\"text\":\"Dream Story Network\"},\"id\":\"1617\",\"type\":\"Title\"},{\"attributes\":{},\"id\":\"1724\",\"type\":\"NodesOnly\"},{\"attributes\":{},\"id\":\"1710\",\"type\":\"AllLabels\"},{\"attributes\":{\"edge_renderer\":{\"id\":\"1653\"},\"inspection_policy\":{\"id\":\"1724\"},\"layout_provider\":{\"id\":\"1655\"},\"node_renderer\":{\"id\":\"1649\"},\"selection_policy\":{\"id\":\"1715\"}},\"id\":\"1646\",\"type\":\"GraphRenderer\"},{\"attributes\":{\"line_alpha\":{\"value\":0.5}},\"id\":\"1661\",\"type\":\"MultiLine\"},{\"attributes\":{},\"id\":\"1715\",\"type\":\"NodesOnly\"},{\"attributes\":{\"callback\":null},\"id\":\"1637\",\"type\":\"TapTool\"},{\"attributes\":{},\"id\":\"1713\",\"type\":\"AllLabels\"},{\"attributes\":{\"axis\":{\"id\":\"1625\"},\"ticker\":null},\"id\":\"1628\",\"type\":\"Grid\"},{\"attributes\":{},\"id\":\"1626\",\"type\":\"BasicTicker\"},{\"attributes\":{},\"id\":\"1711\",\"type\":\"BasicTickFormatter\"},{\"attributes\":{\"formatter\":{\"id\":\"1711\"},\"major_label_policy\":{\"id\":\"1710\"},\"ticker\":{\"id\":\"1630\"}},\"id\":\"1629\",\"type\":\"LinearAxis\"}],\"root_ids\":[\"1616\"]},\"title\":\"Bokeh Application\",\"version\":\"2.3.3\"}};\n  var render_items = [{\"docid\":\"8892bab0-1939-4386-93ed-2c6b2b6448cf\",\"root_ids\":[\"1616\"],\"roots\":{\"1616\":\"c596c6f0-07a5-4624-853d-d02a637156f7\"}}];\n  root.Bokeh.embed.embed_items_notebook(docs_json, render_items);\n\n  }\n  if (root.Bokeh !== undefined) {\n    embed_document(root);\n  } else {\n    var attempts = 0;\n    var timer = setInterval(function(root) {\n      if (root.Bokeh !== undefined) {\n        clearInterval(timer);\n        embed_document(root);\n      } else {\n        attempts++;\n        if (attempts > 100) {\n          clearInterval(timer);\n          console.log(\"Bokeh: ERROR: Unable to run BokehJS code because BokehJS library is missing\");\n        }\n      }\n    }, 10, root)\n  }\n})(window);",
      "application/vnd.bokehjs_exec.v0+json": ""
     },
     "metadata": {
      "application/vnd.bokehjs_exec.v0+json": {
       "id": "1616"
      }
     },
     "output_type": "display_data"
    }
   ],
   "source": [
    "#Choose attributes from G network to size and color by — setting manual size (e.g. 10) or color (e.g. 'skyblue') also allowed\n",
    "size_by_this_attribute = 'adjusted_node_size'\n",
    "color_by_this_attribute = 'modularity_color'\n",
    "#Pick a color palette — Blues8, Reds8, Purples8, Oranges8, Viridis8\n",
    "color_palette = Blues8\n",
    "#Choose a title!\n",
    "title = 'Dream Story Network'\n",
    "\n",
    "#Establish which categories will appear when hovering over each node\n",
    "HOVER_TOOLTIPS = [\n",
    "       (\"Character\", \"@index\"),\n",
    "        (\"Interactions\", \"@degree\"),\n",
    "         (\"Modularity Class\", \"@modularity_class\"),\n",
    "        (\"Modularity Color\", \"$color[swatch]:modularity_color\"),\n",
    "]\n",
    "\n",
    "#Create a plot — set dimensions, toolbar, and title\n",
    "plot = figure(tooltips = HOVER_TOOLTIPS,\n",
    "              tools=\"pan,wheel_zoom,save,reset, tap\", active_scroll='wheel_zoom',\n",
    "            x_range=Range1d(-10.1, 10.1), y_range=Range1d(-10.1, 10.1), title=title)\n",
    "\n",
    "#Create a network graph object\n",
    "# https://networkx.github.io/documentation/networkx-1.9/reference/generated/networkx.drawing.layout.spring_layout.html\n",
    "network_graph = from_networkx(G, networkx.spring_layout, scale=10, center=(0, 0))\n",
    "\n",
    "#Set node sizes and colors according to node degree (color as category from attribute)\n",
    "network_graph.node_renderer.glyph = Circle(size=size_by_this_attribute, fill_color=color_by_this_attribute)\n",
    "\n",
    "#Set edge opacity and width\n",
    "network_graph.edge_renderer.glyph = MultiLine(line_alpha=0.5, line_width=1)\n",
    "\n",
    "plot.renderers.append(network_graph)\n",
    "\n",
    "show(plot)\n",
    "#save(plot, filename=f\"{title}.html\")"
   ]
  },
  {
   "cell_type": "code",
   "execution_count": 37,
   "metadata": {},
   "outputs": [],
   "source": [
    "from bokeh.io import output_notebook, show, save\n",
    "from bokeh.models import Range1d, Circle, ColumnDataSource, MultiLine, EdgesAndLinkedNodes, NodesAndLinkedEdges, LabelSet\n",
    "from bokeh.plotting import figure\n",
    "from bokeh.plotting import from_networkx\n",
    "from bokeh.palettes import Blues8, Reds8, Purples8, Oranges8, Viridis8, Spectral8\n",
    "from bokeh.transform import linear_cmap\n",
    "from networkx.algorithms import community"
   ]
  },
  {
   "cell_type": "code",
   "execution_count": 38,
   "metadata": {},
   "outputs": [],
   "source": [
    "degrees = dict(networkx.degree(G))\n",
    "networkx.set_node_attributes(G, name='degree', values=degrees)"
   ]
  },
  {
   "cell_type": "code",
   "execution_count": 39,
   "metadata": {},
   "outputs": [],
   "source": [
    "number_to_adjust_by = 5\n",
    "adjusted_node_size = dict([(node, degree+number_to_adjust_by) for node, degree in networkx.degree(G)])\n",
    "networkx.set_node_attributes(G, name='adjusted_node_size', values=adjusted_node_size)"
   ]
  },
  {
   "cell_type": "code",
   "execution_count": 40,
   "metadata": {},
   "outputs": [],
   "source": [
    "communities = community.greedy_modularity_communities(G)"
   ]
  },
  {
   "cell_type": "code",
   "execution_count": 41,
   "metadata": {},
   "outputs": [
    {
     "data": {
      "text/html": [
       "\n",
       "\n",
       "\n",
       "\n",
       "\n",
       "\n",
       "  <div class=\"bk-root\" id=\"6c285522-a8fd-4588-a2c6-8619da5ee7aa\" data-root-id=\"1848\"></div>\n"
      ]
     },
     "metadata": {},
     "output_type": "display_data"
    },
    {
     "data": {
      "application/javascript": "(function(root) {\n  function embed_document(root) {\n    \n  var docs_json = {\"dd50c5b9-7d5a-4973-8bb6-1534530e11ef\":{\"defs\":[],\"roots\":{\"references\":[{\"attributes\":{\"below\":[{\"id\":\"1857\"}],\"center\":[{\"id\":\"1860\"},{\"id\":\"1864\"}],\"left\":[{\"id\":\"1861\"}],\"renderers\":[{\"id\":\"1876\"},{\"id\":\"1921\"}],\"title\":{\"id\":\"1849\"},\"toolbar\":{\"id\":\"1870\"},\"x_range\":{\"id\":\"1846\"},\"x_scale\":{\"id\":\"1853\"},\"y_range\":{\"id\":\"1847\"},\"y_scale\":{\"id\":\"1855\"}},\"id\":\"1848\",\"subtype\":\"Figure\",\"type\":\"Plot\"},{\"attributes\":{},\"id\":\"1866\",\"type\":\"WheelZoomTool\"},{\"attributes\":{\"data\":{\"Interaction Count\":[2,29,8,2,5,44,17,10,1,17,1,3,3,2,5,2,2,2,1,4,15,1,3,3,1,3],\"end\":[\"daughter\",\"Albertina\",\"Marianne\",\"unknown\",\"Mizzi\",\"Nachtigall\",\"Gibiser\",\"Fridolin\",\"TWOServants\",\"woman\",\"another woman\",\"cavalier\",\"cavaliers\",\"YellowGentlemen\",\"gentlemen\",\"RedCavalier\",\"servant\",\"maid\",\"Fuchstaler\",\"Roediger\",\"Adler\",\"Mizzi\",\"Gentlemen\",\"Pierrette\",\"another woman\",\"gentlemen\"],\"start\":[\"Fridolin\",\"Fridolin\",\"Fridolin\",\"Fridolin\",\"Fridolin\",\"Fridolin\",\"Fridolin\",\"Fridolin\",\"Fridolin\",\"Fridolin\",\"Fridolin\",\"Fridolin\",\"Fridolin\",\"Fridolin\",\"Fridolin\",\"Fridolin\",\"Fridolin\",\"Fridolin\",\"Fridolin\",\"Fridolin\",\"Fridolin\",\"unknown\",\"Gibiser\",\"Gibiser\",\"woman\",\"woman\"]},\"selected\":{\"id\":\"2006\"},\"selection_policy\":{\"id\":\"2005\"}},\"id\":\"1882\",\"type\":\"ColumnDataSource\"},{\"attributes\":{},\"id\":\"1916\",\"type\":\"NodesAndLinkedEdges\"},{\"attributes\":{\"callback\":null,\"tooltips\":[[\"Character\",\"@index\"],[\"Interactions\",\"@degree\"],[\"Modularity Class\",\"@modularity_class\"],[\"Modularity Color\",\"$color[swatch]:modularity_color\"]]},\"id\":\"1869\",\"type\":\"HoverTool\"},{\"attributes\":{\"data\":{\"name\":[\"Fridolin\",\"daughter\",\"Albertina\",\"Marianne\",\"unknown\",\"Mizzi\",\"Nachtigall\",\"Gibiser\",\"Gentlemen\",\"Pierrette\",\"TWOServants\",\"woman\",\"another woman\",\"cavalier\",\"cavaliers\",\"YellowGentlemen\",\"gentlemen\",\"RedCavalier\",\"servant\",\"maid\",\"Fuchstaler\",\"Roediger\",\"Adler\"],\"x\":[-0.4780936739052925,4.706270372763606,-5.629178868406107,-3.634393374275367,-5.67853585992176,-4.699129325939031,2.42729865307432,3.5500804734816893,6.93453071605626,4.532874007011549,3.7729094300473953,-0.595476071459589,0.9180732741091159,3.0177366310140883,4.39543290149734,2.2491619993843766,-2.2476526611441137,0.5228310897956997,-4.410059850424684,-1.5232626799087658,-2.9818502213811984,-3.979907447580658,-1.16965951388888],\"y\":[-0.779800974459475,-1.8628474247778581,0.8253159830507302,-5.239532515881362,-2.2573983822144528,-1.0451698052627705,-1.9922497737001776,5.641569667601518,8.443525315104566,10.0,-3.9344177759610655,3.6717365745009247,2.927620394482853,1.7605791931596866,0.24878020534192963,-5.131209767324597,3.873375462534958,-5.758414065595238,2.8367886650578846,-6.094491561837058,1.2209400997115465,-3.455305337310549,-3.8993941762219437]},\"selected\":{\"id\":\"2002\"},\"selection_policy\":{\"id\":\"2001\"}},\"id\":\"1920\",\"type\":\"ColumnDataSource\"},{\"attributes\":{},\"id\":\"1862\",\"type\":\"BasicTicker\"},{\"attributes\":{\"source\":{\"id\":\"1882\"}},\"id\":\"1884\",\"type\":\"CDSView\"},{\"attributes\":{\"axis\":{\"id\":\"1861\"},\"dimension\":1,\"ticker\":null},\"id\":\"1864\",\"type\":\"Grid\"},{\"attributes\":{},\"id\":\"2001\",\"type\":\"UnionRenderers\"},{\"attributes\":{},\"id\":\"2006\",\"type\":\"Selection\"},{\"attributes\":{},\"id\":\"1991\",\"type\":\"AllLabels\"},{\"attributes\":{},\"id\":\"2002\",\"type\":\"Selection\"},{\"attributes\":{\"data_source\":{\"id\":\"1878\"},\"glyph\":{\"id\":\"1886\"},\"hover_glyph\":{\"id\":\"1891\"},\"muted_glyph\":null,\"selection_glyph\":{\"id\":\"1896\"},\"view\":{\"id\":\"1880\"}},\"id\":\"1879\",\"type\":\"GlyphRenderer\"},{\"attributes\":{\"source\":{\"id\":\"1878\"}},\"id\":\"1880\",\"type\":\"CDSView\"},{\"attributes\":{\"fill_color\":{\"field\":\"modularity_color\"},\"size\":{\"field\":\"adjusted_node_size\"}},\"id\":\"1886\",\"type\":\"Circle\"},{\"attributes\":{\"axis\":{\"id\":\"1857\"},\"ticker\":null},\"id\":\"1860\",\"type\":\"Grid\"},{\"attributes\":{\"data\":{\"adjusted_node_size\":[27,6,6,6,7,7,6,8,6,6,6,8,7,6,6,6,7,6,6,6,6,6,6],\"degree\":[22,1,1,1,2,2,1,3,1,1,1,3,2,1,1,1,2,1,1,1,1,1,1],\"index\":[\"Fridolin\",\"daughter\",\"Albertina\",\"Marianne\",\"unknown\",\"Mizzi\",\"Nachtigall\",\"Gibiser\",\"Gentlemen\",\"Pierrette\",\"TWOServants\",\"woman\",\"another woman\",\"cavalier\",\"cavaliers\",\"YellowGentlemen\",\"gentlemen\",\"RedCavalier\",\"servant\",\"maid\",\"Fuchstaler\",\"Roediger\",\"Adler\"],\"modularity_class\":[0,0,0,0,3,3,0,1,1,1,0,2,2,0,0,0,2,0,0,0,0,0,0],\"modularity_color\":[\"#3288bd\",\"#3288bd\",\"#3288bd\",\"#3288bd\",\"#e6f598\",\"#e6f598\",\"#3288bd\",\"#66c2a5\",\"#66c2a5\",\"#66c2a5\",\"#3288bd\",\"#abdda4\",\"#abdda4\",\"#3288bd\",\"#3288bd\",\"#3288bd\",\"#abdda4\",\"#3288bd\",\"#3288bd\",\"#3288bd\",\"#3288bd\",\"#3288bd\",\"#3288bd\"]},\"selected\":{\"id\":\"2004\"},\"selection_policy\":{\"id\":\"2003\"}},\"id\":\"1878\",\"type\":\"ColumnDataSource\"},{\"attributes\":{\"formatter\":{\"id\":\"1992\"},\"major_label_policy\":{\"id\":\"1991\"},\"ticker\":{\"id\":\"1858\"}},\"id\":\"1857\",\"type\":\"LinearAxis\"},{\"attributes\":{\"formatter\":{\"id\":\"1989\"},\"major_label_policy\":{\"id\":\"1988\"},\"ticker\":{\"id\":\"1862\"}},\"id\":\"1861\",\"type\":\"LinearAxis\"},{\"attributes\":{},\"id\":\"1918\",\"type\":\"NodesAndLinkedEdges\"},{\"attributes\":{\"fill_color\":{\"value\":\"white\"},\"line_width\":{\"value\":2},\"size\":{\"field\":\"adjusted_node_size\"}},\"id\":\"1891\",\"type\":\"Circle\"},{\"attributes\":{},\"id\":\"1865\",\"type\":\"PanTool\"},{\"attributes\":{},\"id\":\"1867\",\"type\":\"SaveTool\"},{\"attributes\":{},\"id\":\"1988\",\"type\":\"AllLabels\"},{\"attributes\":{},\"id\":\"1855\",\"type\":\"LinearScale\"},{\"attributes\":{},\"id\":\"1868\",\"type\":\"ResetTool\"},{\"attributes\":{},\"id\":\"1858\",\"type\":\"BasicTicker\"},{\"attributes\":{\"line_width\":{\"value\":2}},\"id\":\"1906\",\"type\":\"MultiLine\"},{\"attributes\":{},\"id\":\"2005\",\"type\":\"UnionRenderers\"},{\"attributes\":{\"text\":\"Dream Story Network\"},\"id\":\"1849\",\"type\":\"Title\"},{\"attributes\":{\"end\":10.1,\"start\":-10.1},\"id\":\"1847\",\"type\":\"Range1d\"},{\"attributes\":{\"line_alpha\":{\"value\":0.3}},\"id\":\"1901\",\"type\":\"MultiLine\"},{\"attributes\":{},\"id\":\"2003\",\"type\":\"UnionRenderers\"},{\"attributes\":{},\"id\":\"1853\",\"type\":\"LinearScale\"},{\"attributes\":{\"end\":10.1,\"start\":-10.1},\"id\":\"1846\",\"type\":\"Range1d\"},{\"attributes\":{},\"id\":\"1992\",\"type\":\"BasicTickFormatter\"},{\"attributes\":{\"graph_layout\":{\"Adler\":[-1.16965951388888,-3.8993941762219437],\"Albertina\":[-5.629178868406107,0.8253159830507302],\"Fridolin\":[-0.4780936739052925,-0.779800974459475],\"Fuchstaler\":[-2.9818502213811984,1.2209400997115465],\"Gentlemen\":[6.93453071605626,8.443525315104566],\"Gibiser\":[3.5500804734816893,5.641569667601518],\"Marianne\":[-3.634393374275367,-5.239532515881362],\"Mizzi\":[-4.699129325939031,-1.0451698052627705],\"Nachtigall\":[2.42729865307432,-1.9922497737001776],\"Pierrette\":[4.532874007011549,10.0],\"RedCavalier\":[0.5228310897956997,-5.758414065595238],\"Roediger\":[-3.979907447580658,-3.455305337310549],\"TWOServants\":[3.7729094300473953,-3.9344177759610655],\"YellowGentlemen\":[2.2491619993843766,-5.131209767324597],\"another woman\":[0.9180732741091159,2.927620394482853],\"cavalier\":[3.0177366310140883,1.7605791931596866],\"cavaliers\":[4.39543290149734,0.24878020534192963],\"daughter\":[4.706270372763606,-1.8628474247778581],\"gentlemen\":[-2.2476526611441137,3.873375462534958],\"maid\":[-1.5232626799087658,-6.094491561837058],\"servant\":[-4.410059850424684,2.8367886650578846],\"unknown\":[-5.67853585992176,-2.2573983822144528],\"woman\":[-0.595476071459589,3.6717365745009247]}},\"id\":\"1885\",\"type\":\"StaticLayoutProvider\"},{\"attributes\":{\"fill_color\":{\"value\":\"white\"},\"line_width\":{\"value\":2},\"size\":{\"field\":\"adjusted_node_size\"}},\"id\":\"1896\",\"type\":\"Circle\"},{\"attributes\":{},\"id\":\"2004\",\"type\":\"Selection\"},{\"attributes\":{\"data_source\":{\"id\":\"1882\"},\"glyph\":{\"id\":\"1901\"},\"hover_glyph\":{\"id\":\"1911\"},\"muted_glyph\":null,\"selection_glyph\":{\"id\":\"1906\"},\"view\":{\"id\":\"1884\"}},\"id\":\"1883\",\"type\":\"GlyphRenderer\"},{\"attributes\":{\"line_width\":{\"value\":2}},\"id\":\"1911\",\"type\":\"MultiLine\"},{\"attributes\":{},\"id\":\"1989\",\"type\":\"BasicTickFormatter\"},{\"attributes\":{\"background_fill_alpha\":{\"value\":0.7},\"background_fill_color\":{\"value\":\"white\"},\"source\":{\"id\":\"1920\"},\"text\":{\"field\":\"name\"},\"text_font_size\":{\"value\":\"10px\"},\"x\":{\"field\":\"x\"},\"y\":{\"field\":\"y\"}},\"id\":\"1921\",\"type\":\"LabelSet\"},{\"attributes\":{\"edge_renderer\":{\"id\":\"1883\"},\"inspection_policy\":{\"id\":\"1918\"},\"layout_provider\":{\"id\":\"1885\"},\"node_renderer\":{\"id\":\"1879\"},\"selection_policy\":{\"id\":\"1916\"}},\"id\":\"1876\",\"type\":\"GraphRenderer\"},{\"attributes\":{\"active_multi\":null,\"active_scroll\":{\"id\":\"1866\"},\"tools\":[{\"id\":\"1865\"},{\"id\":\"1866\"},{\"id\":\"1867\"},{\"id\":\"1868\"},{\"id\":\"1869\"}]},\"id\":\"1870\",\"type\":\"Toolbar\"}],\"root_ids\":[\"1848\"]},\"title\":\"Bokeh Application\",\"version\":\"2.3.3\"}};\n  var render_items = [{\"docid\":\"dd50c5b9-7d5a-4973-8bb6-1534530e11ef\",\"root_ids\":[\"1848\"],\"roots\":{\"1848\":\"6c285522-a8fd-4588-a2c6-8619da5ee7aa\"}}];\n  root.Bokeh.embed.embed_items_notebook(docs_json, render_items);\n\n  }\n  if (root.Bokeh !== undefined) {\n    embed_document(root);\n  } else {\n    var attempts = 0;\n    var timer = setInterval(function(root) {\n      if (root.Bokeh !== undefined) {\n        clearInterval(timer);\n        embed_document(root);\n      } else {\n        attempts++;\n        if (attempts > 100) {\n          clearInterval(timer);\n          console.log(\"Bokeh: ERROR: Unable to run BokehJS code because BokehJS library is missing\");\n        }\n      }\n    }, 10, root)\n  }\n})(window);",
      "application/vnd.bokehjs_exec.v0+json": ""
     },
     "metadata": {
      "application/vnd.bokehjs_exec.v0+json": {
       "id": "1848"
      }
     },
     "output_type": "display_data"
    },
    {
     "data": {
      "text/plain": [
       "'c:\\\\Users\\\\crosi\\\\Documents\\\\GitHub\\\\metascript\\\\utils\\\\network_analysis\\\\Dream Story Network.html'"
      ]
     },
     "execution_count": 41,
     "metadata": {},
     "output_type": "execute_result"
    }
   ],
   "source": [
    "#Choose colors for node and edge highlighting\n",
    "node_highlight_color = 'white'\n",
    "edge_highlight_color = 'black'\n",
    "\n",
    "#Choose attributes from G network to size and color by — setting manual size (e.g. 10) or color (e.g. 'skyblue') also allowed\n",
    "size_by_this_attribute = 'adjusted_node_size'\n",
    "color_by_this_attribute = 'modularity_color'\n",
    "\n",
    "#Pick a color palette — Blues8, Reds8, Purples8, Oranges8, Viridis8\n",
    "color_palette = Blues8\n",
    "\n",
    "#Choose a title!\n",
    "title = 'Dream Story Network'\n",
    "\n",
    "#Establish which categories will appear when hovering over each node\n",
    "HOVER_TOOLTIPS = [\n",
    "       (\"Character\", \"@index\"),\n",
    "        (\"Interactions\", \"@degree\"),\n",
    "         (\"Modularity Class\", \"@modularity_class\"),\n",
    "        (\"Modularity Color\", \"$color[swatch]:modularity_color\"),\n",
    "]\n",
    "\n",
    "#Create a plot — set dimensions, toolbar, and title\n",
    "plot = figure(tooltips = HOVER_TOOLTIPS,\n",
    "              tools=\"pan,wheel_zoom,save,reset\", active_scroll='wheel_zoom',\n",
    "            x_range=Range1d(-10.1, 10.1), y_range=Range1d(-10.1, 10.1), title=title)\n",
    "\n",
    "#Create a network graph object\n",
    "# https://networkx.github.io/documentation/networkx-1.9/reference/generated/networkx.drawing.layout.spring_layout.html\n",
    "network_graph = from_networkx(G, networkx.spring_layout, scale=10, center=(0, 0))\n",
    "\n",
    "#Set node sizes and colors according to node degree (color as category from attribute)\n",
    "network_graph.node_renderer.glyph = Circle(size=size_by_this_attribute, fill_color=color_by_this_attribute)\n",
    "#Set node highlight colors\n",
    "network_graph.node_renderer.hover_glyph = Circle(size=size_by_this_attribute, fill_color=node_highlight_color, line_width=2)\n",
    "network_graph.node_renderer.selection_glyph = Circle(size=size_by_this_attribute, fill_color=node_highlight_color, line_width=2)\n",
    "\n",
    "#Set edge opacity and width\n",
    "network_graph.edge_renderer.glyph = MultiLine(line_alpha=0.3, line_width=1)\n",
    "#Set edge highlight colors\n",
    "network_graph.edge_renderer.selection_glyph = MultiLine(line_color=edge_highlight_color, line_width=2)\n",
    "network_graph.edge_renderer.hover_glyph = MultiLine(line_color=edge_highlight_color, line_width=2)\n",
    "\n",
    "#Highlight nodes and edges\n",
    "network_graph.selection_policy = NodesAndLinkedEdges()\n",
    "network_graph.inspection_policy = NodesAndLinkedEdges()\n",
    "\n",
    "plot.renderers.append(network_graph)\n",
    "\n",
    "#Add Labels\n",
    "x, y = zip(*network_graph.layout_provider.graph_layout.values())\n",
    "node_labels = list(G.nodes())\n",
    "source = ColumnDataSource({'x': x, 'y': y, 'name': [node_labels[i] for i in range(len(x))]})\n",
    "labels = LabelSet(x='x', y='y', text='name', source=source, background_fill_color='white', text_font_size='10px', background_fill_alpha=.7)\n",
    "plot.renderers.append(labels)\n",
    "\n",
    "show(plot)\n",
    "save(plot, filename=\"Dream Story Network.html\")"
   ]
  }
 ],
 "metadata": {
  "kernelspec": {
   "display_name": "Python 3",
   "language": "python",
   "name": "python3"
  },
  "language_info": {
   "codemirror_mode": {
    "name": "ipython",
    "version": 3
   },
   "file_extension": ".py",
   "mimetype": "text/x-python",
   "name": "python",
   "nbconvert_exporter": "python",
   "pygments_lexer": "ipython3",
   "version": "3.10.8"
  },
  "orig_nbformat": 4
 },
 "nbformat": 4,
 "nbformat_minor": 2
}
