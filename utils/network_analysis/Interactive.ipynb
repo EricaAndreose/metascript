{
 "cells": [
  {
   "cell_type": "code",
   "execution_count": 162,
   "metadata": {},
   "outputs": [],
   "source": [
    "import pandas as pd\n",
    "import networkx\n",
    "import matplotlib.pyplot as plt\n",
    "import numpy as np"
   ]
  },
  {
   "cell_type": "code",
   "execution_count": 163,
   "metadata": {},
   "outputs": [],
   "source": [
    "from bokeh.io import output_notebook, show, save"
   ]
  },
  {
   "cell_type": "code",
   "execution_count": 164,
   "metadata": {},
   "outputs": [
    {
     "data": {
      "text/html": [
       "\n",
       "    <div class=\"bk-root\">\n",
       "        <a href=\"https://bokeh.org\" target=\"_blank\" class=\"bk-logo bk-logo-small bk-logo-notebook\"></a>\n",
       "        <span id=\"16185\">Loading BokehJS ...</span>\n",
       "    </div>"
      ]
     },
     "metadata": {},
     "output_type": "display_data"
    },
    {
     "data": {
      "application/javascript": "\n(function(root) {\n  function now() {\n    return new Date();\n  }\n\n  var force = true;\n\n  if (typeof root._bokeh_onload_callbacks === \"undefined\" || force === true) {\n    root._bokeh_onload_callbacks = [];\n    root._bokeh_is_loading = undefined;\n  }\n\n  var JS_MIME_TYPE = 'application/javascript';\n  var HTML_MIME_TYPE = 'text/html';\n  var EXEC_MIME_TYPE = 'application/vnd.bokehjs_exec.v0+json';\n  var CLASS_NAME = 'output_bokeh rendered_html';\n\n  /**\n   * Render data to the DOM node\n   */\n  function render(props, node) {\n    var script = document.createElement(\"script\");\n    node.appendChild(script);\n  }\n\n  /**\n   * Handle when an output is cleared or removed\n   */\n  function handleClearOutput(event, handle) {\n    var cell = handle.cell;\n\n    var id = cell.output_area._bokeh_element_id;\n    var server_id = cell.output_area._bokeh_server_id;\n    // Clean up Bokeh references\n    if (id != null && id in Bokeh.index) {\n      Bokeh.index[id].model.document.clear();\n      delete Bokeh.index[id];\n    }\n\n    if (server_id !== undefined) {\n      // Clean up Bokeh references\n      var cmd = \"from bokeh.io.state import curstate; print(curstate().uuid_to_server['\" + server_id + \"'].get_sessions()[0].document.roots[0]._id)\";\n      cell.notebook.kernel.execute(cmd, {\n        iopub: {\n          output: function(msg) {\n            var id = msg.content.text.trim();\n            if (id in Bokeh.index) {\n              Bokeh.index[id].model.document.clear();\n              delete Bokeh.index[id];\n            }\n          }\n        }\n      });\n      // Destroy server and session\n      var cmd = \"import bokeh.io.notebook as ion; ion.destroy_server('\" + server_id + \"')\";\n      cell.notebook.kernel.execute(cmd);\n    }\n  }\n\n  /**\n   * Handle when a new output is added\n   */\n  function handleAddOutput(event, handle) {\n    var output_area = handle.output_area;\n    var output = handle.output;\n\n    // limit handleAddOutput to display_data with EXEC_MIME_TYPE content only\n    if ((output.output_type != \"display_data\") || (!Object.prototype.hasOwnProperty.call(output.data, EXEC_MIME_TYPE))) {\n      return\n    }\n\n    var toinsert = output_area.element.find(\".\" + CLASS_NAME.split(' ')[0]);\n\n    if (output.metadata[EXEC_MIME_TYPE][\"id\"] !== undefined) {\n      toinsert[toinsert.length - 1].firstChild.textContent = output.data[JS_MIME_TYPE];\n      // store reference to embed id on output_area\n      output_area._bokeh_element_id = output.metadata[EXEC_MIME_TYPE][\"id\"];\n    }\n    if (output.metadata[EXEC_MIME_TYPE][\"server_id\"] !== undefined) {\n      var bk_div = document.createElement(\"div\");\n      bk_div.innerHTML = output.data[HTML_MIME_TYPE];\n      var script_attrs = bk_div.children[0].attributes;\n      for (var i = 0; i < script_attrs.length; i++) {\n        toinsert[toinsert.length - 1].firstChild.setAttribute(script_attrs[i].name, script_attrs[i].value);\n        toinsert[toinsert.length - 1].firstChild.textContent = bk_div.children[0].textContent\n      }\n      // store reference to server id on output_area\n      output_area._bokeh_server_id = output.metadata[EXEC_MIME_TYPE][\"server_id\"];\n    }\n  }\n\n  function register_renderer(events, OutputArea) {\n\n    function append_mime(data, metadata, element) {\n      // create a DOM node to render to\n      var toinsert = this.create_output_subarea(\n        metadata,\n        CLASS_NAME,\n        EXEC_MIME_TYPE\n      );\n      this.keyboard_manager.register_events(toinsert);\n      // Render to node\n      var props = {data: data, metadata: metadata[EXEC_MIME_TYPE]};\n      render(props, toinsert[toinsert.length - 1]);\n      element.append(toinsert);\n      return toinsert\n    }\n\n    /* Handle when an output is cleared or removed */\n    events.on('clear_output.CodeCell', handleClearOutput);\n    events.on('delete.Cell', handleClearOutput);\n\n    /* Handle when a new output is added */\n    events.on('output_added.OutputArea', handleAddOutput);\n\n    /**\n     * Register the mime type and append_mime function with output_area\n     */\n    OutputArea.prototype.register_mime_type(EXEC_MIME_TYPE, append_mime, {\n      /* Is output safe? */\n      safe: true,\n      /* Index of renderer in `output_area.display_order` */\n      index: 0\n    });\n  }\n\n  // register the mime type if in Jupyter Notebook environment and previously unregistered\n  if (root.Jupyter !== undefined) {\n    var events = require('base/js/events');\n    var OutputArea = require('notebook/js/outputarea').OutputArea;\n\n    if (OutputArea.prototype.mime_types().indexOf(EXEC_MIME_TYPE) == -1) {\n      register_renderer(events, OutputArea);\n    }\n  }\n\n  \n  if (typeof (root._bokeh_timeout) === \"undefined\" || force === true) {\n    root._bokeh_timeout = Date.now() + 5000;\n    root._bokeh_failed_load = false;\n  }\n\n  var NB_LOAD_WARNING = {'data': {'text/html':\n     \"<div style='background-color: #fdd'>\\n\"+\n     \"<p>\\n\"+\n     \"BokehJS does not appear to have successfully loaded. If loading BokehJS from CDN, this \\n\"+\n     \"may be due to a slow or bad network connection. Possible fixes:\\n\"+\n     \"</p>\\n\"+\n     \"<ul>\\n\"+\n     \"<li>re-rerun `output_notebook()` to attempt to load from CDN again, or</li>\\n\"+\n     \"<li>use INLINE resources instead, as so:</li>\\n\"+\n     \"</ul>\\n\"+\n     \"<code>\\n\"+\n     \"from bokeh.resources import INLINE\\n\"+\n     \"output_notebook(resources=INLINE)\\n\"+\n     \"</code>\\n\"+\n     \"</div>\"}};\n\n  function display_loaded() {\n    var el = document.getElementById(\"16185\");\n    if (el != null) {\n      el.textContent = \"BokehJS is loading...\";\n    }\n    if (root.Bokeh !== undefined) {\n      if (el != null) {\n        el.textContent = \"BokehJS \" + root.Bokeh.version + \" successfully loaded.\";\n      }\n    } else if (Date.now() < root._bokeh_timeout) {\n      setTimeout(display_loaded, 100)\n    }\n  }\n\n\n  function run_callbacks() {\n    try {\n      root._bokeh_onload_callbacks.forEach(function(callback) {\n        if (callback != null)\n          callback();\n      });\n    } finally {\n      delete root._bokeh_onload_callbacks\n    }\n    console.debug(\"Bokeh: all callbacks have finished\");\n  }\n\n  function load_libs(css_urls, js_urls, callback) {\n    if (css_urls == null) css_urls = [];\n    if (js_urls == null) js_urls = [];\n\n    root._bokeh_onload_callbacks.push(callback);\n    if (root._bokeh_is_loading > 0) {\n      console.debug(\"Bokeh: BokehJS is being loaded, scheduling callback at\", now());\n      return null;\n    }\n    if (js_urls == null || js_urls.length === 0) {\n      run_callbacks();\n      return null;\n    }\n    console.debug(\"Bokeh: BokehJS not loaded, scheduling load and callback at\", now());\n    root._bokeh_is_loading = css_urls.length + js_urls.length;\n\n    function on_load() {\n      root._bokeh_is_loading--;\n      if (root._bokeh_is_loading === 0) {\n        console.debug(\"Bokeh: all BokehJS libraries/stylesheets loaded\");\n        run_callbacks()\n      }\n    }\n\n    function on_error(url) {\n      console.error(\"failed to load \" + url);\n    }\n\n    for (let i = 0; i < css_urls.length; i++) {\n      const url = css_urls[i];\n      const element = document.createElement(\"link\");\n      element.onload = on_load;\n      element.onerror = on_error.bind(null, url);\n      element.rel = \"stylesheet\";\n      element.type = \"text/css\";\n      element.href = url;\n      console.debug(\"Bokeh: injecting link tag for BokehJS stylesheet: \", url);\n      document.body.appendChild(element);\n    }\n\n    const hashes = {\"https://cdn.bokeh.org/bokeh/release/bokeh-2.3.3.min.js\": \"dM3QQsP+wXdHg42wTqW85BjZQdLNNIXqlPw/BgKoExPmTG7ZLML4EGqLMfqHT6ON\", \"https://cdn.bokeh.org/bokeh/release/bokeh-tables-2.3.3.min.js\": \"8x57I4YuIfu8XyZfFo0XVr2WAT8EK4rh/uDe3wF7YuW2FNUSNEpJbsPaB1nJ2fz2\", \"https://cdn.bokeh.org/bokeh/release/bokeh-widgets-2.3.3.min.js\": \"3QTqdz9LyAm2i0sG5XTePsHec3UHWwVsrOL68SYRoAXsafvfAyqtQ+h440+qIBhS\"};\n\n    for (let i = 0; i < js_urls.length; i++) {\n      const url = js_urls[i];\n      const element = document.createElement('script');\n      element.onload = on_load;\n      element.onerror = on_error.bind(null, url);\n      element.async = false;\n      element.src = url;\n      if (url in hashes) {\n        element.crossOrigin = \"anonymous\";\n        element.integrity = \"sha384-\" + hashes[url];\n      }\n      console.debug(\"Bokeh: injecting script tag for BokehJS library: \", url);\n      document.head.appendChild(element);\n    }\n  };\n\n  function inject_raw_css(css) {\n    const element = document.createElement(\"style\");\n    element.appendChild(document.createTextNode(css));\n    document.body.appendChild(element);\n  }\n\n  \n  var js_urls = [\"https://cdn.bokeh.org/bokeh/release/bokeh-2.3.3.min.js\", \"https://cdn.bokeh.org/bokeh/release/bokeh-widgets-2.3.3.min.js\", \"https://cdn.bokeh.org/bokeh/release/bokeh-tables-2.3.3.min.js\"];\n  var css_urls = [];\n  \n\n  var inline_js = [\n    function(Bokeh) {\n      Bokeh.set_log_level(\"info\");\n    },\n    function(Bokeh) {\n    \n    \n    }\n  ];\n\n  function run_inline_js() {\n    \n    if (root.Bokeh !== undefined || force === true) {\n      \n    for (var i = 0; i < inline_js.length; i++) {\n      inline_js[i].call(root, root.Bokeh);\n    }\n    if (force === true) {\n        display_loaded();\n      }} else if (Date.now() < root._bokeh_timeout) {\n      setTimeout(run_inline_js, 100);\n    } else if (!root._bokeh_failed_load) {\n      console.log(\"Bokeh: BokehJS failed to load within specified timeout.\");\n      root._bokeh_failed_load = true;\n    } else if (force !== true) {\n      var cell = $(document.getElementById(\"16185\")).parents('.cell').data().cell;\n      cell.output_area.append_execute_result(NB_LOAD_WARNING)\n    }\n\n  }\n\n  if (root._bokeh_is_loading === 0) {\n    console.debug(\"Bokeh: BokehJS loaded, going straight to plotting\");\n    run_inline_js();\n  } else {\n    load_libs(css_urls, js_urls, function() {\n      console.debug(\"Bokeh: BokehJS plotting callback run at\", now());\n      run_inline_js();\n    });\n  }\n}(window));",
      "application/vnd.bokehjs_load.v0+json": ""
     },
     "metadata": {},
     "output_type": "display_data"
    }
   ],
   "source": [
    "output_notebook()"
   ]
  },
  {
   "cell_type": "code",
   "execution_count": 165,
   "metadata": {},
   "outputs": [],
   "source": [
    "import pandas as pd\n",
    "\n",
    "\n",
    "# Read the csv files\n",
    "df_ds = pd.read_csv('interactions_book.csv')\n",
    "\n"
   ]
  },
  {
   "cell_type": "code",
   "execution_count": 166,
   "metadata": {},
   "outputs": [],
   "source": [
    "G = networkx.from_pandas_edgelist(df_ds, 'Character', 'Listener', 'Interaction Count')"
   ]
  },
  {
   "cell_type": "code",
   "execution_count": 167,
   "metadata": {},
   "outputs": [],
   "source": [
    "from bokeh.io import output_notebook, show, save\n",
    "from bokeh.models import Range1d, Circle, ColumnDataSource, MultiLine\n",
    "from bokeh.plotting import figure\n",
    "from bokeh.plotting import from_networkx"
   ]
  },
  {
   "cell_type": "code",
   "execution_count": 168,
   "metadata": {},
   "outputs": [
    {
     "data": {
      "text/html": [
       "\n",
       "\n",
       "\n",
       "\n",
       "\n",
       "\n",
       "  <div class=\"bk-root\" id=\"5a8af8af-4341-4f00-9104-ecab5aa8c7b0\" data-root-id=\"16188\"></div>\n"
      ]
     },
     "metadata": {},
     "output_type": "display_data"
    },
    {
     "data": {
      "application/javascript": "(function(root) {\n  function embed_document(root) {\n    \n  var docs_json = {\"15a188e8-360b-4bed-a35e-71353eb3ddf1\":{\"defs\":[],\"roots\":{\"references\":[{\"attributes\":{\"below\":[{\"id\":\"16197\"}],\"center\":[{\"id\":\"16200\"},{\"id\":\"16204\"}],\"left\":[{\"id\":\"16201\"}],\"renderers\":[{\"id\":\"16216\"}],\"title\":{\"id\":\"16189\"},\"toolbar\":{\"id\":\"16210\"},\"x_range\":{\"id\":\"16186\"},\"x_scale\":{\"id\":\"16193\"},\"y_range\":{\"id\":\"16187\"},\"y_scale\":{\"id\":\"16195\"}},\"id\":\"16188\",\"subtype\":\"Figure\",\"type\":\"Plot\"},{\"attributes\":{\"end\":10.1,\"start\":-10.1},\"id\":\"16187\",\"type\":\"Range1d\"},{\"attributes\":{},\"id\":\"16837\",\"type\":\"BasicTickFormatter\"},{\"attributes\":{},\"id\":\"16825\",\"type\":\"NodesOnly\"},{\"attributes\":{},\"id\":\"16842\",\"type\":\"UnionRenderers\"},{\"attributes\":{\"source\":{\"id\":\"16218\"}},\"id\":\"16220\",\"type\":\"CDSView\"},{\"attributes\":{\"line_alpha\":{\"value\":0.5}},\"id\":\"16231\",\"type\":\"MultiLine\"},{\"attributes\":{\"source\":{\"id\":\"16222\"}},\"id\":\"16224\",\"type\":\"CDSView\"},{\"attributes\":{},\"id\":\"16836\",\"type\":\"AllLabels\"},{\"attributes\":{},\"id\":\"16841\",\"type\":\"Selection\"},{\"attributes\":{\"callback\":null,\"tooltips\":[[\"Character\",\"@index\"]]},\"id\":\"16209\",\"type\":\"HoverTool\"},{\"attributes\":{},\"id\":\"16843\",\"type\":\"Selection\"},{\"attributes\":{},\"id\":\"16202\",\"type\":\"BasicTicker\"},{\"attributes\":{\"axis\":{\"id\":\"16201\"},\"dimension\":1,\"ticker\":null},\"id\":\"16204\",\"type\":\"Grid\"},{\"attributes\":{},\"id\":\"16844\",\"type\":\"UnionRenderers\"},{\"attributes\":{\"axis\":{\"id\":\"16197\"},\"ticker\":null},\"id\":\"16200\",\"type\":\"Grid\"},{\"attributes\":{\"formatter\":{\"id\":\"16840\"},\"major_label_policy\":{\"id\":\"16839\"},\"ticker\":{\"id\":\"16198\"}},\"id\":\"16197\",\"type\":\"LinearAxis\"},{\"attributes\":{},\"id\":\"16198\",\"type\":\"BasicTicker\"},{\"attributes\":{},\"id\":\"16826\",\"type\":\"NodesOnly\"},{\"attributes\":{\"formatter\":{\"id\":\"16837\"},\"major_label_policy\":{\"id\":\"16836\"},\"ticker\":{\"id\":\"16202\"}},\"id\":\"16201\",\"type\":\"LinearAxis\"},{\"attributes\":{},\"id\":\"16208\",\"type\":\"ResetTool\"},{\"attributes\":{},\"id\":\"16839\",\"type\":\"AllLabels\"},{\"attributes\":{\"end\":10.1,\"start\":-10.1},\"id\":\"16186\",\"type\":\"Range1d\"},{\"attributes\":{\"graph_layout\":{\"Adler\":[-0.6728586056150422,-2.7557483573055173],\"Albertina\":[-0.5865605423250532,4.513261912939611],\"Fridolin\":[0.8027875210819033,-0.16071641947252813],\"Fuchstaler\":[-3.128370062660285,-1.561988908650295],\"Gentlemen\":[-10.0,0.5624251684385211],\"Gibiser\":[-5.973880657643263,1.0897547676701338],\"Marianne\":[1.2532246183313775,-4.992717888941487],\"Mizzi\":[1.0755998766253567,3.082947020369407],\"Nachtigall\":[-2.719570505417182,0.41725270288643557],\"Pierrette\":[-9.521637550167988,3.098984209783255],\"RedCavalier\":[3.893307798576125,3.4446301650363904],\"Roediger\":[-2.5548184555504134,-3.4633153225347093],\"TWOServants\":[2.18930969263914,4.505869551613496],\"YellowGentlemen\":[5.448412216753794,1.7500130813634114],\"another woman\":[3.795681927851798,1.140325810909286],\"cavalier\":[3.973368983380179,-4.019773250187129],\"cavaliers\":[2.1968965518812156,-3.6264315541564605],\"daughter\":[5.8588142980974744,-1.0091484541543434],\"gentlemen\":[4.267622416841744,-2.128828415964631],\"maid\":[-0.6949925859266428,-4.721041641640129],\"servant\":[-2.5373928234208347,2.6720600712372287],\"unknown\":[-0.4552756484462616,2.6524695333473107],\"woman\":[4.090331535112869,-0.490283782587277]}},\"id\":\"16225\",\"type\":\"StaticLayoutProvider\"},{\"attributes\":{},\"id\":\"16840\",\"type\":\"BasicTickFormatter\"},{\"attributes\":{\"data_source\":{\"id\":\"16222\"},\"glyph\":{\"id\":\"16231\"},\"hover_glyph\":null,\"muted_glyph\":null,\"view\":{\"id\":\"16224\"}},\"id\":\"16223\",\"type\":\"GlyphRenderer\"},{\"attributes\":{\"edge_renderer\":{\"id\":\"16223\"},\"inspection_policy\":{\"id\":\"16825\"},\"layout_provider\":{\"id\":\"16225\"},\"node_renderer\":{\"id\":\"16219\"},\"selection_policy\":{\"id\":\"16826\"}},\"id\":\"16216\",\"type\":\"GraphRenderer\"},{\"attributes\":{\"fill_color\":{\"value\":\"skyblue\"},\"size\":{\"value\":15}},\"id\":\"16226\",\"type\":\"Circle\"},{\"attributes\":{},\"id\":\"16193\",\"type\":\"LinearScale\"},{\"attributes\":{\"data\":{\"index\":[\"Fridolin\",\"daughter\",\"Albertina\",\"Marianne\",\"unknown\",\"Mizzi\",\"Nachtigall\",\"Gibiser\",\"Gentlemen\",\"Pierrette\",\"TWOServants\",\"woman\",\"another woman\",\"cavalier\",\"cavaliers\",\"YellowGentlemen\",\"gentlemen\",\"RedCavalier\",\"servant\",\"maid\",\"Fuchstaler\",\"Roediger\",\"Adler\"]},\"selected\":{\"id\":\"16843\"},\"selection_policy\":{\"id\":\"16844\"}},\"id\":\"16218\",\"type\":\"ColumnDataSource\"},{\"attributes\":{\"active_multi\":null,\"active_scroll\":{\"id\":\"16206\"},\"tools\":[{\"id\":\"16205\"},{\"id\":\"16206\"},{\"id\":\"16207\"},{\"id\":\"16208\"},{\"id\":\"16209\"}]},\"id\":\"16210\",\"type\":\"Toolbar\"},{\"attributes\":{},\"id\":\"16205\",\"type\":\"PanTool\"},{\"attributes\":{\"text\":\"Dream Story Network\"},\"id\":\"16189\",\"type\":\"Title\"},{\"attributes\":{},\"id\":\"16206\",\"type\":\"WheelZoomTool\"},{\"attributes\":{},\"id\":\"16207\",\"type\":\"SaveTool\"},{\"attributes\":{\"data\":{\"Interaction Count\":[2,29,8,2,5,44,17,10,1,17,1,3,3,2,5,2,2,2,1,4,15,1,3,3,1,3],\"end\":[\"daughter\",\"Albertina\",\"Marianne\",\"unknown\",\"Mizzi\",\"Nachtigall\",\"Gibiser\",\"Fridolin\",\"TWOServants\",\"woman\",\"another woman\",\"cavalier\",\"cavaliers\",\"YellowGentlemen\",\"gentlemen\",\"RedCavalier\",\"servant\",\"maid\",\"Fuchstaler\",\"Roediger\",\"Adler\",\"Mizzi\",\"Gentlemen\",\"Pierrette\",\"another woman\",\"gentlemen\"],\"start\":[\"Fridolin\",\"Fridolin\",\"Fridolin\",\"Fridolin\",\"Fridolin\",\"Fridolin\",\"Fridolin\",\"Fridolin\",\"Fridolin\",\"Fridolin\",\"Fridolin\",\"Fridolin\",\"Fridolin\",\"Fridolin\",\"Fridolin\",\"Fridolin\",\"Fridolin\",\"Fridolin\",\"Fridolin\",\"Fridolin\",\"Fridolin\",\"unknown\",\"Gibiser\",\"Gibiser\",\"woman\",\"woman\"]},\"selected\":{\"id\":\"16841\"},\"selection_policy\":{\"id\":\"16842\"}},\"id\":\"16222\",\"type\":\"ColumnDataSource\"},{\"attributes\":{\"data_source\":{\"id\":\"16218\"},\"glyph\":{\"id\":\"16226\"},\"hover_glyph\":null,\"muted_glyph\":null,\"view\":{\"id\":\"16220\"}},\"id\":\"16219\",\"type\":\"GlyphRenderer\"},{\"attributes\":{},\"id\":\"16195\",\"type\":\"LinearScale\"}],\"root_ids\":[\"16188\"]},\"title\":\"Bokeh Application\",\"version\":\"2.3.3\"}};\n  var render_items = [{\"docid\":\"15a188e8-360b-4bed-a35e-71353eb3ddf1\",\"root_ids\":[\"16188\"],\"roots\":{\"16188\":\"5a8af8af-4341-4f00-9104-ecab5aa8c7b0\"}}];\n  root.Bokeh.embed.embed_items_notebook(docs_json, render_items);\n\n  }\n  if (root.Bokeh !== undefined) {\n    embed_document(root);\n  } else {\n    var attempts = 0;\n    var timer = setInterval(function(root) {\n      if (root.Bokeh !== undefined) {\n        clearInterval(timer);\n        embed_document(root);\n      } else {\n        attempts++;\n        if (attempts > 100) {\n          clearInterval(timer);\n          console.log(\"Bokeh: ERROR: Unable to run BokehJS code because BokehJS library is missing\");\n        }\n      }\n    }, 10, root)\n  }\n})(window);",
      "application/vnd.bokehjs_exec.v0+json": ""
     },
     "metadata": {
      "application/vnd.bokehjs_exec.v0+json": {
       "id": "16188"
      }
     },
     "output_type": "display_data"
    }
   ],
   "source": [
    "#Choose a title!\n",
    "title = 'Dream Story Network'\n",
    "\n",
    "#Establish which categories will appear when hovering over each node\n",
    "HOVER_TOOLTIPS = [(\"Character\", \"@index\")]\n",
    "\n",
    "#Create a plot — set dimensions, toolbar, and title\n",
    "plot = figure(tooltips = HOVER_TOOLTIPS,\n",
    "              tools=\"pan,wheel_zoom,save,reset\", active_scroll='wheel_zoom',\n",
    "            x_range=Range1d(-10.1, 10.1), y_range=Range1d(-10.1, 10.1), title=title)\n",
    "\n",
    "#Create a network graph object with spring layout\n",
    "# https://networkx.github.io/documentation/networkx-1.9/reference/generated/networkx.drawing.layout.spring_layout.html\n",
    "network_graph = from_networkx(G, networkx.spring_layout, scale=10, center=(0, 0))\n",
    "\n",
    "#Set node size and color\n",
    "network_graph.node_renderer.glyph = Circle(size=15, fill_color='skyblue')\n",
    "\n",
    "#Set edge opacity and width\n",
    "network_graph.edge_renderer.glyph = MultiLine(line_alpha=0.5, line_width=1)\n",
    "\n",
    "#Add network graph to the plot\n",
    "plot.renderers.append(network_graph)\n",
    "\n",
    "show(plot)\n",
    "#save(plot, filename=f\"{title}.html\")"
   ]
  },
  {
   "cell_type": "code",
   "execution_count": 169,
   "metadata": {},
   "outputs": [],
   "source": [
    "from bokeh.io import output_notebook, show, save\n",
    "from bokeh.models import Range1d, Circle, ColumnDataSource, MultiLine\n",
    "from bokeh.plotting import figure\n",
    "from bokeh.plotting import from_networkx\n",
    "from bokeh.palettes import Blues8, Reds8, Purples8, Oranges8, Viridis8, Spectral8\n",
    "from bokeh.transform import linear_cmap"
   ]
  },
  {
   "cell_type": "code",
   "execution_count": 170,
   "metadata": {},
   "outputs": [],
   "source": [
    "degrees = dict(networkx.degree(G))\n",
    "networkx.set_node_attributes(G, name='degree', values=degrees)"
   ]
  },
  {
   "cell_type": "code",
   "execution_count": 171,
   "metadata": {},
   "outputs": [],
   "source": [
    "number_to_adjust_by = 5\n",
    "adjusted_node_size = dict([(node, degree+number_to_adjust_by) for node, degree in networkx.degree(G)])\n",
    "networkx.set_node_attributes(G, name='adjusted_node_size', values=adjusted_node_size)"
   ]
  },
  {
   "cell_type": "code",
   "execution_count": 172,
   "metadata": {},
   "outputs": [
    {
     "data": {
      "text/html": [
       "\n",
       "\n",
       "\n",
       "\n",
       "\n",
       "\n",
       "  <div class=\"bk-root\" id=\"d77613dd-ca8b-40a5-9eba-ba4ac284558e\" data-root-id=\"16964\"></div>\n"
      ]
     },
     "metadata": {},
     "output_type": "display_data"
    },
    {
     "data": {
      "application/javascript": "(function(root) {\n  function embed_document(root) {\n    \n  var docs_json = {\"877877a4-89ce-45cf-95e7-5a611cbb0c7f\":{\"defs\":[],\"roots\":{\"references\":[{\"attributes\":{\"below\":[{\"id\":\"16973\"}],\"center\":[{\"id\":\"16976\"},{\"id\":\"16980\"}],\"left\":[{\"id\":\"16977\"}],\"renderers\":[{\"id\":\"16992\"}],\"title\":{\"id\":\"16965\"},\"toolbar\":{\"id\":\"16986\"},\"x_range\":{\"id\":\"16962\"},\"x_scale\":{\"id\":\"16969\"},\"y_range\":{\"id\":\"16963\"},\"y_scale\":{\"id\":\"16971\"}},\"id\":\"16964\",\"subtype\":\"Figure\",\"type\":\"Plot\"},{\"attributes\":{\"axis\":{\"id\":\"16973\"},\"ticker\":null},\"id\":\"16976\",\"type\":\"Grid\"},{\"attributes\":{},\"id\":\"17643\",\"type\":\"BasicTickFormatter\"},{\"attributes\":{\"data_source\":{\"id\":\"16994\"},\"glyph\":{\"id\":\"17011\"},\"hover_glyph\":null,\"muted_glyph\":null,\"view\":{\"id\":\"16996\"}},\"id\":\"16995\",\"type\":\"GlyphRenderer\"},{\"attributes\":{},\"id\":\"16981\",\"type\":\"PanTool\"},{\"attributes\":{},\"id\":\"16982\",\"type\":\"WheelZoomTool\"},{\"attributes\":{},\"id\":\"17646\",\"type\":\"BasicTickFormatter\"},{\"attributes\":{},\"id\":\"17645\",\"type\":\"AllLabels\"},{\"attributes\":{},\"id\":\"16983\",\"type\":\"SaveTool\"},{\"attributes\":{\"edge_renderer\":{\"id\":\"16999\"},\"inspection_policy\":{\"id\":\"17631\"},\"layout_provider\":{\"id\":\"17001\"},\"node_renderer\":{\"id\":\"16995\"},\"selection_policy\":{\"id\":\"17632\"}},\"id\":\"16992\",\"type\":\"GraphRenderer\"},{\"attributes\":{\"text\":\"Dream Story Network\"},\"id\":\"16965\",\"type\":\"Title\"},{\"attributes\":{},\"id\":\"17647\",\"type\":\"Selection\"},{\"attributes\":{},\"id\":\"16971\",\"type\":\"LinearScale\"},{\"attributes\":{},\"id\":\"17650\",\"type\":\"UnionRenderers\"},{\"attributes\":{\"graph_layout\":{\"Adler\":[-3.4887615394278657,5.817934348688796],\"Albertina\":[3.0934228324277133,5.164857887594066],\"Fridolin\":[-0.6186423394807817,0.8068633238616146],\"Fuchstaler\":[-1.4696043819897628,4.3091226602390185],\"Gentlemen\":[6.3624784208982055,-10.0],\"Gibiser\":[4.638246003658366,-5.5119720717672624],\"Marianne\":[2.233236059812969,2.9214082404597033],\"Mizzi\":[-3.6599978140873968,-3.9776795425452107],\"Nachtigall\":[-5.402758412867811,-2.1586678111672657],\"Pierrette\":[8.775952209944945,-8.017268367231607],\"RedCavalier\":[4.583846367358634,3.106802953774728],\"Roediger\":[-1.081511499061926,6.5675257222149215],\"TWOServants\":[3.7450828837222327,-1.0688950831663997],\"YellowGentlemen\":[-5.10890829507309,4.268316509407773],\"another woman\":[1.8925968785774387,-2.9529147414923047],\"cavalier\":[1.1092707267207986,6.06641366828253],\"cavaliers\":[4.707384131852466,0.857110644076696],\"daughter\":[-4.077459185687687,1.9357081424955147],\"gentlemen\":[-1.9799578336501416,-2.195823697011783],\"maid\":[-5.980872589188145,-0.18073159284852994],\"servant\":[-6.393891168685237,2.081185957587244],\"unknown\":[-1.895367040369496,-4.761801689999706],\"woman\":[0.01621558459555596,-3.077495461452523]}},\"id\":\"17001\",\"type\":\"StaticLayoutProvider\"},{\"attributes\":{\"data_source\":{\"id\":\"16998\"},\"glyph\":{\"id\":\"17016\"},\"hover_glyph\":null,\"muted_glyph\":null,\"view\":{\"id\":\"17000\"}},\"id\":\"16999\",\"type\":\"GlyphRenderer\"},{\"attributes\":{\"line_alpha\":{\"value\":0.5}},\"id\":\"17016\",\"type\":\"MultiLine\"},{\"attributes\":{},\"id\":\"16969\",\"type\":\"LinearScale\"},{\"attributes\":{\"active_multi\":null,\"active_scroll\":{\"id\":\"16982\"},\"tools\":[{\"id\":\"16981\"},{\"id\":\"16982\"},{\"id\":\"16983\"},{\"id\":\"16984\"},{\"id\":\"16985\"}]},\"id\":\"16986\",\"type\":\"Toolbar\"},{\"attributes\":{\"end\":10.1,\"start\":-10.1},\"id\":\"16962\",\"type\":\"Range1d\"},{\"attributes\":{\"callback\":null,\"tooltips\":[[\"Character\",\"@index\"],[\"Interactions\",\"@degree\"]]},\"id\":\"16985\",\"type\":\"HoverTool\"},{\"attributes\":{},\"id\":\"16974\",\"type\":\"BasicTicker\"},{\"attributes\":{\"formatter\":{\"id\":\"17643\"},\"major_label_policy\":{\"id\":\"17642\"},\"ticker\":{\"id\":\"16978\"}},\"id\":\"16977\",\"type\":\"LinearAxis\"},{\"attributes\":{\"data\":{\"Interaction Count\":[2,29,8,2,5,44,17,10,1,17,1,3,3,2,5,2,2,2,1,4,15,1,3,3,1,3],\"end\":[\"daughter\",\"Albertina\",\"Marianne\",\"unknown\",\"Mizzi\",\"Nachtigall\",\"Gibiser\",\"Fridolin\",\"TWOServants\",\"woman\",\"another woman\",\"cavalier\",\"cavaliers\",\"YellowGentlemen\",\"gentlemen\",\"RedCavalier\",\"servant\",\"maid\",\"Fuchstaler\",\"Roediger\",\"Adler\",\"Mizzi\",\"Gentlemen\",\"Pierrette\",\"another woman\",\"gentlemen\"],\"start\":[\"Fridolin\",\"Fridolin\",\"Fridolin\",\"Fridolin\",\"Fridolin\",\"Fridolin\",\"Fridolin\",\"Fridolin\",\"Fridolin\",\"Fridolin\",\"Fridolin\",\"Fridolin\",\"Fridolin\",\"Fridolin\",\"Fridolin\",\"Fridolin\",\"Fridolin\",\"Fridolin\",\"Fridolin\",\"Fridolin\",\"Fridolin\",\"unknown\",\"Gibiser\",\"Gibiser\",\"woman\",\"woman\"]},\"selected\":{\"id\":\"17647\"},\"selection_policy\":{\"id\":\"17648\"}},\"id\":\"16998\",\"type\":\"ColumnDataSource\"},{\"attributes\":{\"data\":{\"adjusted_node_size\":[27,6,6,6,7,7,6,8,6,6,6,8,7,6,6,6,7,6,6,6,6,6,6],\"degree\":[22,1,1,1,2,2,1,3,1,1,1,3,2,1,1,1,2,1,1,1,1,1,1],\"index\":[\"Fridolin\",\"daughter\",\"Albertina\",\"Marianne\",\"unknown\",\"Mizzi\",\"Nachtigall\",\"Gibiser\",\"Gentlemen\",\"Pierrette\",\"TWOServants\",\"woman\",\"another woman\",\"cavalier\",\"cavaliers\",\"YellowGentlemen\",\"gentlemen\",\"RedCavalier\",\"servant\",\"maid\",\"Fuchstaler\",\"Roediger\",\"Adler\"]},\"selected\":{\"id\":\"17649\"},\"selection_policy\":{\"id\":\"17650\"}},\"id\":\"16994\",\"type\":\"ColumnDataSource\"},{\"attributes\":{\"source\":{\"id\":\"16994\"}},\"id\":\"16996\",\"type\":\"CDSView\"},{\"attributes\":{},\"id\":\"17649\",\"type\":\"Selection\"},{\"attributes\":{},\"id\":\"17631\",\"type\":\"NodesOnly\"},{\"attributes\":{\"source\":{\"id\":\"16998\"}},\"id\":\"17000\",\"type\":\"CDSView\"},{\"attributes\":{\"fill_color\":{\"field\":\"adjusted_node_size\",\"transform\":{\"id\":\"17010\"}},\"size\":{\"field\":\"adjusted_node_size\"}},\"id\":\"17011\",\"type\":\"Circle\"},{\"attributes\":{},\"id\":\"17648\",\"type\":\"UnionRenderers\"},{\"attributes\":{},\"id\":\"16984\",\"type\":\"ResetTool\"},{\"attributes\":{\"high\":27,\"low\":6,\"palette\":[\"#084594\",\"#2171b5\",\"#4292c6\",\"#6baed6\",\"#9ecae1\",\"#c6dbef\",\"#deebf7\",\"#f7fbff\"]},\"id\":\"17010\",\"type\":\"LinearColorMapper\"},{\"attributes\":{\"formatter\":{\"id\":\"17646\"},\"major_label_policy\":{\"id\":\"17645\"},\"ticker\":{\"id\":\"16974\"}},\"id\":\"16973\",\"type\":\"LinearAxis\"},{\"attributes\":{\"end\":10.1,\"start\":-10.1},\"id\":\"16963\",\"type\":\"Range1d\"},{\"attributes\":{},\"id\":\"17632\",\"type\":\"NodesOnly\"},{\"attributes\":{},\"id\":\"16978\",\"type\":\"BasicTicker\"},{\"attributes\":{\"axis\":{\"id\":\"16977\"},\"dimension\":1,\"ticker\":null},\"id\":\"16980\",\"type\":\"Grid\"},{\"attributes\":{},\"id\":\"17642\",\"type\":\"AllLabels\"}],\"root_ids\":[\"16964\"]},\"title\":\"Bokeh Application\",\"version\":\"2.3.3\"}};\n  var render_items = [{\"docid\":\"877877a4-89ce-45cf-95e7-5a611cbb0c7f\",\"root_ids\":[\"16964\"],\"roots\":{\"16964\":\"d77613dd-ca8b-40a5-9eba-ba4ac284558e\"}}];\n  root.Bokeh.embed.embed_items_notebook(docs_json, render_items);\n\n  }\n  if (root.Bokeh !== undefined) {\n    embed_document(root);\n  } else {\n    var attempts = 0;\n    var timer = setInterval(function(root) {\n      if (root.Bokeh !== undefined) {\n        clearInterval(timer);\n        embed_document(root);\n      } else {\n        attempts++;\n        if (attempts > 100) {\n          clearInterval(timer);\n          console.log(\"Bokeh: ERROR: Unable to run BokehJS code because BokehJS library is missing\");\n        }\n      }\n    }, 10, root)\n  }\n})(window);",
      "application/vnd.bokehjs_exec.v0+json": ""
     },
     "metadata": {
      "application/vnd.bokehjs_exec.v0+json": {
       "id": "16964"
      }
     },
     "output_type": "display_data"
    }
   ],
   "source": [
    "#Choose attributes from G network to size and color by — setting manual size (e.g. 10) or color (e.g. 'skyblue') also allowed\n",
    "size_by_this_attribute = 'adjusted_node_size'\n",
    "color_by_this_attribute = 'adjusted_node_size'\n",
    "\n",
    "#Pick a color palette — Blues8, Reds8, Purples8, Oranges8, Viridis8\n",
    "color_palette = Blues8\n",
    "\n",
    "#Choose a title!\n",
    "title = 'Dream Story Network'\n",
    "\n",
    "#Establish which categories will appear when hovering over each node\n",
    "HOVER_TOOLTIPS = [\n",
    "       (\"Character\", \"@index\"),\n",
    "        (\"Interactions\", \"@degree\")\n",
    "]\n",
    "\n",
    "#Create a plot — set dimensions, toolbar, and title\n",
    "plot = figure(tooltips = HOVER_TOOLTIPS,\n",
    "              tools=\"pan,wheel_zoom,save,reset\", active_scroll='wheel_zoom',\n",
    "            x_range=Range1d(-10.1, 10.1), y_range=Range1d(-10.1, 10.1), title=title)\n",
    "\n",
    "#Create a network graph object\n",
    "# https://networkx.github.io/documentation/networkx-1.9/reference/generated/networkx.drawing.layout.spring_layout.html\\\n",
    "network_graph = from_networkx(G, networkx.spring_layout, scale=10, center=(0, 0))\n",
    "\n",
    "#Set node sizes and colors according to node degree (color as spectrum of color palette)\n",
    "minimum_value_color = min(network_graph.node_renderer.data_source.data[color_by_this_attribute])\n",
    "maximum_value_color = max(network_graph.node_renderer.data_source.data[color_by_this_attribute])\n",
    "network_graph.node_renderer.glyph = Circle(size=size_by_this_attribute, fill_color=linear_cmap(color_by_this_attribute, color_palette, minimum_value_color, maximum_value_color))\n",
    "\n",
    "#Set edge opacity and width\n",
    "network_graph.edge_renderer.glyph = MultiLine(line_alpha=0.5, line_width=1)\n",
    "\n",
    "plot.renderers.append(network_graph)\n",
    "\n",
    "show(plot)\n",
    "#save(plot, filename=f\"{title}.html\")"
   ]
  },
  {
   "cell_type": "code",
   "execution_count": 173,
   "metadata": {},
   "outputs": [],
   "source": [
    "from bokeh.io import output_notebook, show, save\n",
    "from bokeh.models import Range1d, Circle, ColumnDataSource, MultiLine\n",
    "from bokeh.plotting import figure\n",
    "from bokeh.plotting import from_networkx\n",
    "from bokeh.palettes import Blues8, Reds8, Purples8, Oranges8, Viridis8, Spectral8\n",
    "from bokeh.transform import linear_cmap\n",
    "from networkx.algorithms import community"
   ]
  },
  {
   "cell_type": "code",
   "execution_count": 174,
   "metadata": {},
   "outputs": [],
   "source": [
    "degrees = dict(networkx.degree(G))\n",
    "networkx.set_node_attributes(G, name='degree', values=degrees)"
   ]
  },
  {
   "cell_type": "code",
   "execution_count": 175,
   "metadata": {},
   "outputs": [],
   "source": [
    "number_to_adjust_by = 5\n",
    "adjusted_node_size = dict([(node, degree+number_to_adjust_by) for node, degree in networkx.degree(G)])\n",
    "networkx.set_node_attributes(G, name='adjusted_node_size', values=adjusted_node_size)"
   ]
  },
  {
   "cell_type": "code",
   "execution_count": 176,
   "metadata": {},
   "outputs": [],
   "source": [
    "communities = community.greedy_modularity_communities(G)"
   ]
  },
  {
   "cell_type": "code",
   "execution_count": 177,
   "metadata": {},
   "outputs": [],
   "source": [
    "# Create empty dictionaries\n",
    "modularity_class = {}\n",
    "modularity_color = {}\n",
    "#Loop through each community in the network\n",
    "for community_number, community in enumerate(communities):\n",
    "    #For each member of the community, add their community number and a distinct color\n",
    "    for name in community: \n",
    "        modularity_class[name] = community_number\n",
    "        modularity_color[name] = Spectral8[community_number]"
   ]
  },
  {
   "cell_type": "code",
   "execution_count": 178,
   "metadata": {},
   "outputs": [],
   "source": [
    "# Add modularity class and color as attributes from the network above\n",
    "networkx.set_node_attributes(G, modularity_class, 'modularity_class')\n",
    "networkx.set_node_attributes(G, modularity_color, 'modularity_color')"
   ]
  },
  {
   "cell_type": "code",
   "execution_count": 179,
   "metadata": {},
   "outputs": [
    {
     "data": {
      "text/html": [
       "\n",
       "\n",
       "\n",
       "\n",
       "\n",
       "\n",
       "  <div class=\"bk-root\" id=\"f5c335cc-b6cc-4575-81d9-acf8423d241a\" data-root-id=\"17770\"></div>\n"
      ]
     },
     "metadata": {},
     "output_type": "display_data"
    },
    {
     "data": {
      "application/javascript": "(function(root) {\n  function embed_document(root) {\n    \n  var docs_json = {\"cb39eff9-21fb-4839-92be-5103b350a27f\":{\"defs\":[],\"roots\":{\"references\":[{\"attributes\":{\"below\":[{\"id\":\"17779\"}],\"center\":[{\"id\":\"17782\"},{\"id\":\"17786\"}],\"left\":[{\"id\":\"17783\"}],\"renderers\":[{\"id\":\"17800\"}],\"title\":{\"id\":\"17771\"},\"toolbar\":{\"id\":\"17793\"},\"x_range\":{\"id\":\"17768\"},\"x_scale\":{\"id\":\"17775\"},\"y_range\":{\"id\":\"17769\"},\"y_scale\":{\"id\":\"17777\"}},\"id\":\"17770\",\"subtype\":\"Figure\",\"type\":\"Plot\"},{\"attributes\":{\"active_multi\":null,\"active_scroll\":{\"id\":\"17788\"},\"tools\":[{\"id\":\"17787\"},{\"id\":\"17788\"},{\"id\":\"17789\"},{\"id\":\"17790\"},{\"id\":\"17791\"},{\"id\":\"17792\"}]},\"id\":\"17793\",\"type\":\"Toolbar\"},{\"attributes\":{\"graph_layout\":{\"Adler\":[-0.758147682765482,3.018269933153942],\"Albertina\":[1.5641427475394454,3.078309133258551],\"Fridolin\":[-0.006398602268730743,-0.8190451807938293],\"Fuchstaler\":[3.934242200338942,-3.88802226723866],\"Gentlemen\":[1.4201804371721456,9.960178661154124],\"Gibiser\":[0.05375935807306987,6.110164231896783],\"Marianne\":[-4.457216710415107,0.4635200832303701],\"Mizzi\":[2.4882907386850333,1.3061853160669634],\"Nachtigall\":[-2.0748657303742286,1.5738284710092463],\"Pierrette\":[-1.187674372701985,10.0],\"RedCavalier\":[-4.2105232896847,-3.384663543935484],\"Roediger\":[0.004732791282519228,-5.720273068680712],\"TWOServants\":[-2.8634902028135216,-1.5571350695790616],\"YellowGentlemen\":[4.6092412577177315,-1.8601353074408429],\"another woman\":[1.9948916802290095,-5.22752542603087],\"cavalier\":[-4.869780256041952,-1.4550879222376478],\"cavaliers\":[-1.500403948100067,-5.095778899797499],\"daughter\":[-3.6214087783670155,2.3169507514257486],\"gentlemen\":[2.437307596254579,-2.4725619307485043],\"maid\":[-2.7767291976248316,-4.247844731726156],\"servant\":[4.557282771637791,-0.08014771024099597],\"unknown\":[3.831503454283502,1.7762200710041511],\"woman\":[1.4310637379438513,-3.7954055937496314]}},\"id\":\"17809\",\"type\":\"StaticLayoutProvider\"},{\"attributes\":{\"formatter\":{\"id\":\"18466\"},\"major_label_policy\":{\"id\":\"18465\"},\"ticker\":{\"id\":\"17780\"}},\"id\":\"17779\",\"type\":\"LinearAxis\"},{\"attributes\":{},\"id\":\"18451\",\"type\":\"NodesOnly\"},{\"attributes\":{\"formatter\":{\"id\":\"18463\"},\"major_label_policy\":{\"id\":\"18462\"},\"ticker\":{\"id\":\"17784\"}},\"id\":\"17783\",\"type\":\"LinearAxis\"},{\"attributes\":{\"edge_renderer\":{\"id\":\"17807\"},\"inspection_policy\":{\"id\":\"18451\"},\"layout_provider\":{\"id\":\"17809\"},\"node_renderer\":{\"id\":\"17803\"},\"selection_policy\":{\"id\":\"18452\"}},\"id\":\"17800\",\"type\":\"GraphRenderer\"},{\"attributes\":{},\"id\":\"18452\",\"type\":\"NodesOnly\"},{\"attributes\":{},\"id\":\"17780\",\"type\":\"BasicTicker\"},{\"attributes\":{\"end\":10.1,\"start\":-10.1},\"id\":\"17769\",\"type\":\"Range1d\"},{\"attributes\":{\"source\":{\"id\":\"17806\"}},\"id\":\"17808\",\"type\":\"CDSView\"},{\"attributes\":{},\"id\":\"17777\",\"type\":\"LinearScale\"},{\"attributes\":{\"line_alpha\":{\"value\":0.5}},\"id\":\"17815\",\"type\":\"MultiLine\"},{\"attributes\":{\"data_source\":{\"id\":\"17802\"},\"glyph\":{\"id\":\"17810\"},\"hover_glyph\":null,\"muted_glyph\":null,\"view\":{\"id\":\"17804\"}},\"id\":\"17803\",\"type\":\"GlyphRenderer\"},{\"attributes\":{\"data\":{\"adjusted_node_size\":[27,6,6,6,7,7,6,8,6,6,6,8,7,6,6,6,7,6,6,6,6,6,6],\"degree\":[22,1,1,1,2,2,1,3,1,1,1,3,2,1,1,1,2,1,1,1,1,1,1],\"index\":[\"Fridolin\",\"daughter\",\"Albertina\",\"Marianne\",\"unknown\",\"Mizzi\",\"Nachtigall\",\"Gibiser\",\"Gentlemen\",\"Pierrette\",\"TWOServants\",\"woman\",\"another woman\",\"cavalier\",\"cavaliers\",\"YellowGentlemen\",\"gentlemen\",\"RedCavalier\",\"servant\",\"maid\",\"Fuchstaler\",\"Roediger\",\"Adler\"],\"modularity_class\":[0,0,0,0,3,3,0,1,1,1,0,2,2,0,0,0,2,0,0,0,0,0,0],\"modularity_color\":[\"#3288bd\",\"#3288bd\",\"#3288bd\",\"#3288bd\",\"#e6f598\",\"#e6f598\",\"#3288bd\",\"#66c2a5\",\"#66c2a5\",\"#66c2a5\",\"#3288bd\",\"#abdda4\",\"#abdda4\",\"#3288bd\",\"#3288bd\",\"#3288bd\",\"#abdda4\",\"#3288bd\",\"#3288bd\",\"#3288bd\",\"#3288bd\",\"#3288bd\",\"#3288bd\"]},\"selected\":{\"id\":\"18469\"},\"selection_policy\":{\"id\":\"18470\"}},\"id\":\"17802\",\"type\":\"ColumnDataSource\"},{\"attributes\":{\"fill_color\":{\"field\":\"modularity_color\"},\"size\":{\"field\":\"adjusted_node_size\"}},\"id\":\"17810\",\"type\":\"Circle\"},{\"attributes\":{\"end\":10.1,\"start\":-10.1},\"id\":\"17768\",\"type\":\"Range1d\"},{\"attributes\":{\"source\":{\"id\":\"17802\"}},\"id\":\"17804\",\"type\":\"CDSView\"},{\"attributes\":{},\"id\":\"18463\",\"type\":\"BasicTickFormatter\"},{\"attributes\":{\"axis\":{\"id\":\"17779\"},\"ticker\":null},\"id\":\"17782\",\"type\":\"Grid\"},{\"attributes\":{\"data\":{\"Interaction Count\":[2,29,8,2,5,44,17,10,1,17,1,3,3,2,5,2,2,2,1,4,15,1,3,3,1,3],\"end\":[\"daughter\",\"Albertina\",\"Marianne\",\"unknown\",\"Mizzi\",\"Nachtigall\",\"Gibiser\",\"Fridolin\",\"TWOServants\",\"woman\",\"another woman\",\"cavalier\",\"cavaliers\",\"YellowGentlemen\",\"gentlemen\",\"RedCavalier\",\"servant\",\"maid\",\"Fuchstaler\",\"Roediger\",\"Adler\",\"Mizzi\",\"Gentlemen\",\"Pierrette\",\"another woman\",\"gentlemen\"],\"start\":[\"Fridolin\",\"Fridolin\",\"Fridolin\",\"Fridolin\",\"Fridolin\",\"Fridolin\",\"Fridolin\",\"Fridolin\",\"Fridolin\",\"Fridolin\",\"Fridolin\",\"Fridolin\",\"Fridolin\",\"Fridolin\",\"Fridolin\",\"Fridolin\",\"Fridolin\",\"Fridolin\",\"Fridolin\",\"Fridolin\",\"Fridolin\",\"unknown\",\"Gibiser\",\"Gibiser\",\"woman\",\"woman\"]},\"selected\":{\"id\":\"18467\"},\"selection_policy\":{\"id\":\"18468\"}},\"id\":\"17806\",\"type\":\"ColumnDataSource\"},{\"attributes\":{},\"id\":\"17790\",\"type\":\"ResetTool\"},{\"attributes\":{},\"id\":\"18462\",\"type\":\"AllLabels\"},{\"attributes\":{},\"id\":\"17789\",\"type\":\"SaveTool\"},{\"attributes\":{},\"id\":\"17787\",\"type\":\"PanTool\"},{\"attributes\":{},\"id\":\"18467\",\"type\":\"Selection\"},{\"attributes\":{},\"id\":\"17788\",\"type\":\"WheelZoomTool\"},{\"attributes\":{\"data_source\":{\"id\":\"17806\"},\"glyph\":{\"id\":\"17815\"},\"hover_glyph\":null,\"muted_glyph\":null,\"view\":{\"id\":\"17808\"}},\"id\":\"17807\",\"type\":\"GlyphRenderer\"},{\"attributes\":{\"callback\":null},\"id\":\"17791\",\"type\":\"TapTool\"},{\"attributes\":{},\"id\":\"17784\",\"type\":\"BasicTicker\"},{\"attributes\":{},\"id\":\"18468\",\"type\":\"UnionRenderers\"},{\"attributes\":{},\"id\":\"18466\",\"type\":\"BasicTickFormatter\"},{\"attributes\":{\"callback\":null,\"tooltips\":[[\"Character\",\"@index\"],[\"Interactions\",\"@degree\"],[\"Modularity Class\",\"@modularity_class\"],[\"Modularity Color\",\"$color[swatch]:modularity_color\"]]},\"id\":\"17792\",\"type\":\"HoverTool\"},{\"attributes\":{\"axis\":{\"id\":\"17783\"},\"dimension\":1,\"ticker\":null},\"id\":\"17786\",\"type\":\"Grid\"},{\"attributes\":{},\"id\":\"17775\",\"type\":\"LinearScale\"},{\"attributes\":{},\"id\":\"18469\",\"type\":\"Selection\"},{\"attributes\":{},\"id\":\"18470\",\"type\":\"UnionRenderers\"},{\"attributes\":{},\"id\":\"18465\",\"type\":\"AllLabels\"},{\"attributes\":{\"text\":\"Dream Story Network\"},\"id\":\"17771\",\"type\":\"Title\"}],\"root_ids\":[\"17770\"]},\"title\":\"Bokeh Application\",\"version\":\"2.3.3\"}};\n  var render_items = [{\"docid\":\"cb39eff9-21fb-4839-92be-5103b350a27f\",\"root_ids\":[\"17770\"],\"roots\":{\"17770\":\"f5c335cc-b6cc-4575-81d9-acf8423d241a\"}}];\n  root.Bokeh.embed.embed_items_notebook(docs_json, render_items);\n\n  }\n  if (root.Bokeh !== undefined) {\n    embed_document(root);\n  } else {\n    var attempts = 0;\n    var timer = setInterval(function(root) {\n      if (root.Bokeh !== undefined) {\n        clearInterval(timer);\n        embed_document(root);\n      } else {\n        attempts++;\n        if (attempts > 100) {\n          clearInterval(timer);\n          console.log(\"Bokeh: ERROR: Unable to run BokehJS code because BokehJS library is missing\");\n        }\n      }\n    }, 10, root)\n  }\n})(window);",
      "application/vnd.bokehjs_exec.v0+json": ""
     },
     "metadata": {
      "application/vnd.bokehjs_exec.v0+json": {
       "id": "17770"
      }
     },
     "output_type": "display_data"
    }
   ],
   "source": [
    "#Choose attributes from G network to size and color by — setting manual size (e.g. 10) or color (e.g. 'skyblue') also allowed\n",
    "size_by_this_attribute = 'adjusted_node_size'\n",
    "color_by_this_attribute = 'modularity_color'\n",
    "#Pick a color palette — Blues8, Reds8, Purples8, Oranges8, Viridis8\n",
    "color_palette = Blues8\n",
    "#Choose a title!\n",
    "title = 'Dream Story Network'\n",
    "\n",
    "#Establish which categories will appear when hovering over each node\n",
    "HOVER_TOOLTIPS = [\n",
    "       (\"Character\", \"@index\"),\n",
    "        (\"Interactions\", \"@degree\"),\n",
    "         (\"Modularity Class\", \"@modularity_class\"),\n",
    "        (\"Modularity Color\", \"$color[swatch]:modularity_color\"),\n",
    "]\n",
    "\n",
    "#Create a plot — set dimensions, toolbar, and title\n",
    "plot = figure(tooltips = HOVER_TOOLTIPS,\n",
    "              tools=\"pan,wheel_zoom,save,reset, tap\", active_scroll='wheel_zoom',\n",
    "            x_range=Range1d(-10.1, 10.1), y_range=Range1d(-10.1, 10.1), title=title)\n",
    "\n",
    "#Create a network graph object\n",
    "# https://networkx.github.io/documentation/networkx-1.9/reference/generated/networkx.drawing.layout.spring_layout.html\n",
    "network_graph = from_networkx(G, networkx.spring_layout, scale=10, center=(0, 0))\n",
    "\n",
    "#Set node sizes and colors according to node degree (color as category from attribute)\n",
    "network_graph.node_renderer.glyph = Circle(size=size_by_this_attribute, fill_color=color_by_this_attribute)\n",
    "\n",
    "#Set edge opacity and width\n",
    "network_graph.edge_renderer.glyph = MultiLine(line_alpha=0.5, line_width=1)\n",
    "\n",
    "plot.renderers.append(network_graph)\n",
    "\n",
    "show(plot)\n",
    "#save(plot, filename=f\"{title}.html\")"
   ]
  },
  {
   "cell_type": "code",
   "execution_count": 180,
   "metadata": {},
   "outputs": [],
   "source": [
    "from bokeh.io import output_notebook, show, save\n",
    "from bokeh.models import Range1d, Circle, ColumnDataSource, MultiLine, EdgesAndLinkedNodes, NodesAndLinkedEdges, LabelSet\n",
    "from bokeh.plotting import figure\n",
    "from bokeh.plotting import from_networkx\n",
    "from bokeh.palettes import Blues8, Reds8, Purples8, Oranges8, Viridis8, Spectral8\n",
    "from bokeh.transform import linear_cmap\n",
    "from networkx.algorithms import community"
   ]
  },
  {
   "cell_type": "code",
   "execution_count": 181,
   "metadata": {},
   "outputs": [],
   "source": [
    "degrees = dict(networkx.degree(G))\n",
    "networkx.set_node_attributes(G, name='degree', values=degrees)"
   ]
  },
  {
   "cell_type": "code",
   "execution_count": 182,
   "metadata": {},
   "outputs": [],
   "source": [
    "number_to_adjust_by = 5\n",
    "adjusted_node_size = dict([(node, degree+number_to_adjust_by) for node, degree in networkx.degree(G)])\n",
    "networkx.set_node_attributes(G, name='adjusted_node_size', values=adjusted_node_size)"
   ]
  },
  {
   "cell_type": "code",
   "execution_count": 183,
   "metadata": {},
   "outputs": [],
   "source": [
    "communities = community.greedy_modularity_communities(G)"
   ]
  },
  {
   "cell_type": "code",
   "execution_count": 185,
   "metadata": {},
   "outputs": [
    {
     "data": {
      "text/html": [
       "\n",
       "\n",
       "\n",
       "\n",
       "\n",
       "\n",
       "  <div class=\"bk-root\" id=\"237e0941-f765-4daf-85c9-9bbd7086186d\" data-root-id=\"19700\"></div>\n"
      ]
     },
     "metadata": {},
     "output_type": "display_data"
    },
    {
     "data": {
      "application/javascript": "(function(root) {\n  function embed_document(root) {\n    \n  var docs_json = {\"4792ac0c-3077-4ff9-a4f0-0d0b4daeb0f6\":{\"defs\":[],\"roots\":{\"references\":[{\"attributes\":{\"below\":[{\"id\":\"19709\"}],\"center\":[{\"id\":\"19712\"},{\"id\":\"19716\"}],\"height\":20,\"left\":[{\"id\":\"19713\"}],\"renderers\":[{\"id\":\"19728\"},{\"id\":\"19773\"}],\"sizing_mode\":\"scale_width\",\"title\":{\"id\":\"19701\"},\"toolbar\":{\"id\":\"19722\"},\"width\":10,\"x_range\":{\"id\":\"19698\"},\"x_scale\":{\"id\":\"19705\"},\"y_range\":{\"id\":\"19699\"},\"y_scale\":{\"id\":\"19707\"}},\"id\":\"19700\",\"subtype\":\"Figure\",\"type\":\"Plot\"},{\"attributes\":{\"data\":{\"name\":[\"Fridolin\",\"daughter\",\"Albertina\",\"Marianne\",\"unknown\",\"Mizzi\",\"Nachtigall\",\"Gibiser\",\"Gentlemen\",\"Pierrette\",\"TWOServants\",\"woman\",\"another woman\",\"cavalier\",\"cavaliers\",\"YellowGentlemen\",\"gentlemen\",\"RedCavalier\",\"servant\",\"maid\",\"Fuchstaler\",\"Roediger\",\"Adler\"],\"x\":[-0.7314152919211467,-0.4406368659768386,-1.1371465486907257,-3.3110476267860602,-1.4509862479110862,-1.3016924014380922,-3.696477027768474,5.619314832063728,8.407750676991538,10.0,0.9650067201367508,-4.474562464202546,-3.598668639995605,3.499661920844631,-6.455905774002544,1.3263736397550256,-4.401242073978294,3.1446909484796595,4.400975496797326,2.305338034502705,-5.565821829218506,2.2567332068582293,-5.360242684539651],\"y\":[-0.5224528018830046,-4.047834390848252,-6.024618311434792,-5.333576802597534,4.637190896295609,3.012207580991174,3.823421280998481,3.887040232539315,7.555249234522112,5.134313693422307,4.1150093248058,-1.3340080245043862,-3.0184144151983543,0.35682987658179327,-0.3318698677417041,-5.490622834003816,0.5872756428589205,-4.203594765690345,-1.7954737063332122,2.2897330876812076,-3.55816190675357,-2.222148910015753,2.484505886308032]},\"selected\":{\"id\":\"20462\"},\"selection_policy\":{\"id\":\"20463\"}},\"id\":\"19772\",\"type\":\"ColumnDataSource\"},{\"attributes\":{\"source\":{\"id\":\"19730\"}},\"id\":\"19732\",\"type\":\"CDSView\"},{\"attributes\":{\"line_width\":{\"value\":2}},\"id\":\"19758\",\"type\":\"MultiLine\"},{\"attributes\":{},\"id\":\"19705\",\"type\":\"LinearScale\"},{\"attributes\":{},\"id\":\"20465\",\"type\":\"UnionRenderers\"},{\"attributes\":{\"edge_renderer\":{\"id\":\"19735\"},\"inspection_policy\":{\"id\":\"19770\"},\"layout_provider\":{\"id\":\"19737\"},\"node_renderer\":{\"id\":\"19731\"},\"selection_policy\":{\"id\":\"19768\"}},\"id\":\"19728\",\"type\":\"GraphRenderer\"},{\"attributes\":{},\"id\":\"19720\",\"type\":\"ResetTool\"},{\"attributes\":{\"source\":{\"id\":\"19734\"}},\"id\":\"19736\",\"type\":\"CDSView\"},{\"attributes\":{\"text\":\"Dream Story Network\"},\"id\":\"19701\",\"type\":\"Title\"},{\"attributes\":{},\"id\":\"19719\",\"type\":\"SaveTool\"},{\"attributes\":{\"data_source\":{\"id\":\"19734\"},\"glyph\":{\"id\":\"19753\"},\"hover_glyph\":{\"id\":\"19763\"},\"muted_glyph\":null,\"selection_glyph\":{\"id\":\"19758\"},\"view\":{\"id\":\"19736\"}},\"id\":\"19735\",\"type\":\"GlyphRenderer\"},{\"attributes\":{\"end\":10.1,\"start\":-10.1},\"id\":\"19699\",\"type\":\"Range1d\"},{\"attributes\":{},\"id\":\"19717\",\"type\":\"PanTool\"},{\"attributes\":{\"data_source\":{\"id\":\"19730\"},\"glyph\":{\"id\":\"19738\"},\"hover_glyph\":{\"id\":\"19743\"},\"muted_glyph\":null,\"selection_glyph\":{\"id\":\"19748\"},\"view\":{\"id\":\"19732\"}},\"id\":\"19731\",\"type\":\"GlyphRenderer\"},{\"attributes\":{\"fill_color\":{\"field\":\"modularity_color\"},\"size\":{\"field\":\"adjusted_node_size\"}},\"id\":\"19738\",\"type\":\"Circle\"},{\"attributes\":{},\"id\":\"19718\",\"type\":\"WheelZoomTool\"},{\"attributes\":{\"line_width\":{\"value\":2}},\"id\":\"19763\",\"type\":\"MultiLine\"},{\"attributes\":{\"callback\":null,\"tooltips\":[[\"Character\",\"@index\"],[\"Interactions\",\"@degree\"],[\"Modularity Class\",\"@modularity_class\"],[\"Modularity Color\",\"$color[swatch]:modularity_color\"]]},\"id\":\"19721\",\"type\":\"HoverTool\"},{\"attributes\":{},\"id\":\"19714\",\"type\":\"BasicTicker\"},{\"attributes\":{\"axis\":{\"id\":\"19713\"},\"dimension\":1,\"ticker\":null},\"id\":\"19716\",\"type\":\"Grid\"},{\"attributes\":{},\"id\":\"20464\",\"type\":\"Selection\"},{\"attributes\":{},\"id\":\"19770\",\"type\":\"NodesAndLinkedEdges\"},{\"attributes\":{\"axis\":{\"id\":\"19709\"},\"ticker\":null},\"id\":\"19712\",\"type\":\"Grid\"},{\"attributes\":{\"formatter\":{\"id\":\"20458\"},\"major_label_policy\":{\"id\":\"20457\"},\"ticker\":{\"id\":\"19714\"}},\"id\":\"19713\",\"type\":\"LinearAxis\"},{\"attributes\":{\"formatter\":{\"id\":\"20461\"},\"major_label_policy\":{\"id\":\"20460\"},\"ticker\":{\"id\":\"19710\"}},\"id\":\"19709\",\"type\":\"LinearAxis\"},{\"attributes\":{\"data\":{\"Interaction Count\":[2,29,8,2,5,44,17,10,1,17,1,3,3,2,5,2,2,2,1,4,15,1,3,3,1,3],\"end\":[\"daughter\",\"Albertina\",\"Marianne\",\"unknown\",\"Mizzi\",\"Nachtigall\",\"Gibiser\",\"Fridolin\",\"TWOServants\",\"woman\",\"another woman\",\"cavalier\",\"cavaliers\",\"YellowGentlemen\",\"gentlemen\",\"RedCavalier\",\"servant\",\"maid\",\"Fuchstaler\",\"Roediger\",\"Adler\",\"Mizzi\",\"Gentlemen\",\"Pierrette\",\"another woman\",\"gentlemen\"],\"start\":[\"Fridolin\",\"Fridolin\",\"Fridolin\",\"Fridolin\",\"Fridolin\",\"Fridolin\",\"Fridolin\",\"Fridolin\",\"Fridolin\",\"Fridolin\",\"Fridolin\",\"Fridolin\",\"Fridolin\",\"Fridolin\",\"Fridolin\",\"Fridolin\",\"Fridolin\",\"Fridolin\",\"Fridolin\",\"Fridolin\",\"Fridolin\",\"unknown\",\"Gibiser\",\"Gibiser\",\"woman\",\"woman\"]},\"selected\":{\"id\":\"20464\"},\"selection_policy\":{\"id\":\"20465\"}},\"id\":\"19734\",\"type\":\"ColumnDataSource\"},{\"attributes\":{},\"id\":\"19710\",\"type\":\"BasicTicker\"},{\"attributes\":{},\"id\":\"19707\",\"type\":\"LinearScale\"},{\"attributes\":{\"background_fill_alpha\":{\"value\":0.7},\"background_fill_color\":{\"value\":\"white\"},\"source\":{\"id\":\"19772\"},\"text\":{\"field\":\"name\"},\"text_font_size\":{\"value\":\"10px\"},\"x\":{\"field\":\"x\"},\"y\":{\"field\":\"y\"}},\"id\":\"19773\",\"type\":\"LabelSet\"},{\"attributes\":{\"line_alpha\":{\"value\":0.3}},\"id\":\"19753\",\"type\":\"MultiLine\"},{\"attributes\":{},\"id\":\"20467\",\"type\":\"UnionRenderers\"},{\"attributes\":{},\"id\":\"20463\",\"type\":\"UnionRenderers\"},{\"attributes\":{\"fill_color\":{\"value\":\"white\"},\"line_width\":{\"value\":2},\"size\":{\"field\":\"adjusted_node_size\"}},\"id\":\"19743\",\"type\":\"Circle\"},{\"attributes\":{},\"id\":\"20462\",\"type\":\"Selection\"},{\"attributes\":{},\"id\":\"20458\",\"type\":\"BasicTickFormatter\"},{\"attributes\":{},\"id\":\"20466\",\"type\":\"Selection\"},{\"attributes\":{},\"id\":\"19768\",\"type\":\"NodesAndLinkedEdges\"},{\"attributes\":{},\"id\":\"20457\",\"type\":\"AllLabels\"},{\"attributes\":{\"graph_layout\":{\"Adler\":[-5.360242684539651,2.484505886308032],\"Albertina\":[-1.1371465486907257,-6.024618311434792],\"Fridolin\":[-0.7314152919211467,-0.5224528018830046],\"Fuchstaler\":[-5.565821829218506,-3.55816190675357],\"Gentlemen\":[8.407750676991538,7.555249234522112],\"Gibiser\":[5.619314832063728,3.887040232539315],\"Marianne\":[-3.3110476267860602,-5.333576802597534],\"Mizzi\":[-1.3016924014380922,3.012207580991174],\"Nachtigall\":[-3.696477027768474,3.823421280998481],\"Pierrette\":[10.0,5.134313693422307],\"RedCavalier\":[3.1446909484796595,-4.203594765690345],\"Roediger\":[2.2567332068582293,-2.222148910015753],\"TWOServants\":[0.9650067201367508,4.1150093248058],\"YellowGentlemen\":[1.3263736397550256,-5.490622834003816],\"another woman\":[-3.598668639995605,-3.0184144151983543],\"cavalier\":[3.499661920844631,0.35682987658179327],\"cavaliers\":[-6.455905774002544,-0.3318698677417041],\"daughter\":[-0.4406368659768386,-4.047834390848252],\"gentlemen\":[-4.401242073978294,0.5872756428589205],\"maid\":[2.305338034502705,2.2897330876812076],\"servant\":[4.400975496797326,-1.7954737063332122],\"unknown\":[-1.4509862479110862,4.637190896295609],\"woman\":[-4.474562464202546,-1.3340080245043862]}},\"id\":\"19737\",\"type\":\"StaticLayoutProvider\"},{\"attributes\":{},\"id\":\"20461\",\"type\":\"BasicTickFormatter\"},{\"attributes\":{\"active_multi\":null,\"active_scroll\":{\"id\":\"19718\"},\"tools\":[{\"id\":\"19717\"},{\"id\":\"19718\"},{\"id\":\"19719\"},{\"id\":\"19720\"},{\"id\":\"19721\"}]},\"id\":\"19722\",\"type\":\"Toolbar\"},{\"attributes\":{},\"id\":\"20460\",\"type\":\"AllLabels\"},{\"attributes\":{\"data\":{\"adjusted_node_size\":[27,6,6,6,7,7,6,8,6,6,6,8,7,6,6,6,7,6,6,6,6,6,6],\"degree\":[22,1,1,1,2,2,1,3,1,1,1,3,2,1,1,1,2,1,1,1,1,1,1],\"index\":[\"Fridolin\",\"daughter\",\"Albertina\",\"Marianne\",\"unknown\",\"Mizzi\",\"Nachtigall\",\"Gibiser\",\"Gentlemen\",\"Pierrette\",\"TWOServants\",\"woman\",\"another woman\",\"cavalier\",\"cavaliers\",\"YellowGentlemen\",\"gentlemen\",\"RedCavalier\",\"servant\",\"maid\",\"Fuchstaler\",\"Roediger\",\"Adler\"],\"modularity_class\":[0,0,0,0,3,3,0,1,1,1,0,2,2,0,0,0,2,0,0,0,0,0,0],\"modularity_color\":[\"#3288bd\",\"#3288bd\",\"#3288bd\",\"#3288bd\",\"#e6f598\",\"#e6f598\",\"#3288bd\",\"#66c2a5\",\"#66c2a5\",\"#66c2a5\",\"#3288bd\",\"#abdda4\",\"#abdda4\",\"#3288bd\",\"#3288bd\",\"#3288bd\",\"#abdda4\",\"#3288bd\",\"#3288bd\",\"#3288bd\",\"#3288bd\",\"#3288bd\",\"#3288bd\"]},\"selected\":{\"id\":\"20466\"},\"selection_policy\":{\"id\":\"20467\"}},\"id\":\"19730\",\"type\":\"ColumnDataSource\"},{\"attributes\":{\"fill_color\":{\"value\":\"white\"},\"line_width\":{\"value\":2},\"size\":{\"field\":\"adjusted_node_size\"}},\"id\":\"19748\",\"type\":\"Circle\"},{\"attributes\":{\"end\":10.1,\"start\":-10.1},\"id\":\"19698\",\"type\":\"Range1d\"}],\"root_ids\":[\"19700\"]},\"title\":\"Bokeh Application\",\"version\":\"2.3.3\"}};\n  var render_items = [{\"docid\":\"4792ac0c-3077-4ff9-a4f0-0d0b4daeb0f6\",\"root_ids\":[\"19700\"],\"roots\":{\"19700\":\"237e0941-f765-4daf-85c9-9bbd7086186d\"}}];\n  root.Bokeh.embed.embed_items_notebook(docs_json, render_items);\n\n  }\n  if (root.Bokeh !== undefined) {\n    embed_document(root);\n  } else {\n    var attempts = 0;\n    var timer = setInterval(function(root) {\n      if (root.Bokeh !== undefined) {\n        clearInterval(timer);\n        embed_document(root);\n      } else {\n        attempts++;\n        if (attempts > 100) {\n          clearInterval(timer);\n          console.log(\"Bokeh: ERROR: Unable to run BokehJS code because BokehJS library is missing\");\n        }\n      }\n    }, 10, root)\n  }\n})(window);",
      "application/vnd.bokehjs_exec.v0+json": ""
     },
     "metadata": {
      "application/vnd.bokehjs_exec.v0+json": {
       "id": "19700"
      }
     },
     "output_type": "display_data"
    },
    {
     "data": {
      "text/plain": [
       "'c:\\\\Users\\\\crosi\\\\Documents\\\\GitHub\\\\metascript\\\\utils\\\\network_analysis\\\\Dream Story Network.html'"
      ]
     },
     "execution_count": 185,
     "metadata": {},
     "output_type": "execute_result"
    }
   ],
   "source": [
    "#Choose colors for node and edge highlighting\n",
    "node_highlight_color = 'white'\n",
    "edge_highlight_color = 'black'\n",
    "\n",
    "#Choose attributes from G network to size and color by — setting manual size (e.g. 10) or color (e.g. 'skyblue') also allowed\n",
    "size_by_this_attribute = 'adjusted_node_size'\n",
    "color_by_this_attribute = 'modularity_color'\n",
    "\n",
    "#Pick a color palette — Blues8, Reds8, Purples8, Oranges8, Viridis8\n",
    "color_palette = Blues8\n",
    "\n",
    "#Choose a title!\n",
    "title = 'Dream Story Network'\n",
    "\n",
    "#Establish which categories will appear when hovering over each node\n",
    "HOVER_TOOLTIPS = [\n",
    "       (\"Character\", \"@index\"),\n",
    "        (\"Interactions\", \"@degree\"),\n",
    "         (\"Modularity Class\", \"@modularity_class\"),\n",
    "        (\"Modularity Color\", \"$color[swatch]:modularity_color\"),\n",
    "]\n",
    "\n",
    "#Create a plot — set dimensions, toolbar, and title\n",
    "plot = figure(tooltips = HOVER_TOOLTIPS,\n",
    "              tools=\"pan,wheel_zoom,save,reset\", active_scroll='wheel_zoom',\n",
    "            x_range=Range1d(-10.1, 10.1), y_range=Range1d(-10.1, 10.1), title=title, plot_width=10, plot_height=20)\n",
    "plot.sizing_mode = \"scale_width\"\n",
    "\n",
    "#Create a network graph object\n",
    "# https://networkx.github.io/documentation/networkx-1.9/reference/generated/networkx.drawing.layout.spring_layout.html\n",
    "network_graph = from_networkx(G, networkx.spring_layout, scale=10, center=(0, 0))\n",
    "\n",
    "#Set node sizes and colors according to node degree (color as category from attribute)\n",
    "network_graph.node_renderer.glyph = Circle(size=size_by_this_attribute, fill_color=color_by_this_attribute)\n",
    "#Set node highlight colors\n",
    "network_graph.node_renderer.hover_glyph = Circle(size=size_by_this_attribute, fill_color=node_highlight_color, line_width=2)\n",
    "network_graph.node_renderer.selection_glyph = Circle(size=size_by_this_attribute, fill_color=node_highlight_color, line_width=2)\n",
    "\n",
    "#Set edge opacity and width\n",
    "network_graph.edge_renderer.glyph = MultiLine(line_alpha=0.3, line_width=1)\n",
    "#Set edge highlight colors\n",
    "network_graph.edge_renderer.selection_glyph = MultiLine(line_color=edge_highlight_color, line_width=2)\n",
    "network_graph.edge_renderer.hover_glyph = MultiLine(line_color=edge_highlight_color, line_width=2)\n",
    "\n",
    "#Highlight nodes and edges\n",
    "network_graph.selection_policy = NodesAndLinkedEdges()\n",
    "network_graph.inspection_policy = NodesAndLinkedEdges()\n",
    "\n",
    "plot.renderers.append(network_graph)\n",
    "\n",
    "#Add Labels\n",
    "x, y = zip(*network_graph.layout_provider.graph_layout.values())\n",
    "node_labels = list(G.nodes())\n",
    "source = ColumnDataSource({'x': x, 'y': y, 'name': [node_labels[i] for i in range(len(x))]})\n",
    "labels = LabelSet(x='x', y='y', text='name', source=source, background_fill_color='white', text_font_size='10px', background_fill_alpha=.7)\n",
    "plot.renderers.append(labels)\n",
    "\n",
    "show(plot)\n",
    "save(plot, filename=\"Dream Story Network.html\")"
   ]
  }
 ],
 "metadata": {
  "kernelspec": {
   "display_name": "Python 3",
   "language": "python",
   "name": "python3"
  },
  "language_info": {
   "codemirror_mode": {
    "name": "ipython",
    "version": 3
   },
   "file_extension": ".py",
   "mimetype": "text/x-python",
   "name": "python",
   "nbconvert_exporter": "python",
   "pygments_lexer": "ipython3",
   "version": "3.10.8"
  },
  "orig_nbformat": 4
 },
 "nbformat": 4,
 "nbformat_minor": 2
}
