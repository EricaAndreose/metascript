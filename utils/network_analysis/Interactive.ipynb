{
 "cells": [
  {
   "cell_type": "code",
   "execution_count": 1,
   "metadata": {},
   "outputs": [],
   "source": [
    "import pandas as pd\n",
    "import networkx\n",
    "import matplotlib.pyplot as plt\n",
    "import numpy as np"
   ]
  },
  {
   "cell_type": "code",
   "execution_count": 2,
   "metadata": {},
   "outputs": [],
   "source": [
    "from bokeh.io import output_notebook, show, save"
   ]
  },
  {
   "cell_type": "code",
   "execution_count": 3,
   "metadata": {},
   "outputs": [
    {
     "data": {
      "text/html": [
       "\n",
       "    <div class=\"bk-root\">\n",
       "        <a href=\"https://bokeh.org\" target=\"_blank\" class=\"bk-logo bk-logo-small bk-logo-notebook\"></a>\n",
       "        <span id=\"1001\">Loading BokehJS ...</span>\n",
       "    </div>"
      ]
     },
     "metadata": {},
     "output_type": "display_data"
    },
    {
     "data": {
      "application/javascript": "\n(function(root) {\n  function now() {\n    return new Date();\n  }\n\n  var force = true;\n\n  if (typeof root._bokeh_onload_callbacks === \"undefined\" || force === true) {\n    root._bokeh_onload_callbacks = [];\n    root._bokeh_is_loading = undefined;\n  }\n\n  var JS_MIME_TYPE = 'application/javascript';\n  var HTML_MIME_TYPE = 'text/html';\n  var EXEC_MIME_TYPE = 'application/vnd.bokehjs_exec.v0+json';\n  var CLASS_NAME = 'output_bokeh rendered_html';\n\n  /**\n   * Render data to the DOM node\n   */\n  function render(props, node) {\n    var script = document.createElement(\"script\");\n    node.appendChild(script);\n  }\n\n  /**\n   * Handle when an output is cleared or removed\n   */\n  function handleClearOutput(event, handle) {\n    var cell = handle.cell;\n\n    var id = cell.output_area._bokeh_element_id;\n    var server_id = cell.output_area._bokeh_server_id;\n    // Clean up Bokeh references\n    if (id != null && id in Bokeh.index) {\n      Bokeh.index[id].model.document.clear();\n      delete Bokeh.index[id];\n    }\n\n    if (server_id !== undefined) {\n      // Clean up Bokeh references\n      var cmd = \"from bokeh.io.state import curstate; print(curstate().uuid_to_server['\" + server_id + \"'].get_sessions()[0].document.roots[0]._id)\";\n      cell.notebook.kernel.execute(cmd, {\n        iopub: {\n          output: function(msg) {\n            var id = msg.content.text.trim();\n            if (id in Bokeh.index) {\n              Bokeh.index[id].model.document.clear();\n              delete Bokeh.index[id];\n            }\n          }\n        }\n      });\n      // Destroy server and session\n      var cmd = \"import bokeh.io.notebook as ion; ion.destroy_server('\" + server_id + \"')\";\n      cell.notebook.kernel.execute(cmd);\n    }\n  }\n\n  /**\n   * Handle when a new output is added\n   */\n  function handleAddOutput(event, handle) {\n    var output_area = handle.output_area;\n    var output = handle.output;\n\n    // limit handleAddOutput to display_data with EXEC_MIME_TYPE content only\n    if ((output.output_type != \"display_data\") || (!Object.prototype.hasOwnProperty.call(output.data, EXEC_MIME_TYPE))) {\n      return\n    }\n\n    var toinsert = output_area.element.find(\".\" + CLASS_NAME.split(' ')[0]);\n\n    if (output.metadata[EXEC_MIME_TYPE][\"id\"] !== undefined) {\n      toinsert[toinsert.length - 1].firstChild.textContent = output.data[JS_MIME_TYPE];\n      // store reference to embed id on output_area\n      output_area._bokeh_element_id = output.metadata[EXEC_MIME_TYPE][\"id\"];\n    }\n    if (output.metadata[EXEC_MIME_TYPE][\"server_id\"] !== undefined) {\n      var bk_div = document.createElement(\"div\");\n      bk_div.innerHTML = output.data[HTML_MIME_TYPE];\n      var script_attrs = bk_div.children[0].attributes;\n      for (var i = 0; i < script_attrs.length; i++) {\n        toinsert[toinsert.length - 1].firstChild.setAttribute(script_attrs[i].name, script_attrs[i].value);\n        toinsert[toinsert.length - 1].firstChild.textContent = bk_div.children[0].textContent\n      }\n      // store reference to server id on output_area\n      output_area._bokeh_server_id = output.metadata[EXEC_MIME_TYPE][\"server_id\"];\n    }\n  }\n\n  function register_renderer(events, OutputArea) {\n\n    function append_mime(data, metadata, element) {\n      // create a DOM node to render to\n      var toinsert = this.create_output_subarea(\n        metadata,\n        CLASS_NAME,\n        EXEC_MIME_TYPE\n      );\n      this.keyboard_manager.register_events(toinsert);\n      // Render to node\n      var props = {data: data, metadata: metadata[EXEC_MIME_TYPE]};\n      render(props, toinsert[toinsert.length - 1]);\n      element.append(toinsert);\n      return toinsert\n    }\n\n    /* Handle when an output is cleared or removed */\n    events.on('clear_output.CodeCell', handleClearOutput);\n    events.on('delete.Cell', handleClearOutput);\n\n    /* Handle when a new output is added */\n    events.on('output_added.OutputArea', handleAddOutput);\n\n    /**\n     * Register the mime type and append_mime function with output_area\n     */\n    OutputArea.prototype.register_mime_type(EXEC_MIME_TYPE, append_mime, {\n      /* Is output safe? */\n      safe: true,\n      /* Index of renderer in `output_area.display_order` */\n      index: 0\n    });\n  }\n\n  // register the mime type if in Jupyter Notebook environment and previously unregistered\n  if (root.Jupyter !== undefined) {\n    var events = require('base/js/events');\n    var OutputArea = require('notebook/js/outputarea').OutputArea;\n\n    if (OutputArea.prototype.mime_types().indexOf(EXEC_MIME_TYPE) == -1) {\n      register_renderer(events, OutputArea);\n    }\n  }\n\n  \n  if (typeof (root._bokeh_timeout) === \"undefined\" || force === true) {\n    root._bokeh_timeout = Date.now() + 5000;\n    root._bokeh_failed_load = false;\n  }\n\n  var NB_LOAD_WARNING = {'data': {'text/html':\n     \"<div style='background-color: #fdd'>\\n\"+\n     \"<p>\\n\"+\n     \"BokehJS does not appear to have successfully loaded. If loading BokehJS from CDN, this \\n\"+\n     \"may be due to a slow or bad network connection. Possible fixes:\\n\"+\n     \"</p>\\n\"+\n     \"<ul>\\n\"+\n     \"<li>re-rerun `output_notebook()` to attempt to load from CDN again, or</li>\\n\"+\n     \"<li>use INLINE resources instead, as so:</li>\\n\"+\n     \"</ul>\\n\"+\n     \"<code>\\n\"+\n     \"from bokeh.resources import INLINE\\n\"+\n     \"output_notebook(resources=INLINE)\\n\"+\n     \"</code>\\n\"+\n     \"</div>\"}};\n\n  function display_loaded() {\n    var el = document.getElementById(\"1001\");\n    if (el != null) {\n      el.textContent = \"BokehJS is loading...\";\n    }\n    if (root.Bokeh !== undefined) {\n      if (el != null) {\n        el.textContent = \"BokehJS \" + root.Bokeh.version + \" successfully loaded.\";\n      }\n    } else if (Date.now() < root._bokeh_timeout) {\n      setTimeout(display_loaded, 100)\n    }\n  }\n\n\n  function run_callbacks() {\n    try {\n      root._bokeh_onload_callbacks.forEach(function(callback) {\n        if (callback != null)\n          callback();\n      });\n    } finally {\n      delete root._bokeh_onload_callbacks\n    }\n    console.debug(\"Bokeh: all callbacks have finished\");\n  }\n\n  function load_libs(css_urls, js_urls, callback) {\n    if (css_urls == null) css_urls = [];\n    if (js_urls == null) js_urls = [];\n\n    root._bokeh_onload_callbacks.push(callback);\n    if (root._bokeh_is_loading > 0) {\n      console.debug(\"Bokeh: BokehJS is being loaded, scheduling callback at\", now());\n      return null;\n    }\n    if (js_urls == null || js_urls.length === 0) {\n      run_callbacks();\n      return null;\n    }\n    console.debug(\"Bokeh: BokehJS not loaded, scheduling load and callback at\", now());\n    root._bokeh_is_loading = css_urls.length + js_urls.length;\n\n    function on_load() {\n      root._bokeh_is_loading--;\n      if (root._bokeh_is_loading === 0) {\n        console.debug(\"Bokeh: all BokehJS libraries/stylesheets loaded\");\n        run_callbacks()\n      }\n    }\n\n    function on_error(url) {\n      console.error(\"failed to load \" + url);\n    }\n\n    for (let i = 0; i < css_urls.length; i++) {\n      const url = css_urls[i];\n      const element = document.createElement(\"link\");\n      element.onload = on_load;\n      element.onerror = on_error.bind(null, url);\n      element.rel = \"stylesheet\";\n      element.type = \"text/css\";\n      element.href = url;\n      console.debug(\"Bokeh: injecting link tag for BokehJS stylesheet: \", url);\n      document.body.appendChild(element);\n    }\n\n    const hashes = {\"https://cdn.bokeh.org/bokeh/release/bokeh-2.3.3.min.js\": \"dM3QQsP+wXdHg42wTqW85BjZQdLNNIXqlPw/BgKoExPmTG7ZLML4EGqLMfqHT6ON\", \"https://cdn.bokeh.org/bokeh/release/bokeh-tables-2.3.3.min.js\": \"8x57I4YuIfu8XyZfFo0XVr2WAT8EK4rh/uDe3wF7YuW2FNUSNEpJbsPaB1nJ2fz2\", \"https://cdn.bokeh.org/bokeh/release/bokeh-widgets-2.3.3.min.js\": \"3QTqdz9LyAm2i0sG5XTePsHec3UHWwVsrOL68SYRoAXsafvfAyqtQ+h440+qIBhS\"};\n\n    for (let i = 0; i < js_urls.length; i++) {\n      const url = js_urls[i];\n      const element = document.createElement('script');\n      element.onload = on_load;\n      element.onerror = on_error.bind(null, url);\n      element.async = false;\n      element.src = url;\n      if (url in hashes) {\n        element.crossOrigin = \"anonymous\";\n        element.integrity = \"sha384-\" + hashes[url];\n      }\n      console.debug(\"Bokeh: injecting script tag for BokehJS library: \", url);\n      document.head.appendChild(element);\n    }\n  };\n\n  function inject_raw_css(css) {\n    const element = document.createElement(\"style\");\n    element.appendChild(document.createTextNode(css));\n    document.body.appendChild(element);\n  }\n\n  \n  var js_urls = [\"https://cdn.bokeh.org/bokeh/release/bokeh-2.3.3.min.js\", \"https://cdn.bokeh.org/bokeh/release/bokeh-widgets-2.3.3.min.js\", \"https://cdn.bokeh.org/bokeh/release/bokeh-tables-2.3.3.min.js\"];\n  var css_urls = [];\n  \n\n  var inline_js = [\n    function(Bokeh) {\n      Bokeh.set_log_level(\"info\");\n    },\n    function(Bokeh) {\n    \n    \n    }\n  ];\n\n  function run_inline_js() {\n    \n    if (root.Bokeh !== undefined || force === true) {\n      \n    for (var i = 0; i < inline_js.length; i++) {\n      inline_js[i].call(root, root.Bokeh);\n    }\n    if (force === true) {\n        display_loaded();\n      }} else if (Date.now() < root._bokeh_timeout) {\n      setTimeout(run_inline_js, 100);\n    } else if (!root._bokeh_failed_load) {\n      console.log(\"Bokeh: BokehJS failed to load within specified timeout.\");\n      root._bokeh_failed_load = true;\n    } else if (force !== true) {\n      var cell = $(document.getElementById(\"1001\")).parents('.cell').data().cell;\n      cell.output_area.append_execute_result(NB_LOAD_WARNING)\n    }\n\n  }\n\n  if (root._bokeh_is_loading === 0) {\n    console.debug(\"Bokeh: BokehJS loaded, going straight to plotting\");\n    run_inline_js();\n  } else {\n    load_libs(css_urls, js_urls, function() {\n      console.debug(\"Bokeh: BokehJS plotting callback run at\", now());\n      run_inline_js();\n    });\n  }\n}(window));",
      "application/vnd.bokehjs_load.v0+json": ""
     },
     "metadata": {},
     "output_type": "display_data"
    }
   ],
   "source": [
    "output_notebook()"
   ]
  },
  {
   "cell_type": "code",
   "execution_count": 4,
   "metadata": {},
   "outputs": [],
   "source": [
    "import pandas as pd\n",
    "\n",
    "\n",
    "# Read the csv files\n",
    "df_ds = pd.read_csv('interactions_screenplay96.csv')\n",
    "\n"
   ]
  },
  {
   "cell_type": "code",
   "execution_count": 5,
   "metadata": {},
   "outputs": [],
   "source": [
    "G = networkx.from_pandas_edgelist(df_ds, 'Character', 'Listener', 'Interaction Count')"
   ]
  },
  {
   "cell_type": "code",
   "execution_count": 6,
   "metadata": {},
   "outputs": [],
   "source": [
    "from bokeh.io import output_notebook, show, save\n",
    "from bokeh.models import Range1d, Circle, ColumnDataSource, MultiLine\n",
    "from bokeh.plotting import figure\n",
    "from bokeh.plotting import from_networkx"
   ]
  },
  {
   "cell_type": "code",
   "execution_count": 7,
   "metadata": {},
   "outputs": [
    {
     "data": {
      "text/html": [
       "\n",
       "\n",
       "\n",
       "\n",
       "\n",
       "\n",
       "  <div class=\"bk-root\" id=\"918db65d-04a7-4ee8-b27c-21e794140c9d\" data-root-id=\"1005\"></div>\n"
      ]
     },
     "metadata": {},
     "output_type": "display_data"
    },
    {
     "data": {
      "application/javascript": "(function(root) {\n  function embed_document(root) {\n    \n  var docs_json = {\"b9bcca7a-155e-4e39-857b-b614672cfe54\":{\"defs\":[],\"roots\":{\"references\":[{\"attributes\":{\"below\":[{\"id\":\"1014\"}],\"center\":[{\"id\":\"1017\"},{\"id\":\"1021\"}],\"left\":[{\"id\":\"1018\"}],\"renderers\":[{\"id\":\"1033\"}],\"title\":{\"id\":\"1006\"},\"toolbar\":{\"id\":\"1027\"},\"x_range\":{\"id\":\"1003\"},\"x_scale\":{\"id\":\"1010\"},\"y_range\":{\"id\":\"1004\"},\"y_scale\":{\"id\":\"1012\"}},\"id\":\"1005\",\"subtype\":\"Figure\",\"type\":\"Plot\"},{\"attributes\":{},\"id\":\"1062\",\"type\":\"NodesOnly\"},{\"attributes\":{\"source\":{\"id\":\"1035\"}},\"id\":\"1037\",\"type\":\"CDSView\"},{\"attributes\":{\"graph_layout\":{\" GAYLE\":[0.5584646686211651,6.059102698798654],\" KIMONO2\":[-5.2142030959645504,-9.061723689434602],\" NUALA\":[-1.4255903446317055,3.780822061654044],\" YOUNG GIRL\":[-5.838676707672173,-7.879077234556094],\"ALICE\":[2.3119948355245996,-3.4152165871143536],\"ANOTHER WOMAN\":[4.18374488806735,0.03789917123611953],\"ARTY WOMAN\":[0.6237765125207677,3.5356594946283515],\"ARTY WOMANB\":[4.52208075838277,3.3724317642892254],\"BABY-SITTER\":[1.3948377094337219,-2.010265651535593],\"BILL\":[0.3403904190220485,1.366141349736975],\"CAB DRIVER\":[-3.0145584613745395,-0.7159578692142066],\"CARL\":[-3.979234805101492,2.707637509820952],\"CLEANING LADY\":[2.0712830054588935,4.392471267004438],\"CLERK\":[-1.8190796000899303,5.378523706673935],\"DESK CLERK\":[1.8746579371239154,-0.13472684509247881],\"DOMINO\":[4.591228907245682,2.2533748627359302],\"DOORMAN\":[-0.774583429726403,5.900254651697363],\"DRIVER\":[3.015428306910984,3.1950380375709604],\"ELEGANT MAN\":[3.7381375190534474,-1.0023868245128174],\"GATEMAN 1\":[-3.188540977090011,3.676164663891538],\"GAYLE\":[-2.040727557277406,-1.7842931580384684],\"GIBSON\":[-2.734070936637919,-6.290240976427784],\"HARRIS\":[-0.5765611956222367,-1.8274733019638199],\"HELENA\":[2.5254367891430682,-1.9714106397673206],\"KIMONO1\":[-2.947537518197523,-10.0],\"KIMONO2\":[-4.131275741553512,-9.653769890190887],\"MANAGERESS\":[2.851806232901065,5.177720839732181],\"MARION\":[-3.30629819923369,1.9753153076248795],\"NICK\":[4.698661632158453,1.1701225550612808],\"NUALA\":[-1.8841522804930841,2.02098812612687],\"ORDERLY\":[-1.5944297863989418,-0.1797507674614043],\"SALLY\":[3.925263482790579,4.492046580308067],\"SERVANT\":[2.9119249589477665,1.5966119928175597],\"SERVANT 1\":[1.7457977100750237,5.8254587973109535],\"SERVANTS\":[0.017523910954460653,4.821111547438342],\"SZABO\":[4.26259766893379,-6.717067378737928],\"TALL MAN\":[8.795758715946846,-2.690062745721571],\"THE WOMAN\":[5.31603282226697,-1.0466575728509933],\"UNKNOWN\":[-2.748324148292641,4.703846246100655],\"V.O.\":[-5.3239561027774895,0.5252921143986581],\"WAITRESS\":[-3.422890318050318,0.6070520688514515],\"YOUNG GIRL\":[-1.6711063118551466,-9.626740487042337],\"ZIEGLER\":[0.4435879104987152,-2.6165854698499946],\"audience\":[-9.084619783941326,0.052319674003252804]}},\"id\":\"1042\",\"type\":\"StaticLayoutProvider\"},{\"attributes\":{\"end\":10.1,\"start\":-10.1},\"id\":\"1004\",\"type\":\"Range1d\"},{\"attributes\":{},\"id\":\"1072\",\"type\":\"Selection\"},{\"attributes\":{\"data_source\":{\"id\":\"1035\"},\"glyph\":{\"id\":\"1043\"},\"hover_glyph\":null,\"muted_glyph\":null,\"view\":{\"id\":\"1037\"}},\"id\":\"1036\",\"type\":\"GlyphRenderer\"},{\"attributes\":{\"line_alpha\":{\"value\":0.5}},\"id\":\"1048\",\"type\":\"MultiLine\"},{\"attributes\":{},\"id\":\"1073\",\"type\":\"UnionRenderers\"},{\"attributes\":{\"axis\":{\"id\":\"1018\"},\"dimension\":1,\"ticker\":null},\"id\":\"1021\",\"type\":\"Grid\"},{\"attributes\":{},\"id\":\"1019\",\"type\":\"BasicTicker\"},{\"attributes\":{\"callback\":null,\"tooltips\":[[\"Character\",\"@index\"]]},\"id\":\"1026\",\"type\":\"HoverTool\"},{\"attributes\":{\"data\":{\"index\":[\"ALICE\",\"BILL\",\"BABY-SITTER\",\"HELENA\",\"DOORMAN\",\"DRIVER\",\"ZIEGLER\",\"NICK\",\"SZABO\",\"GAYLE\",\"NUALA\",\" GAYLE\",\" NUALA\",\"HARRIS\",\"V.O.\",\"audience\",\"MARION\",\"CARL\",\"DOMINO\",\"GIBSON\",\"KIMONO1\",\" KIMONO2\",\"KIMONO2\",\"YOUNG GIRL\",\" YOUNG GIRL\",\"CAB DRIVER\",\"GATEMAN 1\",\"SERVANTS\",\"SERVANT 1\",\"THE WOMAN\",\"ANOTHER WOMAN\",\"TALL MAN\",\"ELEGANT MAN\",\"CLEANING LADY\",\"MANAGERESS\",\"DESK CLERK\",\"SERVANT\",\"ARTY WOMANB\",\"ARTY WOMAN\",\"SALLY\",\"WAITRESS\",\"CLERK\",\"ORDERLY\",\"UNKNOWN\"]},\"selected\":{\"id\":\"1072\"},\"selection_policy\":{\"id\":\"1073\"}},\"id\":\"1035\",\"type\":\"ColumnDataSource\"},{\"attributes\":{},\"id\":\"1023\",\"type\":\"WheelZoomTool\"},{\"attributes\":{},\"id\":\"1022\",\"type\":\"PanTool\"},{\"attributes\":{},\"id\":\"1024\",\"type\":\"SaveTool\"},{\"attributes\":{\"text\":\"Screenplay 1996 Network\"},\"id\":\"1006\",\"type\":\"Title\"},{\"attributes\":{},\"id\":\"1025\",\"type\":\"ResetTool\"},{\"attributes\":{\"active_multi\":null,\"active_scroll\":{\"id\":\"1023\"},\"tools\":[{\"id\":\"1022\"},{\"id\":\"1023\"},{\"id\":\"1024\"},{\"id\":\"1025\"},{\"id\":\"1026\"}]},\"id\":\"1027\",\"type\":\"Toolbar\"},{\"attributes\":{\"end\":10.1,\"start\":-10.1},\"id\":\"1003\",\"type\":\"Range1d\"},{\"attributes\":{},\"id\":\"1068\",\"type\":\"AllLabels\"},{\"attributes\":{\"data\":{\"Interaction Count\":[80,1,4,2,23,3,1,2,38,51,5,6,2,1,6,4,1,20,12,4,31,32,4,8,1,1,8,1,9,1,3,11,1,1,4,4,2,5,1,1,1,1,4,2,3,2,3,1,1,1,1,1,2,1],\"end\":[\"BILL\",\"BABY-SITTER\",\"HELENA\",\"ZIEGLER\",\"SZABO\",\"DOORMAN\",\"BABY-SITTER\",\"DRIVER\",\"ZIEGLER\",\"NICK\",\"GAYLE\",\"NUALA\",\" GAYLE\",\" NUALA\",\"BILL\",\"HARRIS\",\"HELENA\",\"MARION\",\"V.O.\",\"CARL\",\"DOMINO\",\"GIBSON\",\"CAB DRIVER\",\"GATEMAN 1\",\"SERVANTS\",\"SERVANT 1\",\"THE WOMAN\",\"ANOTHER WOMAN\",\"ELEGANT MAN\",\"CLEANING LADY\",\"MANAGERESS\",\"DESK CLERK\",\"SERVANT\",\"ARTY WOMANB\",\"ARTY WOMAN\",\"SALLY\",\"WAITRESS\",\"CLERK\",\"ORDERLY\",\"UNKNOWN\",\"HARRIS\",\"ZIEGLER\",\"audience\",\"CARL\",\"DOMINO\",\"KIMONO1\",\" KIMONO2\",\"KIMONO2\",\"YOUNG GIRL\",\" YOUNG GIRL\",\"ANOTHER WOMAN\",\"TALL MAN\",\"ELEGANT MAN\",\"MANAGERESS\"],\"start\":[\"ALICE\",\"ALICE\",\"ALICE\",\"ALICE\",\"ALICE\",\"BILL\",\"BILL\",\"BILL\",\"BILL\",\"BILL\",\"BILL\",\"BILL\",\"BILL\",\"BILL\",\"BILL\",\"BILL\",\"BILL\",\"BILL\",\"BILL\",\"BILL\",\"BILL\",\"BILL\",\"BILL\",\"BILL\",\"BILL\",\"BILL\",\"BILL\",\"BILL\",\"BILL\",\"BILL\",\"BILL\",\"BILL\",\"BILL\",\"BILL\",\"BILL\",\"BILL\",\"BILL\",\"BILL\",\"BILL\",\"BILL\",\"ZIEGLER\",\"ZIEGLER\",\"V.O.\",\"MARION\",\"DOMINO\",\"GIBSON\",\"GIBSON\",\"GIBSON\",\"GIBSON\",\"GIBSON\",\"THE WOMAN\",\"THE WOMAN\",\"THE WOMAN\",\"CLEANING LADY\"]},\"selected\":{\"id\":\"1070\"},\"selection_policy\":{\"id\":\"1071\"}},\"id\":\"1039\",\"type\":\"ColumnDataSource\"},{\"attributes\":{},\"id\":\"1012\",\"type\":\"LinearScale\"},{\"attributes\":{},\"id\":\"1010\",\"type\":\"LinearScale\"},{\"attributes\":{},\"id\":\"1055\",\"type\":\"AllLabels\"},{\"attributes\":{},\"id\":\"1056\",\"type\":\"BasicTickFormatter\"},{\"attributes\":{\"fill_color\":{\"value\":\"skyblue\"},\"size\":{\"value\":15}},\"id\":\"1043\",\"type\":\"Circle\"},{\"attributes\":{\"edge_renderer\":{\"id\":\"1040\"},\"inspection_policy\":{\"id\":\"1061\"},\"layout_provider\":{\"id\":\"1042\"},\"node_renderer\":{\"id\":\"1036\"},\"selection_policy\":{\"id\":\"1062\"}},\"id\":\"1033\",\"type\":\"GraphRenderer\"},{\"attributes\":{\"source\":{\"id\":\"1039\"}},\"id\":\"1041\",\"type\":\"CDSView\"},{\"attributes\":{\"formatter\":{\"id\":\"1069\"},\"major_label_policy\":{\"id\":\"1068\"},\"ticker\":{\"id\":\"1015\"}},\"id\":\"1014\",\"type\":\"LinearAxis\"},{\"attributes\":{\"axis\":{\"id\":\"1014\"},\"ticker\":null},\"id\":\"1017\",\"type\":\"Grid\"},{\"attributes\":{\"data_source\":{\"id\":\"1039\"},\"glyph\":{\"id\":\"1048\"},\"hover_glyph\":null,\"muted_glyph\":null,\"view\":{\"id\":\"1041\"}},\"id\":\"1040\",\"type\":\"GlyphRenderer\"},{\"attributes\":{\"formatter\":{\"id\":\"1056\"},\"major_label_policy\":{\"id\":\"1055\"},\"ticker\":{\"id\":\"1019\"}},\"id\":\"1018\",\"type\":\"LinearAxis\"},{\"attributes\":{},\"id\":\"1061\",\"type\":\"NodesOnly\"},{\"attributes\":{},\"id\":\"1015\",\"type\":\"BasicTicker\"},{\"attributes\":{},\"id\":\"1070\",\"type\":\"Selection\"},{\"attributes\":{},\"id\":\"1071\",\"type\":\"UnionRenderers\"},{\"attributes\":{},\"id\":\"1069\",\"type\":\"BasicTickFormatter\"}],\"root_ids\":[\"1005\"]},\"title\":\"Bokeh Application\",\"version\":\"2.3.3\"}};\n  var render_items = [{\"docid\":\"b9bcca7a-155e-4e39-857b-b614672cfe54\",\"root_ids\":[\"1005\"],\"roots\":{\"1005\":\"918db65d-04a7-4ee8-b27c-21e794140c9d\"}}];\n  root.Bokeh.embed.embed_items_notebook(docs_json, render_items);\n\n  }\n  if (root.Bokeh !== undefined) {\n    embed_document(root);\n  } else {\n    var attempts = 0;\n    var timer = setInterval(function(root) {\n      if (root.Bokeh !== undefined) {\n        clearInterval(timer);\n        embed_document(root);\n      } else {\n        attempts++;\n        if (attempts > 100) {\n          clearInterval(timer);\n          console.log(\"Bokeh: ERROR: Unable to run BokehJS code because BokehJS library is missing\");\n        }\n      }\n    }, 10, root)\n  }\n})(window);",
      "application/vnd.bokehjs_exec.v0+json": ""
     },
     "metadata": {
      "application/vnd.bokehjs_exec.v0+json": {
       "id": "1005"
      }
     },
     "output_type": "display_data"
    },
    {
     "name": "stderr",
     "output_type": "stream",
     "text": [
      "C:\\Users\\crosi\\AppData\\Roaming\\Python\\Python310\\site-packages\\bokeh\\io\\saving.py:126: UserWarning: save() called but no resources were supplied and output_file(...) was never called, defaulting to resources.CDN\n",
      "  warn(\"save() called but no resources were supplied and output_file(...) was never called, defaulting to resources.CDN\")\n",
      "C:\\Users\\crosi\\AppData\\Roaming\\Python\\Python310\\site-packages\\bokeh\\io\\saving.py:139: UserWarning: save() called but no title was supplied and output_file(...) was never called, using default title 'Bokeh Plot'\n",
      "  warn(\"save() called but no title was supplied and output_file(...) was never called, using default title 'Bokeh Plot'\")\n"
     ]
    },
    {
     "data": {
      "text/plain": [
       "'c:\\\\Users\\\\crosi\\\\Documents\\\\GitHub\\\\metascript\\\\utils\\\\network_analysis\\\\Screenplay 1996 Network.html'"
      ]
     },
     "execution_count": 7,
     "metadata": {},
     "output_type": "execute_result"
    }
   ],
   "source": [
    "#Choose a title!\n",
    "title = 'Screenplay 1996 Network'\n",
    "\n",
    "#Establish which categories will appear when hovering over each node\n",
    "HOVER_TOOLTIPS = [(\"Character\", \"@index\")]\n",
    "\n",
    "#Create a plot — set dimensions, toolbar, and title\n",
    "plot = figure(tooltips = HOVER_TOOLTIPS,\n",
    "              tools=\"pan,wheel_zoom,save,reset\", active_scroll='wheel_zoom',\n",
    "            x_range=Range1d(-10.1, 10.1), y_range=Range1d(-10.1, 10.1), title=title)\n",
    "\n",
    "#Create a network graph object with spring layout\n",
    "# https://networkx.github.io/documentation/networkx-1.9/reference/generated/networkx.drawing.layout.spring_layout.html\n",
    "network_graph = from_networkx(G, networkx.spring_layout, scale=10, center=(0, 0))\n",
    "\n",
    "#Set node size and color\n",
    "network_graph.node_renderer.glyph = Circle(size=15, fill_color='skyblue')\n",
    "\n",
    "#Set edge opacity and width\n",
    "network_graph.edge_renderer.glyph = MultiLine(line_alpha=0.5, line_width=1)\n",
    "\n",
    "#Add network graph to the plot\n",
    "plot.renderers.append(network_graph)\n",
    "\n",
    "show(plot)\n",
    "save(plot, filename=f\"{title}.html\")"
   ]
  },
  {
   "cell_type": "code",
   "execution_count": 8,
   "metadata": {},
   "outputs": [],
   "source": [
    "from bokeh.io import output_notebook, show, save\n",
    "from bokeh.models import Range1d, Circle, ColumnDataSource, MultiLine\n",
    "from bokeh.plotting import figure\n",
    "from bokeh.plotting import from_networkx\n",
    "from bokeh.palettes import Blues8, Reds8, Purples8, Oranges8, Viridis8, Spectral8\n",
    "from bokeh.transform import linear_cmap"
   ]
  },
  {
   "cell_type": "code",
   "execution_count": 9,
   "metadata": {},
   "outputs": [],
   "source": [
    "degrees = dict(networkx.degree(G))\n",
    "networkx.set_node_attributes(G, name='degree', values=degrees)"
   ]
  },
  {
   "cell_type": "code",
   "execution_count": 10,
   "metadata": {},
   "outputs": [],
   "source": [
    "number_to_adjust_by = 5\n",
    "adjusted_node_size = dict([(node, degree+number_to_adjust_by) for node, degree in networkx.degree(G)])\n",
    "networkx.set_node_attributes(G, name='adjusted_node_size', values=adjusted_node_size)"
   ]
  },
  {
   "cell_type": "code",
   "execution_count": 11,
   "metadata": {},
   "outputs": [
    {
     "data": {
      "text/html": [
       "\n",
       "\n",
       "\n",
       "\n",
       "\n",
       "\n",
       "  <div class=\"bk-root\" id=\"c83d9984-2f2c-4584-b382-515f22e15058\" data-root-id=\"1395\"></div>\n"
      ]
     },
     "metadata": {},
     "output_type": "display_data"
    },
    {
     "data": {
      "application/javascript": "(function(root) {\n  function embed_document(root) {\n    \n  var docs_json = {\"0aebdf3b-01bd-48ab-9318-3473ffa14e7d\":{\"defs\":[],\"roots\":{\"references\":[{\"attributes\":{\"below\":[{\"id\":\"1404\"}],\"center\":[{\"id\":\"1407\"},{\"id\":\"1411\"}],\"left\":[{\"id\":\"1408\"}],\"renderers\":[{\"id\":\"1423\"}],\"title\":{\"id\":\"1396\"},\"toolbar\":{\"id\":\"1417\"},\"x_range\":{\"id\":\"1393\"},\"x_scale\":{\"id\":\"1400\"},\"y_range\":{\"id\":\"1394\"},\"y_scale\":{\"id\":\"1402\"}},\"id\":\"1395\",\"subtype\":\"Figure\",\"type\":\"Plot\"},{\"attributes\":{},\"id\":\"1413\",\"type\":\"WheelZoomTool\"},{\"attributes\":{\"source\":{\"id\":\"1425\"}},\"id\":\"1427\",\"type\":\"CDSView\"},{\"attributes\":{\"graph_layout\":{\" GAYLE\":[0.3503523970320002,1.809032558761269],\" KIMONO2\":[-3.180069680010188,9.904479225819507],\" NUALA\":[2.826984776190789,-1.6071693035430457],\" YOUNG GIRL\":[-5.6789641365950985,9.522171379526196],\"ALICE\":[3.5601865497067933,-5.372762122696424],\"ANOTHER WOMAN\":[2.5651896141542125,2.614303072977908],\"ARTY WOMAN\":[-3.613774085376904,0.8809063532224075],\"ARTY WOMANB\":[-3.686810859263514,-2.451993643042881],\"BABY-SITTER\":[2.5103725092314924,-3.5377277311979083],\"BILL\":[0.488860633185877,-0.8374792302417696],\"CAB DRIVER\":[-4.165535504504502,-1.3366079238821584],\"CARL\":[-1.7933499103841202,0.7078182494435078],\"CLEANING LADY\":[-1.9219428484864778,-2.4817361494201187],\"CLERK\":[4.901498014152838,-1.210607043877423],\"DESK CLERK\":[0.1339883081931365,-4.918439952310849],\"DOMINO\":[4.621046558601177,1.1055932724176352],\"DOORMAN\":[1.1352965629120282,-5.348067683441231],\"DRIVER\":[3.511089621752508,-0.045692650568143846],\"ELEGANT MAN\":[1.5755257890503067,3.3184997395701057],\"GATEMAN 1\":[-2.097785606459242,-4.2058218905886475],\"GAYLE\":[-2.5854471991396477,2.0048052841282553],\"GIBSON\":[-3.7949681598552556,6.339289035781284],\"HARRIS\":[4.107247434738024,-3.1857143649195065],\"HELENA\":[2.0112522570592763,-4.53697225413961],\"KIMONO1\":[-7.175620680543951,7.499708238931622],\"KIMONO2\":[-6.718138249231021,8.79488328736394],\"MANAGERESS\":[-0.6853944272546302,-2.9376023592733223],\"MARION\":[-1.9887255241259776,-0.5105121099959952],\"NICK\":[3.687755604575932,1.8708531330660956],\"NUALA\":[-0.10779254722891654,3.202950513762435],\"ORDERLY\":[-1.2830483787372948,2.492615947966965],\"SALLY\":[-3.185988933661571,-3.576186323164681],\"SERVANT\":[-0.8894532426272398,-4.549843149491314],\"SERVANT 1\":[-3.474254967706325,-0.4180592180012613],\"SERVANTS\":[2.096047879577169,0.9836244946827417],\"SZABO\":[5.997314442401852,-8.470163521972495],\"TALL MAN\":[5.481972661360396,7.127110508617893],\"THE WOMAN\":[3.2328457024608537,3.9822805132546257],\"UNKNOWN\":[5.071826685014848,-0.07092253768509833],\"V.O.\":[-1.9463116804154525,-6.356319132729121],\"WAITRESS\":[4.65422284789682,-2.21652916599594],\"YOUNG GIRL\":[-4.519948584664978,10.0],\"ZIEGLER\":[3.47462601658535,-4.092290492099753],\"audience\":[-3.5021776595613523,-9.885704855015677]}},\"id\":\"1432\",\"type\":\"StaticLayoutProvider\"},{\"attributes\":{\"data_source\":{\"id\":\"1429\"},\"glyph\":{\"id\":\"1447\"},\"hover_glyph\":null,\"muted_glyph\":null,\"view\":{\"id\":\"1431\"}},\"id\":\"1430\",\"type\":\"GlyphRenderer\"},{\"attributes\":{\"data_source\":{\"id\":\"1425\"},\"glyph\":{\"id\":\"1442\"},\"hover_glyph\":null,\"muted_glyph\":null,\"view\":{\"id\":\"1427\"}},\"id\":\"1426\",\"type\":\"GlyphRenderer\"},{\"attributes\":{},\"id\":\"1414\",\"type\":\"SaveTool\"},{\"attributes\":{\"axis\":{\"id\":\"1408\"},\"dimension\":1,\"ticker\":null},\"id\":\"1411\",\"type\":\"Grid\"},{\"attributes\":{\"fill_color\":{\"field\":\"adjusted_node_size\",\"transform\":{\"id\":\"1441\"}},\"size\":{\"field\":\"adjusted_node_size\"}},\"id\":\"1442\",\"type\":\"Circle\"},{\"attributes\":{},\"id\":\"1492\",\"type\":\"Selection\"},{\"attributes\":{},\"id\":\"1475\",\"type\":\"AllLabels\"},{\"attributes\":{\"data\":{\"adjusted_node_size\":[10,42,7,7,6,6,10,6,6,6,6,6,6,7,7,6,7,7,8,11,6,6,6,6,6,6,6,6,6,9,7,6,7,7,7,6,6,6,6,6,6,6,6,6],\"degree\":[5,37,2,2,1,1,5,1,1,1,1,1,1,2,2,1,2,2,3,6,1,1,1,1,1,1,1,1,1,4,2,1,2,2,2,1,1,1,1,1,1,1,1,1],\"index\":[\"ALICE\",\"BILL\",\"BABY-SITTER\",\"HELENA\",\"DOORMAN\",\"DRIVER\",\"ZIEGLER\",\"NICK\",\"SZABO\",\"GAYLE\",\"NUALA\",\" GAYLE\",\" NUALA\",\"HARRIS\",\"V.O.\",\"audience\",\"MARION\",\"CARL\",\"DOMINO\",\"GIBSON\",\"KIMONO1\",\" KIMONO2\",\"KIMONO2\",\"YOUNG GIRL\",\" YOUNG GIRL\",\"CAB DRIVER\",\"GATEMAN 1\",\"SERVANTS\",\"SERVANT 1\",\"THE WOMAN\",\"ANOTHER WOMAN\",\"TALL MAN\",\"ELEGANT MAN\",\"CLEANING LADY\",\"MANAGERESS\",\"DESK CLERK\",\"SERVANT\",\"ARTY WOMANB\",\"ARTY WOMAN\",\"SALLY\",\"WAITRESS\",\"CLERK\",\"ORDERLY\",\"UNKNOWN\"]},\"selected\":{\"id\":\"1492\"},\"selection_policy\":{\"id\":\"1493\"}},\"id\":\"1425\",\"type\":\"ColumnDataSource\"},{\"attributes\":{},\"id\":\"1476\",\"type\":\"BasicTickFormatter\"},{\"attributes\":{\"source\":{\"id\":\"1429\"}},\"id\":\"1431\",\"type\":\"CDSView\"},{\"attributes\":{},\"id\":\"1489\",\"type\":\"BasicTickFormatter\"},{\"attributes\":{\"active_multi\":null,\"active_scroll\":{\"id\":\"1413\"},\"tools\":[{\"id\":\"1412\"},{\"id\":\"1413\"},{\"id\":\"1414\"},{\"id\":\"1415\"},{\"id\":\"1416\"}]},\"id\":\"1417\",\"type\":\"Toolbar\"},{\"attributes\":{},\"id\":\"1415\",\"type\":\"ResetTool\"},{\"attributes\":{\"edge_renderer\":{\"id\":\"1430\"},\"inspection_policy\":{\"id\":\"1481\"},\"layout_provider\":{\"id\":\"1432\"},\"node_renderer\":{\"id\":\"1426\"},\"selection_policy\":{\"id\":\"1482\"}},\"id\":\"1423\",\"type\":\"GraphRenderer\"},{\"attributes\":{},\"id\":\"1481\",\"type\":\"NodesOnly\"},{\"attributes\":{},\"id\":\"1482\",\"type\":\"NodesOnly\"},{\"attributes\":{},\"id\":\"1405\",\"type\":\"BasicTicker\"},{\"attributes\":{},\"id\":\"1402\",\"type\":\"LinearScale\"},{\"attributes\":{},\"id\":\"1409\",\"type\":\"BasicTicker\"},{\"attributes\":{\"formatter\":{\"id\":\"1489\"},\"major_label_policy\":{\"id\":\"1488\"},\"ticker\":{\"id\":\"1405\"}},\"id\":\"1404\",\"type\":\"LinearAxis\"},{\"attributes\":{\"end\":10.1,\"start\":-10.1},\"id\":\"1394\",\"type\":\"Range1d\"},{\"attributes\":{},\"id\":\"1488\",\"type\":\"AllLabels\"},{\"attributes\":{\"data\":{\"Interaction Count\":[80,1,4,2,23,3,1,2,38,51,5,6,2,1,6,4,1,20,12,4,31,32,4,8,1,1,8,1,9,1,3,11,1,1,4,4,2,5,1,1,1,1,4,2,3,2,3,1,1,1,1,1,2,1],\"end\":[\"BILL\",\"BABY-SITTER\",\"HELENA\",\"ZIEGLER\",\"SZABO\",\"DOORMAN\",\"BABY-SITTER\",\"DRIVER\",\"ZIEGLER\",\"NICK\",\"GAYLE\",\"NUALA\",\" GAYLE\",\" NUALA\",\"BILL\",\"HARRIS\",\"HELENA\",\"MARION\",\"V.O.\",\"CARL\",\"DOMINO\",\"GIBSON\",\"CAB DRIVER\",\"GATEMAN 1\",\"SERVANTS\",\"SERVANT 1\",\"THE WOMAN\",\"ANOTHER WOMAN\",\"ELEGANT MAN\",\"CLEANING LADY\",\"MANAGERESS\",\"DESK CLERK\",\"SERVANT\",\"ARTY WOMANB\",\"ARTY WOMAN\",\"SALLY\",\"WAITRESS\",\"CLERK\",\"ORDERLY\",\"UNKNOWN\",\"HARRIS\",\"ZIEGLER\",\"audience\",\"CARL\",\"DOMINO\",\"KIMONO1\",\" KIMONO2\",\"KIMONO2\",\"YOUNG GIRL\",\" YOUNG GIRL\",\"ANOTHER WOMAN\",\"TALL MAN\",\"ELEGANT MAN\",\"MANAGERESS\"],\"start\":[\"ALICE\",\"ALICE\",\"ALICE\",\"ALICE\",\"ALICE\",\"BILL\",\"BILL\",\"BILL\",\"BILL\",\"BILL\",\"BILL\",\"BILL\",\"BILL\",\"BILL\",\"BILL\",\"BILL\",\"BILL\",\"BILL\",\"BILL\",\"BILL\",\"BILL\",\"BILL\",\"BILL\",\"BILL\",\"BILL\",\"BILL\",\"BILL\",\"BILL\",\"BILL\",\"BILL\",\"BILL\",\"BILL\",\"BILL\",\"BILL\",\"BILL\",\"BILL\",\"BILL\",\"BILL\",\"BILL\",\"BILL\",\"ZIEGLER\",\"ZIEGLER\",\"V.O.\",\"MARION\",\"DOMINO\",\"GIBSON\",\"GIBSON\",\"GIBSON\",\"GIBSON\",\"GIBSON\",\"THE WOMAN\",\"THE WOMAN\",\"THE WOMAN\",\"CLEANING LADY\"]},\"selected\":{\"id\":\"1490\"},\"selection_policy\":{\"id\":\"1491\"}},\"id\":\"1429\",\"type\":\"ColumnDataSource\"},{\"attributes\":{\"end\":10.1,\"start\":-10.1},\"id\":\"1393\",\"type\":\"Range1d\"},{\"attributes\":{\"line_alpha\":{\"value\":0.5}},\"id\":\"1447\",\"type\":\"MultiLine\"},{\"attributes\":{},\"id\":\"1490\",\"type\":\"Selection\"},{\"attributes\":{\"formatter\":{\"id\":\"1476\"},\"major_label_policy\":{\"id\":\"1475\"},\"ticker\":{\"id\":\"1409\"}},\"id\":\"1408\",\"type\":\"LinearAxis\"},{\"attributes\":{\"high\":42,\"low\":6,\"palette\":[\"#084594\",\"#2171b5\",\"#4292c6\",\"#6baed6\",\"#9ecae1\",\"#c6dbef\",\"#deebf7\",\"#f7fbff\"]},\"id\":\"1441\",\"type\":\"LinearColorMapper\"},{\"attributes\":{},\"id\":\"1400\",\"type\":\"LinearScale\"},{\"attributes\":{\"axis\":{\"id\":\"1404\"},\"ticker\":null},\"id\":\"1407\",\"type\":\"Grid\"},{\"attributes\":{\"text\":\"Screenplay 1996 Network\"},\"id\":\"1396\",\"type\":\"Title\"},{\"attributes\":{\"callback\":null,\"tooltips\":[[\"Character\",\"@index\"],[\"Interactions\",\"@degree\"]]},\"id\":\"1416\",\"type\":\"HoverTool\"},{\"attributes\":{},\"id\":\"1491\",\"type\":\"UnionRenderers\"},{\"attributes\":{},\"id\":\"1493\",\"type\":\"UnionRenderers\"},{\"attributes\":{},\"id\":\"1412\",\"type\":\"PanTool\"}],\"root_ids\":[\"1395\"]},\"title\":\"Bokeh Application\",\"version\":\"2.3.3\"}};\n  var render_items = [{\"docid\":\"0aebdf3b-01bd-48ab-9318-3473ffa14e7d\",\"root_ids\":[\"1395\"],\"roots\":{\"1395\":\"c83d9984-2f2c-4584-b382-515f22e15058\"}}];\n  root.Bokeh.embed.embed_items_notebook(docs_json, render_items);\n\n  }\n  if (root.Bokeh !== undefined) {\n    embed_document(root);\n  } else {\n    var attempts = 0;\n    var timer = setInterval(function(root) {\n      if (root.Bokeh !== undefined) {\n        clearInterval(timer);\n        embed_document(root);\n      } else {\n        attempts++;\n        if (attempts > 100) {\n          clearInterval(timer);\n          console.log(\"Bokeh: ERROR: Unable to run BokehJS code because BokehJS library is missing\");\n        }\n      }\n    }, 10, root)\n  }\n})(window);",
      "application/vnd.bokehjs_exec.v0+json": ""
     },
     "metadata": {
      "application/vnd.bokehjs_exec.v0+json": {
       "id": "1395"
      }
     },
     "output_type": "display_data"
    }
   ],
   "source": [
    "#Choose attributes from G network to size and color by — setting manual size (e.g. 10) or color (e.g. 'skyblue') also allowed\n",
    "size_by_this_attribute = 'adjusted_node_size'\n",
    "color_by_this_attribute = 'adjusted_node_size'\n",
    "\n",
    "#Pick a color palette — Blues8, Reds8, Purples8, Oranges8, Viridis8\n",
    "color_palette = Blues8\n",
    "\n",
    "#Choose a title!\n",
    "title = 'Screenplay 1996 Network'\n",
    "\n",
    "#Establish which categories will appear when hovering over each node\n",
    "HOVER_TOOLTIPS = [\n",
    "       (\"Character\", \"@index\"),\n",
    "        (\"Interactions\", \"@degree\")\n",
    "]\n",
    "\n",
    "#Create a plot — set dimensions, toolbar, and title\n",
    "plot = figure(tooltips = HOVER_TOOLTIPS,\n",
    "              tools=\"pan,wheel_zoom,save,reset\", active_scroll='wheel_zoom',\n",
    "            x_range=Range1d(-10.1, 10.1), y_range=Range1d(-10.1, 10.1), title=title)\n",
    "\n",
    "#Create a network graph object\n",
    "# https://networkx.github.io/documentation/networkx-1.9/reference/generated/networkx.drawing.layout.spring_layout.html\\\n",
    "network_graph = from_networkx(G, networkx.spring_layout, scale=10, center=(0, 0))\n",
    "\n",
    "#Set node sizes and colors according to node degree (color as spectrum of color palette)\n",
    "minimum_value_color = min(network_graph.node_renderer.data_source.data[color_by_this_attribute])\n",
    "maximum_value_color = max(network_graph.node_renderer.data_source.data[color_by_this_attribute])\n",
    "network_graph.node_renderer.glyph = Circle(size=size_by_this_attribute, fill_color=linear_cmap(color_by_this_attribute, color_palette, minimum_value_color, maximum_value_color))\n",
    "\n",
    "#Set edge opacity and width\n",
    "network_graph.edge_renderer.glyph = MultiLine(line_alpha=0.5, line_width=1)\n",
    "\n",
    "plot.renderers.append(network_graph)\n",
    "\n",
    "show(plot)\n",
    "#save(plot, filename=f\"{title}.html\")"
   ]
  },
  {
   "cell_type": "code",
   "execution_count": 12,
   "metadata": {},
   "outputs": [],
   "source": [
    "from bokeh.io import output_notebook, show, save\n",
    "from bokeh.models import Range1d, Circle, ColumnDataSource, MultiLine\n",
    "from bokeh.plotting import figure\n",
    "from bokeh.plotting import from_networkx\n",
    "from bokeh.palettes import Blues8, Reds8, Purples8, Oranges8, Viridis8, Spectral8\n",
    "from bokeh.transform import linear_cmap\n",
    "from networkx.algorithms import community"
   ]
  },
  {
   "cell_type": "code",
   "execution_count": 13,
   "metadata": {},
   "outputs": [],
   "source": [
    "degrees = dict(networkx.degree(G))\n",
    "networkx.set_node_attributes(G, name='degree', values=degrees)"
   ]
  },
  {
   "cell_type": "code",
   "execution_count": 14,
   "metadata": {},
   "outputs": [],
   "source": [
    "number_to_adjust_by = 5\n",
    "adjusted_node_size = dict([(node, degree+number_to_adjust_by) for node, degree in networkx.degree(G)])\n",
    "networkx.set_node_attributes(G, name='adjusted_node_size', values=adjusted_node_size)"
   ]
  },
  {
   "cell_type": "code",
   "execution_count": 15,
   "metadata": {},
   "outputs": [],
   "source": [
    "communities = community.greedy_modularity_communities(G)"
   ]
  },
  {
   "cell_type": "code",
   "execution_count": 16,
   "metadata": {},
   "outputs": [],
   "source": [
    "# Create empty dictionaries\n",
    "modularity_class = {}\n",
    "modularity_color = {}\n",
    "#Loop through each community in the network\n",
    "for community_number, community in enumerate(communities):\n",
    "    #For each member of the community, add their community number and a distinct color\n",
    "    for name in community: \n",
    "        modularity_class[name] = community_number\n",
    "        modularity_color[name] = Spectral8[community_number]"
   ]
  },
  {
   "cell_type": "code",
   "execution_count": 17,
   "metadata": {},
   "outputs": [],
   "source": [
    "# Add modularity class and color as attributes from the network above\n",
    "networkx.set_node_attributes(G, modularity_class, 'modularity_class')\n",
    "networkx.set_node_attributes(G, modularity_color, 'modularity_color')"
   ]
  },
  {
   "cell_type": "code",
   "execution_count": 18,
   "metadata": {},
   "outputs": [
    {
     "data": {
      "text/html": [
       "\n",
       "\n",
       "\n",
       "\n",
       "\n",
       "\n",
       "  <div class=\"bk-root\" id=\"f04d5d9f-167f-4b78-a4a3-25fbf24bb453\" data-root-id=\"1613\"></div>\n"
      ]
     },
     "metadata": {},
     "output_type": "display_data"
    },
    {
     "data": {
      "application/javascript": "(function(root) {\n  function embed_document(root) {\n    \n  var docs_json = {\"b8e8c8fe-d812-4b90-941d-2d82afa7a2e2\":{\"defs\":[],\"roots\":{\"references\":[{\"attributes\":{\"below\":[{\"id\":\"1622\"}],\"center\":[{\"id\":\"1625\"},{\"id\":\"1629\"}],\"left\":[{\"id\":\"1626\"}],\"renderers\":[{\"id\":\"1643\"}],\"title\":{\"id\":\"1614\"},\"toolbar\":{\"id\":\"1636\"},\"x_range\":{\"id\":\"1611\"},\"x_scale\":{\"id\":\"1618\"},\"y_range\":{\"id\":\"1612\"},\"y_scale\":{\"id\":\"1620\"}},\"id\":\"1613\",\"subtype\":\"Figure\",\"type\":\"Plot\"},{\"attributes\":{\"end\":10.1,\"start\":-10.1},\"id\":\"1612\",\"type\":\"Range1d\"},{\"attributes\":{\"formatter\":{\"id\":\"1721\"},\"major_label_policy\":{\"id\":\"1720\"},\"ticker\":{\"id\":\"1623\"}},\"id\":\"1622\",\"type\":\"LinearAxis\"},{\"attributes\":{\"graph_layout\":{\" GAYLE\":[1.8198865611395996,-2.2712384658879197],\" KIMONO2\":[6.3664029829239155,-8.421890646765426],\" NUALA\":[0.43509517696027217,4.576934417893178],\" YOUNG GIRL\":[4.037222153891623,-9.060750456599214],\"ALICE\":[-1.0579219840657612,-4.141291604889516],\"ANOTHER WOMAN\":[-1.9325407865177608,4.954754362066916],\"ARTY WOMAN\":[-4.968442171207011,-0.9598023064256045],\"ARTY WOMANB\":[-3.010671374847005,-2.854256573840987],\"BABY-SITTER\":[-1.7211205437113721,-3.0084750674150187],\"BILL\":[-0.7989958074806276,0.8102971411506152],\"CAB DRIVER\":[-5.251827885403817,1.492834322147134],\"CARL\":[-1.1613003977814778,3.4097514475361126],\"CLEANING LADY\":[0.7473203984243036,2.991390167412792],\"CLERK\":[2.843060521428176,2.438304016307052],\"DESK CLERK\":[1.6720325440078967,4.4837913925322175],\"DOMINO\":[3.226117137811401,1.004254732256457],\"DOORMAN\":[-4.988649621764837,2.706631687112029],\"DRIVER\":[3.095365298455741,-0.4022588338359361],\"ELEGANT MAN\":[-0.6870813285604053,5.1398916573842275],\"GATEMAN 1\":[1.7570555353353763,-0.09661601328810461],\"GAYLE\":[-4.118063913684277,3.9006871953587203],\"GIBSON\":[4.129810425416279,-5.519062354000616],\"HARRIS\":[1.4278476337335166,-1.4246271766550924],\"HELENA\":[-0.7174810952766624,-2.5769983442015882],\"KIMONO1\":[7.506577352116334,-6.201822806332055],\"KIMONO2\":[5.23888996511234,-8.726436760107875],\"MANAGERESS\":[1.807566692201378,3.232829582272882],\"MARION\":[-2.168886577833585,2.8221983187018576],\"NICK\":[1.729677857484251,1.3792532652184684],\"NUALA\":[-1.873745855441951,-0.836289459278245],\"ORDERLY\":[-3.893855583728886,-0.13603590681824496],\"SALLY\":[-5.258541809721526,0.308097678431121],\"SERVANT\":[-3.574652355003046,1.1927189927202597],\"SERVANT 1\":[-3.770459723646696,2.5652257800967946],\"SERVANTS\":[-3.0978253648481906,-1.5525580655949716],\"SZABO\":[-2.0088492432504648,-7.74849143249216],\"TALL MAN\":[-2.375640692343378,10.0],\"THE WOMAN\":[-1.676180793984952,6.3240316657444735],\"UNKNOWN\":[-2.9970995057721637,4.231212638790635],\"V.O.\":[4.3527940641809515,3.2402084386182857],\"WAITRESS\":[-4.2435172983128435,-2.014643511039095],\"YOUNG GIRL\":[7.08006804519826,-7.421396362835342],\"ZIEGLER\":[0.3514255679791821,-2.669438315676115],\"audience\":[7.729135800387865,4.839081564226837]}},\"id\":\"1652\",\"type\":\"StaticLayoutProvider\"},{\"attributes\":{\"active_multi\":null,\"active_scroll\":{\"id\":\"1631\"},\"tools\":[{\"id\":\"1630\"},{\"id\":\"1631\"},{\"id\":\"1632\"},{\"id\":\"1633\"},{\"id\":\"1634\"},{\"id\":\"1635\"}]},\"id\":\"1636\",\"type\":\"Toolbar\"},{\"attributes\":{},\"id\":\"1722\",\"type\":\"Selection\"},{\"attributes\":{\"axis\":{\"id\":\"1626\"},\"dimension\":1,\"ticker\":null},\"id\":\"1629\",\"type\":\"Grid\"},{\"attributes\":{\"data\":{\"adjusted_node_size\":[10,42,7,7,6,6,10,6,6,6,6,6,6,7,7,6,7,7,8,11,6,6,6,6,6,6,6,6,6,9,7,6,7,7,7,6,6,6,6,6,6,6,6,6],\"degree\":[5,37,2,2,1,1,5,1,1,1,1,1,1,2,2,1,2,2,3,6,1,1,1,1,1,1,1,1,1,4,2,1,2,2,2,1,1,1,1,1,1,1,1,1],\"index\":[\"ALICE\",\"BILL\",\"BABY-SITTER\",\"HELENA\",\"DOORMAN\",\"DRIVER\",\"ZIEGLER\",\"NICK\",\"SZABO\",\"GAYLE\",\"NUALA\",\" GAYLE\",\" NUALA\",\"HARRIS\",\"V.O.\",\"audience\",\"MARION\",\"CARL\",\"DOMINO\",\"GIBSON\",\"KIMONO1\",\" KIMONO2\",\"KIMONO2\",\"YOUNG GIRL\",\" YOUNG GIRL\",\"CAB DRIVER\",\"GATEMAN 1\",\"SERVANTS\",\"SERVANT 1\",\"THE WOMAN\",\"ANOTHER WOMAN\",\"TALL MAN\",\"ELEGANT MAN\",\"CLEANING LADY\",\"MANAGERESS\",\"DESK CLERK\",\"SERVANT\",\"ARTY WOMANB\",\"ARTY WOMAN\",\"SALLY\",\"WAITRESS\",\"CLERK\",\"ORDERLY\",\"UNKNOWN\"],\"modularity_class\":[1,0,1,1,0,0,1,0,1,0,0,0,0,1,4,4,5,5,7,2,2,2,2,2,2,0,0,0,0,3,3,3,3,6,6,0,0,0,0,0,0,0,0,0],\"modularity_color\":[\"#66c2a5\",\"#3288bd\",\"#66c2a5\",\"#66c2a5\",\"#3288bd\",\"#3288bd\",\"#66c2a5\",\"#3288bd\",\"#66c2a5\",\"#3288bd\",\"#3288bd\",\"#3288bd\",\"#3288bd\",\"#66c2a5\",\"#fee08b\",\"#fee08b\",\"#fdae61\",\"#fdae61\",\"#d53e4f\",\"#abdda4\",\"#abdda4\",\"#abdda4\",\"#abdda4\",\"#abdda4\",\"#abdda4\",\"#3288bd\",\"#3288bd\",\"#3288bd\",\"#3288bd\",\"#e6f598\",\"#e6f598\",\"#e6f598\",\"#e6f598\",\"#f46d43\",\"#f46d43\",\"#3288bd\",\"#3288bd\",\"#3288bd\",\"#3288bd\",\"#3288bd\",\"#3288bd\",\"#3288bd\",\"#3288bd\",\"#3288bd\"]},\"selected\":{\"id\":\"1724\"},\"selection_policy\":{\"id\":\"1725\"}},\"id\":\"1645\",\"type\":\"ColumnDataSource\"},{\"attributes\":{},\"id\":\"1723\",\"type\":\"UnionRenderers\"},{\"attributes\":{\"callback\":null},\"id\":\"1634\",\"type\":\"TapTool\"},{\"attributes\":{\"source\":{\"id\":\"1649\"}},\"id\":\"1651\",\"type\":\"CDSView\"},{\"attributes\":{},\"id\":\"1632\",\"type\":\"SaveTool\"},{\"attributes\":{},\"id\":\"1708\",\"type\":\"BasicTickFormatter\"},{\"attributes\":{\"data\":{\"Interaction Count\":[80,1,4,2,23,3,1,2,38,51,5,6,2,1,6,4,1,20,12,4,31,32,4,8,1,1,8,1,9,1,3,11,1,1,4,4,2,5,1,1,1,1,4,2,3,2,3,1,1,1,1,1,2,1],\"end\":[\"BILL\",\"BABY-SITTER\",\"HELENA\",\"ZIEGLER\",\"SZABO\",\"DOORMAN\",\"BABY-SITTER\",\"DRIVER\",\"ZIEGLER\",\"NICK\",\"GAYLE\",\"NUALA\",\" GAYLE\",\" NUALA\",\"BILL\",\"HARRIS\",\"HELENA\",\"MARION\",\"V.O.\",\"CARL\",\"DOMINO\",\"GIBSON\",\"CAB DRIVER\",\"GATEMAN 1\",\"SERVANTS\",\"SERVANT 1\",\"THE WOMAN\",\"ANOTHER WOMAN\",\"ELEGANT MAN\",\"CLEANING LADY\",\"MANAGERESS\",\"DESK CLERK\",\"SERVANT\",\"ARTY WOMANB\",\"ARTY WOMAN\",\"SALLY\",\"WAITRESS\",\"CLERK\",\"ORDERLY\",\"UNKNOWN\",\"HARRIS\",\"ZIEGLER\",\"audience\",\"CARL\",\"DOMINO\",\"KIMONO1\",\" KIMONO2\",\"KIMONO2\",\"YOUNG GIRL\",\" YOUNG GIRL\",\"ANOTHER WOMAN\",\"TALL MAN\",\"ELEGANT MAN\",\"MANAGERESS\"],\"start\":[\"ALICE\",\"ALICE\",\"ALICE\",\"ALICE\",\"ALICE\",\"BILL\",\"BILL\",\"BILL\",\"BILL\",\"BILL\",\"BILL\",\"BILL\",\"BILL\",\"BILL\",\"BILL\",\"BILL\",\"BILL\",\"BILL\",\"BILL\",\"BILL\",\"BILL\",\"BILL\",\"BILL\",\"BILL\",\"BILL\",\"BILL\",\"BILL\",\"BILL\",\"BILL\",\"BILL\",\"BILL\",\"BILL\",\"BILL\",\"BILL\",\"BILL\",\"BILL\",\"BILL\",\"BILL\",\"BILL\",\"BILL\",\"ZIEGLER\",\"ZIEGLER\",\"V.O.\",\"MARION\",\"DOMINO\",\"GIBSON\",\"GIBSON\",\"GIBSON\",\"GIBSON\",\"GIBSON\",\"THE WOMAN\",\"THE WOMAN\",\"THE WOMAN\",\"CLEANING LADY\"]},\"selected\":{\"id\":\"1722\"},\"selection_policy\":{\"id\":\"1723\"}},\"id\":\"1649\",\"type\":\"ColumnDataSource\"},{\"attributes\":{},\"id\":\"1724\",\"type\":\"Selection\"},{\"attributes\":{},\"id\":\"1627\",\"type\":\"BasicTicker\"},{\"attributes\":{\"formatter\":{\"id\":\"1708\"},\"major_label_policy\":{\"id\":\"1707\"},\"ticker\":{\"id\":\"1627\"}},\"id\":\"1626\",\"type\":\"LinearAxis\"},{\"attributes\":{},\"id\":\"1713\",\"type\":\"NodesOnly\"},{\"attributes\":{},\"id\":\"1725\",\"type\":\"UnionRenderers\"},{\"attributes\":{},\"id\":\"1714\",\"type\":\"NodesOnly\"},{\"attributes\":{},\"id\":\"1707\",\"type\":\"AllLabels\"},{\"attributes\":{},\"id\":\"1631\",\"type\":\"WheelZoomTool\"},{\"attributes\":{},\"id\":\"1620\",\"type\":\"LinearScale\"},{\"attributes\":{\"axis\":{\"id\":\"1622\"},\"ticker\":null},\"id\":\"1625\",\"type\":\"Grid\"},{\"attributes\":{},\"id\":\"1720\",\"type\":\"AllLabels\"},{\"attributes\":{},\"id\":\"1633\",\"type\":\"ResetTool\"},{\"attributes\":{},\"id\":\"1623\",\"type\":\"BasicTicker\"},{\"attributes\":{},\"id\":\"1721\",\"type\":\"BasicTickFormatter\"},{\"attributes\":{\"callback\":null,\"tooltips\":[[\"Character\",\"@index\"],[\"Interactions\",\"@degree\"],[\"Modularity Class\",\"@modularity_class\"],[\"Modularity Color\",\"$color[swatch]:modularity_color\"]]},\"id\":\"1635\",\"type\":\"HoverTool\"},{\"attributes\":{\"edge_renderer\":{\"id\":\"1650\"},\"inspection_policy\":{\"id\":\"1713\"},\"layout_provider\":{\"id\":\"1652\"},\"node_renderer\":{\"id\":\"1646\"},\"selection_policy\":{\"id\":\"1714\"}},\"id\":\"1643\",\"type\":\"GraphRenderer\"},{\"attributes\":{},\"id\":\"1618\",\"type\":\"LinearScale\"},{\"attributes\":{\"source\":{\"id\":\"1645\"}},\"id\":\"1647\",\"type\":\"CDSView\"},{\"attributes\":{},\"id\":\"1630\",\"type\":\"PanTool\"},{\"attributes\":{\"data_source\":{\"id\":\"1645\"},\"glyph\":{\"id\":\"1653\"},\"hover_glyph\":null,\"muted_glyph\":null,\"view\":{\"id\":\"1647\"}},\"id\":\"1646\",\"type\":\"GlyphRenderer\"},{\"attributes\":{\"data_source\":{\"id\":\"1649\"},\"glyph\":{\"id\":\"1658\"},\"hover_glyph\":null,\"muted_glyph\":null,\"view\":{\"id\":\"1651\"}},\"id\":\"1650\",\"type\":\"GlyphRenderer\"},{\"attributes\":{\"line_alpha\":{\"value\":0.5}},\"id\":\"1658\",\"type\":\"MultiLine\"},{\"attributes\":{\"text\":\"Screenplay 1996 Network\"},\"id\":\"1614\",\"type\":\"Title\"},{\"attributes\":{\"end\":10.1,\"start\":-10.1},\"id\":\"1611\",\"type\":\"Range1d\"},{\"attributes\":{\"fill_color\":{\"field\":\"modularity_color\"},\"size\":{\"field\":\"adjusted_node_size\"}},\"id\":\"1653\",\"type\":\"Circle\"}],\"root_ids\":[\"1613\"]},\"title\":\"Bokeh Application\",\"version\":\"2.3.3\"}};\n  var render_items = [{\"docid\":\"b8e8c8fe-d812-4b90-941d-2d82afa7a2e2\",\"root_ids\":[\"1613\"],\"roots\":{\"1613\":\"f04d5d9f-167f-4b78-a4a3-25fbf24bb453\"}}];\n  root.Bokeh.embed.embed_items_notebook(docs_json, render_items);\n\n  }\n  if (root.Bokeh !== undefined) {\n    embed_document(root);\n  } else {\n    var attempts = 0;\n    var timer = setInterval(function(root) {\n      if (root.Bokeh !== undefined) {\n        clearInterval(timer);\n        embed_document(root);\n      } else {\n        attempts++;\n        if (attempts > 100) {\n          clearInterval(timer);\n          console.log(\"Bokeh: ERROR: Unable to run BokehJS code because BokehJS library is missing\");\n        }\n      }\n    }, 10, root)\n  }\n})(window);",
      "application/vnd.bokehjs_exec.v0+json": ""
     },
     "metadata": {
      "application/vnd.bokehjs_exec.v0+json": {
       "id": "1613"
      }
     },
     "output_type": "display_data"
    }
   ],
   "source": [
    "#Choose attributes from G network to size and color by — setting manual size (e.g. 10) or color (e.g. 'skyblue') also allowed\n",
    "size_by_this_attribute = 'adjusted_node_size'\n",
    "color_by_this_attribute = 'modularity_color'\n",
    "#Pick a color palette — Blues8, Reds8, Purples8, Oranges8, Viridis8\n",
    "color_palette = Blues8\n",
    "#Choose a title!\n",
    "title = 'Screenplay 1996 Network'\n",
    "\n",
    "#Establish which categories will appear when hovering over each node\n",
    "HOVER_TOOLTIPS = [\n",
    "       (\"Character\", \"@index\"),\n",
    "        (\"Interactions\", \"@degree\"),\n",
    "         (\"Modularity Class\", \"@modularity_class\"),\n",
    "        (\"Modularity Color\", \"$color[swatch]:modularity_color\"),\n",
    "]\n",
    "\n",
    "#Create a plot — set dimensions, toolbar, and title\n",
    "plot = figure(tooltips = HOVER_TOOLTIPS,\n",
    "              tools=\"pan,wheel_zoom,save,reset, tap\", active_scroll='wheel_zoom',\n",
    "            x_range=Range1d(-10.1, 10.1), y_range=Range1d(-10.1, 10.1), title=title)\n",
    "\n",
    "#Create a network graph object\n",
    "# https://networkx.github.io/documentation/networkx-1.9/reference/generated/networkx.drawing.layout.spring_layout.html\n",
    "network_graph = from_networkx(G, networkx.spring_layout, scale=10, center=(0, 0))\n",
    "\n",
    "#Set node sizes and colors according to node degree (color as category from attribute)\n",
    "network_graph.node_renderer.glyph = Circle(size=size_by_this_attribute, fill_color=color_by_this_attribute)\n",
    "\n",
    "#Set edge opacity and width\n",
    "network_graph.edge_renderer.glyph = MultiLine(line_alpha=0.5, line_width=1)\n",
    "\n",
    "plot.renderers.append(network_graph)\n",
    "\n",
    "show(plot)\n",
    "#save(plot, filename=f\"{title}.html\")"
   ]
  },
  {
   "cell_type": "code",
   "execution_count": 19,
   "metadata": {},
   "outputs": [],
   "source": [
    "from bokeh.io import output_notebook, show, save\n",
    "from bokeh.models import Range1d, Circle, ColumnDataSource, MultiLine, EdgesAndLinkedNodes, NodesAndLinkedEdges, LabelSet\n",
    "from bokeh.plotting import figure\n",
    "from bokeh.plotting import from_networkx\n",
    "from bokeh.palettes import Blues8, Reds8, Purples8, Oranges8, Viridis8, Spectral8\n",
    "from bokeh.transform import linear_cmap\n",
    "from networkx.algorithms import community"
   ]
  },
  {
   "cell_type": "code",
   "execution_count": 20,
   "metadata": {},
   "outputs": [],
   "source": [
    "degrees = dict(networkx.degree(G))\n",
    "networkx.set_node_attributes(G, name='degree', values=degrees)"
   ]
  },
  {
   "cell_type": "code",
   "execution_count": 21,
   "metadata": {},
   "outputs": [],
   "source": [
    "number_to_adjust_by = 5\n",
    "adjusted_node_size = dict([(node, degree+number_to_adjust_by) for node, degree in networkx.degree(G)])\n",
    "networkx.set_node_attributes(G, name='adjusted_node_size', values=adjusted_node_size)"
   ]
  },
  {
   "cell_type": "code",
   "execution_count": 22,
   "metadata": {},
   "outputs": [],
   "source": [
    "communities = community.greedy_modularity_communities(G)"
   ]
  },
  {
   "cell_type": "code",
   "execution_count": 23,
   "metadata": {},
   "outputs": [
    {
     "data": {
      "text/html": [
       "\n",
       "\n",
       "\n",
       "\n",
       "\n",
       "\n",
       "  <div class=\"bk-root\" id=\"1f389bad-0962-4f36-ad80-d8ebb5b19673\" data-root-id=\"1845\"></div>\n"
      ]
     },
     "metadata": {},
     "output_type": "display_data"
    },
    {
     "data": {
      "application/javascript": "(function(root) {\n  function embed_document(root) {\n    \n  var docs_json = {\"4ad7d4bb-fe24-4bdd-b824-93dee096e5d6\":{\"defs\":[],\"roots\":{\"references\":[{\"attributes\":{\"below\":[{\"id\":\"1854\"}],\"center\":[{\"id\":\"1857\"},{\"id\":\"1861\"}],\"left\":[{\"id\":\"1858\"}],\"renderers\":[{\"id\":\"1873\"},{\"id\":\"1918\"}],\"title\":{\"id\":\"1846\"},\"toolbar\":{\"id\":\"1867\"},\"x_range\":{\"id\":\"1843\"},\"x_scale\":{\"id\":\"1850\"},\"y_range\":{\"id\":\"1844\"},\"y_scale\":{\"id\":\"1852\"}},\"id\":\"1845\",\"subtype\":\"Figure\",\"type\":\"Plot\"},{\"attributes\":{},\"id\":\"1862\",\"type\":\"PanTool\"},{\"attributes\":{},\"id\":\"1864\",\"type\":\"SaveTool\"},{\"attributes\":{},\"id\":\"1998\",\"type\":\"Selection\"},{\"attributes\":{},\"id\":\"2003\",\"type\":\"UnionRenderers\"},{\"attributes\":{\"fill_color\":{\"value\":\"white\"},\"line_width\":{\"value\":2},\"size\":{\"field\":\"adjusted_node_size\"}},\"id\":\"1888\",\"type\":\"Circle\"},{\"attributes\":{},\"id\":\"1999\",\"type\":\"UnionRenderers\"},{\"attributes\":{\"data\":{\"adjusted_node_size\":[10,42,7,7,6,6,10,6,6,6,6,6,6,7,7,6,7,7,8,11,6,6,6,6,6,6,6,6,6,9,7,6,7,7,7,6,6,6,6,6,6,6,6,6],\"degree\":[5,37,2,2,1,1,5,1,1,1,1,1,1,2,2,1,2,2,3,6,1,1,1,1,1,1,1,1,1,4,2,1,2,2,2,1,1,1,1,1,1,1,1,1],\"index\":[\"ALICE\",\"BILL\",\"BABY-SITTER\",\"HELENA\",\"DOORMAN\",\"DRIVER\",\"ZIEGLER\",\"NICK\",\"SZABO\",\"GAYLE\",\"NUALA\",\" GAYLE\",\" NUALA\",\"HARRIS\",\"V.O.\",\"audience\",\"MARION\",\"CARL\",\"DOMINO\",\"GIBSON\",\"KIMONO1\",\" KIMONO2\",\"KIMONO2\",\"YOUNG GIRL\",\" YOUNG GIRL\",\"CAB DRIVER\",\"GATEMAN 1\",\"SERVANTS\",\"SERVANT 1\",\"THE WOMAN\",\"ANOTHER WOMAN\",\"TALL MAN\",\"ELEGANT MAN\",\"CLEANING LADY\",\"MANAGERESS\",\"DESK CLERK\",\"SERVANT\",\"ARTY WOMANB\",\"ARTY WOMAN\",\"SALLY\",\"WAITRESS\",\"CLERK\",\"ORDERLY\",\"UNKNOWN\"],\"modularity_class\":[1,0,1,1,0,0,1,0,1,0,0,0,0,1,4,4,5,5,7,2,2,2,2,2,2,0,0,0,0,3,3,3,3,6,6,0,0,0,0,0,0,0,0,0],\"modularity_color\":[\"#66c2a5\",\"#3288bd\",\"#66c2a5\",\"#66c2a5\",\"#3288bd\",\"#3288bd\",\"#66c2a5\",\"#3288bd\",\"#66c2a5\",\"#3288bd\",\"#3288bd\",\"#3288bd\",\"#3288bd\",\"#66c2a5\",\"#fee08b\",\"#fee08b\",\"#fdae61\",\"#fdae61\",\"#d53e4f\",\"#abdda4\",\"#abdda4\",\"#abdda4\",\"#abdda4\",\"#abdda4\",\"#abdda4\",\"#3288bd\",\"#3288bd\",\"#3288bd\",\"#3288bd\",\"#e6f598\",\"#e6f598\",\"#e6f598\",\"#e6f598\",\"#f46d43\",\"#f46d43\",\"#3288bd\",\"#3288bd\",\"#3288bd\",\"#3288bd\",\"#3288bd\",\"#3288bd\",\"#3288bd\",\"#3288bd\",\"#3288bd\"]},\"selected\":{\"id\":\"2002\"},\"selection_policy\":{\"id\":\"2003\"}},\"id\":\"1875\",\"type\":\"ColumnDataSource\"},{\"attributes\":{},\"id\":\"1852\",\"type\":\"LinearScale\"},{\"attributes\":{\"formatter\":{\"id\":\"1986\"},\"major_label_policy\":{\"id\":\"1985\"},\"ticker\":{\"id\":\"1859\"}},\"id\":\"1858\",\"type\":\"LinearAxis\"},{\"attributes\":{\"data\":{\"Interaction Count\":[80,1,4,2,23,3,1,2,38,51,5,6,2,1,6,4,1,20,12,4,31,32,4,8,1,1,8,1,9,1,3,11,1,1,4,4,2,5,1,1,1,1,4,2,3,2,3,1,1,1,1,1,2,1],\"end\":[\"BILL\",\"BABY-SITTER\",\"HELENA\",\"ZIEGLER\",\"SZABO\",\"DOORMAN\",\"BABY-SITTER\",\"DRIVER\",\"ZIEGLER\",\"NICK\",\"GAYLE\",\"NUALA\",\" GAYLE\",\" NUALA\",\"BILL\",\"HARRIS\",\"HELENA\",\"MARION\",\"V.O.\",\"CARL\",\"DOMINO\",\"GIBSON\",\"CAB DRIVER\",\"GATEMAN 1\",\"SERVANTS\",\"SERVANT 1\",\"THE WOMAN\",\"ANOTHER WOMAN\",\"ELEGANT MAN\",\"CLEANING LADY\",\"MANAGERESS\",\"DESK CLERK\",\"SERVANT\",\"ARTY WOMANB\",\"ARTY WOMAN\",\"SALLY\",\"WAITRESS\",\"CLERK\",\"ORDERLY\",\"UNKNOWN\",\"HARRIS\",\"ZIEGLER\",\"audience\",\"CARL\",\"DOMINO\",\"KIMONO1\",\" KIMONO2\",\"KIMONO2\",\"YOUNG GIRL\",\" YOUNG GIRL\",\"ANOTHER WOMAN\",\"TALL MAN\",\"ELEGANT MAN\",\"MANAGERESS\"],\"start\":[\"ALICE\",\"ALICE\",\"ALICE\",\"ALICE\",\"ALICE\",\"BILL\",\"BILL\",\"BILL\",\"BILL\",\"BILL\",\"BILL\",\"BILL\",\"BILL\",\"BILL\",\"BILL\",\"BILL\",\"BILL\",\"BILL\",\"BILL\",\"BILL\",\"BILL\",\"BILL\",\"BILL\",\"BILL\",\"BILL\",\"BILL\",\"BILL\",\"BILL\",\"BILL\",\"BILL\",\"BILL\",\"BILL\",\"BILL\",\"BILL\",\"BILL\",\"BILL\",\"BILL\",\"BILL\",\"BILL\",\"BILL\",\"ZIEGLER\",\"ZIEGLER\",\"V.O.\",\"MARION\",\"DOMINO\",\"GIBSON\",\"GIBSON\",\"GIBSON\",\"GIBSON\",\"GIBSON\",\"THE WOMAN\",\"THE WOMAN\",\"THE WOMAN\",\"CLEANING LADY\"]},\"selected\":{\"id\":\"2000\"},\"selection_policy\":{\"id\":\"2001\"}},\"id\":\"1879\",\"type\":\"ColumnDataSource\"},{\"attributes\":{},\"id\":\"1863\",\"type\":\"WheelZoomTool\"},{\"attributes\":{\"axis\":{\"id\":\"1854\"},\"ticker\":null},\"id\":\"1857\",\"type\":\"Grid\"},{\"attributes\":{},\"id\":\"1985\",\"type\":\"AllLabels\"},{\"attributes\":{\"callback\":null,\"tooltips\":[[\"Character\",\"@index\"],[\"Interactions\",\"@degree\"],[\"Modularity Class\",\"@modularity_class\"],[\"Modularity Color\",\"$color[swatch]:modularity_color\"]]},\"id\":\"1866\",\"type\":\"HoverTool\"},{\"attributes\":{},\"id\":\"1859\",\"type\":\"BasicTicker\"},{\"attributes\":{},\"id\":\"1986\",\"type\":\"BasicTickFormatter\"},{\"attributes\":{\"axis\":{\"id\":\"1858\"},\"dimension\":1,\"ticker\":null},\"id\":\"1861\",\"type\":\"Grid\"},{\"attributes\":{\"background_fill_alpha\":{\"value\":0.7},\"background_fill_color\":{\"value\":\"white\"},\"source\":{\"id\":\"1917\"},\"text\":{\"field\":\"name\"},\"text_font_size\":{\"value\":\"10px\"},\"x\":{\"field\":\"x\"},\"y\":{\"field\":\"y\"}},\"id\":\"1918\",\"type\":\"LabelSet\"},{\"attributes\":{\"line_width\":{\"value\":2}},\"id\":\"1908\",\"type\":\"MultiLine\"},{\"attributes\":{\"source\":{\"id\":\"1875\"}},\"id\":\"1877\",\"type\":\"CDSView\"},{\"attributes\":{},\"id\":\"1913\",\"type\":\"NodesAndLinkedEdges\"},{\"attributes\":{},\"id\":\"2000\",\"type\":\"Selection\"},{\"attributes\":{\"fill_color\":{\"field\":\"modularity_color\"},\"size\":{\"field\":\"adjusted_node_size\"}},\"id\":\"1883\",\"type\":\"Circle\"},{\"attributes\":{\"data\":{\"name\":[\"ALICE\",\"BILL\",\"BABY-SITTER\",\"HELENA\",\"DOORMAN\",\"DRIVER\",\"ZIEGLER\",\"NICK\",\"SZABO\",\"GAYLE\",\"NUALA\",\" GAYLE\",\" NUALA\",\"HARRIS\",\"V.O.\",\"audience\",\"MARION\",\"CARL\",\"DOMINO\",\"GIBSON\",\"KIMONO1\",\" KIMONO2\",\"KIMONO2\",\"YOUNG GIRL\",\" YOUNG GIRL\",\"CAB DRIVER\",\"GATEMAN 1\",\"SERVANTS\",\"SERVANT 1\",\"THE WOMAN\",\"ANOTHER WOMAN\",\"TALL MAN\",\"ELEGANT MAN\",\"CLEANING LADY\",\"MANAGERESS\",\"DESK CLERK\",\"SERVANT\",\"ARTY WOMANB\",\"ARTY WOMAN\",\"SALLY\",\"WAITRESS\",\"CLERK\",\"ORDERLY\",\"UNKNOWN\"],\"x\":[-5.379750056293777,-0.8205322785677464,-5.1554215256001665,-4.067228061982611,3.091495297465463,-4.467552185056642,-3.3651519510687065,-1.8457165444271713,-8.8238752205145,2.1484838649103914,-1.8679611414190567,0.7452014126400106,1.7820161579498557,-1.952520572095344,-2.699800063146804,-3.9745979527882898,0.2788617008825373,1.246987041186399,-3.8322157628875924,6.253202010759407,10.0,7.15436638149952,9.964935108332469,9.364387894775897,8.514646648231547,-5.6377440033613855,-4.572644803611752,0.28679444508552143,-0.5290255978805675,1.0632180522879902,-0.24624476062803857,2.500928520383463,1.0564738603796309,-3.3733222733985557,-4.511802505089886,3.040671166311997,1.9287346081998917,-2.8058905715282916,-3.0391612076540424,-5.68726257730314,3.680025380717813,-1.5285526319129348,2.5342256710876865,3.548319025129559],\"y\":[-3.739082038272082,-0.21761337868317085,-2.118515108203129,-2.807253386869368,-2.6187204527961447,3.4148447930253596,-3.8441557316317945,4.531348348065408,-6.050992080318558,-3.3557579337488757,-2.4254930092320133,4.01611931638725,-1.3441343496812435,-4.006609146276582,-6.082646630165409,-9.918876262699582,2.3465994833302077,1.5375818795834422,-1.0346092215169789,4.847036529266656,5.918531286557483,8.496267726867744,4.489183828524409,7.032602945773468,8.042632932880776,-0.5168949651405866,0.4192983336244603,-2.6822518441109375,4.329745880329255,-5.779996648753153,-4.611707416716695,-9.590148619544246,-4.210002360736746,2.5060841751371785,2.08249866546144,1.8502613674031951,3.11573053127609,0.8882363991745145,4.016819424354005,1.2315090126714514,-0.10016052850498139,2.9245798621241317,0.4550625804687189,-1.4369541886843034]},\"selected\":{\"id\":\"1998\"},\"selection_policy\":{\"id\":\"1999\"}},\"id\":\"1917\",\"type\":\"ColumnDataSource\"},{\"attributes\":{\"text\":\"Screenplay 1996 Network\"},\"id\":\"1846\",\"type\":\"Title\"},{\"attributes\":{},\"id\":\"2001\",\"type\":\"UnionRenderers\"},{\"attributes\":{\"edge_renderer\":{\"id\":\"1880\"},\"inspection_policy\":{\"id\":\"1915\"},\"layout_provider\":{\"id\":\"1882\"},\"node_renderer\":{\"id\":\"1876\"},\"selection_policy\":{\"id\":\"1913\"}},\"id\":\"1873\",\"type\":\"GraphRenderer\"},{\"attributes\":{\"formatter\":{\"id\":\"1997\"},\"major_label_policy\":{\"id\":\"1996\"},\"ticker\":{\"id\":\"1855\"}},\"id\":\"1854\",\"type\":\"LinearAxis\"},{\"attributes\":{\"fill_color\":{\"value\":\"white\"},\"line_width\":{\"value\":2},\"size\":{\"field\":\"adjusted_node_size\"}},\"id\":\"1893\",\"type\":\"Circle\"},{\"attributes\":{\"graph_layout\":{\" GAYLE\":[0.7452014126400106,4.01611931638725],\" KIMONO2\":[7.15436638149952,8.496267726867744],\" NUALA\":[1.7820161579498557,-1.3441343496812435],\" YOUNG GIRL\":[8.514646648231547,8.042632932880776],\"ALICE\":[-5.379750056293777,-3.739082038272082],\"ANOTHER WOMAN\":[-0.24624476062803857,-4.611707416716695],\"ARTY WOMAN\":[-3.0391612076540424,4.016819424354005],\"ARTY WOMANB\":[-2.8058905715282916,0.8882363991745145],\"BABY-SITTER\":[-5.1554215256001665,-2.118515108203129],\"BILL\":[-0.8205322785677464,-0.21761337868317085],\"CAB DRIVER\":[-5.6377440033613855,-0.5168949651405866],\"CARL\":[1.246987041186399,1.5375818795834422],\"CLEANING LADY\":[-3.3733222733985557,2.5060841751371785],\"CLERK\":[-1.5285526319129348,2.9245798621241317],\"DESK CLERK\":[3.040671166311997,1.8502613674031951],\"DOMINO\":[-3.8322157628875924,-1.0346092215169789],\"DOORMAN\":[3.091495297465463,-2.6187204527961447],\"DRIVER\":[-4.467552185056642,3.4148447930253596],\"ELEGANT MAN\":[1.0564738603796309,-4.210002360736746],\"GATEMAN 1\":[-4.572644803611752,0.4192983336244603],\"GAYLE\":[2.1484838649103914,-3.3557579337488757],\"GIBSON\":[6.253202010759407,4.847036529266656],\"HARRIS\":[-1.952520572095344,-4.006609146276582],\"HELENA\":[-4.067228061982611,-2.807253386869368],\"KIMONO1\":[10.0,5.918531286557483],\"KIMONO2\":[9.964935108332469,4.489183828524409],\"MANAGERESS\":[-4.511802505089886,2.08249866546144],\"MARION\":[0.2788617008825373,2.3465994833302077],\"NICK\":[-1.8457165444271713,4.531348348065408],\"NUALA\":[-1.8679611414190567,-2.4254930092320133],\"ORDERLY\":[2.5342256710876865,0.4550625804687189],\"SALLY\":[-5.68726257730314,1.2315090126714514],\"SERVANT\":[1.9287346081998917,3.11573053127609],\"SERVANT 1\":[-0.5290255978805675,4.329745880329255],\"SERVANTS\":[0.28679444508552143,-2.6822518441109375],\"SZABO\":[-8.8238752205145,-6.050992080318558],\"TALL MAN\":[2.500928520383463,-9.590148619544246],\"THE WOMAN\":[1.0632180522879902,-5.779996648753153],\"UNKNOWN\":[3.548319025129559,-1.4369541886843034],\"V.O.\":[-2.699800063146804,-6.082646630165409],\"WAITRESS\":[3.680025380717813,-0.10016052850498139],\"YOUNG GIRL\":[9.364387894775897,7.032602945773468],\"ZIEGLER\":[-3.3651519510687065,-3.8441557316317945],\"audience\":[-3.9745979527882898,-9.918876262699582]}},\"id\":\"1882\",\"type\":\"StaticLayoutProvider\"},{\"attributes\":{},\"id\":\"1865\",\"type\":\"ResetTool\"},{\"attributes\":{},\"id\":\"1850\",\"type\":\"LinearScale\"},{\"attributes\":{},\"id\":\"2002\",\"type\":\"Selection\"},{\"attributes\":{\"source\":{\"id\":\"1879\"}},\"id\":\"1881\",\"type\":\"CDSView\"},{\"attributes\":{},\"id\":\"1855\",\"type\":\"BasicTicker\"},{\"attributes\":{\"data_source\":{\"id\":\"1879\"},\"glyph\":{\"id\":\"1898\"},\"hover_glyph\":{\"id\":\"1908\"},\"muted_glyph\":null,\"selection_glyph\":{\"id\":\"1903\"},\"view\":{\"id\":\"1881\"}},\"id\":\"1880\",\"type\":\"GlyphRenderer\"},{\"attributes\":{\"line_alpha\":{\"value\":0.3}},\"id\":\"1898\",\"type\":\"MultiLine\"},{\"attributes\":{\"line_width\":{\"value\":2}},\"id\":\"1903\",\"type\":\"MultiLine\"},{\"attributes\":{},\"id\":\"1915\",\"type\":\"NodesAndLinkedEdges\"},{\"attributes\":{},\"id\":\"1997\",\"type\":\"BasicTickFormatter\"},{\"attributes\":{},\"id\":\"1996\",\"type\":\"AllLabels\"},{\"attributes\":{\"active_multi\":null,\"active_scroll\":{\"id\":\"1863\"},\"tools\":[{\"id\":\"1862\"},{\"id\":\"1863\"},{\"id\":\"1864\"},{\"id\":\"1865\"},{\"id\":\"1866\"}]},\"id\":\"1867\",\"type\":\"Toolbar\"},{\"attributes\":{\"data_source\":{\"id\":\"1875\"},\"glyph\":{\"id\":\"1883\"},\"hover_glyph\":{\"id\":\"1888\"},\"muted_glyph\":null,\"selection_glyph\":{\"id\":\"1893\"},\"view\":{\"id\":\"1877\"}},\"id\":\"1876\",\"type\":\"GlyphRenderer\"},{\"attributes\":{\"end\":10.1,\"start\":-10.1},\"id\":\"1844\",\"type\":\"Range1d\"},{\"attributes\":{\"end\":10.1,\"start\":-10.1},\"id\":\"1843\",\"type\":\"Range1d\"}],\"root_ids\":[\"1845\"]},\"title\":\"Bokeh Application\",\"version\":\"2.3.3\"}};\n  var render_items = [{\"docid\":\"4ad7d4bb-fe24-4bdd-b824-93dee096e5d6\",\"root_ids\":[\"1845\"],\"roots\":{\"1845\":\"1f389bad-0962-4f36-ad80-d8ebb5b19673\"}}];\n  root.Bokeh.embed.embed_items_notebook(docs_json, render_items);\n\n  }\n  if (root.Bokeh !== undefined) {\n    embed_document(root);\n  } else {\n    var attempts = 0;\n    var timer = setInterval(function(root) {\n      if (root.Bokeh !== undefined) {\n        clearInterval(timer);\n        embed_document(root);\n      } else {\n        attempts++;\n        if (attempts > 100) {\n          clearInterval(timer);\n          console.log(\"Bokeh: ERROR: Unable to run BokehJS code because BokehJS library is missing\");\n        }\n      }\n    }, 10, root)\n  }\n})(window);",
      "application/vnd.bokehjs_exec.v0+json": ""
     },
     "metadata": {
      "application/vnd.bokehjs_exec.v0+json": {
       "id": "1845"
      }
     },
     "output_type": "display_data"
    },
    {
     "data": {
      "text/plain": [
       "'c:\\\\Users\\\\crosi\\\\Documents\\\\GitHub\\\\metascript\\\\utils\\\\network_analysis\\\\Screenplay 1996 Network.html'"
      ]
     },
     "execution_count": 23,
     "metadata": {},
     "output_type": "execute_result"
    }
   ],
   "source": [
    "#Choose colors for node and edge highlighting\n",
    "node_highlight_color = 'white'\n",
    "edge_highlight_color = 'black'\n",
    "\n",
    "#Choose attributes from G network to size and color by — setting manual size (e.g. 10) or color (e.g. 'skyblue') also allowed\n",
    "size_by_this_attribute = 'adjusted_node_size'\n",
    "color_by_this_attribute = 'modularity_color'\n",
    "\n",
    "#Pick a color palette — Blues8, Reds8, Purples8, Oranges8, Viridis8\n",
    "color_palette = Blues8\n",
    "\n",
    "#Choose a title!\n",
    "title = 'Screenplay 1996 Network'\n",
    "\n",
    "#Establish which categories will appear when hovering over each node\n",
    "HOVER_TOOLTIPS = [\n",
    "       (\"Character\", \"@index\"),\n",
    "        (\"Interactions\", \"@degree\"),\n",
    "         (\"Modularity Class\", \"@modularity_class\"),\n",
    "        (\"Modularity Color\", \"$color[swatch]:modularity_color\"),\n",
    "]\n",
    "\n",
    "#Create a plot — set dimensions, toolbar, and title\n",
    "plot = figure(tooltips = HOVER_TOOLTIPS,\n",
    "              tools=\"pan,wheel_zoom,save,reset\", active_scroll='wheel_zoom',\n",
    "            x_range=Range1d(-10.1, 10.1), y_range=Range1d(-10.1, 10.1), title=title)\n",
    "\n",
    "#Create a network graph object\n",
    "# https://networkx.github.io/documentation/networkx-1.9/reference/generated/networkx.drawing.layout.spring_layout.html\n",
    "network_graph = from_networkx(G, networkx.spring_layout, scale=10, center=(0, 0))\n",
    "\n",
    "#Set node sizes and colors according to node degree (color as category from attribute)\n",
    "network_graph.node_renderer.glyph = Circle(size=size_by_this_attribute, fill_color=color_by_this_attribute)\n",
    "#Set node highlight colors\n",
    "network_graph.node_renderer.hover_glyph = Circle(size=size_by_this_attribute, fill_color=node_highlight_color, line_width=2)\n",
    "network_graph.node_renderer.selection_glyph = Circle(size=size_by_this_attribute, fill_color=node_highlight_color, line_width=2)\n",
    "\n",
    "#Set edge opacity and width\n",
    "network_graph.edge_renderer.glyph = MultiLine(line_alpha=0.3, line_width=1)\n",
    "#Set edge highlight colors\n",
    "network_graph.edge_renderer.selection_glyph = MultiLine(line_color=edge_highlight_color, line_width=2)\n",
    "network_graph.edge_renderer.hover_glyph = MultiLine(line_color=edge_highlight_color, line_width=2)\n",
    "\n",
    "#Highlight nodes and edges\n",
    "network_graph.selection_policy = NodesAndLinkedEdges()\n",
    "network_graph.inspection_policy = NodesAndLinkedEdges()\n",
    "\n",
    "plot.renderers.append(network_graph)\n",
    "\n",
    "#Add Labels\n",
    "x, y = zip(*network_graph.layout_provider.graph_layout.values())\n",
    "node_labels = list(G.nodes())\n",
    "source = ColumnDataSource({'x': x, 'y': y, 'name': [node_labels[i] for i in range(len(x))]})\n",
    "labels = LabelSet(x='x', y='y', text='name', source=source, background_fill_color='white', text_font_size='10px', background_fill_alpha=.7)\n",
    "plot.renderers.append(labels)\n",
    "\n",
    "show(plot)\n",
    "save(plot, filename=\"Screenplay 1996 Network.html\")"
   ]
  }
 ],
 "metadata": {
  "kernelspec": {
   "display_name": "Python 3",
   "language": "python",
   "name": "python3"
  },
  "language_info": {
   "codemirror_mode": {
    "name": "ipython",
    "version": 3
   },
   "file_extension": ".py",
   "mimetype": "text/x-python",
   "name": "python",
   "nbconvert_exporter": "python",
   "pygments_lexer": "ipython3",
   "version": "3.10.8"
  },
  "orig_nbformat": 4
 },
 "nbformat": 4,
 "nbformat_minor": 2
}
