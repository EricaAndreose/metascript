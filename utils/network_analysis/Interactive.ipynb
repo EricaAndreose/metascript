{
 "cells": [
  {
   "cell_type": "code",
   "execution_count": 1,
   "metadata": {},
   "outputs": [],
   "source": [
    "import pandas as pd\n",
    "import networkx\n",
    "import matplotlib.pyplot as plt\n",
    "import numpy as np"
   ]
  },
  {
   "cell_type": "code",
   "execution_count": 2,
   "metadata": {},
   "outputs": [],
   "source": [
    "from bokeh.io import output_notebook, show, save"
   ]
  },
  {
   "cell_type": "code",
   "execution_count": 3,
   "metadata": {},
   "outputs": [
    {
     "data": {
      "text/html": [
       "\n",
       "    <div class=\"bk-root\">\n",
       "        <a href=\"https://bokeh.org\" target=\"_blank\" class=\"bk-logo bk-logo-small bk-logo-notebook\"></a>\n",
       "        <span id=\"1001\">Loading BokehJS ...</span>\n",
       "    </div>"
      ]
     },
     "metadata": {},
     "output_type": "display_data"
    },
    {
     "data": {
      "application/javascript": "\n(function(root) {\n  function now() {\n    return new Date();\n  }\n\n  var force = true;\n\n  if (typeof root._bokeh_onload_callbacks === \"undefined\" || force === true) {\n    root._bokeh_onload_callbacks = [];\n    root._bokeh_is_loading = undefined;\n  }\n\n  var JS_MIME_TYPE = 'application/javascript';\n  var HTML_MIME_TYPE = 'text/html';\n  var EXEC_MIME_TYPE = 'application/vnd.bokehjs_exec.v0+json';\n  var CLASS_NAME = 'output_bokeh rendered_html';\n\n  /**\n   * Render data to the DOM node\n   */\n  function render(props, node) {\n    var script = document.createElement(\"script\");\n    node.appendChild(script);\n  }\n\n  /**\n   * Handle when an output is cleared or removed\n   */\n  function handleClearOutput(event, handle) {\n    var cell = handle.cell;\n\n    var id = cell.output_area._bokeh_element_id;\n    var server_id = cell.output_area._bokeh_server_id;\n    // Clean up Bokeh references\n    if (id != null && id in Bokeh.index) {\n      Bokeh.index[id].model.document.clear();\n      delete Bokeh.index[id];\n    }\n\n    if (server_id !== undefined) {\n      // Clean up Bokeh references\n      var cmd = \"from bokeh.io.state import curstate; print(curstate().uuid_to_server['\" + server_id + \"'].get_sessions()[0].document.roots[0]._id)\";\n      cell.notebook.kernel.execute(cmd, {\n        iopub: {\n          output: function(msg) {\n            var id = msg.content.text.trim();\n            if (id in Bokeh.index) {\n              Bokeh.index[id].model.document.clear();\n              delete Bokeh.index[id];\n            }\n          }\n        }\n      });\n      // Destroy server and session\n      var cmd = \"import bokeh.io.notebook as ion; ion.destroy_server('\" + server_id + \"')\";\n      cell.notebook.kernel.execute(cmd);\n    }\n  }\n\n  /**\n   * Handle when a new output is added\n   */\n  function handleAddOutput(event, handle) {\n    var output_area = handle.output_area;\n    var output = handle.output;\n\n    // limit handleAddOutput to display_data with EXEC_MIME_TYPE content only\n    if ((output.output_type != \"display_data\") || (!Object.prototype.hasOwnProperty.call(output.data, EXEC_MIME_TYPE))) {\n      return\n    }\n\n    var toinsert = output_area.element.find(\".\" + CLASS_NAME.split(' ')[0]);\n\n    if (output.metadata[EXEC_MIME_TYPE][\"id\"] !== undefined) {\n      toinsert[toinsert.length - 1].firstChild.textContent = output.data[JS_MIME_TYPE];\n      // store reference to embed id on output_area\n      output_area._bokeh_element_id = output.metadata[EXEC_MIME_TYPE][\"id\"];\n    }\n    if (output.metadata[EXEC_MIME_TYPE][\"server_id\"] !== undefined) {\n      var bk_div = document.createElement(\"div\");\n      bk_div.innerHTML = output.data[HTML_MIME_TYPE];\n      var script_attrs = bk_div.children[0].attributes;\n      for (var i = 0; i < script_attrs.length; i++) {\n        toinsert[toinsert.length - 1].firstChild.setAttribute(script_attrs[i].name, script_attrs[i].value);\n        toinsert[toinsert.length - 1].firstChild.textContent = bk_div.children[0].textContent\n      }\n      // store reference to server id on output_area\n      output_area._bokeh_server_id = output.metadata[EXEC_MIME_TYPE][\"server_id\"];\n    }\n  }\n\n  function register_renderer(events, OutputArea) {\n\n    function append_mime(data, metadata, element) {\n      // create a DOM node to render to\n      var toinsert = this.create_output_subarea(\n        metadata,\n        CLASS_NAME,\n        EXEC_MIME_TYPE\n      );\n      this.keyboard_manager.register_events(toinsert);\n      // Render to node\n      var props = {data: data, metadata: metadata[EXEC_MIME_TYPE]};\n      render(props, toinsert[toinsert.length - 1]);\n      element.append(toinsert);\n      return toinsert\n    }\n\n    /* Handle when an output is cleared or removed */\n    events.on('clear_output.CodeCell', handleClearOutput);\n    events.on('delete.Cell', handleClearOutput);\n\n    /* Handle when a new output is added */\n    events.on('output_added.OutputArea', handleAddOutput);\n\n    /**\n     * Register the mime type and append_mime function with output_area\n     */\n    OutputArea.prototype.register_mime_type(EXEC_MIME_TYPE, append_mime, {\n      /* Is output safe? */\n      safe: true,\n      /* Index of renderer in `output_area.display_order` */\n      index: 0\n    });\n  }\n\n  // register the mime type if in Jupyter Notebook environment and previously unregistered\n  if (root.Jupyter !== undefined) {\n    var events = require('base/js/events');\n    var OutputArea = require('notebook/js/outputarea').OutputArea;\n\n    if (OutputArea.prototype.mime_types().indexOf(EXEC_MIME_TYPE) == -1) {\n      register_renderer(events, OutputArea);\n    }\n  }\n\n  \n  if (typeof (root._bokeh_timeout) === \"undefined\" || force === true) {\n    root._bokeh_timeout = Date.now() + 5000;\n    root._bokeh_failed_load = false;\n  }\n\n  var NB_LOAD_WARNING = {'data': {'text/html':\n     \"<div style='background-color: #fdd'>\\n\"+\n     \"<p>\\n\"+\n     \"BokehJS does not appear to have successfully loaded. If loading BokehJS from CDN, this \\n\"+\n     \"may be due to a slow or bad network connection. Possible fixes:\\n\"+\n     \"</p>\\n\"+\n     \"<ul>\\n\"+\n     \"<li>re-rerun `output_notebook()` to attempt to load from CDN again, or</li>\\n\"+\n     \"<li>use INLINE resources instead, as so:</li>\\n\"+\n     \"</ul>\\n\"+\n     \"<code>\\n\"+\n     \"from bokeh.resources import INLINE\\n\"+\n     \"output_notebook(resources=INLINE)\\n\"+\n     \"</code>\\n\"+\n     \"</div>\"}};\n\n  function display_loaded() {\n    var el = document.getElementById(\"1001\");\n    if (el != null) {\n      el.textContent = \"BokehJS is loading...\";\n    }\n    if (root.Bokeh !== undefined) {\n      if (el != null) {\n        el.textContent = \"BokehJS \" + root.Bokeh.version + \" successfully loaded.\";\n      }\n    } else if (Date.now() < root._bokeh_timeout) {\n      setTimeout(display_loaded, 100)\n    }\n  }\n\n\n  function run_callbacks() {\n    try {\n      root._bokeh_onload_callbacks.forEach(function(callback) {\n        if (callback != null)\n          callback();\n      });\n    } finally {\n      delete root._bokeh_onload_callbacks\n    }\n    console.debug(\"Bokeh: all callbacks have finished\");\n  }\n\n  function load_libs(css_urls, js_urls, callback) {\n    if (css_urls == null) css_urls = [];\n    if (js_urls == null) js_urls = [];\n\n    root._bokeh_onload_callbacks.push(callback);\n    if (root._bokeh_is_loading > 0) {\n      console.debug(\"Bokeh: BokehJS is being loaded, scheduling callback at\", now());\n      return null;\n    }\n    if (js_urls == null || js_urls.length === 0) {\n      run_callbacks();\n      return null;\n    }\n    console.debug(\"Bokeh: BokehJS not loaded, scheduling load and callback at\", now());\n    root._bokeh_is_loading = css_urls.length + js_urls.length;\n\n    function on_load() {\n      root._bokeh_is_loading--;\n      if (root._bokeh_is_loading === 0) {\n        console.debug(\"Bokeh: all BokehJS libraries/stylesheets loaded\");\n        run_callbacks()\n      }\n    }\n\n    function on_error(url) {\n      console.error(\"failed to load \" + url);\n    }\n\n    for (let i = 0; i < css_urls.length; i++) {\n      const url = css_urls[i];\n      const element = document.createElement(\"link\");\n      element.onload = on_load;\n      element.onerror = on_error.bind(null, url);\n      element.rel = \"stylesheet\";\n      element.type = \"text/css\";\n      element.href = url;\n      console.debug(\"Bokeh: injecting link tag for BokehJS stylesheet: \", url);\n      document.body.appendChild(element);\n    }\n\n    const hashes = {\"https://cdn.bokeh.org/bokeh/release/bokeh-2.3.3.min.js\": \"dM3QQsP+wXdHg42wTqW85BjZQdLNNIXqlPw/BgKoExPmTG7ZLML4EGqLMfqHT6ON\", \"https://cdn.bokeh.org/bokeh/release/bokeh-tables-2.3.3.min.js\": \"8x57I4YuIfu8XyZfFo0XVr2WAT8EK4rh/uDe3wF7YuW2FNUSNEpJbsPaB1nJ2fz2\", \"https://cdn.bokeh.org/bokeh/release/bokeh-widgets-2.3.3.min.js\": \"3QTqdz9LyAm2i0sG5XTePsHec3UHWwVsrOL68SYRoAXsafvfAyqtQ+h440+qIBhS\"};\n\n    for (let i = 0; i < js_urls.length; i++) {\n      const url = js_urls[i];\n      const element = document.createElement('script');\n      element.onload = on_load;\n      element.onerror = on_error.bind(null, url);\n      element.async = false;\n      element.src = url;\n      if (url in hashes) {\n        element.crossOrigin = \"anonymous\";\n        element.integrity = \"sha384-\" + hashes[url];\n      }\n      console.debug(\"Bokeh: injecting script tag for BokehJS library: \", url);\n      document.head.appendChild(element);\n    }\n  };\n\n  function inject_raw_css(css) {\n    const element = document.createElement(\"style\");\n    element.appendChild(document.createTextNode(css));\n    document.body.appendChild(element);\n  }\n\n  \n  var js_urls = [\"https://cdn.bokeh.org/bokeh/release/bokeh-2.3.3.min.js\", \"https://cdn.bokeh.org/bokeh/release/bokeh-widgets-2.3.3.min.js\", \"https://cdn.bokeh.org/bokeh/release/bokeh-tables-2.3.3.min.js\"];\n  var css_urls = [];\n  \n\n  var inline_js = [\n    function(Bokeh) {\n      Bokeh.set_log_level(\"info\");\n    },\n    function(Bokeh) {\n    \n    \n    }\n  ];\n\n  function run_inline_js() {\n    \n    if (root.Bokeh !== undefined || force === true) {\n      \n    for (var i = 0; i < inline_js.length; i++) {\n      inline_js[i].call(root, root.Bokeh);\n    }\n    if (force === true) {\n        display_loaded();\n      }} else if (Date.now() < root._bokeh_timeout) {\n      setTimeout(run_inline_js, 100);\n    } else if (!root._bokeh_failed_load) {\n      console.log(\"Bokeh: BokehJS failed to load within specified timeout.\");\n      root._bokeh_failed_load = true;\n    } else if (force !== true) {\n      var cell = $(document.getElementById(\"1001\")).parents('.cell').data().cell;\n      cell.output_area.append_execute_result(NB_LOAD_WARNING)\n    }\n\n  }\n\n  if (root._bokeh_is_loading === 0) {\n    console.debug(\"Bokeh: BokehJS loaded, going straight to plotting\");\n    run_inline_js();\n  } else {\n    load_libs(css_urls, js_urls, function() {\n      console.debug(\"Bokeh: BokehJS plotting callback run at\", now());\n      run_inline_js();\n    });\n  }\n}(window));",
      "application/vnd.bokehjs_load.v0+json": ""
     },
     "metadata": {},
     "output_type": "display_data"
    }
   ],
   "source": [
    "output_notebook()"
   ]
  },
  {
   "cell_type": "code",
   "execution_count": 4,
   "metadata": {},
   "outputs": [],
   "source": [
    "import pandas as pd\n",
    "\n",
    "\n",
    "# Read the csv files\n",
    "df_ds = pd.read_csv('interactions.csv')\n",
    "\n"
   ]
  },
  {
   "cell_type": "code",
   "execution_count": 5,
   "metadata": {},
   "outputs": [],
   "source": [
    "G = networkx.from_pandas_edgelist(df_ds, 'Character', 'Listener', 'Interaction Count')"
   ]
  },
  {
   "cell_type": "code",
   "execution_count": 6,
   "metadata": {},
   "outputs": [],
   "source": [
    "from bokeh.io import output_notebook, show, save\n",
    "from bokeh.models import Range1d, Circle, ColumnDataSource, MultiLine\n",
    "from bokeh.plotting import figure\n",
    "from bokeh.plotting import from_networkx"
   ]
  },
  {
   "cell_type": "code",
   "execution_count": 7,
   "metadata": {},
   "outputs": [
    {
     "data": {
      "text/html": [
       "\n",
       "\n",
       "\n",
       "\n",
       "\n",
       "\n",
       "  <div class=\"bk-root\" id=\"205def47-82de-498b-89c0-9edd92e1228d\" data-root-id=\"1005\"></div>\n"
      ]
     },
     "metadata": {},
     "output_type": "display_data"
    },
    {
     "data": {
      "application/javascript": "(function(root) {\n  function embed_document(root) {\n    \n  var docs_json = {\"a0d67a7f-f204-4b4a-ab7c-5696ecbad364\":{\"defs\":[],\"roots\":{\"references\":[{\"attributes\":{\"below\":[{\"id\":\"1014\"}],\"center\":[{\"id\":\"1017\"},{\"id\":\"1021\"}],\"left\":[{\"id\":\"1018\"}],\"renderers\":[{\"id\":\"1033\"}],\"title\":{\"id\":\"1006\"},\"toolbar\":{\"id\":\"1027\"},\"x_range\":{\"id\":\"1003\"},\"x_scale\":{\"id\":\"1010\"},\"y_range\":{\"id\":\"1004\"},\"y_scale\":{\"id\":\"1012\"}},\"id\":\"1005\",\"subtype\":\"Figure\",\"type\":\"Plot\"},{\"attributes\":{\"end\":10.1,\"start\":-10.1},\"id\":\"1003\",\"type\":\"Range1d\"},{\"attributes\":{\"line_alpha\":{\"value\":0.5}},\"id\":\"1048\",\"type\":\"MultiLine\"},{\"attributes\":{\"end\":10.1,\"start\":-10.1},\"id\":\"1004\",\"type\":\"Range1d\"},{\"attributes\":{},\"id\":\"1025\",\"type\":\"ResetTool\"},{\"attributes\":{},\"id\":\"1072\",\"type\":\"Selection\"},{\"attributes\":{},\"id\":\"1073\",\"type\":\"UnionRenderers\"},{\"attributes\":{\"active_multi\":null,\"active_scroll\":{\"id\":\"1023\"},\"tools\":[{\"id\":\"1022\"},{\"id\":\"1023\"},{\"id\":\"1024\"},{\"id\":\"1025\"},{\"id\":\"1026\"}]},\"id\":\"1027\",\"type\":\"Toolbar\"},{\"attributes\":{},\"id\":\"1058\",\"type\":\"NodesOnly\"},{\"attributes\":{},\"id\":\"1066\",\"type\":\"AllLabels\"},{\"attributes\":{},\"id\":\"1059\",\"type\":\"NodesOnly\"},{\"attributes\":{},\"id\":\"1064\",\"type\":\"BasicTickFormatter\"},{\"attributes\":{},\"id\":\"1067\",\"type\":\"BasicTickFormatter\"},{\"attributes\":{},\"id\":\"1069\",\"type\":\"AllLabels\"},{\"attributes\":{\"axis\":{\"id\":\"1018\"},\"dimension\":1,\"ticker\":null},\"id\":\"1021\",\"type\":\"Grid\"},{\"attributes\":{},\"id\":\"1019\",\"type\":\"BasicTicker\"},{\"attributes\":{\"callback\":null,\"tooltips\":[[\"Character\",\"@index\"]]},\"id\":\"1026\",\"type\":\"HoverTool\"},{\"attributes\":{},\"id\":\"1023\",\"type\":\"WheelZoomTool\"},{\"attributes\":{},\"id\":\"1022\",\"type\":\"PanTool\"},{\"attributes\":{},\"id\":\"1012\",\"type\":\"LinearScale\"},{\"attributes\":{},\"id\":\"1024\",\"type\":\"SaveTool\"},{\"attributes\":{},\"id\":\"1010\",\"type\":\"LinearScale\"},{\"attributes\":{\"edge_renderer\":{\"id\":\"1040\"},\"inspection_policy\":{\"id\":\"1058\"},\"layout_provider\":{\"id\":\"1042\"},\"node_renderer\":{\"id\":\"1036\"},\"selection_policy\":{\"id\":\"1059\"}},\"id\":\"1033\",\"type\":\"GraphRenderer\"},{\"attributes\":{},\"id\":\"1071\",\"type\":\"UnionRenderers\"},{\"attributes\":{\"data_source\":{\"id\":\"1035\"},\"glyph\":{\"id\":\"1043\"},\"hover_glyph\":null,\"muted_glyph\":null,\"view\":{\"id\":\"1037\"}},\"id\":\"1036\",\"type\":\"GlyphRenderer\"},{\"attributes\":{\"graph_layout\":{\"Adler\":[2.7759663178101364,5.052306935363788],\"Albertina\":[-5.639702378651399,0.7303581144314466],\"Fridolin\":[-0.3988919661655625,0.7928880671096595],\"Fuchstaler\":[-3.5449043359886963,3.782201186756912],\"Gentlemen\":[3.694792780643782,-10.0],\"Gibiser\":[3.0174602639241774,-5.708373407550098],\"Marianne\":[2.2174146542638944,-2.2815818028208827],\"Mizzi\":[4.293506361551893,2.9540079405182462],\"Nachtigall\":[4.426883219937752,0.6804230024144193],\"Pierrette\":[6.169349234994584,-8.767022538402221],\"RedCavalier\":[-1.241195098357694,4.787691302032769],\"Roediger\":[-3.5873444775672647,1.026219451354697],\"TWOServants\":[3.799364497399787,-1.0708872980378243],\"YellowGentlemen\":[-4.952747851556613,-1.2537389849226144],\"another woman\":[-0.23030529621860787,-2.4052544353590037],\"cavalier\":[0.9881341673041191,4.083188282259356],\"cavaliers\":[-2.913630438612659,5.549342026721967],\"daughter\":[-5.169986680482152,2.9391009657617766],\"gentlemen\":[-3.6424719200410522,-2.9118859482236696],\"maid\":[-1.0585096768642264,-4.171008156706218],\"servant\":[0.25345405921187725,6.135944181793608],\"unknown\":[2.8781904437584607,2.3655110759337505],\"woman\":[-2.134825880294547,-2.3094299604298523]}},\"id\":\"1042\",\"type\":\"StaticLayoutProvider\"},{\"attributes\":{\"formatter\":{\"id\":\"1067\"},\"major_label_policy\":{\"id\":\"1069\"},\"ticker\":{\"id\":\"1015\"}},\"id\":\"1014\",\"type\":\"LinearAxis\"},{\"attributes\":{\"axis\":{\"id\":\"1014\"},\"ticker\":null},\"id\":\"1017\",\"type\":\"Grid\"},{\"attributes\":{\"data\":{\"Interaction Count\":[2,29,8,2,5,44,17,10,1,17,1,3,3,2,5,2,2,2,1,4,15,1,3,3,1,3],\"end\":[\"daughter\",\"Albertina\",\"Marianne\",\"unknown\",\"Mizzi\",\"Nachtigall\",\"Gibiser\",\"Fridolin\",\"TWOServants\",\"woman\",\"another woman\",\"cavalier\",\"cavaliers\",\"YellowGentlemen\",\"gentlemen\",\"RedCavalier\",\"servant\",\"maid\",\"Fuchstaler\",\"Roediger\",\"Adler\",\"Mizzi\",\"Gentlemen\",\"Pierrette\",\"another woman\",\"gentlemen\"],\"start\":[\"Fridolin\",\"Fridolin\",\"Fridolin\",\"Fridolin\",\"Fridolin\",\"Fridolin\",\"Fridolin\",\"Fridolin\",\"Fridolin\",\"Fridolin\",\"Fridolin\",\"Fridolin\",\"Fridolin\",\"Fridolin\",\"Fridolin\",\"Fridolin\",\"Fridolin\",\"Fridolin\",\"Fridolin\",\"Fridolin\",\"Fridolin\",\"unknown\",\"Gibiser\",\"Gibiser\",\"woman\",\"woman\"]},\"selected\":{\"id\":\"1072\"},\"selection_policy\":{\"id\":\"1073\"}},\"id\":\"1039\",\"type\":\"ColumnDataSource\"},{\"attributes\":{\"formatter\":{\"id\":\"1064\"},\"major_label_policy\":{\"id\":\"1066\"},\"ticker\":{\"id\":\"1019\"}},\"id\":\"1018\",\"type\":\"LinearAxis\"},{\"attributes\":{\"fill_color\":{\"value\":\"skyblue\"},\"size\":{\"value\":15}},\"id\":\"1043\",\"type\":\"Circle\"},{\"attributes\":{},\"id\":\"1015\",\"type\":\"BasicTicker\"},{\"attributes\":{\"data\":{\"index\":[\"Fridolin\",\"daughter\",\"Albertina\",\"Marianne\",\"unknown\",\"Mizzi\",\"Nachtigall\",\"Gibiser\",\"Gentlemen\",\"Pierrette\",\"TWOServants\",\"woman\",\"another woman\",\"cavalier\",\"cavaliers\",\"YellowGentlemen\",\"gentlemen\",\"RedCavalier\",\"servant\",\"maid\",\"Fuchstaler\",\"Roediger\",\"Adler\"]},\"selected\":{\"id\":\"1070\"},\"selection_policy\":{\"id\":\"1071\"}},\"id\":\"1035\",\"type\":\"ColumnDataSource\"},{\"attributes\":{\"source\":{\"id\":\"1035\"}},\"id\":\"1037\",\"type\":\"CDSView\"},{\"attributes\":{},\"id\":\"1070\",\"type\":\"Selection\"},{\"attributes\":{\"source\":{\"id\":\"1039\"}},\"id\":\"1041\",\"type\":\"CDSView\"},{\"attributes\":{\"data_source\":{\"id\":\"1039\"},\"glyph\":{\"id\":\"1048\"},\"hover_glyph\":null,\"muted_glyph\":null,\"view\":{\"id\":\"1041\"}},\"id\":\"1040\",\"type\":\"GlyphRenderer\"},{\"attributes\":{\"text\":\"Dream Story Network\"},\"id\":\"1006\",\"type\":\"Title\"}],\"root_ids\":[\"1005\"]},\"title\":\"Bokeh Application\",\"version\":\"2.3.3\"}};\n  var render_items = [{\"docid\":\"a0d67a7f-f204-4b4a-ab7c-5696ecbad364\",\"root_ids\":[\"1005\"],\"roots\":{\"1005\":\"205def47-82de-498b-89c0-9edd92e1228d\"}}];\n  root.Bokeh.embed.embed_items_notebook(docs_json, render_items);\n\n  }\n  if (root.Bokeh !== undefined) {\n    embed_document(root);\n  } else {\n    var attempts = 0;\n    var timer = setInterval(function(root) {\n      if (root.Bokeh !== undefined) {\n        clearInterval(timer);\n        embed_document(root);\n      } else {\n        attempts++;\n        if (attempts > 100) {\n          clearInterval(timer);\n          console.log(\"Bokeh: ERROR: Unable to run BokehJS code because BokehJS library is missing\");\n        }\n      }\n    }, 10, root)\n  }\n})(window);",
      "application/vnd.bokehjs_exec.v0+json": ""
     },
     "metadata": {
      "application/vnd.bokehjs_exec.v0+json": {
       "id": "1005"
      }
     },
     "output_type": "display_data"
    },
    {
     "name": "stderr",
     "output_type": "stream",
     "text": [
      "C:\\Users\\Erica Andreose\\AppData\\Roaming\\Python\\Python310\\site-packages\\bokeh\\io\\saving.py:126: UserWarning: save() called but no resources were supplied and output_file(...) was never called, defaulting to resources.CDN\n",
      "  warn(\"save() called but no resources were supplied and output_file(...) was never called, defaulting to resources.CDN\")\n",
      "C:\\Users\\Erica Andreose\\AppData\\Roaming\\Python\\Python310\\site-packages\\bokeh\\io\\saving.py:139: UserWarning: save() called but no title was supplied and output_file(...) was never called, using default title 'Bokeh Plot'\n",
      "  warn(\"save() called but no title was supplied and output_file(...) was never called, using default title 'Bokeh Plot'\")\n"
     ]
    },
    {
     "data": {
      "text/plain": [
       "'c:\\\\Users\\\\Erica Andreose\\\\Desktop\\\\METASCRIPT\\\\network_analysis\\\\Dream Story Network.html'"
      ]
     },
     "execution_count": 7,
     "metadata": {},
     "output_type": "execute_result"
    }
   ],
   "source": [
    "#Choose a title!\n",
    "title = 'Dream Story Network'\n",
    "\n",
    "#Establish which categories will appear when hovering over each node\n",
    "HOVER_TOOLTIPS = [(\"Character\", \"@index\")]\n",
    "\n",
    "#Create a plot — set dimensions, toolbar, and title\n",
    "plot = figure(tooltips = HOVER_TOOLTIPS,\n",
    "              tools=\"pan,wheel_zoom,save,reset\", active_scroll='wheel_zoom',\n",
    "            x_range=Range1d(-10.1, 10.1), y_range=Range1d(-10.1, 10.1), title=title)\n",
    "\n",
    "#Create a network graph object with spring layout\n",
    "# https://networkx.github.io/documentation/networkx-1.9/reference/generated/networkx.drawing.layout.spring_layout.html\n",
    "network_graph = from_networkx(G, networkx.spring_layout, scale=10, center=(0, 0))\n",
    "\n",
    "#Set node size and color\n",
    "network_graph.node_renderer.glyph = Circle(size=15, fill_color='skyblue')\n",
    "\n",
    "#Set edge opacity and width\n",
    "network_graph.edge_renderer.glyph = MultiLine(line_alpha=0.5, line_width=1)\n",
    "\n",
    "#Add network graph to the plot\n",
    "plot.renderers.append(network_graph)\n",
    "\n",
    "show(plot)\n",
    "save(plot, filename=f\"{title}.html\")"
   ]
  },
  {
   "cell_type": "code",
   "execution_count": 8,
   "metadata": {},
   "outputs": [],
   "source": [
    "from bokeh.io import output_notebook, show, save\n",
    "from bokeh.models import Range1d, Circle, ColumnDataSource, MultiLine\n",
    "from bokeh.plotting import figure\n",
    "from bokeh.plotting import from_networkx\n",
    "from bokeh.palettes import Blues8, Reds8, Purples8, Oranges8, Viridis8, Spectral8\n",
    "from bokeh.transform import linear_cmap"
   ]
  },
  {
   "cell_type": "code",
   "execution_count": 9,
   "metadata": {},
   "outputs": [],
   "source": [
    "degrees = dict(networkx.degree(G))\n",
    "networkx.set_node_attributes(G, name='degree', values=degrees)"
   ]
  },
  {
   "cell_type": "code",
   "execution_count": 10,
   "metadata": {},
   "outputs": [],
   "source": [
    "number_to_adjust_by = 5\n",
    "adjusted_node_size = dict([(node, degree+number_to_adjust_by) for node, degree in networkx.degree(G)])\n",
    "networkx.set_node_attributes(G, name='adjusted_node_size', values=adjusted_node_size)"
   ]
  },
  {
   "cell_type": "code",
   "execution_count": 12,
   "metadata": {},
   "outputs": [
    {
     "data": {
      "text/html": [
       "\n",
       "\n",
       "\n",
       "\n",
       "\n",
       "\n",
       "  <div class=\"bk-root\" id=\"429259b3-c45f-4497-9a73-03a6a2712543\" data-root-id=\"1613\"></div>\n"
      ]
     },
     "metadata": {},
     "output_type": "display_data"
    },
    {
     "data": {
      "application/javascript": "(function(root) {\n  function embed_document(root) {\n    \n  var docs_json = {\"bb21a3ae-2735-4fc8-ab42-136510e52b7d\":{\"defs\":[],\"roots\":{\"references\":[{\"attributes\":{\"below\":[{\"id\":\"1622\"}],\"center\":[{\"id\":\"1625\"},{\"id\":\"1629\"}],\"left\":[{\"id\":\"1626\"}],\"renderers\":[{\"id\":\"1641\"}],\"title\":{\"id\":\"1614\"},\"toolbar\":{\"id\":\"1635\"},\"x_range\":{\"id\":\"1611\"},\"x_scale\":{\"id\":\"1618\"},\"y_range\":{\"id\":\"1612\"},\"y_scale\":{\"id\":\"1620\"}},\"id\":\"1613\",\"subtype\":\"Figure\",\"type\":\"Plot\"},{\"attributes\":{\"formatter\":{\"id\":\"1726\"},\"major_label_policy\":{\"id\":\"1728\"},\"ticker\":{\"id\":\"1623\"}},\"id\":\"1622\",\"type\":\"LinearAxis\"},{\"attributes\":{\"callback\":null,\"tooltips\":[[\"Character\",\"@index\"],[\"Interactions\",\"@degree\"]]},\"id\":\"1634\",\"type\":\"HoverTool\"},{\"attributes\":{\"line_alpha\":{\"value\":0.5}},\"id\":\"1665\",\"type\":\"MultiLine\"},{\"attributes\":{\"graph_layout\":{\"Adler\":[-0.748379148415822,5.6579481956724536],\"Albertina\":[-4.529158902600272,3.2229537427836474],\"Fridolin\":[-0.18216086587217792,0.7765165871458958],\"Fuchstaler\":[-2.66770329360516,5.041240718794114],\"Gentlemen\":[3.3994065316985504,-9.501232753884272],\"Gibiser\":[1.3216970745667578,-5.984544206922139],\"Marianne\":[3.180604455239094,-0.2978171635319605],\"Mizzi\":[-4.003351310084872,1.3299092693450771],\"Nachtigall\":[-2.6006850240766886,3.246223135680758],\"Pierrette\":[0.8813252432901916,-10.0],\"RedCavalier\":[1.6925264480206827,5.403183501215035],\"Roediger\":[-2.439987516175475,-1.0545955854771258],\"TWOServants\":[4.693054697619528,0.7723300505330832],\"YellowGentlemen\":[-2.511919216667755,-3.1052597395939534],\"another woman\":[3.262527969737433,2.2125844577145024],\"cavalier\":[-4.283864408416955,-1.683093063346493],\"cavaliers\":[3.8273417714745026,3.9051585785619785],\"daughter\":[1.4769293732772846,-2.420942491797404],\"gentlemen\":[0.2776877195686671,3.9322006584346396],\"maid\":[3.47234656998245,-1.988789051390661],\"servant\":[-0.4637036793043805,-3.066335289419268],\"unknown\":[-4.937780597972152,0.37333969676795664],\"woman\":[1.883246108716575,3.2290207527141455]}},\"id\":\"1650\",\"type\":\"StaticLayoutProvider\"},{\"attributes\":{\"formatter\":{\"id\":\"1723\"},\"major_label_policy\":{\"id\":\"1725\"},\"ticker\":{\"id\":\"1627\"}},\"id\":\"1626\",\"type\":\"LinearAxis\"},{\"attributes\":{},\"id\":\"1723\",\"type\":\"BasicTickFormatter\"},{\"attributes\":{},\"id\":\"1627\",\"type\":\"BasicTicker\"},{\"attributes\":{\"data_source\":{\"id\":\"1647\"},\"glyph\":{\"id\":\"1665\"},\"hover_glyph\":null,\"muted_glyph\":null,\"view\":{\"id\":\"1649\"}},\"id\":\"1648\",\"type\":\"GlyphRenderer\"},{\"attributes\":{},\"id\":\"1725\",\"type\":\"AllLabels\"},{\"attributes\":{\"end\":10.1,\"start\":-10.1},\"id\":\"1611\",\"type\":\"Range1d\"},{\"attributes\":{\"text\":\"Dream Story Network\"},\"id\":\"1614\",\"type\":\"Title\"},{\"attributes\":{},\"id\":\"1618\",\"type\":\"LinearScale\"},{\"attributes\":{},\"id\":\"1729\",\"type\":\"Selection\"},{\"attributes\":{\"active_multi\":null,\"active_scroll\":{\"id\":\"1631\"},\"tools\":[{\"id\":\"1630\"},{\"id\":\"1631\"},{\"id\":\"1632\"},{\"id\":\"1633\"},{\"id\":\"1634\"}]},\"id\":\"1635\",\"type\":\"Toolbar\"},{\"attributes\":{},\"id\":\"1730\",\"type\":\"UnionRenderers\"},{\"attributes\":{},\"id\":\"1726\",\"type\":\"BasicTickFormatter\"},{\"attributes\":{},\"id\":\"1717\",\"type\":\"NodesOnly\"},{\"attributes\":{},\"id\":\"1728\",\"type\":\"AllLabels\"},{\"attributes\":{\"high\":27,\"low\":6,\"palette\":[\"#084594\",\"#2171b5\",\"#4292c6\",\"#6baed6\",\"#9ecae1\",\"#c6dbef\",\"#deebf7\",\"#f7fbff\"]},\"id\":\"1659\",\"type\":\"LinearColorMapper\"},{\"attributes\":{},\"id\":\"1718\",\"type\":\"NodesOnly\"},{\"attributes\":{\"source\":{\"id\":\"1647\"}},\"id\":\"1649\",\"type\":\"CDSView\"},{\"attributes\":{\"source\":{\"id\":\"1643\"}},\"id\":\"1645\",\"type\":\"CDSView\"},{\"attributes\":{\"data\":{\"adjusted_node_size\":[27,6,6,6,7,7,6,8,6,6,6,8,7,6,6,6,7,6,6,6,6,6,6],\"degree\":[22,1,1,1,2,2,1,3,1,1,1,3,2,1,1,1,2,1,1,1,1,1,1],\"index\":[\"Fridolin\",\"daughter\",\"Albertina\",\"Marianne\",\"unknown\",\"Mizzi\",\"Nachtigall\",\"Gibiser\",\"Gentlemen\",\"Pierrette\",\"TWOServants\",\"woman\",\"another woman\",\"cavalier\",\"cavaliers\",\"YellowGentlemen\",\"gentlemen\",\"RedCavalier\",\"servant\",\"maid\",\"Fuchstaler\",\"Roediger\",\"Adler\"]},\"selected\":{\"id\":\"1729\"},\"selection_policy\":{\"id\":\"1730\"}},\"id\":\"1643\",\"type\":\"ColumnDataSource\"},{\"attributes\":{},\"id\":\"1731\",\"type\":\"Selection\"},{\"attributes\":{},\"id\":\"1732\",\"type\":\"UnionRenderers\"},{\"attributes\":{},\"id\":\"1620\",\"type\":\"LinearScale\"},{\"attributes\":{\"data\":{\"Interaction Count\":[2,29,8,2,5,44,17,10,1,17,1,3,3,2,5,2,2,2,1,4,15,1,3,3,1,3],\"end\":[\"daughter\",\"Albertina\",\"Marianne\",\"unknown\",\"Mizzi\",\"Nachtigall\",\"Gibiser\",\"Fridolin\",\"TWOServants\",\"woman\",\"another woman\",\"cavalier\",\"cavaliers\",\"YellowGentlemen\",\"gentlemen\",\"RedCavalier\",\"servant\",\"maid\",\"Fuchstaler\",\"Roediger\",\"Adler\",\"Mizzi\",\"Gentlemen\",\"Pierrette\",\"another woman\",\"gentlemen\"],\"start\":[\"Fridolin\",\"Fridolin\",\"Fridolin\",\"Fridolin\",\"Fridolin\",\"Fridolin\",\"Fridolin\",\"Fridolin\",\"Fridolin\",\"Fridolin\",\"Fridolin\",\"Fridolin\",\"Fridolin\",\"Fridolin\",\"Fridolin\",\"Fridolin\",\"Fridolin\",\"Fridolin\",\"Fridolin\",\"Fridolin\",\"Fridolin\",\"unknown\",\"Gibiser\",\"Gibiser\",\"woman\",\"woman\"]},\"selected\":{\"id\":\"1731\"},\"selection_policy\":{\"id\":\"1732\"}},\"id\":\"1647\",\"type\":\"ColumnDataSource\"},{\"attributes\":{\"end\":10.1,\"start\":-10.1},\"id\":\"1612\",\"type\":\"Range1d\"},{\"attributes\":{\"edge_renderer\":{\"id\":\"1648\"},\"inspection_policy\":{\"id\":\"1717\"},\"layout_provider\":{\"id\":\"1650\"},\"node_renderer\":{\"id\":\"1644\"},\"selection_policy\":{\"id\":\"1718\"}},\"id\":\"1641\",\"type\":\"GraphRenderer\"},{\"attributes\":{\"axis\":{\"id\":\"1626\"},\"dimension\":1,\"ticker\":null},\"id\":\"1629\",\"type\":\"Grid\"},{\"attributes\":{},\"id\":\"1633\",\"type\":\"ResetTool\"},{\"attributes\":{\"fill_color\":{\"field\":\"adjusted_node_size\",\"transform\":{\"id\":\"1659\"}},\"size\":{\"field\":\"adjusted_node_size\"}},\"id\":\"1660\",\"type\":\"Circle\"},{\"attributes\":{},\"id\":\"1631\",\"type\":\"WheelZoomTool\"},{\"attributes\":{\"data_source\":{\"id\":\"1643\"},\"glyph\":{\"id\":\"1660\"},\"hover_glyph\":null,\"muted_glyph\":null,\"view\":{\"id\":\"1645\"}},\"id\":\"1644\",\"type\":\"GlyphRenderer\"},{\"attributes\":{},\"id\":\"1623\",\"type\":\"BasicTicker\"},{\"attributes\":{},\"id\":\"1630\",\"type\":\"PanTool\"},{\"attributes\":{\"axis\":{\"id\":\"1622\"},\"ticker\":null},\"id\":\"1625\",\"type\":\"Grid\"},{\"attributes\":{},\"id\":\"1632\",\"type\":\"SaveTool\"}],\"root_ids\":[\"1613\"]},\"title\":\"Bokeh Application\",\"version\":\"2.3.3\"}};\n  var render_items = [{\"docid\":\"bb21a3ae-2735-4fc8-ab42-136510e52b7d\",\"root_ids\":[\"1613\"],\"roots\":{\"1613\":\"429259b3-c45f-4497-9a73-03a6a2712543\"}}];\n  root.Bokeh.embed.embed_items_notebook(docs_json, render_items);\n\n  }\n  if (root.Bokeh !== undefined) {\n    embed_document(root);\n  } else {\n    var attempts = 0;\n    var timer = setInterval(function(root) {\n      if (root.Bokeh !== undefined) {\n        clearInterval(timer);\n        embed_document(root);\n      } else {\n        attempts++;\n        if (attempts > 100) {\n          clearInterval(timer);\n          console.log(\"Bokeh: ERROR: Unable to run BokehJS code because BokehJS library is missing\");\n        }\n      }\n    }, 10, root)\n  }\n})(window);",
      "application/vnd.bokehjs_exec.v0+json": ""
     },
     "metadata": {
      "application/vnd.bokehjs_exec.v0+json": {
       "id": "1613"
      }
     },
     "output_type": "display_data"
    }
   ],
   "source": [
    "#Choose attributes from G network to size and color by — setting manual size (e.g. 10) or color (e.g. 'skyblue') also allowed\n",
    "size_by_this_attribute = 'adjusted_node_size'\n",
    "color_by_this_attribute = 'adjusted_node_size'\n",
    "\n",
    "#Pick a color palette — Blues8, Reds8, Purples8, Oranges8, Viridis8\n",
    "color_palette = Blues8\n",
    "\n",
    "#Choose a title!\n",
    "title = 'Dream Story Network'\n",
    "\n",
    "#Establish which categories will appear when hovering over each node\n",
    "HOVER_TOOLTIPS = [\n",
    "       (\"Character\", \"@index\"),\n",
    "        (\"Interactions\", \"@degree\")\n",
    "]\n",
    "\n",
    "#Create a plot — set dimensions, toolbar, and title\n",
    "plot = figure(tooltips = HOVER_TOOLTIPS,\n",
    "              tools=\"pan,wheel_zoom,save,reset\", active_scroll='wheel_zoom',\n",
    "            x_range=Range1d(-10.1, 10.1), y_range=Range1d(-10.1, 10.1), title=title)\n",
    "\n",
    "#Create a network graph object\n",
    "# https://networkx.github.io/documentation/networkx-1.9/reference/generated/networkx.drawing.layout.spring_layout.html\\\n",
    "network_graph = from_networkx(G, networkx.spring_layout, scale=10, center=(0, 0))\n",
    "\n",
    "#Set node sizes and colors according to node degree (color as spectrum of color palette)\n",
    "minimum_value_color = min(network_graph.node_renderer.data_source.data[color_by_this_attribute])\n",
    "maximum_value_color = max(network_graph.node_renderer.data_source.data[color_by_this_attribute])\n",
    "network_graph.node_renderer.glyph = Circle(size=size_by_this_attribute, fill_color=linear_cmap(color_by_this_attribute, color_palette, minimum_value_color, maximum_value_color))\n",
    "\n",
    "#Set edge opacity and width\n",
    "network_graph.edge_renderer.glyph = MultiLine(line_alpha=0.5, line_width=1)\n",
    "\n",
    "plot.renderers.append(network_graph)\n",
    "\n",
    "show(plot)\n",
    "#save(plot, filename=f\"{title}.html\")"
   ]
  },
  {
   "cell_type": "code",
   "execution_count": 13,
   "metadata": {},
   "outputs": [],
   "source": [
    "from bokeh.io import output_notebook, show, save\n",
    "from bokeh.models import Range1d, Circle, ColumnDataSource, MultiLine\n",
    "from bokeh.plotting import figure\n",
    "from bokeh.plotting import from_networkx\n",
    "from bokeh.palettes import Blues8, Reds8, Purples8, Oranges8, Viridis8, Spectral8\n",
    "from bokeh.transform import linear_cmap\n",
    "from networkx.algorithms import community"
   ]
  },
  {
   "cell_type": "code",
   "execution_count": 15,
   "metadata": {},
   "outputs": [],
   "source": [
    "degrees = dict(networkx.degree(G))\n",
    "networkx.set_node_attributes(G, name='degree', values=degrees)"
   ]
  },
  {
   "cell_type": "code",
   "execution_count": 16,
   "metadata": {},
   "outputs": [],
   "source": [
    "number_to_adjust_by = 5\n",
    "adjusted_node_size = dict([(node, degree+number_to_adjust_by) for node, degree in networkx.degree(G)])\n",
    "networkx.set_node_attributes(G, name='adjusted_node_size', values=adjusted_node_size)"
   ]
  },
  {
   "cell_type": "code",
   "execution_count": 17,
   "metadata": {},
   "outputs": [],
   "source": [
    "communities = community.greedy_modularity_communities(G)"
   ]
  },
  {
   "cell_type": "code",
   "execution_count": 18,
   "metadata": {},
   "outputs": [],
   "source": [
    "# Create empty dictionaries\n",
    "modularity_class = {}\n",
    "modularity_color = {}\n",
    "#Loop through each community in the network\n",
    "for community_number, community in enumerate(communities):\n",
    "    #For each member of the community, add their community number and a distinct color\n",
    "    for name in community: \n",
    "        modularity_class[name] = community_number\n",
    "        modularity_color[name] = Spectral8[community_number]"
   ]
  },
  {
   "cell_type": "code",
   "execution_count": 19,
   "metadata": {},
   "outputs": [],
   "source": [
    "# Add modularity class and color as attributes from the network above\n",
    "networkx.set_node_attributes(G, modularity_class, 'modularity_class')\n",
    "networkx.set_node_attributes(G, modularity_color, 'modularity_color')"
   ]
  },
  {
   "cell_type": "code",
   "execution_count": 20,
   "metadata": {},
   "outputs": [
    {
     "data": {
      "text/html": [
       "\n",
       "\n",
       "\n",
       "\n",
       "\n",
       "\n",
       "  <div class=\"bk-root\" id=\"35f49f4f-88d3-4f5c-bb15-6af76bacd50f\" data-root-id=\"1852\"></div>\n"
      ]
     },
     "metadata": {},
     "output_type": "display_data"
    },
    {
     "data": {
      "application/javascript": "(function(root) {\n  function embed_document(root) {\n    \n  var docs_json = {\"ec4b93aa-9203-4e13-8b12-6dd8e432e4ce\":{\"defs\":[],\"roots\":{\"references\":[{\"attributes\":{\"below\":[{\"id\":\"1861\"}],\"center\":[{\"id\":\"1864\"},{\"id\":\"1868\"}],\"left\":[{\"id\":\"1865\"}],\"renderers\":[{\"id\":\"1882\"}],\"title\":{\"id\":\"1853\"},\"toolbar\":{\"id\":\"1875\"},\"x_range\":{\"id\":\"1850\"},\"x_scale\":{\"id\":\"1857\"},\"y_range\":{\"id\":\"1851\"},\"y_scale\":{\"id\":\"1859\"}},\"id\":\"1852\",\"subtype\":\"Figure\",\"type\":\"Plot\"},{\"attributes\":{\"formatter\":{\"id\":\"1979\"},\"major_label_policy\":{\"id\":\"1981\"},\"ticker\":{\"id\":\"1862\"}},\"id\":\"1861\",\"type\":\"LinearAxis\"},{\"attributes\":{},\"id\":\"1982\",\"type\":\"Selection\"},{\"attributes\":{\"data_source\":{\"id\":\"1884\"},\"glyph\":{\"id\":\"1892\"},\"hover_glyph\":null,\"muted_glyph\":null,\"view\":{\"id\":\"1886\"}},\"id\":\"1885\",\"type\":\"GlyphRenderer\"},{\"attributes\":{},\"id\":\"1870\",\"type\":\"WheelZoomTool\"},{\"attributes\":{\"data\":{\"adjusted_node_size\":[27,6,6,6,7,7,6,8,6,6,6,8,7,6,6,6,7,6,6,6,6,6,6],\"degree\":[22,1,1,1,2,2,1,3,1,1,1,3,2,1,1,1,2,1,1,1,1,1,1],\"index\":[\"Fridolin\",\"daughter\",\"Albertina\",\"Marianne\",\"unknown\",\"Mizzi\",\"Nachtigall\",\"Gibiser\",\"Gentlemen\",\"Pierrette\",\"TWOServants\",\"woman\",\"another woman\",\"cavalier\",\"cavaliers\",\"YellowGentlemen\",\"gentlemen\",\"RedCavalier\",\"servant\",\"maid\",\"Fuchstaler\",\"Roediger\",\"Adler\"],\"modularity_class\":[0,0,0,0,3,3,0,1,1,1,0,2,2,0,0,0,2,0,0,0,0,0,0],\"modularity_color\":[\"#3288bd\",\"#3288bd\",\"#3288bd\",\"#3288bd\",\"#e6f598\",\"#e6f598\",\"#3288bd\",\"#66c2a5\",\"#66c2a5\",\"#66c2a5\",\"#3288bd\",\"#abdda4\",\"#abdda4\",\"#3288bd\",\"#3288bd\",\"#3288bd\",\"#abdda4\",\"#3288bd\",\"#3288bd\",\"#3288bd\",\"#3288bd\",\"#3288bd\",\"#3288bd\"]},\"selected\":{\"id\":\"1982\"},\"selection_policy\":{\"id\":\"1983\"}},\"id\":\"1884\",\"type\":\"ColumnDataSource\"},{\"attributes\":{},\"id\":\"1871\",\"type\":\"SaveTool\"},{\"attributes\":{\"data_source\":{\"id\":\"1888\"},\"glyph\":{\"id\":\"1897\"},\"hover_glyph\":null,\"muted_glyph\":null,\"view\":{\"id\":\"1890\"}},\"id\":\"1889\",\"type\":\"GlyphRenderer\"},{\"attributes\":{},\"id\":\"1866\",\"type\":\"BasicTicker\"},{\"attributes\":{\"data\":{\"Interaction Count\":[2,29,8,2,5,44,17,10,1,17,1,3,3,2,5,2,2,2,1,4,15,1,3,3,1,3],\"end\":[\"daughter\",\"Albertina\",\"Marianne\",\"unknown\",\"Mizzi\",\"Nachtigall\",\"Gibiser\",\"Fridolin\",\"TWOServants\",\"woman\",\"another woman\",\"cavalier\",\"cavaliers\",\"YellowGentlemen\",\"gentlemen\",\"RedCavalier\",\"servant\",\"maid\",\"Fuchstaler\",\"Roediger\",\"Adler\",\"Mizzi\",\"Gentlemen\",\"Pierrette\",\"another woman\",\"gentlemen\"],\"start\":[\"Fridolin\",\"Fridolin\",\"Fridolin\",\"Fridolin\",\"Fridolin\",\"Fridolin\",\"Fridolin\",\"Fridolin\",\"Fridolin\",\"Fridolin\",\"Fridolin\",\"Fridolin\",\"Fridolin\",\"Fridolin\",\"Fridolin\",\"Fridolin\",\"Fridolin\",\"Fridolin\",\"Fridolin\",\"Fridolin\",\"Fridolin\",\"unknown\",\"Gibiser\",\"Gibiser\",\"woman\",\"woman\"]},\"selected\":{\"id\":\"1984\"},\"selection_policy\":{\"id\":\"1985\"}},\"id\":\"1888\",\"type\":\"ColumnDataSource\"},{\"attributes\":{\"end\":10.1,\"start\":-10.1},\"id\":\"1850\",\"type\":\"Range1d\"},{\"attributes\":{\"graph_layout\":{\"Adler\":[-4.656516179200637,0.47727280604209876],\"Albertina\":[-2.8251456754488022,2.3917854648480397],\"Fridolin\":[0.1268544535214204,0.7996532456672921],\"Fuchstaler\":[4.58010962843759,0.2925715229045649],\"Gentlemen\":[-2.6848437186207113,-9.588137382357827],\"Gibiser\":[-0.870558350539529,-5.9821321340388725],\"Marianne\":[-2.919539638029671,4.5787157749473595],\"Mizzi\":[0.5961925938327973,5.502592116943955],\"Nachtigall\":[3.9081078704295313,3.86837854981638],\"Pierrette\":[-0.15351900424066586,-10.0],\"RedCavalier\":[2.600489489880782,2.3339687608922546],\"Roediger\":[-0.5949725334091737,3.611578048982805],\"TWOServants\":[4.701192354470318,2.025933753002738],\"YellowGentlemen\":[-3.685527117364718,-1.8552486293580388],\"another woman\":[2.4649138975550375,-1.4055652901589057],\"cavalier\":[-2.8420795492882607,-0.2268967416016193],\"cavaliers\":[2.3201650184037352,4.829834242178315],\"daughter\":[-1.694675585076958,-2.5647670564642753],\"gentlemen\":[0.5544852641752678,-2.9250672441870718],\"maid\":[-4.458531849124533,2.722953958677362],\"servant\":[4.301325334559165,-1.5169515482826808],\"unknown\":[-0.905182054066691,5.534284033174321],\"woman\":[2.1372553491447013,-2.9047562516281906]}},\"id\":\"1891\",\"type\":\"StaticLayoutProvider\"},{\"attributes\":{},\"id\":\"1978\",\"type\":\"AllLabels\"},{\"attributes\":{},\"id\":\"1976\",\"type\":\"BasicTickFormatter\"},{\"attributes\":{\"active_multi\":null,\"active_scroll\":{\"id\":\"1870\"},\"tools\":[{\"id\":\"1869\"},{\"id\":\"1870\"},{\"id\":\"1871\"},{\"id\":\"1872\"},{\"id\":\"1873\"},{\"id\":\"1874\"}]},\"id\":\"1875\",\"type\":\"Toolbar\"},{\"attributes\":{},\"id\":\"1857\",\"type\":\"LinearScale\"},{\"attributes\":{\"formatter\":{\"id\":\"1976\"},\"major_label_policy\":{\"id\":\"1978\"},\"ticker\":{\"id\":\"1866\"}},\"id\":\"1865\",\"type\":\"LinearAxis\"},{\"attributes\":{\"source\":{\"id\":\"1884\"}},\"id\":\"1886\",\"type\":\"CDSView\"},{\"attributes\":{\"callback\":null},\"id\":\"1873\",\"type\":\"TapTool\"},{\"attributes\":{},\"id\":\"1859\",\"type\":\"LinearScale\"},{\"attributes\":{\"source\":{\"id\":\"1888\"}},\"id\":\"1890\",\"type\":\"CDSView\"},{\"attributes\":{},\"id\":\"1985\",\"type\":\"UnionRenderers\"},{\"attributes\":{\"fill_color\":{\"field\":\"modularity_color\"},\"size\":{\"field\":\"adjusted_node_size\"}},\"id\":\"1892\",\"type\":\"Circle\"},{\"attributes\":{},\"id\":\"1984\",\"type\":\"Selection\"},{\"attributes\":{\"axis\":{\"id\":\"1865\"},\"dimension\":1,\"ticker\":null},\"id\":\"1868\",\"type\":\"Grid\"},{\"attributes\":{},\"id\":\"1971\",\"type\":\"NodesOnly\"},{\"attributes\":{},\"id\":\"1970\",\"type\":\"NodesOnly\"},{\"attributes\":{\"edge_renderer\":{\"id\":\"1889\"},\"inspection_policy\":{\"id\":\"1970\"},\"layout_provider\":{\"id\":\"1891\"},\"node_renderer\":{\"id\":\"1885\"},\"selection_policy\":{\"id\":\"1971\"}},\"id\":\"1882\",\"type\":\"GraphRenderer\"},{\"attributes\":{},\"id\":\"1862\",\"type\":\"BasicTicker\"},{\"attributes\":{\"line_alpha\":{\"value\":0.5}},\"id\":\"1897\",\"type\":\"MultiLine\"},{\"attributes\":{},\"id\":\"1869\",\"type\":\"PanTool\"},{\"attributes\":{\"text\":\"Dream Story Network\"},\"id\":\"1853\",\"type\":\"Title\"},{\"attributes\":{},\"id\":\"1872\",\"type\":\"ResetTool\"},{\"attributes\":{\"axis\":{\"id\":\"1861\"},\"ticker\":null},\"id\":\"1864\",\"type\":\"Grid\"},{\"attributes\":{\"end\":10.1,\"start\":-10.1},\"id\":\"1851\",\"type\":\"Range1d\"},{\"attributes\":{\"callback\":null,\"tooltips\":[[\"Character\",\"@index\"],[\"Interactions\",\"@degree\"],[\"Modularity Class\",\"@modularity_class\"],[\"Modularity Color\",\"$color[swatch]:modularity_color\"]]},\"id\":\"1874\",\"type\":\"HoverTool\"},{\"attributes\":{},\"id\":\"1981\",\"type\":\"AllLabels\"},{\"attributes\":{},\"id\":\"1979\",\"type\":\"BasicTickFormatter\"},{\"attributes\":{},\"id\":\"1983\",\"type\":\"UnionRenderers\"}],\"root_ids\":[\"1852\"]},\"title\":\"Bokeh Application\",\"version\":\"2.3.3\"}};\n  var render_items = [{\"docid\":\"ec4b93aa-9203-4e13-8b12-6dd8e432e4ce\",\"root_ids\":[\"1852\"],\"roots\":{\"1852\":\"35f49f4f-88d3-4f5c-bb15-6af76bacd50f\"}}];\n  root.Bokeh.embed.embed_items_notebook(docs_json, render_items);\n\n  }\n  if (root.Bokeh !== undefined) {\n    embed_document(root);\n  } else {\n    var attempts = 0;\n    var timer = setInterval(function(root) {\n      if (root.Bokeh !== undefined) {\n        clearInterval(timer);\n        embed_document(root);\n      } else {\n        attempts++;\n        if (attempts > 100) {\n          clearInterval(timer);\n          console.log(\"Bokeh: ERROR: Unable to run BokehJS code because BokehJS library is missing\");\n        }\n      }\n    }, 10, root)\n  }\n})(window);",
      "application/vnd.bokehjs_exec.v0+json": ""
     },
     "metadata": {
      "application/vnd.bokehjs_exec.v0+json": {
       "id": "1852"
      }
     },
     "output_type": "display_data"
    }
   ],
   "source": [
    "#Choose attributes from G network to size and color by — setting manual size (e.g. 10) or color (e.g. 'skyblue') also allowed\n",
    "size_by_this_attribute = 'adjusted_node_size'\n",
    "color_by_this_attribute = 'modularity_color'\n",
    "#Pick a color palette — Blues8, Reds8, Purples8, Oranges8, Viridis8\n",
    "color_palette = Blues8\n",
    "#Choose a title!\n",
    "title = 'Dream Story Network'\n",
    "\n",
    "#Establish which categories will appear when hovering over each node\n",
    "HOVER_TOOLTIPS = [\n",
    "       (\"Character\", \"@index\"),\n",
    "        (\"Interactions\", \"@degree\"),\n",
    "         (\"Modularity Class\", \"@modularity_class\"),\n",
    "        (\"Modularity Color\", \"$color[swatch]:modularity_color\"),\n",
    "]\n",
    "\n",
    "#Create a plot — set dimensions, toolbar, and title\n",
    "plot = figure(tooltips = HOVER_TOOLTIPS,\n",
    "              tools=\"pan,wheel_zoom,save,reset, tap\", active_scroll='wheel_zoom',\n",
    "            x_range=Range1d(-10.1, 10.1), y_range=Range1d(-10.1, 10.1), title=title)\n",
    "\n",
    "#Create a network graph object\n",
    "# https://networkx.github.io/documentation/networkx-1.9/reference/generated/networkx.drawing.layout.spring_layout.html\n",
    "network_graph = from_networkx(G, networkx.spring_layout, scale=10, center=(0, 0))\n",
    "\n",
    "#Set node sizes and colors according to node degree (color as category from attribute)\n",
    "network_graph.node_renderer.glyph = Circle(size=size_by_this_attribute, fill_color=color_by_this_attribute)\n",
    "\n",
    "#Set edge opacity and width\n",
    "network_graph.edge_renderer.glyph = MultiLine(line_alpha=0.5, line_width=1)\n",
    "\n",
    "plot.renderers.append(network_graph)\n",
    "\n",
    "show(plot)\n",
    "#save(plot, filename=f\"{title}.html\")"
   ]
  },
  {
   "cell_type": "code",
   "execution_count": 21,
   "metadata": {},
   "outputs": [],
   "source": [
    "from bokeh.io import output_notebook, show, save\n",
    "from bokeh.models import Range1d, Circle, ColumnDataSource, MultiLine, EdgesAndLinkedNodes, NodesAndLinkedEdges, LabelSet\n",
    "from bokeh.plotting import figure\n",
    "from bokeh.plotting import from_networkx\n",
    "from bokeh.palettes import Blues8, Reds8, Purples8, Oranges8, Viridis8, Spectral8\n",
    "from bokeh.transform import linear_cmap\n",
    "from networkx.algorithms import community"
   ]
  },
  {
   "cell_type": "code",
   "execution_count": 22,
   "metadata": {},
   "outputs": [],
   "source": [
    "degrees = dict(networkx.degree(G))\n",
    "networkx.set_node_attributes(G, name='degree', values=degrees)"
   ]
  },
  {
   "cell_type": "code",
   "execution_count": 23,
   "metadata": {},
   "outputs": [],
   "source": [
    "number_to_adjust_by = 5\n",
    "adjusted_node_size = dict([(node, degree+number_to_adjust_by) for node, degree in networkx.degree(G)])\n",
    "networkx.set_node_attributes(G, name='adjusted_node_size', values=adjusted_node_size)"
   ]
  },
  {
   "cell_type": "code",
   "execution_count": 24,
   "metadata": {},
   "outputs": [],
   "source": [
    "communities = community.greedy_modularity_communities(G)"
   ]
  },
  {
   "cell_type": "code",
   "execution_count": 25,
   "metadata": {},
   "outputs": [
    {
     "data": {
      "text/html": [
       "\n",
       "\n",
       "\n",
       "\n",
       "\n",
       "\n",
       "  <div class=\"bk-root\" id=\"24e7c65c-32a9-489c-9438-a4a69c9acaee\" data-root-id=\"2105\"></div>\n"
      ]
     },
     "metadata": {},
     "output_type": "display_data"
    },
    {
     "data": {
      "application/javascript": "(function(root) {\n  function embed_document(root) {\n    \n  var docs_json = {\"1e838b6a-32b3-4be7-ab9d-c36a968ab2f3\":{\"defs\":[],\"roots\":{\"references\":[{\"attributes\":{\"below\":[{\"id\":\"2114\"}],\"center\":[{\"id\":\"2117\"},{\"id\":\"2121\"}],\"left\":[{\"id\":\"2118\"}],\"renderers\":[{\"id\":\"2133\"},{\"id\":\"2178\"}],\"title\":{\"id\":\"2106\"},\"toolbar\":{\"id\":\"2127\"},\"x_range\":{\"id\":\"2103\"},\"x_scale\":{\"id\":\"2110\"},\"y_range\":{\"id\":\"2104\"},\"y_scale\":{\"id\":\"2112\"}},\"id\":\"2105\",\"subtype\":\"Figure\",\"type\":\"Plot\"},{\"attributes\":{},\"id\":\"2284\",\"type\":\"UnionRenderers\"},{\"attributes\":{},\"id\":\"2110\",\"type\":\"LinearScale\"},{\"attributes\":{\"end\":10.1,\"start\":-10.1},\"id\":\"2104\",\"type\":\"Range1d\"},{\"attributes\":{\"axis\":{\"id\":\"2114\"},\"ticker\":null},\"id\":\"2117\",\"type\":\"Grid\"},{\"attributes\":{\"text\":\"Dream Story Network\"},\"id\":\"2106\",\"type\":\"Title\"},{\"attributes\":{},\"id\":\"2280\",\"type\":\"UnionRenderers\"},{\"attributes\":{\"data_source\":{\"id\":\"2135\"},\"glyph\":{\"id\":\"2143\"},\"hover_glyph\":{\"id\":\"2148\"},\"muted_glyph\":null,\"selection_glyph\":{\"id\":\"2153\"},\"view\":{\"id\":\"2137\"}},\"id\":\"2136\",\"type\":\"GlyphRenderer\"},{\"attributes\":{\"line_alpha\":{\"value\":0.3}},\"id\":\"2158\",\"type\":\"MultiLine\"},{\"attributes\":{\"fill_color\":{\"value\":\"white\"},\"line_width\":{\"value\":2},\"size\":{\"field\":\"adjusted_node_size\"}},\"id\":\"2148\",\"type\":\"Circle\"},{\"attributes\":{\"fill_color\":{\"field\":\"modularity_color\"},\"size\":{\"field\":\"adjusted_node_size\"}},\"id\":\"2143\",\"type\":\"Circle\"},{\"attributes\":{},\"id\":\"2112\",\"type\":\"LinearScale\"},{\"attributes\":{},\"id\":\"2278\",\"type\":\"AllLabels\"},{\"attributes\":{},\"id\":\"2276\",\"type\":\"BasicTickFormatter\"},{\"attributes\":{\"formatter\":{\"id\":\"2273\"},\"major_label_policy\":{\"id\":\"2275\"},\"ticker\":{\"id\":\"2119\"}},\"id\":\"2118\",\"type\":\"LinearAxis\"},{\"attributes\":{},\"id\":\"2275\",\"type\":\"AllLabels\"},{\"attributes\":{},\"id\":\"2115\",\"type\":\"BasicTicker\"},{\"attributes\":{\"edge_renderer\":{\"id\":\"2140\"},\"inspection_policy\":{\"id\":\"2175\"},\"layout_provider\":{\"id\":\"2142\"},\"node_renderer\":{\"id\":\"2136\"},\"selection_policy\":{\"id\":\"2173\"}},\"id\":\"2133\",\"type\":\"GraphRenderer\"},{\"attributes\":{\"formatter\":{\"id\":\"2276\"},\"major_label_policy\":{\"id\":\"2278\"},\"ticker\":{\"id\":\"2115\"}},\"id\":\"2114\",\"type\":\"LinearAxis\"},{\"attributes\":{\"data\":{\"name\":[\"Fridolin\",\"daughter\",\"Albertina\",\"Marianne\",\"unknown\",\"Mizzi\",\"Nachtigall\",\"Gibiser\",\"Gentlemen\",\"Pierrette\",\"TWOServants\",\"woman\",\"another woman\",\"cavalier\",\"cavaliers\",\"YellowGentlemen\",\"gentlemen\",\"RedCavalier\",\"servant\",\"maid\",\"Fuchstaler\",\"Roediger\",\"Adler\"],\"x\":[-0.3112480749251188,-4.7619421157218556,2.3917915427443224,-1.3529237296251837,-4.686032538103603,-3.221065889710252,-5.347577119567849,2.174841994817537,4.790466666215285,2.2773273582085856,0.4020184800024695,1.3218661223555717,2.559751014860726,4.472873705167254,-1.7856491845229427,0.5333186761027913,-0.3999316107656969,2.895862230487525,3.7094451690590367,-3.312171083540919,-3.5176322498636043,-3.2215019913140868,4.388112627640017],\"y\":[0.7801969382463034,3.207553304068112,-2.356671012600271,-3.5591881005409887,-1.3055380401519365,-0.9400955940192609,0.8139273581639334,-5.876615967928977,-9.125551058699198,-10.0,-2.7417283952175793,3.4938893510320126,2.1366941381843034,0.5415462454724772,5.536722030861577,5.796479143924215,3.930208110928875,4.813144019145502,-1.0778578656042905,4.450135223028793,1.7867799736937642,-3.0484286835548136,2.744398881567453]},\"selected\":{\"id\":\"2279\"},\"selection_policy\":{\"id\":\"2280\"}},\"id\":\"2177\",\"type\":\"ColumnDataSource\"},{\"attributes\":{\"line_width\":{\"value\":2}},\"id\":\"2168\",\"type\":\"MultiLine\"},{\"attributes\":{\"fill_color\":{\"value\":\"white\"},\"line_width\":{\"value\":2},\"size\":{\"field\":\"adjusted_node_size\"}},\"id\":\"2153\",\"type\":\"Circle\"},{\"attributes\":{\"data\":{\"adjusted_node_size\":[27,6,6,6,7,7,6,8,6,6,6,8,7,6,6,6,7,6,6,6,6,6,6],\"degree\":[22,1,1,1,2,2,1,3,1,1,1,3,2,1,1,1,2,1,1,1,1,1,1],\"index\":[\"Fridolin\",\"daughter\",\"Albertina\",\"Marianne\",\"unknown\",\"Mizzi\",\"Nachtigall\",\"Gibiser\",\"Gentlemen\",\"Pierrette\",\"TWOServants\",\"woman\",\"another woman\",\"cavalier\",\"cavaliers\",\"YellowGentlemen\",\"gentlemen\",\"RedCavalier\",\"servant\",\"maid\",\"Fuchstaler\",\"Roediger\",\"Adler\"],\"modularity_class\":[0,0,0,0,3,3,0,1,1,1,0,2,2,0,0,0,2,0,0,0,0,0,0],\"modularity_color\":[\"#3288bd\",\"#3288bd\",\"#3288bd\",\"#3288bd\",\"#e6f598\",\"#e6f598\",\"#3288bd\",\"#66c2a5\",\"#66c2a5\",\"#66c2a5\",\"#3288bd\",\"#abdda4\",\"#abdda4\",\"#3288bd\",\"#3288bd\",\"#3288bd\",\"#abdda4\",\"#3288bd\",\"#3288bd\",\"#3288bd\",\"#3288bd\",\"#3288bd\",\"#3288bd\"]},\"selected\":{\"id\":\"2281\"},\"selection_policy\":{\"id\":\"2282\"}},\"id\":\"2135\",\"type\":\"ColumnDataSource\"},{\"attributes\":{\"background_fill_alpha\":{\"value\":0.7},\"background_fill_color\":{\"value\":\"white\"},\"source\":{\"id\":\"2177\"},\"text\":{\"field\":\"name\"},\"text_font_size\":{\"value\":\"10px\"},\"x\":{\"field\":\"x\"},\"y\":{\"field\":\"y\"}},\"id\":\"2178\",\"type\":\"LabelSet\"},{\"attributes\":{},\"id\":\"2279\",\"type\":\"Selection\"},{\"attributes\":{},\"id\":\"2173\",\"type\":\"NodesAndLinkedEdges\"},{\"attributes\":{},\"id\":\"2175\",\"type\":\"NodesAndLinkedEdges\"},{\"attributes\":{\"source\":{\"id\":\"2135\"}},\"id\":\"2137\",\"type\":\"CDSView\"},{\"attributes\":{},\"id\":\"2273\",\"type\":\"BasicTickFormatter\"},{\"attributes\":{},\"id\":\"2282\",\"type\":\"UnionRenderers\"},{\"attributes\":{\"line_width\":{\"value\":2}},\"id\":\"2163\",\"type\":\"MultiLine\"},{\"attributes\":{\"active_multi\":null,\"active_scroll\":{\"id\":\"2123\"},\"tools\":[{\"id\":\"2122\"},{\"id\":\"2123\"},{\"id\":\"2124\"},{\"id\":\"2125\"},{\"id\":\"2126\"}]},\"id\":\"2127\",\"type\":\"Toolbar\"},{\"attributes\":{\"data_source\":{\"id\":\"2139\"},\"glyph\":{\"id\":\"2158\"},\"hover_glyph\":{\"id\":\"2168\"},\"muted_glyph\":null,\"selection_glyph\":{\"id\":\"2163\"},\"view\":{\"id\":\"2141\"}},\"id\":\"2140\",\"type\":\"GlyphRenderer\"},{\"attributes\":{\"source\":{\"id\":\"2139\"}},\"id\":\"2141\",\"type\":\"CDSView\"},{\"attributes\":{\"graph_layout\":{\"Adler\":[4.388112627640017,2.744398881567453],\"Albertina\":[2.3917915427443224,-2.356671012600271],\"Fridolin\":[-0.3112480749251188,0.7801969382463034],\"Fuchstaler\":[-3.5176322498636043,1.7867799736937642],\"Gentlemen\":[4.790466666215285,-9.125551058699198],\"Gibiser\":[2.174841994817537,-5.876615967928977],\"Marianne\":[-1.3529237296251837,-3.5591881005409887],\"Mizzi\":[-3.221065889710252,-0.9400955940192609],\"Nachtigall\":[-5.347577119567849,0.8139273581639334],\"Pierrette\":[2.2773273582085856,-10.0],\"RedCavalier\":[2.895862230487525,4.813144019145502],\"Roediger\":[-3.2215019913140868,-3.0484286835548136],\"TWOServants\":[0.4020184800024695,-2.7417283952175793],\"YellowGentlemen\":[0.5333186761027913,5.796479143924215],\"another woman\":[2.559751014860726,2.1366941381843034],\"cavalier\":[4.472873705167254,0.5415462454724772],\"cavaliers\":[-1.7856491845229427,5.536722030861577],\"daughter\":[-4.7619421157218556,3.207553304068112],\"gentlemen\":[-0.3999316107656969,3.930208110928875],\"maid\":[-3.312171083540919,4.450135223028793],\"servant\":[3.7094451690590367,-1.0778578656042905],\"unknown\":[-4.686032538103603,-1.3055380401519365],\"woman\":[1.3218661223555717,3.4938893510320126]}},\"id\":\"2142\",\"type\":\"StaticLayoutProvider\"},{\"attributes\":{\"data\":{\"Interaction Count\":[2,29,8,2,5,44,17,10,1,17,1,3,3,2,5,2,2,2,1,4,15,1,3,3,1,3],\"end\":[\"daughter\",\"Albertina\",\"Marianne\",\"unknown\",\"Mizzi\",\"Nachtigall\",\"Gibiser\",\"Fridolin\",\"TWOServants\",\"woman\",\"another woman\",\"cavalier\",\"cavaliers\",\"YellowGentlemen\",\"gentlemen\",\"RedCavalier\",\"servant\",\"maid\",\"Fuchstaler\",\"Roediger\",\"Adler\",\"Mizzi\",\"Gentlemen\",\"Pierrette\",\"another woman\",\"gentlemen\"],\"start\":[\"Fridolin\",\"Fridolin\",\"Fridolin\",\"Fridolin\",\"Fridolin\",\"Fridolin\",\"Fridolin\",\"Fridolin\",\"Fridolin\",\"Fridolin\",\"Fridolin\",\"Fridolin\",\"Fridolin\",\"Fridolin\",\"Fridolin\",\"Fridolin\",\"Fridolin\",\"Fridolin\",\"Fridolin\",\"Fridolin\",\"Fridolin\",\"unknown\",\"Gibiser\",\"Gibiser\",\"woman\",\"woman\"]},\"selected\":{\"id\":\"2283\"},\"selection_policy\":{\"id\":\"2284\"}},\"id\":\"2139\",\"type\":\"ColumnDataSource\"},{\"attributes\":{},\"id\":\"2125\",\"type\":\"ResetTool\"},{\"attributes\":{},\"id\":\"2124\",\"type\":\"SaveTool\"},{\"attributes\":{},\"id\":\"2283\",\"type\":\"Selection\"},{\"attributes\":{},\"id\":\"2122\",\"type\":\"PanTool\"},{\"attributes\":{},\"id\":\"2281\",\"type\":\"Selection\"},{\"attributes\":{},\"id\":\"2123\",\"type\":\"WheelZoomTool\"},{\"attributes\":{\"callback\":null,\"tooltips\":[[\"Character\",\"@index\"],[\"Interactions\",\"@degree\"],[\"Modularity Class\",\"@modularity_class\"],[\"Modularity Color\",\"$color[swatch]:modularity_color\"]]},\"id\":\"2126\",\"type\":\"HoverTool\"},{\"attributes\":{\"end\":10.1,\"start\":-10.1},\"id\":\"2103\",\"type\":\"Range1d\"},{\"attributes\":{},\"id\":\"2119\",\"type\":\"BasicTicker\"},{\"attributes\":{\"axis\":{\"id\":\"2118\"},\"dimension\":1,\"ticker\":null},\"id\":\"2121\",\"type\":\"Grid\"}],\"root_ids\":[\"2105\"]},\"title\":\"Bokeh Application\",\"version\":\"2.3.3\"}};\n  var render_items = [{\"docid\":\"1e838b6a-32b3-4be7-ab9d-c36a968ab2f3\",\"root_ids\":[\"2105\"],\"roots\":{\"2105\":\"24e7c65c-32a9-489c-9438-a4a69c9acaee\"}}];\n  root.Bokeh.embed.embed_items_notebook(docs_json, render_items);\n\n  }\n  if (root.Bokeh !== undefined) {\n    embed_document(root);\n  } else {\n    var attempts = 0;\n    var timer = setInterval(function(root) {\n      if (root.Bokeh !== undefined) {\n        clearInterval(timer);\n        embed_document(root);\n      } else {\n        attempts++;\n        if (attempts > 100) {\n          clearInterval(timer);\n          console.log(\"Bokeh: ERROR: Unable to run BokehJS code because BokehJS library is missing\");\n        }\n      }\n    }, 10, root)\n  }\n})(window);",
      "application/vnd.bokehjs_exec.v0+json": ""
     },
     "metadata": {
      "application/vnd.bokehjs_exec.v0+json": {
       "id": "2105"
      }
     },
     "output_type": "display_data"
    }
   ],
   "source": [
    "#Choose colors for node and edge highlighting\n",
    "node_highlight_color = 'white'\n",
    "edge_highlight_color = 'black'\n",
    "\n",
    "#Choose attributes from G network to size and color by — setting manual size (e.g. 10) or color (e.g. 'skyblue') also allowed\n",
    "size_by_this_attribute = 'adjusted_node_size'\n",
    "color_by_this_attribute = 'modularity_color'\n",
    "\n",
    "#Pick a color palette — Blues8, Reds8, Purples8, Oranges8, Viridis8\n",
    "color_palette = Blues8\n",
    "\n",
    "#Choose a title!\n",
    "title = 'Dream Story Network'\n",
    "\n",
    "#Establish which categories will appear when hovering over each node\n",
    "HOVER_TOOLTIPS = [\n",
    "       (\"Character\", \"@index\"),\n",
    "        (\"Interactions\", \"@degree\"),\n",
    "         (\"Modularity Class\", \"@modularity_class\"),\n",
    "        (\"Modularity Color\", \"$color[swatch]:modularity_color\"),\n",
    "]\n",
    "\n",
    "#Create a plot — set dimensions, toolbar, and title\n",
    "plot = figure(tooltips = HOVER_TOOLTIPS,\n",
    "              tools=\"pan,wheel_zoom,save,reset\", active_scroll='wheel_zoom',\n",
    "            x_range=Range1d(-10.1, 10.1), y_range=Range1d(-10.1, 10.1), title=title)\n",
    "\n",
    "#Create a network graph object\n",
    "# https://networkx.github.io/documentation/networkx-1.9/reference/generated/networkx.drawing.layout.spring_layout.html\n",
    "network_graph = from_networkx(G, networkx.spring_layout, scale=10, center=(0, 0))\n",
    "\n",
    "#Set node sizes and colors according to node degree (color as category from attribute)\n",
    "network_graph.node_renderer.glyph = Circle(size=size_by_this_attribute, fill_color=color_by_this_attribute)\n",
    "#Set node highlight colors\n",
    "network_graph.node_renderer.hover_glyph = Circle(size=size_by_this_attribute, fill_color=node_highlight_color, line_width=2)\n",
    "network_graph.node_renderer.selection_glyph = Circle(size=size_by_this_attribute, fill_color=node_highlight_color, line_width=2)\n",
    "\n",
    "#Set edge opacity and width\n",
    "network_graph.edge_renderer.glyph = MultiLine(line_alpha=0.3, line_width=1)\n",
    "#Set edge highlight colors\n",
    "network_graph.edge_renderer.selection_glyph = MultiLine(line_color=edge_highlight_color, line_width=2)\n",
    "network_graph.edge_renderer.hover_glyph = MultiLine(line_color=edge_highlight_color, line_width=2)\n",
    "\n",
    "#Highlight nodes and edges\n",
    "network_graph.selection_policy = NodesAndLinkedEdges()\n",
    "network_graph.inspection_policy = NodesAndLinkedEdges()\n",
    "\n",
    "plot.renderers.append(network_graph)\n",
    "\n",
    "#Add Labels\n",
    "x, y = zip(*network_graph.layout_provider.graph_layout.values())\n",
    "node_labels = list(G.nodes())\n",
    "source = ColumnDataSource({'x': x, 'y': y, 'name': [node_labels[i] for i in range(len(x))]})\n",
    "labels = LabelSet(x='x', y='y', text='name', source=source, background_fill_color='white', text_font_size='10px', background_fill_alpha=.7)\n",
    "plot.renderers.append(labels)\n",
    "\n",
    "show(plot)\n",
    "#save(plot, filename=f\"{title}.html\")"
   ]
  }
 ],
 "metadata": {
  "kernelspec": {
   "display_name": "Python 3",
   "language": "python",
   "name": "python3"
  },
  "language_info": {
   "codemirror_mode": {
    "name": "ipython",
    "version": 3
   },
   "file_extension": ".py",
   "mimetype": "text/x-python",
   "name": "python",
   "nbconvert_exporter": "python",
   "pygments_lexer": "ipython3",
   "version": "3.10.8"
  },
  "orig_nbformat": 4
 },
 "nbformat": 4,
 "nbformat_minor": 2
}
