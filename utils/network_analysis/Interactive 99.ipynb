{
 "cells": [
  {
   "cell_type": "code",
   "execution_count": 24,
   "metadata": {},
   "outputs": [],
   "source": [
    "import pandas as pd\n",
    "import networkx\n",
    "import matplotlib.pyplot as plt\n",
    "import numpy as np"
   ]
  },
  {
   "cell_type": "code",
   "execution_count": 25,
   "metadata": {},
   "outputs": [],
   "source": [
    "from bokeh.io import output_notebook, show, save"
   ]
  },
  {
   "cell_type": "code",
   "execution_count": 26,
   "metadata": {},
   "outputs": [
    {
     "data": {
      "text/html": [
       "\n",
       "    <div class=\"bk-root\">\n",
       "        <a href=\"https://bokeh.org\" target=\"_blank\" class=\"bk-logo bk-logo-small bk-logo-notebook\"></a>\n",
       "        <span id=\"2121\">Loading BokehJS ...</span>\n",
       "    </div>"
      ]
     },
     "metadata": {},
     "output_type": "display_data"
    },
    {
     "data": {
      "application/javascript": "\n(function(root) {\n  function now() {\n    return new Date();\n  }\n\n  var force = true;\n\n  if (typeof root._bokeh_onload_callbacks === \"undefined\" || force === true) {\n    root._bokeh_onload_callbacks = [];\n    root._bokeh_is_loading = undefined;\n  }\n\n  var JS_MIME_TYPE = 'application/javascript';\n  var HTML_MIME_TYPE = 'text/html';\n  var EXEC_MIME_TYPE = 'application/vnd.bokehjs_exec.v0+json';\n  var CLASS_NAME = 'output_bokeh rendered_html';\n\n  /**\n   * Render data to the DOM node\n   */\n  function render(props, node) {\n    var script = document.createElement(\"script\");\n    node.appendChild(script);\n  }\n\n  /**\n   * Handle when an output is cleared or removed\n   */\n  function handleClearOutput(event, handle) {\n    var cell = handle.cell;\n\n    var id = cell.output_area._bokeh_element_id;\n    var server_id = cell.output_area._bokeh_server_id;\n    // Clean up Bokeh references\n    if (id != null && id in Bokeh.index) {\n      Bokeh.index[id].model.document.clear();\n      delete Bokeh.index[id];\n    }\n\n    if (server_id !== undefined) {\n      // Clean up Bokeh references\n      var cmd = \"from bokeh.io.state import curstate; print(curstate().uuid_to_server['\" + server_id + \"'].get_sessions()[0].document.roots[0]._id)\";\n      cell.notebook.kernel.execute(cmd, {\n        iopub: {\n          output: function(msg) {\n            var id = msg.content.text.trim();\n            if (id in Bokeh.index) {\n              Bokeh.index[id].model.document.clear();\n              delete Bokeh.index[id];\n            }\n          }\n        }\n      });\n      // Destroy server and session\n      var cmd = \"import bokeh.io.notebook as ion; ion.destroy_server('\" + server_id + \"')\";\n      cell.notebook.kernel.execute(cmd);\n    }\n  }\n\n  /**\n   * Handle when a new output is added\n   */\n  function handleAddOutput(event, handle) {\n    var output_area = handle.output_area;\n    var output = handle.output;\n\n    // limit handleAddOutput to display_data with EXEC_MIME_TYPE content only\n    if ((output.output_type != \"display_data\") || (!Object.prototype.hasOwnProperty.call(output.data, EXEC_MIME_TYPE))) {\n      return\n    }\n\n    var toinsert = output_area.element.find(\".\" + CLASS_NAME.split(' ')[0]);\n\n    if (output.metadata[EXEC_MIME_TYPE][\"id\"] !== undefined) {\n      toinsert[toinsert.length - 1].firstChild.textContent = output.data[JS_MIME_TYPE];\n      // store reference to embed id on output_area\n      output_area._bokeh_element_id = output.metadata[EXEC_MIME_TYPE][\"id\"];\n    }\n    if (output.metadata[EXEC_MIME_TYPE][\"server_id\"] !== undefined) {\n      var bk_div = document.createElement(\"div\");\n      bk_div.innerHTML = output.data[HTML_MIME_TYPE];\n      var script_attrs = bk_div.children[0].attributes;\n      for (var i = 0; i < script_attrs.length; i++) {\n        toinsert[toinsert.length - 1].firstChild.setAttribute(script_attrs[i].name, script_attrs[i].value);\n        toinsert[toinsert.length - 1].firstChild.textContent = bk_div.children[0].textContent\n      }\n      // store reference to server id on output_area\n      output_area._bokeh_server_id = output.metadata[EXEC_MIME_TYPE][\"server_id\"];\n    }\n  }\n\n  function register_renderer(events, OutputArea) {\n\n    function append_mime(data, metadata, element) {\n      // create a DOM node to render to\n      var toinsert = this.create_output_subarea(\n        metadata,\n        CLASS_NAME,\n        EXEC_MIME_TYPE\n      );\n      this.keyboard_manager.register_events(toinsert);\n      // Render to node\n      var props = {data: data, metadata: metadata[EXEC_MIME_TYPE]};\n      render(props, toinsert[toinsert.length - 1]);\n      element.append(toinsert);\n      return toinsert\n    }\n\n    /* Handle when an output is cleared or removed */\n    events.on('clear_output.CodeCell', handleClearOutput);\n    events.on('delete.Cell', handleClearOutput);\n\n    /* Handle when a new output is added */\n    events.on('output_added.OutputArea', handleAddOutput);\n\n    /**\n     * Register the mime type and append_mime function with output_area\n     */\n    OutputArea.prototype.register_mime_type(EXEC_MIME_TYPE, append_mime, {\n      /* Is output safe? */\n      safe: true,\n      /* Index of renderer in `output_area.display_order` */\n      index: 0\n    });\n  }\n\n  // register the mime type if in Jupyter Notebook environment and previously unregistered\n  if (root.Jupyter !== undefined) {\n    var events = require('base/js/events');\n    var OutputArea = require('notebook/js/outputarea').OutputArea;\n\n    if (OutputArea.prototype.mime_types().indexOf(EXEC_MIME_TYPE) == -1) {\n      register_renderer(events, OutputArea);\n    }\n  }\n\n  \n  if (typeof (root._bokeh_timeout) === \"undefined\" || force === true) {\n    root._bokeh_timeout = Date.now() + 5000;\n    root._bokeh_failed_load = false;\n  }\n\n  var NB_LOAD_WARNING = {'data': {'text/html':\n     \"<div style='background-color: #fdd'>\\n\"+\n     \"<p>\\n\"+\n     \"BokehJS does not appear to have successfully loaded. If loading BokehJS from CDN, this \\n\"+\n     \"may be due to a slow or bad network connection. Possible fixes:\\n\"+\n     \"</p>\\n\"+\n     \"<ul>\\n\"+\n     \"<li>re-rerun `output_notebook()` to attempt to load from CDN again, or</li>\\n\"+\n     \"<li>use INLINE resources instead, as so:</li>\\n\"+\n     \"</ul>\\n\"+\n     \"<code>\\n\"+\n     \"from bokeh.resources import INLINE\\n\"+\n     \"output_notebook(resources=INLINE)\\n\"+\n     \"</code>\\n\"+\n     \"</div>\"}};\n\n  function display_loaded() {\n    var el = document.getElementById(\"2121\");\n    if (el != null) {\n      el.textContent = \"BokehJS is loading...\";\n    }\n    if (root.Bokeh !== undefined) {\n      if (el != null) {\n        el.textContent = \"BokehJS \" + root.Bokeh.version + \" successfully loaded.\";\n      }\n    } else if (Date.now() < root._bokeh_timeout) {\n      setTimeout(display_loaded, 100)\n    }\n  }\n\n\n  function run_callbacks() {\n    try {\n      root._bokeh_onload_callbacks.forEach(function(callback) {\n        if (callback != null)\n          callback();\n      });\n    } finally {\n      delete root._bokeh_onload_callbacks\n    }\n    console.debug(\"Bokeh: all callbacks have finished\");\n  }\n\n  function load_libs(css_urls, js_urls, callback) {\n    if (css_urls == null) css_urls = [];\n    if (js_urls == null) js_urls = [];\n\n    root._bokeh_onload_callbacks.push(callback);\n    if (root._bokeh_is_loading > 0) {\n      console.debug(\"Bokeh: BokehJS is being loaded, scheduling callback at\", now());\n      return null;\n    }\n    if (js_urls == null || js_urls.length === 0) {\n      run_callbacks();\n      return null;\n    }\n    console.debug(\"Bokeh: BokehJS not loaded, scheduling load and callback at\", now());\n    root._bokeh_is_loading = css_urls.length + js_urls.length;\n\n    function on_load() {\n      root._bokeh_is_loading--;\n      if (root._bokeh_is_loading === 0) {\n        console.debug(\"Bokeh: all BokehJS libraries/stylesheets loaded\");\n        run_callbacks()\n      }\n    }\n\n    function on_error(url) {\n      console.error(\"failed to load \" + url);\n    }\n\n    for (let i = 0; i < css_urls.length; i++) {\n      const url = css_urls[i];\n      const element = document.createElement(\"link\");\n      element.onload = on_load;\n      element.onerror = on_error.bind(null, url);\n      element.rel = \"stylesheet\";\n      element.type = \"text/css\";\n      element.href = url;\n      console.debug(\"Bokeh: injecting link tag for BokehJS stylesheet: \", url);\n      document.body.appendChild(element);\n    }\n\n    const hashes = {\"https://cdn.bokeh.org/bokeh/release/bokeh-2.3.3.min.js\": \"dM3QQsP+wXdHg42wTqW85BjZQdLNNIXqlPw/BgKoExPmTG7ZLML4EGqLMfqHT6ON\", \"https://cdn.bokeh.org/bokeh/release/bokeh-tables-2.3.3.min.js\": \"8x57I4YuIfu8XyZfFo0XVr2WAT8EK4rh/uDe3wF7YuW2FNUSNEpJbsPaB1nJ2fz2\", \"https://cdn.bokeh.org/bokeh/release/bokeh-widgets-2.3.3.min.js\": \"3QTqdz9LyAm2i0sG5XTePsHec3UHWwVsrOL68SYRoAXsafvfAyqtQ+h440+qIBhS\"};\n\n    for (let i = 0; i < js_urls.length; i++) {\n      const url = js_urls[i];\n      const element = document.createElement('script');\n      element.onload = on_load;\n      element.onerror = on_error.bind(null, url);\n      element.async = false;\n      element.src = url;\n      if (url in hashes) {\n        element.crossOrigin = \"anonymous\";\n        element.integrity = \"sha384-\" + hashes[url];\n      }\n      console.debug(\"Bokeh: injecting script tag for BokehJS library: \", url);\n      document.head.appendChild(element);\n    }\n  };\n\n  function inject_raw_css(css) {\n    const element = document.createElement(\"style\");\n    element.appendChild(document.createTextNode(css));\n    document.body.appendChild(element);\n  }\n\n  \n  var js_urls = [\"https://cdn.bokeh.org/bokeh/release/bokeh-2.3.3.min.js\", \"https://cdn.bokeh.org/bokeh/release/bokeh-widgets-2.3.3.min.js\", \"https://cdn.bokeh.org/bokeh/release/bokeh-tables-2.3.3.min.js\"];\n  var css_urls = [];\n  \n\n  var inline_js = [\n    function(Bokeh) {\n      Bokeh.set_log_level(\"info\");\n    },\n    function(Bokeh) {\n    \n    \n    }\n  ];\n\n  function run_inline_js() {\n    \n    if (root.Bokeh !== undefined || force === true) {\n      \n    for (var i = 0; i < inline_js.length; i++) {\n      inline_js[i].call(root, root.Bokeh);\n    }\n    if (force === true) {\n        display_loaded();\n      }} else if (Date.now() < root._bokeh_timeout) {\n      setTimeout(run_inline_js, 100);\n    } else if (!root._bokeh_failed_load) {\n      console.log(\"Bokeh: BokehJS failed to load within specified timeout.\");\n      root._bokeh_failed_load = true;\n    } else if (force !== true) {\n      var cell = $(document.getElementById(\"2121\")).parents('.cell').data().cell;\n      cell.output_area.append_execute_result(NB_LOAD_WARNING)\n    }\n\n  }\n\n  if (root._bokeh_is_loading === 0) {\n    console.debug(\"Bokeh: BokehJS loaded, going straight to plotting\");\n    run_inline_js();\n  } else {\n    load_libs(css_urls, js_urls, function() {\n      console.debug(\"Bokeh: BokehJS plotting callback run at\", now());\n      run_inline_js();\n    });\n  }\n}(window));",
      "application/vnd.bokehjs_load.v0+json": ""
     },
     "metadata": {},
     "output_type": "display_data"
    }
   ],
   "source": [
    "output_notebook()"
   ]
  },
  {
   "cell_type": "code",
   "execution_count": 27,
   "metadata": {},
   "outputs": [],
   "source": [
    "import pandas as pd\n",
    "\n",
    "\n",
    "# Read the csv files\n",
    "df_ds = pd.read_csv('interactions_screenplay99.csv')\n",
    "\n"
   ]
  },
  {
   "cell_type": "code",
   "execution_count": 28,
   "metadata": {},
   "outputs": [],
   "source": [
    "G = networkx.from_pandas_edgelist(df_ds, 'Character', 'Listener', 'Interaction Count')"
   ]
  },
  {
   "cell_type": "code",
   "execution_count": 29,
   "metadata": {},
   "outputs": [],
   "source": [
    "from bokeh.io import output_notebook, show, save\n",
    "from bokeh.models import Range1d, Circle, ColumnDataSource, MultiLine\n",
    "from bokeh.plotting import figure\n",
    "from bokeh.plotting import from_networkx"
   ]
  },
  {
   "cell_type": "code",
   "execution_count": 30,
   "metadata": {},
   "outputs": [
    {
     "data": {
      "text/html": [
       "\n",
       "\n",
       "\n",
       "\n",
       "\n",
       "\n",
       "  <div class=\"bk-root\" id=\"56dbe920-e89d-4c4b-b8ca-e94d38af922d\" data-root-id=\"2124\"></div>\n"
      ]
     },
     "metadata": {},
     "output_type": "display_data"
    },
    {
     "data": {
      "application/javascript": "(function(root) {\n  function embed_document(root) {\n    \n  var docs_json = {\"1471fafb-c9fd-4566-8c38-96527fae536d\":{\"defs\":[],\"roots\":{\"references\":[{\"attributes\":{\"below\":[{\"id\":\"2133\"}],\"center\":[{\"id\":\"2136\"},{\"id\":\"2140\"}],\"left\":[{\"id\":\"2137\"}],\"renderers\":[{\"id\":\"2152\"}],\"title\":{\"id\":\"2125\"},\"toolbar\":{\"id\":\"2146\"},\"x_range\":{\"id\":\"2122\"},\"x_scale\":{\"id\":\"2129\"},\"y_range\":{\"id\":\"2123\"},\"y_scale\":{\"id\":\"2131\"}},\"id\":\"2124\",\"subtype\":\"Figure\",\"type\":\"Plot\"},{\"attributes\":{},\"id\":\"2275\",\"type\":\"Selection\"},{\"attributes\":{\"axis\":{\"id\":\"2137\"},\"dimension\":1,\"ticker\":null},\"id\":\"2140\",\"type\":\"Grid\"},{\"attributes\":{\"edge_renderer\":{\"id\":\"2159\"},\"inspection_policy\":{\"id\":\"2265\"},\"layout_provider\":{\"id\":\"2161\"},\"node_renderer\":{\"id\":\"2155\"},\"selection_policy\":{\"id\":\"2260\"}},\"id\":\"2152\",\"type\":\"GraphRenderer\"},{\"attributes\":{\"data_source\":{\"id\":\"2158\"},\"glyph\":{\"id\":\"2167\"},\"hover_glyph\":null,\"muted_glyph\":null,\"view\":{\"id\":\"2160\"}},\"id\":\"2159\",\"type\":\"GlyphRenderer\"},{\"attributes\":{},\"id\":\"2260\",\"type\":\"NodesOnly\"},{\"attributes\":{\"data_source\":{\"id\":\"2154\"},\"glyph\":{\"id\":\"2162\"},\"hover_glyph\":null,\"muted_glyph\":null,\"view\":{\"id\":\"2156\"}},\"id\":\"2155\",\"type\":\"GlyphRenderer\"},{\"attributes\":{},\"id\":\"2274\",\"type\":\"UnionRenderers\"},{\"attributes\":{\"source\":{\"id\":\"2158\"}},\"id\":\"2160\",\"type\":\"CDSView\"},{\"attributes\":{\"formatter\":{\"id\":\"2257\"},\"major_label_policy\":{\"id\":\"2258\"},\"ticker\":{\"id\":\"2134\"}},\"id\":\"2133\",\"type\":\"LinearAxis\"},{\"attributes\":{},\"id\":\"2143\",\"type\":\"SaveTool\"},{\"attributes\":{},\"id\":\"2138\",\"type\":\"BasicTicker\"},{\"attributes\":{},\"id\":\"2273\",\"type\":\"Selection\"},{\"attributes\":{\"data\":{\"index\":[\"BILL\",\"ALICE\",\"ROZ\",\" HELENA\",\"HELENA\",\" BILL\",\"ZIEGLER\",\" ILONA\",\" ALICE\",\"ILONA\",\" ZIEGLER\",\"NICK\",\"SECRETARY\",\"SZAVOST\",\"GAYLE\",\" NUALA\",\"NUALA\",\"HARRIS\",\" GAYLE\",\"MANDY\",\"LISA\",\"SARAH\",\"GIRL\",\"BOY\",\"PATIENT\",\"ROSA\",\"MARION\",\"CARL\",\" MARION\",\"STUDENT I\",\"STUDENTS\",\"STUDENT 2\",\"DOMINO\",\"bill\",\"DOORMAN\",\"MAITRE D'\",\"AUDIENCE\",\"VOICE FROM AUDIENCE\",\" PERSON AT THE PHONE\",\"PERSON AT THE PHONE\",\"DRIVER\",\"MILICH\",\"JAPANESE MAN 1\",\"DAUGHTER\",\"JAPANESE MAN 2\",\" JAPANESE MAN 1\",\" JAPANESE MAN 2\",\" DAUGHTER\",\"CAB DRIVER\",\"GATEMAN 1\",\"MASKED BUTLER\",\"MYSTERIOUS WOMAN\",\"OMINOUS MAN\",\"YOUNG WOMAN\",\" YOUNG WOMAN\",\"TALL BUTLER\",\"RED CLOAK\",\"RED CLOACK\",\"WAITRESS\",\"CLERK\",\"SALLY\",\"RECEPTIONIST\"]},\"selected\":{\"id\":\"2275\"},\"selection_policy\":{\"id\":\"2276\"}},\"id\":\"2154\",\"type\":\"ColumnDataSource\"},{\"attributes\":{\"text\":\"Screenplay 1999 Network\"},\"id\":\"2125\",\"type\":\"Title\"},{\"attributes\":{},\"id\":\"2271\",\"type\":\"AllLabels\"},{\"attributes\":{},\"id\":\"2142\",\"type\":\"WheelZoomTool\"},{\"attributes\":{\"end\":10.1,\"start\":-10.1},\"id\":\"2122\",\"type\":\"Range1d\"},{\"attributes\":{\"axis\":{\"id\":\"2133\"},\"ticker\":null},\"id\":\"2136\",\"type\":\"Grid\"},{\"attributes\":{},\"id\":\"2265\",\"type\":\"NodesOnly\"},{\"attributes\":{},\"id\":\"2270\",\"type\":\"BasicTickFormatter\"},{\"attributes\":{\"end\":10.1,\"start\":-10.1},\"id\":\"2123\",\"type\":\"Range1d\"},{\"attributes\":{\"source\":{\"id\":\"2154\"}},\"id\":\"2156\",\"type\":\"CDSView\"},{\"attributes\":{},\"id\":\"2131\",\"type\":\"LinearScale\"},{\"attributes\":{},\"id\":\"2144\",\"type\":\"ResetTool\"},{\"attributes\":{},\"id\":\"2134\",\"type\":\"BasicTicker\"},{\"attributes\":{\"callback\":null,\"tooltips\":[[\"Character\",\"@index\"]]},\"id\":\"2145\",\"type\":\"HoverTool\"},{\"attributes\":{\"data\":{\"Interaction Count\":[72,7,1,54,2,34,9,3,2,1,1,4,7,1,1,2,1,2,15,5,3,20,1,4,1,35,1,3,3,2,7,1,2,1,5,1,1,8,16,1,19,6,4,1,17,1,1,22,1,1,2,1,1,1,2,2,1,1,1,1,1,1,2,1,1,2,1,2,1,1,5,4,1,4,2,1,1,2],\"end\":[\"ALICE\",\"HELENA\",\"ROZ\",\"ZIEGLER\",\" ILONA\",\"NICK\",\"GAYLE\",\" NUALA\",\"NUALA\",\"HARRIS\",\" GAYLE\",\"MANDY\",\"LISA\",\"SARAH\",\"GIRL\",\"BOY\",\"PATIENT\",\"ROSA\",\"MARION\",\"CARL\",\" MARION\",\"DOMINO\",\"DOORMAN\",\"MAITRE D'\",\"DRIVER\",\"MILICH\",\"DAUGHTER\",\"CAB DRIVER\",\"GATEMAN 1\",\"MASKED BUTLER\",\"MYSTERIOUS WOMAN\",\"OMINOUS MAN\",\"YOUNG WOMAN\",\"TALL BUTLER\",\"RED CLOAK\",\"RED CLOACK\",\"BILL\",\"WAITRESS\",\"CLERK\",\" HELENA\",\"SALLY\",\"RECEPTIONIST\",\"ROZ\",\" HELENA\",\"HELENA\",\"ZIEGLER\",\"ILONA\",\"SZAVOST\",\"bill\",\" BILL\",\" BILL\",\"ILONA\",\"STUDENT 2\",\"STUDENT I\",\"MILICH\",\" ALICE\",\"ILONA\",\"MANDY\",\" ZIEGLER\",\"SECRETARY\",\"AUDIENCE\",\"VOICE FROM AUDIENCE\",\"MAITRE D'\",\" PERSON AT THE PHONE\",\"PERSON AT THE PHONE\",\"CARL\",\"CARL\",\"STUDENTS\",\"STUDENT 2\",\"MILICH\",\"JAPANESE MAN 1\",\"DAUGHTER\",\"JAPANESE MAN 2\",\" JAPANESE MAN 1\",\" JAPANESE MAN 2\",\" DAUGHTER\",\" YOUNG WOMAN\",\"RED CLOAK\"],\"start\":[\"BILL\",\"BILL\",\"BILL\",\"BILL\",\"BILL\",\"BILL\",\"BILL\",\"BILL\",\"BILL\",\"BILL\",\"BILL\",\"BILL\",\"BILL\",\"BILL\",\"BILL\",\"BILL\",\"BILL\",\"BILL\",\"BILL\",\"BILL\",\"BILL\",\"BILL\",\"BILL\",\"BILL\",\"BILL\",\"BILL\",\"BILL\",\"BILL\",\"BILL\",\"BILL\",\"BILL\",\"BILL\",\"BILL\",\"BILL\",\"BILL\",\"BILL\",\"BILL\",\"BILL\",\"BILL\",\"BILL\",\"BILL\",\"BILL\",\"ALICE\",\"ALICE\",\"ALICE\",\"ALICE\",\"ALICE\",\"ALICE\",\"ALICE\",\"ROZ\",\"HELENA\",\" BILL\",\" BILL\",\" BILL\",\" BILL\",\"ZIEGLER\",\"ZIEGLER\",\"ZIEGLER\",\"ILONA\",\"NICK\",\"NICK\",\"NICK\",\"NICK\",\"NICK\",\"NICK\",\"ROSA\",\"MARION\",\"STUDENT I\",\"STUDENTS\",\"MILICH\",\"MILICH\",\"MILICH\",\"MILICH\",\"MILICH\",\"MILICH\",\"MILICH\",\"MYSTERIOUS WOMAN\",\"MYSTERIOUS WOMAN\"]},\"selected\":{\"id\":\"2273\"},\"selection_policy\":{\"id\":\"2274\"}},\"id\":\"2158\",\"type\":\"ColumnDataSource\"},{\"attributes\":{\"graph_layout\":{\" ALICE\":[6.042772731146834,0.3516363602932236],\" BILL\":[4.854369720972133,1.8235517283546885],\" DAUGHTER\":[6.23976839551979,-5.079631187856245],\" GAYLE\":[-4.511246042469518,-3.6407382430987303],\" HELENA\":[0.752265419462251,-1.6131161694951544],\" ILONA\":[-4.063131280315768,1.769629410181862],\" JAPANESE MAN 1\":[6.880342001514064,-4.400642334275848],\" JAPANESE MAN 2\":[7.67842185544887,-2.087056364564463],\" MARION\":[-3.9703032219927086,-2.158597442590352],\" NUALA\":[-1.2907430373767501,2.283312253674742],\" PERSON AT THE PHONE\":[2.5347492714874003,7.548335787845509],\" YOUNG WOMAN\":[-10.0,-1.5276349645442424],\" ZIEGLER\":[8.51515631759571,0.7348114118443853],\"ALICE\":[2.594389163642452,-1.4877350795773012],\"AUDIENCE\":[0.5780272263474233,8.438118960935315],\"BILL\":[-1.84551930513213,-0.6330744274848565],\"BOY\":[-5.462003797296528,-2.314490525174797],\"CAB DRIVER\":[-0.02774618180420178,-3.3037960905234374],\"CARL\":[-2.7778490986475837,1.0170233923552674],\"CLERK\":[-1.1323720068012788,-4.436615114090388],\"DAUGHTER\":[1.676078652060642,-2.3134694063852717],\"DOMINO\":[-3.811928755901164,-0.9983697268029283],\"DOORMAN\":[-2.3450592791858766,2.8179125133589813],\"DRIVER\":[-3.6677123414204558,-3.6837831483005603],\"GATEMAN 1\":[-3.0335872142383544,2.215959644956625],\"GAYLE\":[-1.670034898080107,-2.7331654712821343],\"GIRL\":[-4.975356012213583,1.7579007642203015],\"HARRIS\":[-4.716357730648895,0.8467065764870233],\"HELENA\":[2.0169852927851983,0.2049690777433625],\"ILONA\":[5.355709255293769,0.09514390976697487],\"JAPANESE MAN 1\":[7.842175684645054,-3.0109482343955],\"JAPANESE MAN 2\":[7.369607181737449,-3.72815055564818],\"LISA\":[-5.008143931170498,-1.4477299826107008],\"MAITRE D'\":[-0.4930245060410461,3.1020295913024336],\"MANDY\":[0.7413242303659897,-0.1442303441368031],\"MARION\":[-3.548518238998936,0.47444525047165764],\"MASKED BUTLER\":[-4.816964074710922,-0.2580947018008153],\"MILICH\":[4.555844387262127,-2.193850392313639],\"MYSTERIOUS WOMAN\":[-6.777460230247657,-1.1259078529677935],\"NICK\":[0.4613829272640601,5.33720310089575],\"NUALA\":[-0.39262139784244704,1.1765676483184],\"OMINOUS MAN\":[-0.5810819750004911,-2.0723585085617766],\"PATIENT\":[-3.0228984120501465,-2.635294601208426],\"PERSON AT THE PHONE\":[1.579822036621254,8.21327289967347],\"RECEPTIONIST\":[-3.15181427780654,-4.419607339835345],\"RED CLOACK\":[-5.587602030063432,0.5724195506057923],\"RED CLOAK\":[-5.728026680799808,-0.7478165377781122],\"ROSA\":[-1.8174114874891367,1.3410120407307349],\"ROZ\":[1.939518051897385,0.7279357945553878],\"SALLY\":[-0.8971611623082675,-3.6319640202738532],\"SARAH\":[-2.087841751503699,-4.432816392727961],\"SECRETARY\":[3.1245232754559624,6.255684993713982],\"STUDENT 2\":[6.025882447486068,5.128168621374859],\"STUDENT I\":[6.9357858904071605,4.735290592550927],\"STUDENTS\":[7.017112285148294,7.063776062238722],\"SZAVOST\":[4.721715978575759,-3.6054902977620187],\"TALL BUTLER\":[-2.443141064372146,-3.586994938944054],\"VOICE FROM AUDIENCE\":[-0.4576062997986797,8.233357409858215],\"WAITRESS\":[-3.832463499770683,2.7160858441260323],\"YOUNG WOMAN\":[-4.743581423801752,-2.821428981944818],\"ZIEGLER\":[2.8223357611703843,-0.24018873112856895],\"bill\":[3.8322472059876906,-4.467473082349527]}},\"id\":\"2161\",\"type\":\"StaticLayoutProvider\"},{\"attributes\":{},\"id\":\"2129\",\"type\":\"LinearScale\"},{\"attributes\":{\"formatter\":{\"id\":\"2270\"},\"major_label_policy\":{\"id\":\"2271\"},\"ticker\":{\"id\":\"2138\"}},\"id\":\"2137\",\"type\":\"LinearAxis\"},{\"attributes\":{\"fill_color\":{\"value\":\"skyblue\"},\"size\":{\"value\":15}},\"id\":\"2162\",\"type\":\"Circle\"},{\"attributes\":{},\"id\":\"2141\",\"type\":\"PanTool\"},{\"attributes\":{},\"id\":\"2257\",\"type\":\"BasicTickFormatter\"},{\"attributes\":{\"line_alpha\":{\"value\":0.5}},\"id\":\"2167\",\"type\":\"MultiLine\"},{\"attributes\":{},\"id\":\"2258\",\"type\":\"AllLabels\"},{\"attributes\":{\"active_multi\":null,\"active_scroll\":{\"id\":\"2142\"},\"tools\":[{\"id\":\"2141\"},{\"id\":\"2142\"},{\"id\":\"2143\"},{\"id\":\"2144\"},{\"id\":\"2145\"}]},\"id\":\"2146\",\"type\":\"Toolbar\"},{\"attributes\":{},\"id\":\"2276\",\"type\":\"UnionRenderers\"}],\"root_ids\":[\"2124\"]},\"title\":\"Bokeh Application\",\"version\":\"2.3.3\"}};\n  var render_items = [{\"docid\":\"1471fafb-c9fd-4566-8c38-96527fae536d\",\"root_ids\":[\"2124\"],\"roots\":{\"2124\":\"56dbe920-e89d-4c4b-b8ca-e94d38af922d\"}}];\n  root.Bokeh.embed.embed_items_notebook(docs_json, render_items);\n\n  }\n  if (root.Bokeh !== undefined) {\n    embed_document(root);\n  } else {\n    var attempts = 0;\n    var timer = setInterval(function(root) {\n      if (root.Bokeh !== undefined) {\n        clearInterval(timer);\n        embed_document(root);\n      } else {\n        attempts++;\n        if (attempts > 100) {\n          clearInterval(timer);\n          console.log(\"Bokeh: ERROR: Unable to run BokehJS code because BokehJS library is missing\");\n        }\n      }\n    }, 10, root)\n  }\n})(window);",
      "application/vnd.bokehjs_exec.v0+json": ""
     },
     "metadata": {
      "application/vnd.bokehjs_exec.v0+json": {
       "id": "2124"
      }
     },
     "output_type": "display_data"
    },
    {
     "name": "stderr",
     "output_type": "stream",
     "text": [
      "C:\\Users\\crosi\\AppData\\Roaming\\Python\\Python310\\site-packages\\bokeh\\io\\saving.py:126: UserWarning: save() called but no resources were supplied and output_file(...) was never called, defaulting to resources.CDN\n",
      "  warn(\"save() called but no resources were supplied and output_file(...) was never called, defaulting to resources.CDN\")\n",
      "C:\\Users\\crosi\\AppData\\Roaming\\Python\\Python310\\site-packages\\bokeh\\io\\saving.py:139: UserWarning: save() called but no title was supplied and output_file(...) was never called, using default title 'Bokeh Plot'\n",
      "  warn(\"save() called but no title was supplied and output_file(...) was never called, using default title 'Bokeh Plot'\")\n"
     ]
    },
    {
     "data": {
      "text/plain": [
       "'c:\\\\Users\\\\crosi\\\\Documents\\\\GitHub\\\\metascript\\\\utils\\\\network_analysis\\\\Screenplay 1999 Network.html'"
      ]
     },
     "execution_count": 30,
     "metadata": {},
     "output_type": "execute_result"
    }
   ],
   "source": [
    "#Choose a title!\n",
    "title = 'Screenplay 1999 Network'\n",
    "\n",
    "#Establish which categories will appear when hovering over each node\n",
    "HOVER_TOOLTIPS = [(\"Character\", \"@index\")]\n",
    "\n",
    "#Create a plot — set dimensions, toolbar, and title\n",
    "plot = figure(tooltips = HOVER_TOOLTIPS,\n",
    "              tools=\"pan,wheel_zoom,save,reset\", active_scroll='wheel_zoom',\n",
    "            x_range=Range1d(-10.1, 10.1), y_range=Range1d(-10.1, 10.1), title=title)\n",
    "\n",
    "#Create a network graph object with spring layout\n",
    "# https://networkx.github.io/documentation/networkx-1.9/reference/generated/networkx.drawing.layout.spring_layout.html\n",
    "network_graph = from_networkx(G, networkx.spring_layout, scale=10, center=(0, 0))\n",
    "\n",
    "#Set node size and color\n",
    "network_graph.node_renderer.glyph = Circle(size=15, fill_color='skyblue')\n",
    "\n",
    "#Set edge opacity and width\n",
    "network_graph.edge_renderer.glyph = MultiLine(line_alpha=0.5, line_width=1)\n",
    "\n",
    "#Add network graph to the plot\n",
    "plot.renderers.append(network_graph)\n",
    "\n",
    "show(plot)\n",
    "save(plot, filename=f\"{title}.html\")"
   ]
  },
  {
   "cell_type": "code",
   "execution_count": 31,
   "metadata": {},
   "outputs": [],
   "source": [
    "from bokeh.io import output_notebook, show, save\n",
    "from bokeh.models import Range1d, Circle, ColumnDataSource, MultiLine\n",
    "from bokeh.plotting import figure\n",
    "from bokeh.plotting import from_networkx\n",
    "from bokeh.palettes import Blues8, Reds8, Purples8, Oranges8, Viridis8, Spectral8\n",
    "from bokeh.transform import linear_cmap"
   ]
  },
  {
   "cell_type": "code",
   "execution_count": 32,
   "metadata": {},
   "outputs": [],
   "source": [
    "degrees = dict(networkx.degree(G))\n",
    "networkx.set_node_attributes(G, name='degree', values=degrees)"
   ]
  },
  {
   "cell_type": "code",
   "execution_count": 33,
   "metadata": {},
   "outputs": [],
   "source": [
    "number_to_adjust_by = 5\n",
    "adjusted_node_size = dict([(node, degree+number_to_adjust_by) for node, degree in networkx.degree(G)])\n",
    "networkx.set_node_attributes(G, name='adjusted_node_size', values=adjusted_node_size)"
   ]
  },
  {
   "cell_type": "code",
   "execution_count": 34,
   "metadata": {},
   "outputs": [
    {
     "data": {
      "text/html": [
       "\n",
       "\n",
       "\n",
       "\n",
       "\n",
       "\n",
       "  <div class=\"bk-root\" id=\"17881729-f0eb-40c8-a618-cc3754c74c7e\" data-root-id=\"2640\"></div>\n"
      ]
     },
     "metadata": {},
     "output_type": "display_data"
    },
    {
     "data": {
      "application/javascript": "(function(root) {\n  function embed_document(root) {\n    \n  var docs_json = {\"99d400aa-cfe9-4f7a-ab8a-bc034bedceb5\":{\"defs\":[],\"roots\":{\"references\":[{\"attributes\":{\"below\":[{\"id\":\"2649\"}],\"center\":[{\"id\":\"2652\"},{\"id\":\"2656\"}],\"left\":[{\"id\":\"2653\"}],\"renderers\":[{\"id\":\"2668\"}],\"title\":{\"id\":\"2641\"},\"toolbar\":{\"id\":\"2662\"},\"x_range\":{\"id\":\"2638\"},\"x_scale\":{\"id\":\"2645\"},\"y_range\":{\"id\":\"2639\"},\"y_scale\":{\"id\":\"2647\"}},\"id\":\"2640\",\"subtype\":\"Figure\",\"type\":\"Plot\"},{\"attributes\":{},\"id\":\"2645\",\"type\":\"LinearScale\"},{\"attributes\":{},\"id\":\"2650\",\"type\":\"BasicTicker\"},{\"attributes\":{},\"id\":\"2817\",\"type\":\"AllLabels\"},{\"attributes\":{},\"id\":\"2820\",\"type\":\"UnionRenderers\"},{\"attributes\":{},\"id\":\"2816\",\"type\":\"BasicTickFormatter\"},{\"attributes\":{},\"id\":\"2647\",\"type\":\"LinearScale\"},{\"attributes\":{\"text\":\"Screenplay 1999 Network\"},\"id\":\"2641\",\"type\":\"Title\"},{\"attributes\":{},\"id\":\"2811\",\"type\":\"NodesOnly\"},{\"attributes\":{},\"id\":\"2659\",\"type\":\"SaveTool\"},{\"attributes\":{\"edge_renderer\":{\"id\":\"2675\"},\"inspection_policy\":{\"id\":\"2811\"},\"layout_provider\":{\"id\":\"2677\"},\"node_renderer\":{\"id\":\"2671\"},\"selection_policy\":{\"id\":\"2806\"}},\"id\":\"2668\",\"type\":\"GraphRenderer\"},{\"attributes\":{},\"id\":\"2806\",\"type\":\"NodesOnly\"},{\"attributes\":{},\"id\":\"2821\",\"type\":\"Selection\"},{\"attributes\":{},\"id\":\"2822\",\"type\":\"UnionRenderers\"},{\"attributes\":{},\"id\":\"2803\",\"type\":\"BasicTickFormatter\"},{\"attributes\":{\"line_alpha\":{\"value\":0.5}},\"id\":\"2692\",\"type\":\"MultiLine\"},{\"attributes\":{},\"id\":\"2658\",\"type\":\"WheelZoomTool\"},{\"attributes\":{\"end\":10.1,\"start\":-10.1},\"id\":\"2639\",\"type\":\"Range1d\"},{\"attributes\":{\"data\":{\"adjusted_node_size\":[48,13,8,7,8,11,10,6,6,9,6,12,6,6,6,6,6,6,6,7,6,6,6,6,6,7,7,8,6,7,7,7,6,6,6,7,6,6,6,6,6,15,6,7,6,6,6,6,6,6,6,8,6,6,6,6,7,6,6,6,6,6],\"degree\":[43,8,3,2,3,6,5,1,1,4,1,7,1,1,1,1,1,1,1,2,1,1,1,1,1,2,2,3,1,2,2,2,1,1,1,2,1,1,1,1,1,10,1,2,1,1,1,1,1,1,1,3,1,1,1,1,2,1,1,1,1,1],\"index\":[\"BILL\",\"ALICE\",\"ROZ\",\" HELENA\",\"HELENA\",\" BILL\",\"ZIEGLER\",\" ILONA\",\" ALICE\",\"ILONA\",\" ZIEGLER\",\"NICK\",\"SECRETARY\",\"SZAVOST\",\"GAYLE\",\" NUALA\",\"NUALA\",\"HARRIS\",\" GAYLE\",\"MANDY\",\"LISA\",\"SARAH\",\"GIRL\",\"BOY\",\"PATIENT\",\"ROSA\",\"MARION\",\"CARL\",\" MARION\",\"STUDENT I\",\"STUDENTS\",\"STUDENT 2\",\"DOMINO\",\"bill\",\"DOORMAN\",\"MAITRE D'\",\"AUDIENCE\",\"VOICE FROM AUDIENCE\",\" PERSON AT THE PHONE\",\"PERSON AT THE PHONE\",\"DRIVER\",\"MILICH\",\"JAPANESE MAN 1\",\"DAUGHTER\",\"JAPANESE MAN 2\",\" JAPANESE MAN 1\",\" JAPANESE MAN 2\",\" DAUGHTER\",\"CAB DRIVER\",\"GATEMAN 1\",\"MASKED BUTLER\",\"MYSTERIOUS WOMAN\",\"OMINOUS MAN\",\"YOUNG WOMAN\",\" YOUNG WOMAN\",\"TALL BUTLER\",\"RED CLOAK\",\"RED CLOACK\",\"WAITRESS\",\"CLERK\",\"SALLY\",\"RECEPTIONIST\"]},\"selected\":{\"id\":\"2821\"},\"selection_policy\":{\"id\":\"2822\"}},\"id\":\"2670\",\"type\":\"ColumnDataSource\"},{\"attributes\":{\"end\":10.1,\"start\":-10.1},\"id\":\"2638\",\"type\":\"Range1d\"},{\"attributes\":{\"source\":{\"id\":\"2670\"}},\"id\":\"2672\",\"type\":\"CDSView\"},{\"attributes\":{\"high\":48,\"low\":6,\"palette\":[\"#084594\",\"#2171b5\",\"#4292c6\",\"#6baed6\",\"#9ecae1\",\"#c6dbef\",\"#deebf7\",\"#f7fbff\"]},\"id\":\"2686\",\"type\":\"LinearColorMapper\"},{\"attributes\":{},\"id\":\"2804\",\"type\":\"AllLabels\"},{\"attributes\":{\"fill_color\":{\"field\":\"adjusted_node_size\",\"transform\":{\"id\":\"2686\"}},\"size\":{\"field\":\"adjusted_node_size\"}},\"id\":\"2687\",\"type\":\"Circle\"},{\"attributes\":{\"data\":{\"Interaction Count\":[72,7,1,54,2,34,9,3,2,1,1,4,7,1,1,2,1,2,15,5,3,20,1,4,1,35,1,3,3,2,7,1,2,1,5,1,1,8,16,1,19,6,4,1,17,1,1,22,1,1,2,1,1,1,2,2,1,1,1,1,1,1,2,1,1,2,1,2,1,1,5,4,1,4,2,1,1,2],\"end\":[\"ALICE\",\"HELENA\",\"ROZ\",\"ZIEGLER\",\" ILONA\",\"NICK\",\"GAYLE\",\" NUALA\",\"NUALA\",\"HARRIS\",\" GAYLE\",\"MANDY\",\"LISA\",\"SARAH\",\"GIRL\",\"BOY\",\"PATIENT\",\"ROSA\",\"MARION\",\"CARL\",\" MARION\",\"DOMINO\",\"DOORMAN\",\"MAITRE D'\",\"DRIVER\",\"MILICH\",\"DAUGHTER\",\"CAB DRIVER\",\"GATEMAN 1\",\"MASKED BUTLER\",\"MYSTERIOUS WOMAN\",\"OMINOUS MAN\",\"YOUNG WOMAN\",\"TALL BUTLER\",\"RED CLOAK\",\"RED CLOACK\",\"BILL\",\"WAITRESS\",\"CLERK\",\" HELENA\",\"SALLY\",\"RECEPTIONIST\",\"ROZ\",\" HELENA\",\"HELENA\",\"ZIEGLER\",\"ILONA\",\"SZAVOST\",\"bill\",\" BILL\",\" BILL\",\"ILONA\",\"STUDENT 2\",\"STUDENT I\",\"MILICH\",\" ALICE\",\"ILONA\",\"MANDY\",\" ZIEGLER\",\"SECRETARY\",\"AUDIENCE\",\"VOICE FROM AUDIENCE\",\"MAITRE D'\",\" PERSON AT THE PHONE\",\"PERSON AT THE PHONE\",\"CARL\",\"CARL\",\"STUDENTS\",\"STUDENT 2\",\"MILICH\",\"JAPANESE MAN 1\",\"DAUGHTER\",\"JAPANESE MAN 2\",\" JAPANESE MAN 1\",\" JAPANESE MAN 2\",\" DAUGHTER\",\" YOUNG WOMAN\",\"RED CLOAK\"],\"start\":[\"BILL\",\"BILL\",\"BILL\",\"BILL\",\"BILL\",\"BILL\",\"BILL\",\"BILL\",\"BILL\",\"BILL\",\"BILL\",\"BILL\",\"BILL\",\"BILL\",\"BILL\",\"BILL\",\"BILL\",\"BILL\",\"BILL\",\"BILL\",\"BILL\",\"BILL\",\"BILL\",\"BILL\",\"BILL\",\"BILL\",\"BILL\",\"BILL\",\"BILL\",\"BILL\",\"BILL\",\"BILL\",\"BILL\",\"BILL\",\"BILL\",\"BILL\",\"BILL\",\"BILL\",\"BILL\",\"BILL\",\"BILL\",\"BILL\",\"ALICE\",\"ALICE\",\"ALICE\",\"ALICE\",\"ALICE\",\"ALICE\",\"ALICE\",\"ROZ\",\"HELENA\",\" BILL\",\" BILL\",\" BILL\",\" BILL\",\"ZIEGLER\",\"ZIEGLER\",\"ZIEGLER\",\"ILONA\",\"NICK\",\"NICK\",\"NICK\",\"NICK\",\"NICK\",\"NICK\",\"ROSA\",\"MARION\",\"STUDENT I\",\"STUDENTS\",\"MILICH\",\"MILICH\",\"MILICH\",\"MILICH\",\"MILICH\",\"MILICH\",\"MILICH\",\"MYSTERIOUS WOMAN\",\"MYSTERIOUS WOMAN\"]},\"selected\":{\"id\":\"2819\"},\"selection_policy\":{\"id\":\"2820\"}},\"id\":\"2674\",\"type\":\"ColumnDataSource\"},{\"attributes\":{\"active_multi\":null,\"active_scroll\":{\"id\":\"2658\"},\"tools\":[{\"id\":\"2657\"},{\"id\":\"2658\"},{\"id\":\"2659\"},{\"id\":\"2660\"},{\"id\":\"2661\"}]},\"id\":\"2662\",\"type\":\"Toolbar\"},{\"attributes\":{\"callback\":null,\"tooltips\":[[\"Character\",\"@index\"],[\"Interactions\",\"@degree\"]]},\"id\":\"2661\",\"type\":\"HoverTool\"},{\"attributes\":{\"axis\":{\"id\":\"2649\"},\"ticker\":null},\"id\":\"2652\",\"type\":\"Grid\"},{\"attributes\":{},\"id\":\"2660\",\"type\":\"ResetTool\"},{\"attributes\":{\"source\":{\"id\":\"2674\"}},\"id\":\"2676\",\"type\":\"CDSView\"},{\"attributes\":{\"graph_layout\":{\" ALICE\":[2.8353642578102414,-3.6503949210789948],\" BILL\":[5.286991279606921,1.2467936726187647],\" DAUGHTER\":[6.938354812037067,-1.4503574876165513],\" GAYLE\":[-2.65274161839659,4.043243677624346],\" HELENA\":[0.7843778472933224,0.9226577043819224],\" ILONA\":[-3.847966046600083,1.8604070006502518],\" JAPANESE MAN 1\":[6.8437570835455155,0.04851211091358993],\" JAPANESE MAN 2\":[7.156541193897499,-0.7259302998426908],\" MARION\":[-0.8095734884490305,-0.9230618747139672],\" NUALA\":[-2.026697889843244,3.5599901873449045],\" PERSON AT THE PHONE\":[-2.47346208733602,-7.513577619805019],\" YOUNG WOMAN\":[-7.134855785441602,5.574296253080475],\" ZIEGLER\":[5.999687494615195,-3.5694052407184915],\"ALICE\":[2.5439967666402565,0.8758850567867009],\"AUDIENCE\":[0.5195882545971185,-7.208816684254654],\"BILL\":[-1.6412306816809716,0.6923215831301394],\"BOY\":[-4.6833672865014115,-1.069555471296352],\"CAB DRIVER\":[-2.366541630148015,-2.175194076911636],\"CARL\":[-3.0601727601013198,-0.6849437106362922],\"CLERK\":[-1.4803272413656896,4.18284622460612],\"DAUGHTER\":[1.619831070696298,-0.22489044515493029],\"DOMINO\":[0.1889356794724656,3.1092938498410594],\"DOORMAN\":[-4.917699335569709,1.7606849735198158],\"DRIVER\":[-3.406303492961672,0.5742532088951624],\"GATEMAN 1\":[-1.2558489448265007,2.4651464003085186],\"GAYLE\":[-2.9008721499348225,1.8796755411891921],\"GIRL\":[-0.014807128393116858,2.2999319540587906],\"HARRIS\":[-4.416012054880103,2.4592005678407483],\"HELENA\":[2.065350910356648,1.1737901408656992],\"ILONA\":[4.342829345214426,-1.1783779931916123],\"JAPANESE MAN 1\":[6.0008728072488955,-2.3623021421925388],\"JAPANESE MAN 2\":[6.850346586006809,-2.2185121013930087],\"LISA\":[-5.135650767646825,-0.06703366516081767],\"MAITRE D'\":[-1.384031100896845,-2.963711944605563],\"MANDY\":[0.26789793827346603,-1.1005949241014061],\"MARION\":[-3.8335046794888945,-0.9466302851297776],\"MASKED BUTLER\":[-0.364208117840053,1.2035531827399988],\"MILICH\":[4.250924881270244,-0.5497196276357573],\"MYSTERIOUS WOMAN\":[-4.911046098466763,3.656761393872134],\"NICK\":[-1.1528118603216861,-5.2088762670275415],\"NUALA\":[-1.2762141648449432,-1.7846800189846161],\"OMINOUS MAN\":[-5.204373691803541,0.8972530786804614],\"PATIENT\":[-3.2094006817027294,3.4281687543505655],\"PERSON AT THE PHONE\":[-0.008335935454542014,-7.8241521895670605],\"RECEPTIONIST\":[-4.352663295599706,-0.11268240624405539],\"RED CLOACK\":[-4.3854869966870575,0.9173483748628507],\"RED CLOAK\":[-3.9798239694268993,3.1869237439301368],\"ROSA\":[-2.240241584743455,-1.0039310801993493],\"ROZ\":[2.1727154460545153,1.74887199932861],\"SALLY\":[-1.0228738712352552,3.3970725813314857],\"SARAH\":[-2.5144501346489694,2.7578797648615434],\"SECRETARY\":[-0.8083862550514306,-7.929258687934981],\"STUDENT 2\":[8.392586012522163,2.0604093359619196],\"STUDENT I\":[8.095627417763158,2.7618004337391358],\"STUDENTS\":[10.0,3.0406839944144575],\"SZAVOST\":[4.19307708014218,3.1878893837051105],\"TALL BUTLER\":[-0.3748284240515103,3.8210297917164544],\"VOICE FROM AUDIENCE\":[-1.6281585832843235,-7.895894172219825],\"WAITRESS\":[-3.8776401843709145,-1.936081457343003],\"YOUNG WOMAN\":[-3.106139811757979,-1.736244207511136],\"ZIEGLER\":[1.7436759286963364,-1.1862654908130235],\"bill\":[4.765419737993486,2.4065005721335266]}},\"id\":\"2677\",\"type\":\"StaticLayoutProvider\"},{\"attributes\":{\"data_source\":{\"id\":\"2670\"},\"glyph\":{\"id\":\"2687\"},\"hover_glyph\":null,\"muted_glyph\":null,\"view\":{\"id\":\"2672\"}},\"id\":\"2671\",\"type\":\"GlyphRenderer\"},{\"attributes\":{},\"id\":\"2654\",\"type\":\"BasicTicker\"},{\"attributes\":{},\"id\":\"2657\",\"type\":\"PanTool\"},{\"attributes\":{\"formatter\":{\"id\":\"2816\"},\"major_label_policy\":{\"id\":\"2817\"},\"ticker\":{\"id\":\"2654\"}},\"id\":\"2653\",\"type\":\"LinearAxis\"},{\"attributes\":{\"data_source\":{\"id\":\"2674\"},\"glyph\":{\"id\":\"2692\"},\"hover_glyph\":null,\"muted_glyph\":null,\"view\":{\"id\":\"2676\"}},\"id\":\"2675\",\"type\":\"GlyphRenderer\"},{\"attributes\":{},\"id\":\"2819\",\"type\":\"Selection\"},{\"attributes\":{\"axis\":{\"id\":\"2653\"},\"dimension\":1,\"ticker\":null},\"id\":\"2656\",\"type\":\"Grid\"},{\"attributes\":{\"formatter\":{\"id\":\"2803\"},\"major_label_policy\":{\"id\":\"2804\"},\"ticker\":{\"id\":\"2650\"}},\"id\":\"2649\",\"type\":\"LinearAxis\"}],\"root_ids\":[\"2640\"]},\"title\":\"Bokeh Application\",\"version\":\"2.3.3\"}};\n  var render_items = [{\"docid\":\"99d400aa-cfe9-4f7a-ab8a-bc034bedceb5\",\"root_ids\":[\"2640\"],\"roots\":{\"2640\":\"17881729-f0eb-40c8-a618-cc3754c74c7e\"}}];\n  root.Bokeh.embed.embed_items_notebook(docs_json, render_items);\n\n  }\n  if (root.Bokeh !== undefined) {\n    embed_document(root);\n  } else {\n    var attempts = 0;\n    var timer = setInterval(function(root) {\n      if (root.Bokeh !== undefined) {\n        clearInterval(timer);\n        embed_document(root);\n      } else {\n        attempts++;\n        if (attempts > 100) {\n          clearInterval(timer);\n          console.log(\"Bokeh: ERROR: Unable to run BokehJS code because BokehJS library is missing\");\n        }\n      }\n    }, 10, root)\n  }\n})(window);",
      "application/vnd.bokehjs_exec.v0+json": ""
     },
     "metadata": {
      "application/vnd.bokehjs_exec.v0+json": {
       "id": "2640"
      }
     },
     "output_type": "display_data"
    }
   ],
   "source": [
    "#Choose attributes from G network to size and color by — setting manual size (e.g. 10) or color (e.g. 'skyblue') also allowed\n",
    "size_by_this_attribute = 'adjusted_node_size'\n",
    "color_by_this_attribute = 'adjusted_node_size'\n",
    "\n",
    "#Pick a color palette — Blues8, Reds8, Purples8, Oranges8, Viridis8\n",
    "color_palette = Blues8\n",
    "\n",
    "#Choose a title!\n",
    "title = 'Screenplay 1999 Network'\n",
    "\n",
    "#Establish which categories will appear when hovering over each node\n",
    "HOVER_TOOLTIPS = [\n",
    "       (\"Character\", \"@index\"),\n",
    "        (\"Interactions\", \"@degree\")\n",
    "]\n",
    "\n",
    "#Create a plot — set dimensions, toolbar, and title\n",
    "plot = figure(tooltips = HOVER_TOOLTIPS,\n",
    "              tools=\"pan,wheel_zoom,save,reset\", active_scroll='wheel_zoom',\n",
    "            x_range=Range1d(-10.1, 10.1), y_range=Range1d(-10.1, 10.1), title=title)\n",
    "\n",
    "#Create a network graph object\n",
    "# https://networkx.github.io/documentation/networkx-1.9/reference/generated/networkx.drawing.layout.spring_layout.html\\\n",
    "network_graph = from_networkx(G, networkx.spring_layout, scale=10, center=(0, 0))\n",
    "\n",
    "#Set node sizes and colors according to node degree (color as spectrum of color palette)\n",
    "minimum_value_color = min(network_graph.node_renderer.data_source.data[color_by_this_attribute])\n",
    "maximum_value_color = max(network_graph.node_renderer.data_source.data[color_by_this_attribute])\n",
    "network_graph.node_renderer.glyph = Circle(size=size_by_this_attribute, fill_color=linear_cmap(color_by_this_attribute, color_palette, minimum_value_color, maximum_value_color))\n",
    "\n",
    "#Set edge opacity and width\n",
    "network_graph.edge_renderer.glyph = MultiLine(line_alpha=0.5, line_width=1)\n",
    "\n",
    "plot.renderers.append(network_graph)\n",
    "\n",
    "show(plot)\n",
    "#save(plot, filename=f\"{title}.html\")"
   ]
  },
  {
   "cell_type": "code",
   "execution_count": 35,
   "metadata": {},
   "outputs": [],
   "source": [
    "from bokeh.io import output_notebook, show, save\n",
    "from bokeh.models import Range1d, Circle, ColumnDataSource, MultiLine\n",
    "from bokeh.plotting import figure\n",
    "from bokeh.plotting import from_networkx\n",
    "from bokeh.palettes import Blues8, Reds8, Purples8, Oranges8, Viridis8, Spectral8\n",
    "from bokeh.transform import linear_cmap\n",
    "from networkx.algorithms import community"
   ]
  },
  {
   "cell_type": "code",
   "execution_count": 36,
   "metadata": {},
   "outputs": [],
   "source": [
    "degrees = dict(networkx.degree(G))\n",
    "networkx.set_node_attributes(G, name='degree', values=degrees)"
   ]
  },
  {
   "cell_type": "code",
   "execution_count": 37,
   "metadata": {},
   "outputs": [],
   "source": [
    "number_to_adjust_by = 5\n",
    "adjusted_node_size = dict([(node, degree+number_to_adjust_by) for node, degree in networkx.degree(G)])\n",
    "networkx.set_node_attributes(G, name='adjusted_node_size', values=adjusted_node_size)"
   ]
  },
  {
   "cell_type": "code",
   "execution_count": 38,
   "metadata": {},
   "outputs": [],
   "source": [
    "communities = community.greedy_modularity_communities(G)"
   ]
  },
  {
   "cell_type": "code",
   "execution_count": 39,
   "metadata": {},
   "outputs": [],
   "source": [
    "# Create empty dictionaries\n",
    "modularity_class = {}\n",
    "modularity_color = {}\n",
    "#Loop through each community in the network\n",
    "for community_number, community in enumerate(communities):\n",
    "    #For each member of the community, add their community number and a distinct color\n",
    "    for name in community: \n",
    "        modularity_class[name] = community_number\n",
    "        modularity_color[name] = Spectral8[community_number]"
   ]
  },
  {
   "cell_type": "code",
   "execution_count": 40,
   "metadata": {},
   "outputs": [],
   "source": [
    "# Add modularity class and color as attributes from the network above\n",
    "networkx.set_node_attributes(G, modularity_class, 'modularity_class')\n",
    "networkx.set_node_attributes(G, modularity_color, 'modularity_color')"
   ]
  },
  {
   "cell_type": "code",
   "execution_count": 41,
   "metadata": {},
   "outputs": [
    {
     "data": {
      "text/html": [
       "\n",
       "\n",
       "\n",
       "\n",
       "\n",
       "\n",
       "  <div class=\"bk-root\" id=\"5ad2d285-4ebf-4c48-a545-5ba08d4c755e\" data-root-id=\"2942\"></div>\n"
      ]
     },
     "metadata": {},
     "output_type": "display_data"
    },
    {
     "data": {
      "application/javascript": "(function(root) {\n  function embed_document(root) {\n    \n  var docs_json = {\"a1896aaf-0a6f-4587-ab78-1cb68ff67328\":{\"defs\":[],\"roots\":{\"references\":[{\"attributes\":{\"below\":[{\"id\":\"2951\"}],\"center\":[{\"id\":\"2954\"},{\"id\":\"2958\"}],\"left\":[{\"id\":\"2955\"}],\"renderers\":[{\"id\":\"2972\"}],\"title\":{\"id\":\"2943\"},\"toolbar\":{\"id\":\"2965\"},\"x_range\":{\"id\":\"2940\"},\"x_scale\":{\"id\":\"2947\"},\"y_range\":{\"id\":\"2941\"},\"y_scale\":{\"id\":\"2949\"}},\"id\":\"2942\",\"subtype\":\"Figure\",\"type\":\"Plot\"},{\"attributes\":{\"data_source\":{\"id\":\"2974\"},\"glyph\":{\"id\":\"2982\"},\"hover_glyph\":null,\"muted_glyph\":null,\"view\":{\"id\":\"2976\"}},\"id\":\"2975\",\"type\":\"GlyphRenderer\"},{\"attributes\":{},\"id\":\"3135\",\"type\":\"Selection\"},{\"attributes\":{},\"id\":\"3119\",\"type\":\"BasicTickFormatter\"},{\"attributes\":{},\"id\":\"2949\",\"type\":\"LinearScale\"},{\"attributes\":{\"formatter\":{\"id\":\"3132\"},\"major_label_policy\":{\"id\":\"3133\"},\"ticker\":{\"id\":\"2956\"}},\"id\":\"2955\",\"type\":\"LinearAxis\"},{\"attributes\":{},\"id\":\"2960\",\"type\":\"WheelZoomTool\"},{\"attributes\":{\"end\":10.1,\"start\":-10.1},\"id\":\"2941\",\"type\":\"Range1d\"},{\"attributes\":{\"source\":{\"id\":\"2978\"}},\"id\":\"2980\",\"type\":\"CDSView\"},{\"attributes\":{\"callback\":null},\"id\":\"2963\",\"type\":\"TapTool\"},{\"attributes\":{},\"id\":\"2959\",\"type\":\"PanTool\"},{\"attributes\":{\"source\":{\"id\":\"2974\"}},\"id\":\"2976\",\"type\":\"CDSView\"},{\"attributes\":{},\"id\":\"3138\",\"type\":\"UnionRenderers\"},{\"attributes\":{},\"id\":\"3122\",\"type\":\"NodesOnly\"},{\"attributes\":{\"active_multi\":null,\"active_scroll\":{\"id\":\"2960\"},\"tools\":[{\"id\":\"2959\"},{\"id\":\"2960\"},{\"id\":\"2961\"},{\"id\":\"2962\"},{\"id\":\"2963\"},{\"id\":\"2964\"}]},\"id\":\"2965\",\"type\":\"Toolbar\"},{\"attributes\":{},\"id\":\"2961\",\"type\":\"SaveTool\"},{\"attributes\":{\"line_alpha\":{\"value\":0.5}},\"id\":\"2987\",\"type\":\"MultiLine\"},{\"attributes\":{},\"id\":\"2952\",\"type\":\"BasicTicker\"},{\"attributes\":{},\"id\":\"2956\",\"type\":\"BasicTicker\"},{\"attributes\":{\"end\":10.1,\"start\":-10.1},\"id\":\"2940\",\"type\":\"Range1d\"},{\"attributes\":{},\"id\":\"3133\",\"type\":\"AllLabels\"},{\"attributes\":{},\"id\":\"2962\",\"type\":\"ResetTool\"},{\"attributes\":{},\"id\":\"3127\",\"type\":\"NodesOnly\"},{\"attributes\":{\"data\":{\"Interaction Count\":[72,7,1,54,2,34,9,3,2,1,1,4,7,1,1,2,1,2,15,5,3,20,1,4,1,35,1,3,3,2,7,1,2,1,5,1,1,8,16,1,19,6,4,1,17,1,1,22,1,1,2,1,1,1,2,2,1,1,1,1,1,1,2,1,1,2,1,2,1,1,5,4,1,4,2,1,1,2],\"end\":[\"ALICE\",\"HELENA\",\"ROZ\",\"ZIEGLER\",\" ILONA\",\"NICK\",\"GAYLE\",\" NUALA\",\"NUALA\",\"HARRIS\",\" GAYLE\",\"MANDY\",\"LISA\",\"SARAH\",\"GIRL\",\"BOY\",\"PATIENT\",\"ROSA\",\"MARION\",\"CARL\",\" MARION\",\"DOMINO\",\"DOORMAN\",\"MAITRE D'\",\"DRIVER\",\"MILICH\",\"DAUGHTER\",\"CAB DRIVER\",\"GATEMAN 1\",\"MASKED BUTLER\",\"MYSTERIOUS WOMAN\",\"OMINOUS MAN\",\"YOUNG WOMAN\",\"TALL BUTLER\",\"RED CLOAK\",\"RED CLOACK\",\"BILL\",\"WAITRESS\",\"CLERK\",\" HELENA\",\"SALLY\",\"RECEPTIONIST\",\"ROZ\",\" HELENA\",\"HELENA\",\"ZIEGLER\",\"ILONA\",\"SZAVOST\",\"bill\",\" BILL\",\" BILL\",\"ILONA\",\"STUDENT 2\",\"STUDENT I\",\"MILICH\",\" ALICE\",\"ILONA\",\"MANDY\",\" ZIEGLER\",\"SECRETARY\",\"AUDIENCE\",\"VOICE FROM AUDIENCE\",\"MAITRE D'\",\" PERSON AT THE PHONE\",\"PERSON AT THE PHONE\",\"CARL\",\"CARL\",\"STUDENTS\",\"STUDENT 2\",\"MILICH\",\"JAPANESE MAN 1\",\"DAUGHTER\",\"JAPANESE MAN 2\",\" JAPANESE MAN 1\",\" JAPANESE MAN 2\",\" DAUGHTER\",\" YOUNG WOMAN\",\"RED CLOAK\"],\"start\":[\"BILL\",\"BILL\",\"BILL\",\"BILL\",\"BILL\",\"BILL\",\"BILL\",\"BILL\",\"BILL\",\"BILL\",\"BILL\",\"BILL\",\"BILL\",\"BILL\",\"BILL\",\"BILL\",\"BILL\",\"BILL\",\"BILL\",\"BILL\",\"BILL\",\"BILL\",\"BILL\",\"BILL\",\"BILL\",\"BILL\",\"BILL\",\"BILL\",\"BILL\",\"BILL\",\"BILL\",\"BILL\",\"BILL\",\"BILL\",\"BILL\",\"BILL\",\"BILL\",\"BILL\",\"BILL\",\"BILL\",\"BILL\",\"BILL\",\"ALICE\",\"ALICE\",\"ALICE\",\"ALICE\",\"ALICE\",\"ALICE\",\"ALICE\",\"ROZ\",\"HELENA\",\" BILL\",\" BILL\",\" BILL\",\" BILL\",\"ZIEGLER\",\"ZIEGLER\",\"ZIEGLER\",\"ILONA\",\"NICK\",\"NICK\",\"NICK\",\"NICK\",\"NICK\",\"NICK\",\"ROSA\",\"MARION\",\"STUDENT I\",\"STUDENTS\",\"MILICH\",\"MILICH\",\"MILICH\",\"MILICH\",\"MILICH\",\"MILICH\",\"MILICH\",\"MYSTERIOUS WOMAN\",\"MYSTERIOUS WOMAN\"]},\"selected\":{\"id\":\"3135\"},\"selection_policy\":{\"id\":\"3136\"}},\"id\":\"2978\",\"type\":\"ColumnDataSource\"},{\"attributes\":{\"callback\":null,\"tooltips\":[[\"Character\",\"@index\"],[\"Interactions\",\"@degree\"],[\"Modularity Class\",\"@modularity_class\"],[\"Modularity Color\",\"$color[swatch]:modularity_color\"]]},\"id\":\"2964\",\"type\":\"HoverTool\"},{\"attributes\":{},\"id\":\"3120\",\"type\":\"AllLabels\"},{\"attributes\":{},\"id\":\"3136\",\"type\":\"UnionRenderers\"},{\"attributes\":{},\"id\":\"3137\",\"type\":\"Selection\"},{\"attributes\":{\"data\":{\"adjusted_node_size\":[48,13,8,7,8,11,10,6,6,9,6,12,6,6,6,6,6,6,6,7,6,6,6,6,6,7,7,8,6,7,7,7,6,6,6,7,6,6,6,6,6,15,6,7,6,6,6,6,6,6,6,8,6,6,6,6,7,6,6,6,6,6],\"degree\":[43,8,3,2,3,6,5,1,1,4,1,7,1,1,1,1,1,1,1,2,1,1,1,1,1,2,2,3,1,2,2,2,1,1,1,2,1,1,1,1,1,10,1,2,1,1,1,1,1,1,1,3,1,1,1,1,2,1,1,1,1,1],\"index\":[\"BILL\",\"ALICE\",\"ROZ\",\" HELENA\",\"HELENA\",\" BILL\",\"ZIEGLER\",\" ILONA\",\" ALICE\",\"ILONA\",\" ZIEGLER\",\"NICK\",\"SECRETARY\",\"SZAVOST\",\"GAYLE\",\" NUALA\",\"NUALA\",\"HARRIS\",\" GAYLE\",\"MANDY\",\"LISA\",\"SARAH\",\"GIRL\",\"BOY\",\"PATIENT\",\"ROSA\",\"MARION\",\"CARL\",\" MARION\",\"STUDENT I\",\"STUDENTS\",\"STUDENT 2\",\"DOMINO\",\"bill\",\"DOORMAN\",\"MAITRE D'\",\"AUDIENCE\",\"VOICE FROM AUDIENCE\",\" PERSON AT THE PHONE\",\"PERSON AT THE PHONE\",\"DRIVER\",\"MILICH\",\"JAPANESE MAN 1\",\"DAUGHTER\",\"JAPANESE MAN 2\",\" JAPANESE MAN 1\",\" JAPANESE MAN 2\",\" DAUGHTER\",\"CAB DRIVER\",\"GATEMAN 1\",\"MASKED BUTLER\",\"MYSTERIOUS WOMAN\",\"OMINOUS MAN\",\"YOUNG WOMAN\",\" YOUNG WOMAN\",\"TALL BUTLER\",\"RED CLOAK\",\"RED CLOACK\",\"WAITRESS\",\"CLERK\",\"SALLY\",\"RECEPTIONIST\"],\"modularity_class\":[0,1,1,1,1,1,1,0,1,1,1,2,2,1,0,0,0,0,0,1,0,0,0,0,0,0,0,0,0,1,1,1,0,1,0,2,2,2,2,2,0,3,3,3,3,3,3,3,0,0,0,4,0,0,4,0,4,0,0,0,0,0],\"modularity_color\":[\"#3288bd\",\"#66c2a5\",\"#66c2a5\",\"#66c2a5\",\"#66c2a5\",\"#66c2a5\",\"#66c2a5\",\"#3288bd\",\"#66c2a5\",\"#66c2a5\",\"#66c2a5\",\"#abdda4\",\"#abdda4\",\"#66c2a5\",\"#3288bd\",\"#3288bd\",\"#3288bd\",\"#3288bd\",\"#3288bd\",\"#66c2a5\",\"#3288bd\",\"#3288bd\",\"#3288bd\",\"#3288bd\",\"#3288bd\",\"#3288bd\",\"#3288bd\",\"#3288bd\",\"#3288bd\",\"#66c2a5\",\"#66c2a5\",\"#66c2a5\",\"#3288bd\",\"#66c2a5\",\"#3288bd\",\"#abdda4\",\"#abdda4\",\"#abdda4\",\"#abdda4\",\"#abdda4\",\"#3288bd\",\"#e6f598\",\"#e6f598\",\"#e6f598\",\"#e6f598\",\"#e6f598\",\"#e6f598\",\"#e6f598\",\"#3288bd\",\"#3288bd\",\"#3288bd\",\"#fee08b\",\"#3288bd\",\"#3288bd\",\"#fee08b\",\"#3288bd\",\"#fee08b\",\"#3288bd\",\"#3288bd\",\"#3288bd\",\"#3288bd\",\"#3288bd\"]},\"selected\":{\"id\":\"3137\"},\"selection_policy\":{\"id\":\"3138\"}},\"id\":\"2974\",\"type\":\"ColumnDataSource\"},{\"attributes\":{\"axis\":{\"id\":\"2951\"},\"ticker\":null},\"id\":\"2954\",\"type\":\"Grid\"},{\"attributes\":{\"edge_renderer\":{\"id\":\"2979\"},\"inspection_policy\":{\"id\":\"3127\"},\"layout_provider\":{\"id\":\"2981\"},\"node_renderer\":{\"id\":\"2975\"},\"selection_policy\":{\"id\":\"3122\"}},\"id\":\"2972\",\"type\":\"GraphRenderer\"},{\"attributes\":{\"data_source\":{\"id\":\"2978\"},\"glyph\":{\"id\":\"2987\"},\"hover_glyph\":null,\"muted_glyph\":null,\"view\":{\"id\":\"2980\"}},\"id\":\"2979\",\"type\":\"GlyphRenderer\"},{\"attributes\":{\"formatter\":{\"id\":\"3119\"},\"major_label_policy\":{\"id\":\"3120\"},\"ticker\":{\"id\":\"2952\"}},\"id\":\"2951\",\"type\":\"LinearAxis\"},{\"attributes\":{\"axis\":{\"id\":\"2955\"},\"dimension\":1,\"ticker\":null},\"id\":\"2958\",\"type\":\"Grid\"},{\"attributes\":{},\"id\":\"2947\",\"type\":\"LinearScale\"},{\"attributes\":{},\"id\":\"3132\",\"type\":\"BasicTickFormatter\"},{\"attributes\":{\"graph_layout\":{\" ALICE\":[-7.215123281485634,-1.448998647016439],\" BILL\":[1.3961550591304426,-4.509594514288472],\" DAUGHTER\":[7.725433987994755,-1.5488724727088397],\" GAYLE\":[1.8577078656266641,0.36002787077811244],\" HELENA\":[-2.1443849962583417,-0.2618210515885578],\" ILONA\":[2.579243436426089,2.4080940749839654],\" JAPANESE MAN 1\":[7.690726277595544,-3.2132385924459546],\" JAPANESE MAN 2\":[8.039112378044079,-2.429988764117473],\" MARION\":[-1.9581661518544875,1.0568723805049618],\" NUALA\":[-3.7730725746872826,2.5564382106589627],\" PERSON AT THE PHONE\":[-0.7611400914013956,-7.499313177102658],\" YOUNG WOMAN\":[1.4556422956069386,10.0],\" ZIEGLER\":[-5.24859629819939,-6.120315602758699],\"ALICE\":[-2.873890336980319,-1.7209231709672308],\"AUDIENCE\":[-2.4203209592393704,-7.965606921613606],\"BILL\":[-0.24629382098673339,1.9188861683207077],\"BOY\":[-0.8188479413641546,4.534509803204679],\"CAB DRIVER\":[-1.290111121747871,5.6630758713352325],\"CARL\":[0.8852071366445955,3.586508425837745],\"CLERK\":[1.3006099462135183,5.223084334370044],\"DAUGHTER\":[3.0077083280713506,-0.41892890519342413],\"DOMINO\":[2.123497599866704,1.3085354543638155],\"DOORMAN\":[-2.7825005315282425,3.3175404201447822],\"DRIVER\":[-0.4289885904032564,5.527399744577342],\"GATEMAN 1\":[1.943715544402509,4.7736353914138645],\"GAYLE\":[3.1568035697712102,3.4790451342622997],\"GIRL\":[2.812581148042279,4.447432656904156],\"HARRIS\":[-2.7504290093420387,4.78254712976743],\"HELENA\":[-0.016866330864078568,-1.8525341546182297],\"ILONA\":[-2.739765921908973,-4.02984985947133],\"JAPANESE MAN 1\":[6.515941397985,-4.443915000877693],\"JAPANESE MAN 2\":[7.347966748622548,-4.025286683924924],\"LISA\":[-3.8557772473594496,3.428726352424229],\"MAITRE D'\":[-0.9018837509929121,-2.2027544253191094],\"MANDY\":[-3.3303870888179476,0.45521857645511477],\"MARION\":[1.3218036316424522,2.672208867973926],\"MASKED BUTLER\":[3.1723174421090152,1.3249759020263832],\"MILICH\":[4.738252436365528,-2.0819425647810177],\"MYSTERIOUS WOMAN\":[0.7579587514575822,6.791654364493955],\"NICK\":[-1.5899135982581711,-4.75207818652746],\"NUALA\":[-1.6106846083956117,3.1392120896623075],\"OMINOUS MAN\":[-1.8167042917659944,4.268789257795338],\"PATIENT\":[3.4906937125088446,2.489242784478239],\"PERSON AT THE PHONE\":[-1.5256938688045703,-8.046210519811025],\"RECEPTIONIST\":[1.0789495643060736,-0.26337504623513996],\"RED CLOACK\":[2.115982215432083,3.659619366856519],\"RED CLOAK\":[0.490466085003358,5.6943105012374975],\"ROSA\":[0.35494219390527754,4.315303883911843],\"ROZ\":[-0.5709817544144229,-1.6986417261731819],\"SALLY\":[-2.1564033032064334,5.413958209863314],\"SARAH\":[-3.7649436559111757,1.6454483864987937],\"SECRETARY\":[-3.7544277030114954,-7.082653389285079],\"STUDENT 2\":[2.5416508188668856,-7.905397740706608],\"STUDENT I\":[3.2756276615419413,-7.5166796671859775],\"STUDENTS\":[3.8015524383917847,-9.595967959496326],\"SZAVOST\":[-5.55663303259382,-3.4860948866168284],\"TALL BUTLER\":[-2.701286389273283,2.015469692250023],\"VOICE FROM AUDIENCE\":[-2.900113602926832,-7.276518499891278],\"WAITRESS\":[-3.42266086671709,4.2602119764239905],\"YOUNG WOMAN\":[-0.18597978933697673,0.22446859210376052],\"ZIEGLER\":[-3.8373161606403254,-1.0330298789229433],\"bill\":[-6.027961000896995,-2.3119198662378304]}},\"id\":\"2981\",\"type\":\"StaticLayoutProvider\"},{\"attributes\":{\"fill_color\":{\"field\":\"modularity_color\"},\"size\":{\"field\":\"adjusted_node_size\"}},\"id\":\"2982\",\"type\":\"Circle\"},{\"attributes\":{\"text\":\"Screenplay 1999 Network\"},\"id\":\"2943\",\"type\":\"Title\"}],\"root_ids\":[\"2942\"]},\"title\":\"Bokeh Application\",\"version\":\"2.3.3\"}};\n  var render_items = [{\"docid\":\"a1896aaf-0a6f-4587-ab78-1cb68ff67328\",\"root_ids\":[\"2942\"],\"roots\":{\"2942\":\"5ad2d285-4ebf-4c48-a545-5ba08d4c755e\"}}];\n  root.Bokeh.embed.embed_items_notebook(docs_json, render_items);\n\n  }\n  if (root.Bokeh !== undefined) {\n    embed_document(root);\n  } else {\n    var attempts = 0;\n    var timer = setInterval(function(root) {\n      if (root.Bokeh !== undefined) {\n        clearInterval(timer);\n        embed_document(root);\n      } else {\n        attempts++;\n        if (attempts > 100) {\n          clearInterval(timer);\n          console.log(\"Bokeh: ERROR: Unable to run BokehJS code because BokehJS library is missing\");\n        }\n      }\n    }, 10, root)\n  }\n})(window);",
      "application/vnd.bokehjs_exec.v0+json": ""
     },
     "metadata": {
      "application/vnd.bokehjs_exec.v0+json": {
       "id": "2942"
      }
     },
     "output_type": "display_data"
    }
   ],
   "source": [
    "#Choose attributes from G network to size and color by — setting manual size (e.g. 10) or color (e.g. 'skyblue') also allowed\n",
    "size_by_this_attribute = 'adjusted_node_size'\n",
    "color_by_this_attribute = 'modularity_color'\n",
    "#Pick a color palette — Blues8, Reds8, Purples8, Oranges8, Viridis8\n",
    "color_palette = Blues8\n",
    "#Choose a title!\n",
    "title = 'Screenplay 1999 Network'\n",
    "\n",
    "#Establish which categories will appear when hovering over each node\n",
    "HOVER_TOOLTIPS = [\n",
    "       (\"Character\", \"@index\"),\n",
    "        (\"Interactions\", \"@degree\"),\n",
    "         (\"Modularity Class\", \"@modularity_class\"),\n",
    "        (\"Modularity Color\", \"$color[swatch]:modularity_color\"),\n",
    "]\n",
    "\n",
    "#Create a plot — set dimensions, toolbar, and title\n",
    "plot = figure(tooltips = HOVER_TOOLTIPS,\n",
    "              tools=\"pan,wheel_zoom,save,reset, tap\", active_scroll='wheel_zoom',\n",
    "            x_range=Range1d(-10.1, 10.1), y_range=Range1d(-10.1, 10.1), title=title)\n",
    "\n",
    "#Create a network graph object\n",
    "# https://networkx.github.io/documentation/networkx-1.9/reference/generated/networkx.drawing.layout.spring_layout.html\n",
    "network_graph = from_networkx(G, networkx.spring_layout, scale=10, center=(0, 0))\n",
    "\n",
    "#Set node sizes and colors according to node degree (color as category from attribute)\n",
    "network_graph.node_renderer.glyph = Circle(size=size_by_this_attribute, fill_color=color_by_this_attribute)\n",
    "\n",
    "#Set edge opacity and width\n",
    "network_graph.edge_renderer.glyph = MultiLine(line_alpha=0.5, line_width=1)\n",
    "\n",
    "plot.renderers.append(network_graph)\n",
    "\n",
    "show(plot)\n",
    "#save(plot, filename=f\"{title}.html\")"
   ]
  },
  {
   "cell_type": "code",
   "execution_count": 42,
   "metadata": {},
   "outputs": [],
   "source": [
    "from bokeh.io import output_notebook, show, save\n",
    "from bokeh.models import Range1d, Circle, ColumnDataSource, MultiLine, EdgesAndLinkedNodes, NodesAndLinkedEdges, LabelSet\n",
    "from bokeh.plotting import figure\n",
    "from bokeh.plotting import from_networkx\n",
    "from bokeh.palettes import Blues8, Reds8, Purples8, Oranges8, Viridis8, Spectral8\n",
    "from bokeh.transform import linear_cmap\n",
    "from networkx.algorithms import community"
   ]
  },
  {
   "cell_type": "code",
   "execution_count": 43,
   "metadata": {},
   "outputs": [],
   "source": [
    "degrees = dict(networkx.degree(G))\n",
    "networkx.set_node_attributes(G, name='degree', values=degrees)"
   ]
  },
  {
   "cell_type": "code",
   "execution_count": 44,
   "metadata": {},
   "outputs": [],
   "source": [
    "number_to_adjust_by = 5\n",
    "adjusted_node_size = dict([(node, degree+number_to_adjust_by) for node, degree in networkx.degree(G)])\n",
    "networkx.set_node_attributes(G, name='adjusted_node_size', values=adjusted_node_size)"
   ]
  },
  {
   "cell_type": "code",
   "execution_count": 45,
   "metadata": {},
   "outputs": [],
   "source": [
    "communities = community.greedy_modularity_communities(G)"
   ]
  },
  {
   "cell_type": "code",
   "execution_count": 46,
   "metadata": {},
   "outputs": [
    {
     "data": {
      "text/html": [
       "\n",
       "\n",
       "\n",
       "\n",
       "\n",
       "\n",
       "  <div class=\"bk-root\" id=\"9cdcf97d-a635-445a-8d37-3b15a854e8ca\" data-root-id=\"3258\"></div>\n"
      ]
     },
     "metadata": {},
     "output_type": "display_data"
    },
    {
     "data": {
      "application/javascript": "(function(root) {\n  function embed_document(root) {\n    \n  var docs_json = {\"39f22553-8d23-4da7-9bef-ceafe7659b50\":{\"defs\":[],\"roots\":{\"references\":[{\"attributes\":{\"below\":[{\"id\":\"3267\"}],\"center\":[{\"id\":\"3270\"},{\"id\":\"3274\"}],\"left\":[{\"id\":\"3271\"}],\"renderers\":[{\"id\":\"3286\"},{\"id\":\"3331\"}],\"title\":{\"id\":\"3259\"},\"toolbar\":{\"id\":\"3280\"},\"x_range\":{\"id\":\"3256\"},\"x_scale\":{\"id\":\"3263\"},\"y_range\":{\"id\":\"3257\"},\"y_scale\":{\"id\":\"3265\"}},\"id\":\"3258\",\"subtype\":\"Figure\",\"type\":\"Plot\"},{\"attributes\":{\"fill_color\":{\"value\":\"white\"},\"line_width\":{\"value\":2},\"size\":{\"field\":\"adjusted_node_size\"}},\"id\":\"3301\",\"type\":\"Circle\"},{\"attributes\":{\"fill_color\":{\"field\":\"modularity_color\"},\"size\":{\"field\":\"adjusted_node_size\"}},\"id\":\"3296\",\"type\":\"Circle\"},{\"attributes\":{},\"id\":\"3496\",\"type\":\"UnionRenderers\"},{\"attributes\":{},\"id\":\"3265\",\"type\":\"LinearScale\"},{\"attributes\":{},\"id\":\"3481\",\"type\":\"BasicTickFormatter\"},{\"attributes\":{\"formatter\":{\"id\":\"3492\"},\"major_label_policy\":{\"id\":\"3493\"},\"ticker\":{\"id\":\"3272\"}},\"id\":\"3271\",\"type\":\"LinearAxis\"},{\"attributes\":{},\"id\":\"3268\",\"type\":\"BasicTicker\"},{\"attributes\":{\"data\":{\"adjusted_node_size\":[48,13,8,7,8,11,10,6,6,9,6,12,6,6,6,6,6,6,6,7,6,6,6,6,6,7,7,8,6,7,7,7,6,6,6,7,6,6,6,6,6,15,6,7,6,6,6,6,6,6,6,8,6,6,6,6,7,6,6,6,6,6],\"degree\":[43,8,3,2,3,6,5,1,1,4,1,7,1,1,1,1,1,1,1,2,1,1,1,1,1,2,2,3,1,2,2,2,1,1,1,2,1,1,1,1,1,10,1,2,1,1,1,1,1,1,1,3,1,1,1,1,2,1,1,1,1,1],\"index\":[\"BILL\",\"ALICE\",\"ROZ\",\" HELENA\",\"HELENA\",\" BILL\",\"ZIEGLER\",\" ILONA\",\" ALICE\",\"ILONA\",\" ZIEGLER\",\"NICK\",\"SECRETARY\",\"SZAVOST\",\"GAYLE\",\" NUALA\",\"NUALA\",\"HARRIS\",\" GAYLE\",\"MANDY\",\"LISA\",\"SARAH\",\"GIRL\",\"BOY\",\"PATIENT\",\"ROSA\",\"MARION\",\"CARL\",\" MARION\",\"STUDENT I\",\"STUDENTS\",\"STUDENT 2\",\"DOMINO\",\"bill\",\"DOORMAN\",\"MAITRE D'\",\"AUDIENCE\",\"VOICE FROM AUDIENCE\",\" PERSON AT THE PHONE\",\"PERSON AT THE PHONE\",\"DRIVER\",\"MILICH\",\"JAPANESE MAN 1\",\"DAUGHTER\",\"JAPANESE MAN 2\",\" JAPANESE MAN 1\",\" JAPANESE MAN 2\",\" DAUGHTER\",\"CAB DRIVER\",\"GATEMAN 1\",\"MASKED BUTLER\",\"MYSTERIOUS WOMAN\",\"OMINOUS MAN\",\"YOUNG WOMAN\",\" YOUNG WOMAN\",\"TALL BUTLER\",\"RED CLOAK\",\"RED CLOACK\",\"WAITRESS\",\"CLERK\",\"SALLY\",\"RECEPTIONIST\"],\"modularity_class\":[0,1,1,1,1,1,1,0,1,1,1,2,2,1,0,0,0,0,0,1,0,0,0,0,0,0,0,0,0,1,1,1,0,1,0,2,2,2,2,2,0,3,3,3,3,3,3,3,0,0,0,4,0,0,4,0,4,0,0,0,0,0],\"modularity_color\":[\"#3288bd\",\"#66c2a5\",\"#66c2a5\",\"#66c2a5\",\"#66c2a5\",\"#66c2a5\",\"#66c2a5\",\"#3288bd\",\"#66c2a5\",\"#66c2a5\",\"#66c2a5\",\"#abdda4\",\"#abdda4\",\"#66c2a5\",\"#3288bd\",\"#3288bd\",\"#3288bd\",\"#3288bd\",\"#3288bd\",\"#66c2a5\",\"#3288bd\",\"#3288bd\",\"#3288bd\",\"#3288bd\",\"#3288bd\",\"#3288bd\",\"#3288bd\",\"#3288bd\",\"#3288bd\",\"#66c2a5\",\"#66c2a5\",\"#66c2a5\",\"#3288bd\",\"#66c2a5\",\"#3288bd\",\"#abdda4\",\"#abdda4\",\"#abdda4\",\"#abdda4\",\"#abdda4\",\"#3288bd\",\"#e6f598\",\"#e6f598\",\"#e6f598\",\"#e6f598\",\"#e6f598\",\"#e6f598\",\"#e6f598\",\"#3288bd\",\"#3288bd\",\"#3288bd\",\"#fee08b\",\"#3288bd\",\"#3288bd\",\"#fee08b\",\"#3288bd\",\"#fee08b\",\"#3288bd\",\"#3288bd\",\"#3288bd\",\"#3288bd\",\"#3288bd\"]},\"selected\":{\"id\":\"3499\"},\"selection_policy\":{\"id\":\"3500\"}},\"id\":\"3288\",\"type\":\"ColumnDataSource\"},{\"attributes\":{\"formatter\":{\"id\":\"3481\"},\"major_label_policy\":{\"id\":\"3482\"},\"ticker\":{\"id\":\"3268\"}},\"id\":\"3267\",\"type\":\"LinearAxis\"},{\"attributes\":{},\"id\":\"3493\",\"type\":\"AllLabels\"},{\"attributes\":{\"axis\":{\"id\":\"3267\"},\"ticker\":null},\"id\":\"3270\",\"type\":\"Grid\"},{\"attributes\":{\"source\":{\"id\":\"3292\"}},\"id\":\"3294\",\"type\":\"CDSView\"},{\"attributes\":{\"axis\":{\"id\":\"3271\"},\"dimension\":1,\"ticker\":null},\"id\":\"3274\",\"type\":\"Grid\"},{\"attributes\":{},\"id\":\"3272\",\"type\":\"BasicTicker\"},{\"attributes\":{\"callback\":null,\"tooltips\":[[\"Character\",\"@index\"],[\"Interactions\",\"@degree\"],[\"Modularity Class\",\"@modularity_class\"],[\"Modularity Color\",\"$color[swatch]:modularity_color\"]]},\"id\":\"3279\",\"type\":\"HoverTool\"},{\"attributes\":{},\"id\":\"3495\",\"type\":\"Selection\"},{\"attributes\":{\"data\":{\"Interaction Count\":[72,7,1,54,2,34,9,3,2,1,1,4,7,1,1,2,1,2,15,5,3,20,1,4,1,35,1,3,3,2,7,1,2,1,5,1,1,8,16,1,19,6,4,1,17,1,1,22,1,1,2,1,1,1,2,2,1,1,1,1,1,1,2,1,1,2,1,2,1,1,5,4,1,4,2,1,1,2],\"end\":[\"ALICE\",\"HELENA\",\"ROZ\",\"ZIEGLER\",\" ILONA\",\"NICK\",\"GAYLE\",\" NUALA\",\"NUALA\",\"HARRIS\",\" GAYLE\",\"MANDY\",\"LISA\",\"SARAH\",\"GIRL\",\"BOY\",\"PATIENT\",\"ROSA\",\"MARION\",\"CARL\",\" MARION\",\"DOMINO\",\"DOORMAN\",\"MAITRE D'\",\"DRIVER\",\"MILICH\",\"DAUGHTER\",\"CAB DRIVER\",\"GATEMAN 1\",\"MASKED BUTLER\",\"MYSTERIOUS WOMAN\",\"OMINOUS MAN\",\"YOUNG WOMAN\",\"TALL BUTLER\",\"RED CLOAK\",\"RED CLOACK\",\"BILL\",\"WAITRESS\",\"CLERK\",\" HELENA\",\"SALLY\",\"RECEPTIONIST\",\"ROZ\",\" HELENA\",\"HELENA\",\"ZIEGLER\",\"ILONA\",\"SZAVOST\",\"bill\",\" BILL\",\" BILL\",\"ILONA\",\"STUDENT 2\",\"STUDENT I\",\"MILICH\",\" ALICE\",\"ILONA\",\"MANDY\",\" ZIEGLER\",\"SECRETARY\",\"AUDIENCE\",\"VOICE FROM AUDIENCE\",\"MAITRE D'\",\" PERSON AT THE PHONE\",\"PERSON AT THE PHONE\",\"CARL\",\"CARL\",\"STUDENTS\",\"STUDENT 2\",\"MILICH\",\"JAPANESE MAN 1\",\"DAUGHTER\",\"JAPANESE MAN 2\",\" JAPANESE MAN 1\",\" JAPANESE MAN 2\",\" DAUGHTER\",\" YOUNG WOMAN\",\"RED CLOAK\"],\"start\":[\"BILL\",\"BILL\",\"BILL\",\"BILL\",\"BILL\",\"BILL\",\"BILL\",\"BILL\",\"BILL\",\"BILL\",\"BILL\",\"BILL\",\"BILL\",\"BILL\",\"BILL\",\"BILL\",\"BILL\",\"BILL\",\"BILL\",\"BILL\",\"BILL\",\"BILL\",\"BILL\",\"BILL\",\"BILL\",\"BILL\",\"BILL\",\"BILL\",\"BILL\",\"BILL\",\"BILL\",\"BILL\",\"BILL\",\"BILL\",\"BILL\",\"BILL\",\"BILL\",\"BILL\",\"BILL\",\"BILL\",\"BILL\",\"BILL\",\"ALICE\",\"ALICE\",\"ALICE\",\"ALICE\",\"ALICE\",\"ALICE\",\"ALICE\",\"ROZ\",\"HELENA\",\" BILL\",\" BILL\",\" BILL\",\" BILL\",\"ZIEGLER\",\"ZIEGLER\",\"ZIEGLER\",\"ILONA\",\"NICK\",\"NICK\",\"NICK\",\"NICK\",\"NICK\",\"NICK\",\"ROSA\",\"MARION\",\"STUDENT I\",\"STUDENTS\",\"MILICH\",\"MILICH\",\"MILICH\",\"MILICH\",\"MILICH\",\"MILICH\",\"MILICH\",\"MYSTERIOUS WOMAN\",\"MYSTERIOUS WOMAN\"]},\"selected\":{\"id\":\"3497\"},\"selection_policy\":{\"id\":\"3498\"}},\"id\":\"3292\",\"type\":\"ColumnDataSource\"},{\"attributes\":{},\"id\":\"3276\",\"type\":\"WheelZoomTool\"},{\"attributes\":{\"active_multi\":null,\"active_scroll\":{\"id\":\"3276\"},\"tools\":[{\"id\":\"3275\"},{\"id\":\"3276\"},{\"id\":\"3277\"},{\"id\":\"3278\"},{\"id\":\"3279\"}]},\"id\":\"3280\",\"type\":\"Toolbar\"},{\"attributes\":{},\"id\":\"3275\",\"type\":\"PanTool\"},{\"attributes\":{},\"id\":\"3498\",\"type\":\"UnionRenderers\"},{\"attributes\":{\"edge_renderer\":{\"id\":\"3293\"},\"inspection_policy\":{\"id\":\"3328\"},\"layout_provider\":{\"id\":\"3295\"},\"node_renderer\":{\"id\":\"3289\"},\"selection_policy\":{\"id\":\"3326\"}},\"id\":\"3286\",\"type\":\"GraphRenderer\"},{\"attributes\":{},\"id\":\"3277\",\"type\":\"SaveTool\"},{\"attributes\":{},\"id\":\"3482\",\"type\":\"AllLabels\"},{\"attributes\":{\"source\":{\"id\":\"3288\"}},\"id\":\"3290\",\"type\":\"CDSView\"},{\"attributes\":{},\"id\":\"3278\",\"type\":\"ResetTool\"},{\"attributes\":{},\"id\":\"3326\",\"type\":\"NodesAndLinkedEdges\"},{\"attributes\":{},\"id\":\"3497\",\"type\":\"Selection\"},{\"attributes\":{},\"id\":\"3492\",\"type\":\"BasicTickFormatter\"},{\"attributes\":{},\"id\":\"3499\",\"type\":\"Selection\"},{\"attributes\":{\"fill_color\":{\"value\":\"white\"},\"line_width\":{\"value\":2},\"size\":{\"field\":\"adjusted_node_size\"}},\"id\":\"3306\",\"type\":\"Circle\"},{\"attributes\":{\"data\":{\"name\":[\"BILL\",\"ALICE\",\"ROZ\",\" HELENA\",\"HELENA\",\" BILL\",\"ZIEGLER\",\" ILONA\",\" ALICE\",\"ILONA\",\" ZIEGLER\",\"NICK\",\"SECRETARY\",\"SZAVOST\",\"GAYLE\",\" NUALA\",\"NUALA\",\"HARRIS\",\" GAYLE\",\"MANDY\",\"LISA\",\"SARAH\",\"GIRL\",\"BOY\",\"PATIENT\",\"ROSA\",\"MARION\",\"CARL\",\" MARION\",\"STUDENT I\",\"STUDENTS\",\"STUDENT 2\",\"DOMINO\",\"bill\",\"DOORMAN\",\"MAITRE D'\",\"AUDIENCE\",\"VOICE FROM AUDIENCE\",\" PERSON AT THE PHONE\",\"PERSON AT THE PHONE\",\"DRIVER\",\"MILICH\",\"JAPANESE MAN 1\",\"DAUGHTER\",\"JAPANESE MAN 2\",\" JAPANESE MAN 1\",\" JAPANESE MAN 2\",\" DAUGHTER\",\"CAB DRIVER\",\"GATEMAN 1\",\"MASKED BUTLER\",\"MYSTERIOUS WOMAN\",\"OMINOUS MAN\",\"YOUNG WOMAN\",\" YOUNG WOMAN\",\"TALL BUTLER\",\"RED CLOAK\",\"RED CLOACK\",\"WAITRESS\",\"CLERK\",\"SALLY\",\"RECEPTIONIST\"],\"x\":[-0.3922664648020508,-1.458768308105009,1.2829440161482875,-2.0986302261629723,0.735102011276925,3.095189337070357,-0.707390910914056,-1.9199706679400155,-3.4735608149932498,1.772981101339583,5.392121305121861,3.464611098148004,4.0816808894777505,-5.299826611393716,2.491858288649106,-1.7190330534845222,-0.6951100715340408,-0.7234163801874075,1.7496512013360954,-0.21344017122917258,-2.8252907311851603,-3.8753669285284817,-3.742857507850943,3.807190058921511,2.4858012827535134,3.419156998233908,1.5914535571240263,2.542990796003157,-2.1940809353588295,7.568741976432418,9.865797285674663,7.1880928462765015,-4.405485244223544,-3.9432275213438612,2.6595840306619554,2.7641359941127788,6.462651118423411,3.008697206836471,5.216931261334449,5.357452760343363,4.118786631839518,-2.0471539878947342,-3.9818944011970028,-2.440900272130976,-5.580396011955479,-1.864005763412684,-2.9714893046315276,-4.759445832621684,-3.0603182395377475,3.339030025319091,-4.023512601306557,-6.170041851319246,1.6502594766483605,0.5850773612687268,-10.0,-2.619242573204231,-4.961533159381688,4.2782513396491,0.003316432002012088,-4.7496617066751625,0.43354341417272846,-3.4957628480939897],\"y\":[-2.68344654238893,2.283733201064277,1.4139178615780479,0.01149927156782404,1.89654072043747,4.668515685038159,1.5360103579134265,-5.721776988453131,3.59538045944707,3.7689274447355743,4.541045591750668,5.188639079155503,9.147911186397335,3.8135418595757375,-1.167790300192068,-7.252106818151302,-7.535747015022025,-6.163752783053759,-3.7929900249772044,-0.35250205224762937,-7.116539861632493,-0.966738950691859,-2.6638102526126044,-1.769573049804385,-2.4824228734470677,-5.582352184481424,-5.591162860243794,-5.133266020884054,-4.320677358172535,5.978396553582567,7.675147215696162,6.820435186266788,-4.7482051493787445,5.135804246563237,-6.599283949581846,1.3318752188507001,7.988559314300415,8.928271146085686,9.26691644088973,8.137540818445656,-4.539046596479531,5.096772990012134,8.767150307975665,1.541830209046425,7.248937199196621,8.859010923432209,9.130520391757193,8.072057531624997,-6.036413181703371,-3.702057649275666,-5.800799567922207,-4.280017619368323,-7.172655064280589,-6.456081498543362,-5.502104753822607,-1.9070280198730936,-3.437526300931149,-2.9733369569151202,-4.878562771550042,-1.8701115438732971,-7.611508196196517,-4.033493656235509]},\"selected\":{\"id\":\"3495\"},\"selection_policy\":{\"id\":\"3496\"}},\"id\":\"3330\",\"type\":\"ColumnDataSource\"},{\"attributes\":{\"line_width\":{\"value\":2}},\"id\":\"3321\",\"type\":\"MultiLine\"},{\"attributes\":{\"line_width\":{\"value\":2}},\"id\":\"3316\",\"type\":\"MultiLine\"},{\"attributes\":{\"line_alpha\":{\"value\":0.3}},\"id\":\"3311\",\"type\":\"MultiLine\"},{\"attributes\":{\"data_source\":{\"id\":\"3292\"},\"glyph\":{\"id\":\"3311\"},\"hover_glyph\":{\"id\":\"3321\"},\"muted_glyph\":null,\"selection_glyph\":{\"id\":\"3316\"},\"view\":{\"id\":\"3294\"}},\"id\":\"3293\",\"type\":\"GlyphRenderer\"},{\"attributes\":{\"background_fill_alpha\":{\"value\":0.7},\"background_fill_color\":{\"value\":\"white\"},\"source\":{\"id\":\"3330\"},\"text\":{\"field\":\"name\"},\"text_font_size\":{\"value\":\"10px\"},\"x\":{\"field\":\"x\"},\"y\":{\"field\":\"y\"}},\"id\":\"3331\",\"type\":\"LabelSet\"},{\"attributes\":{},\"id\":\"3328\",\"type\":\"NodesAndLinkedEdges\"},{\"attributes\":{\"graph_layout\":{\" ALICE\":[-3.4735608149932498,3.59538045944707],\" BILL\":[3.095189337070357,4.668515685038159],\" DAUGHTER\":[-4.759445832621684,8.072057531624997],\" GAYLE\":[1.7496512013360954,-3.7929900249772044],\" HELENA\":[-2.0986302261629723,0.01149927156782404],\" ILONA\":[-1.9199706679400155,-5.721776988453131],\" JAPANESE MAN 1\":[-1.864005763412684,8.859010923432209],\" JAPANESE MAN 2\":[-2.9714893046315276,9.130520391757193],\" MARION\":[-2.1940809353588295,-4.320677358172535],\" NUALA\":[-1.7190330534845222,-7.252106818151302],\" PERSON AT THE PHONE\":[5.216931261334449,9.26691644088973],\" YOUNG WOMAN\":[-10.0,-5.502104753822607],\" ZIEGLER\":[5.392121305121861,4.541045591750668],\"ALICE\":[-1.458768308105009,2.283733201064277],\"AUDIENCE\":[6.462651118423411,7.988559314300415],\"BILL\":[-0.3922664648020508,-2.68344654238893],\"BOY\":[3.807190058921511,-1.769573049804385],\"CAB DRIVER\":[-3.0603182395377475,-6.036413181703371],\"CARL\":[2.542990796003157,-5.133266020884054],\"CLERK\":[-4.7496617066751625,-1.8701115438732971],\"DAUGHTER\":[-2.440900272130976,1.541830209046425],\"DOMINO\":[-4.405485244223544,-4.7482051493787445],\"DOORMAN\":[2.6595840306619554,-6.599283949581846],\"DRIVER\":[4.118786631839518,-4.539046596479531],\"GATEMAN 1\":[3.339030025319091,-3.702057649275666],\"GAYLE\":[2.491858288649106,-1.167790300192068],\"GIRL\":[-3.742857507850943,-2.6638102526126044],\"HARRIS\":[-0.7234163801874075,-6.163752783053759],\"HELENA\":[0.735102011276925,1.89654072043747],\"ILONA\":[1.772981101339583,3.7689274447355743],\"JAPANESE MAN 1\":[-3.9818944011970028,8.767150307975665],\"JAPANESE MAN 2\":[-5.580396011955479,7.248937199196621],\"LISA\":[-2.8252907311851603,-7.116539861632493],\"MAITRE D'\":[2.7641359941127788,1.3318752188507001],\"MANDY\":[-0.21344017122917258,-0.35250205224762937],\"MARION\":[1.5914535571240263,-5.591162860243794],\"MASKED BUTLER\":[-4.023512601306557,-5.800799567922207],\"MILICH\":[-2.0471539878947342,5.096772990012134],\"MYSTERIOUS WOMAN\":[-6.170041851319246,-4.280017619368323],\"NICK\":[3.464611098148004,5.188639079155503],\"NUALA\":[-0.6951100715340408,-7.535747015022025],\"OMINOUS MAN\":[1.6502594766483605,-7.172655064280589],\"PATIENT\":[2.4858012827535134,-2.4824228734470677],\"PERSON AT THE PHONE\":[5.357452760343363,8.137540818445656],\"RECEPTIONIST\":[-3.4957628480939897,-4.033493656235509],\"RED CLOACK\":[4.2782513396491,-2.9733369569151202],\"RED CLOAK\":[-4.961533159381688,-3.437526300931149],\"ROSA\":[3.419156998233908,-5.582352184481424],\"ROZ\":[1.2829440161482875,1.4139178615780479],\"SALLY\":[0.43354341417272846,-7.611508196196517],\"SARAH\":[-3.8753669285284817,-0.966738950691859],\"SECRETARY\":[4.0816808894777505,9.147911186397335],\"STUDENT 2\":[7.1880928462765015,6.820435186266788],\"STUDENT I\":[7.568741976432418,5.978396553582567],\"STUDENTS\":[9.865797285674663,7.675147215696162],\"SZAVOST\":[-5.299826611393716,3.8135418595757375],\"TALL BUTLER\":[-2.619242573204231,-1.9070280198730936],\"VOICE FROM AUDIENCE\":[3.008697206836471,8.928271146085686],\"WAITRESS\":[0.003316432002012088,-4.878562771550042],\"YOUNG WOMAN\":[0.5850773612687268,-6.456081498543362],\"ZIEGLER\":[-0.707390910914056,1.5360103579134265],\"bill\":[-3.9432275213438612,5.135804246563237]}},\"id\":\"3295\",\"type\":\"StaticLayoutProvider\"},{\"attributes\":{\"end\":10.1,\"start\":-10.1},\"id\":\"3256\",\"type\":\"Range1d\"},{\"attributes\":{},\"id\":\"3263\",\"type\":\"LinearScale\"},{\"attributes\":{\"end\":10.1,\"start\":-10.1},\"id\":\"3257\",\"type\":\"Range1d\"},{\"attributes\":{\"text\":\"Screenplay 1999 Network\"},\"id\":\"3259\",\"type\":\"Title\"},{\"attributes\":{},\"id\":\"3500\",\"type\":\"UnionRenderers\"},{\"attributes\":{\"data_source\":{\"id\":\"3288\"},\"glyph\":{\"id\":\"3296\"},\"hover_glyph\":{\"id\":\"3301\"},\"muted_glyph\":null,\"selection_glyph\":{\"id\":\"3306\"},\"view\":{\"id\":\"3290\"}},\"id\":\"3289\",\"type\":\"GlyphRenderer\"}],\"root_ids\":[\"3258\"]},\"title\":\"Bokeh Application\",\"version\":\"2.3.3\"}};\n  var render_items = [{\"docid\":\"39f22553-8d23-4da7-9bef-ceafe7659b50\",\"root_ids\":[\"3258\"],\"roots\":{\"3258\":\"9cdcf97d-a635-445a-8d37-3b15a854e8ca\"}}];\n  root.Bokeh.embed.embed_items_notebook(docs_json, render_items);\n\n  }\n  if (root.Bokeh !== undefined) {\n    embed_document(root);\n  } else {\n    var attempts = 0;\n    var timer = setInterval(function(root) {\n      if (root.Bokeh !== undefined) {\n        clearInterval(timer);\n        embed_document(root);\n      } else {\n        attempts++;\n        if (attempts > 100) {\n          clearInterval(timer);\n          console.log(\"Bokeh: ERROR: Unable to run BokehJS code because BokehJS library is missing\");\n        }\n      }\n    }, 10, root)\n  }\n})(window);",
      "application/vnd.bokehjs_exec.v0+json": ""
     },
     "metadata": {
      "application/vnd.bokehjs_exec.v0+json": {
       "id": "3258"
      }
     },
     "output_type": "display_data"
    }
   ],
   "source": [
    "#Choose colors for node and edge highlighting\n",
    "node_highlight_color = 'white'\n",
    "edge_highlight_color = 'black'\n",
    "\n",
    "#Choose attributes from G network to size and color by — setting manual size (e.g. 10) or color (e.g. 'skyblue') also allowed\n",
    "size_by_this_attribute = 'adjusted_node_size'\n",
    "color_by_this_attribute = 'modularity_color'\n",
    "\n",
    "#Pick a color palette — Blues8, Reds8, Purples8, Oranges8, Viridis8\n",
    "color_palette = Blues8\n",
    "\n",
    "#Choose a title!\n",
    "title = 'Screenplay 1999 Network'\n",
    "\n",
    "#Establish which categories will appear when hovering over each node\n",
    "HOVER_TOOLTIPS = [\n",
    "       (\"Character\", \"@index\"),\n",
    "        (\"Interactions\", \"@degree\"),\n",
    "         (\"Modularity Class\", \"@modularity_class\"),\n",
    "        (\"Modularity Color\", \"$color[swatch]:modularity_color\"),\n",
    "]\n",
    "\n",
    "#Create a plot — set dimensions, toolbar, and title\n",
    "plot = figure(tooltips = HOVER_TOOLTIPS,\n",
    "              tools=\"pan,wheel_zoom,save,reset\", active_scroll='wheel_zoom',\n",
    "            x_range=Range1d(-10.1, 10.1), y_range=Range1d(-10.1, 10.1), title=title)\n",
    "\n",
    "#Create a network graph object\n",
    "# https://networkx.github.io/documentation/networkx-1.9/reference/generated/networkx.drawing.layout.spring_layout.html\n",
    "network_graph = from_networkx(G, networkx.spring_layout, scale=10, center=(0, 0))\n",
    "\n",
    "#Set node sizes and colors according to node degree (color as category from attribute)\n",
    "network_graph.node_renderer.glyph = Circle(size=size_by_this_attribute, fill_color=color_by_this_attribute)\n",
    "#Set node highlight colors\n",
    "network_graph.node_renderer.hover_glyph = Circle(size=size_by_this_attribute, fill_color=node_highlight_color, line_width=2)\n",
    "network_graph.node_renderer.selection_glyph = Circle(size=size_by_this_attribute, fill_color=node_highlight_color, line_width=2)\n",
    "\n",
    "#Set edge opacity and width\n",
    "network_graph.edge_renderer.glyph = MultiLine(line_alpha=0.3, line_width=1)\n",
    "#Set edge highlight colors\n",
    "network_graph.edge_renderer.selection_glyph = MultiLine(line_color=edge_highlight_color, line_width=2)\n",
    "network_graph.edge_renderer.hover_glyph = MultiLine(line_color=edge_highlight_color, line_width=2)\n",
    "\n",
    "#Highlight nodes and edges\n",
    "network_graph.selection_policy = NodesAndLinkedEdges()\n",
    "network_graph.inspection_policy = NodesAndLinkedEdges()\n",
    "\n",
    "plot.renderers.append(network_graph)\n",
    "\n",
    "#Add Labels\n",
    "x, y = zip(*network_graph.layout_provider.graph_layout.values())\n",
    "node_labels = list(G.nodes())\n",
    "source = ColumnDataSource({'x': x, 'y': y, 'name': [node_labels[i] for i in range(len(x))]})\n",
    "labels = LabelSet(x='x', y='y', text='name', source=source, background_fill_color='white', text_font_size='10px', background_fill_alpha=.7)\n",
    "plot.renderers.append(labels)\n",
    "\n",
    "show(plot)\n",
    "#save(plot, filename=f\"{title}.html\")"
   ]
  }
 ],
 "metadata": {
  "kernelspec": {
   "display_name": "Python 3",
   "language": "python",
   "name": "python3"
  },
  "language_info": {
   "codemirror_mode": {
    "name": "ipython",
    "version": 3
   },
   "file_extension": ".py",
   "mimetype": "text/x-python",
   "name": "python",
   "nbconvert_exporter": "python",
   "pygments_lexer": "ipython3",
   "version": "3.10.8"
  },
  "orig_nbformat": 4
 },
 "nbformat": 4,
 "nbformat_minor": 2
}
