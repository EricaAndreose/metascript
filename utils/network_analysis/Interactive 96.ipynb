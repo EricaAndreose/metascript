{
 "cells": [
  {
   "cell_type": "code",
   "execution_count": 1,
   "metadata": {},
   "outputs": [],
   "source": [
    "import pandas as pd\n",
    "import networkx\n",
    "import matplotlib.pyplot as plt\n",
    "import numpy as np"
   ]
  },
  {
   "cell_type": "code",
   "execution_count": 2,
   "metadata": {},
   "outputs": [],
   "source": [
    "from bokeh.io import output_notebook, show, save"
   ]
  },
  {
   "cell_type": "code",
   "execution_count": 3,
   "metadata": {},
   "outputs": [
    {
     "data": {
      "text/html": [
       "\n",
       "    <div class=\"bk-root\">\n",
       "        <a href=\"https://bokeh.org\" target=\"_blank\" class=\"bk-logo bk-logo-small bk-logo-notebook\"></a>\n",
       "        <span id=\"1001\">Loading BokehJS ...</span>\n",
       "    </div>"
      ]
     },
     "metadata": {},
     "output_type": "display_data"
    },
    {
     "data": {
      "application/javascript": "\n(function(root) {\n  function now() {\n    return new Date();\n  }\n\n  var force = true;\n\n  if (typeof root._bokeh_onload_callbacks === \"undefined\" || force === true) {\n    root._bokeh_onload_callbacks = [];\n    root._bokeh_is_loading = undefined;\n  }\n\n  var JS_MIME_TYPE = 'application/javascript';\n  var HTML_MIME_TYPE = 'text/html';\n  var EXEC_MIME_TYPE = 'application/vnd.bokehjs_exec.v0+json';\n  var CLASS_NAME = 'output_bokeh rendered_html';\n\n  /**\n   * Render data to the DOM node\n   */\n  function render(props, node) {\n    var script = document.createElement(\"script\");\n    node.appendChild(script);\n  }\n\n  /**\n   * Handle when an output is cleared or removed\n   */\n  function handleClearOutput(event, handle) {\n    var cell = handle.cell;\n\n    var id = cell.output_area._bokeh_element_id;\n    var server_id = cell.output_area._bokeh_server_id;\n    // Clean up Bokeh references\n    if (id != null && id in Bokeh.index) {\n      Bokeh.index[id].model.document.clear();\n      delete Bokeh.index[id];\n    }\n\n    if (server_id !== undefined) {\n      // Clean up Bokeh references\n      var cmd = \"from bokeh.io.state import curstate; print(curstate().uuid_to_server['\" + server_id + \"'].get_sessions()[0].document.roots[0]._id)\";\n      cell.notebook.kernel.execute(cmd, {\n        iopub: {\n          output: function(msg) {\n            var id = msg.content.text.trim();\n            if (id in Bokeh.index) {\n              Bokeh.index[id].model.document.clear();\n              delete Bokeh.index[id];\n            }\n          }\n        }\n      });\n      // Destroy server and session\n      var cmd = \"import bokeh.io.notebook as ion; ion.destroy_server('\" + server_id + \"')\";\n      cell.notebook.kernel.execute(cmd);\n    }\n  }\n\n  /**\n   * Handle when a new output is added\n   */\n  function handleAddOutput(event, handle) {\n    var output_area = handle.output_area;\n    var output = handle.output;\n\n    // limit handleAddOutput to display_data with EXEC_MIME_TYPE content only\n    if ((output.output_type != \"display_data\") || (!Object.prototype.hasOwnProperty.call(output.data, EXEC_MIME_TYPE))) {\n      return\n    }\n\n    var toinsert = output_area.element.find(\".\" + CLASS_NAME.split(' ')[0]);\n\n    if (output.metadata[EXEC_MIME_TYPE][\"id\"] !== undefined) {\n      toinsert[toinsert.length - 1].firstChild.textContent = output.data[JS_MIME_TYPE];\n      // store reference to embed id on output_area\n      output_area._bokeh_element_id = output.metadata[EXEC_MIME_TYPE][\"id\"];\n    }\n    if (output.metadata[EXEC_MIME_TYPE][\"server_id\"] !== undefined) {\n      var bk_div = document.createElement(\"div\");\n      bk_div.innerHTML = output.data[HTML_MIME_TYPE];\n      var script_attrs = bk_div.children[0].attributes;\n      for (var i = 0; i < script_attrs.length; i++) {\n        toinsert[toinsert.length - 1].firstChild.setAttribute(script_attrs[i].name, script_attrs[i].value);\n        toinsert[toinsert.length - 1].firstChild.textContent = bk_div.children[0].textContent\n      }\n      // store reference to server id on output_area\n      output_area._bokeh_server_id = output.metadata[EXEC_MIME_TYPE][\"server_id\"];\n    }\n  }\n\n  function register_renderer(events, OutputArea) {\n\n    function append_mime(data, metadata, element) {\n      // create a DOM node to render to\n      var toinsert = this.create_output_subarea(\n        metadata,\n        CLASS_NAME,\n        EXEC_MIME_TYPE\n      );\n      this.keyboard_manager.register_events(toinsert);\n      // Render to node\n      var props = {data: data, metadata: metadata[EXEC_MIME_TYPE]};\n      render(props, toinsert[toinsert.length - 1]);\n      element.append(toinsert);\n      return toinsert\n    }\n\n    /* Handle when an output is cleared or removed */\n    events.on('clear_output.CodeCell', handleClearOutput);\n    events.on('delete.Cell', handleClearOutput);\n\n    /* Handle when a new output is added */\n    events.on('output_added.OutputArea', handleAddOutput);\n\n    /**\n     * Register the mime type and append_mime function with output_area\n     */\n    OutputArea.prototype.register_mime_type(EXEC_MIME_TYPE, append_mime, {\n      /* Is output safe? */\n      safe: true,\n      /* Index of renderer in `output_area.display_order` */\n      index: 0\n    });\n  }\n\n  // register the mime type if in Jupyter Notebook environment and previously unregistered\n  if (root.Jupyter !== undefined) {\n    var events = require('base/js/events');\n    var OutputArea = require('notebook/js/outputarea').OutputArea;\n\n    if (OutputArea.prototype.mime_types().indexOf(EXEC_MIME_TYPE) == -1) {\n      register_renderer(events, OutputArea);\n    }\n  }\n\n  \n  if (typeof (root._bokeh_timeout) === \"undefined\" || force === true) {\n    root._bokeh_timeout = Date.now() + 5000;\n    root._bokeh_failed_load = false;\n  }\n\n  var NB_LOAD_WARNING = {'data': {'text/html':\n     \"<div style='background-color: #fdd'>\\n\"+\n     \"<p>\\n\"+\n     \"BokehJS does not appear to have successfully loaded. If loading BokehJS from CDN, this \\n\"+\n     \"may be due to a slow or bad network connection. Possible fixes:\\n\"+\n     \"</p>\\n\"+\n     \"<ul>\\n\"+\n     \"<li>re-rerun `output_notebook()` to attempt to load from CDN again, or</li>\\n\"+\n     \"<li>use INLINE resources instead, as so:</li>\\n\"+\n     \"</ul>\\n\"+\n     \"<code>\\n\"+\n     \"from bokeh.resources import INLINE\\n\"+\n     \"output_notebook(resources=INLINE)\\n\"+\n     \"</code>\\n\"+\n     \"</div>\"}};\n\n  function display_loaded() {\n    var el = document.getElementById(\"1001\");\n    if (el != null) {\n      el.textContent = \"BokehJS is loading...\";\n    }\n    if (root.Bokeh !== undefined) {\n      if (el != null) {\n        el.textContent = \"BokehJS \" + root.Bokeh.version + \" successfully loaded.\";\n      }\n    } else if (Date.now() < root._bokeh_timeout) {\n      setTimeout(display_loaded, 100)\n    }\n  }\n\n\n  function run_callbacks() {\n    try {\n      root._bokeh_onload_callbacks.forEach(function(callback) {\n        if (callback != null)\n          callback();\n      });\n    } finally {\n      delete root._bokeh_onload_callbacks\n    }\n    console.debug(\"Bokeh: all callbacks have finished\");\n  }\n\n  function load_libs(css_urls, js_urls, callback) {\n    if (css_urls == null) css_urls = [];\n    if (js_urls == null) js_urls = [];\n\n    root._bokeh_onload_callbacks.push(callback);\n    if (root._bokeh_is_loading > 0) {\n      console.debug(\"Bokeh: BokehJS is being loaded, scheduling callback at\", now());\n      return null;\n    }\n    if (js_urls == null || js_urls.length === 0) {\n      run_callbacks();\n      return null;\n    }\n    console.debug(\"Bokeh: BokehJS not loaded, scheduling load and callback at\", now());\n    root._bokeh_is_loading = css_urls.length + js_urls.length;\n\n    function on_load() {\n      root._bokeh_is_loading--;\n      if (root._bokeh_is_loading === 0) {\n        console.debug(\"Bokeh: all BokehJS libraries/stylesheets loaded\");\n        run_callbacks()\n      }\n    }\n\n    function on_error(url) {\n      console.error(\"failed to load \" + url);\n    }\n\n    for (let i = 0; i < css_urls.length; i++) {\n      const url = css_urls[i];\n      const element = document.createElement(\"link\");\n      element.onload = on_load;\n      element.onerror = on_error.bind(null, url);\n      element.rel = \"stylesheet\";\n      element.type = \"text/css\";\n      element.href = url;\n      console.debug(\"Bokeh: injecting link tag for BokehJS stylesheet: \", url);\n      document.body.appendChild(element);\n    }\n\n    const hashes = {\"https://cdn.bokeh.org/bokeh/release/bokeh-2.3.3.min.js\": \"dM3QQsP+wXdHg42wTqW85BjZQdLNNIXqlPw/BgKoExPmTG7ZLML4EGqLMfqHT6ON\", \"https://cdn.bokeh.org/bokeh/release/bokeh-tables-2.3.3.min.js\": \"8x57I4YuIfu8XyZfFo0XVr2WAT8EK4rh/uDe3wF7YuW2FNUSNEpJbsPaB1nJ2fz2\", \"https://cdn.bokeh.org/bokeh/release/bokeh-widgets-2.3.3.min.js\": \"3QTqdz9LyAm2i0sG5XTePsHec3UHWwVsrOL68SYRoAXsafvfAyqtQ+h440+qIBhS\"};\n\n    for (let i = 0; i < js_urls.length; i++) {\n      const url = js_urls[i];\n      const element = document.createElement('script');\n      element.onload = on_load;\n      element.onerror = on_error.bind(null, url);\n      element.async = false;\n      element.src = url;\n      if (url in hashes) {\n        element.crossOrigin = \"anonymous\";\n        element.integrity = \"sha384-\" + hashes[url];\n      }\n      console.debug(\"Bokeh: injecting script tag for BokehJS library: \", url);\n      document.head.appendChild(element);\n    }\n  };\n\n  function inject_raw_css(css) {\n    const element = document.createElement(\"style\");\n    element.appendChild(document.createTextNode(css));\n    document.body.appendChild(element);\n  }\n\n  \n  var js_urls = [\"https://cdn.bokeh.org/bokeh/release/bokeh-2.3.3.min.js\", \"https://cdn.bokeh.org/bokeh/release/bokeh-widgets-2.3.3.min.js\", \"https://cdn.bokeh.org/bokeh/release/bokeh-tables-2.3.3.min.js\"];\n  var css_urls = [];\n  \n\n  var inline_js = [\n    function(Bokeh) {\n      Bokeh.set_log_level(\"info\");\n    },\n    function(Bokeh) {\n    \n    \n    }\n  ];\n\n  function run_inline_js() {\n    \n    if (root.Bokeh !== undefined || force === true) {\n      \n    for (var i = 0; i < inline_js.length; i++) {\n      inline_js[i].call(root, root.Bokeh);\n    }\n    if (force === true) {\n        display_loaded();\n      }} else if (Date.now() < root._bokeh_timeout) {\n      setTimeout(run_inline_js, 100);\n    } else if (!root._bokeh_failed_load) {\n      console.log(\"Bokeh: BokehJS failed to load within specified timeout.\");\n      root._bokeh_failed_load = true;\n    } else if (force !== true) {\n      var cell = $(document.getElementById(\"1001\")).parents('.cell').data().cell;\n      cell.output_area.append_execute_result(NB_LOAD_WARNING)\n    }\n\n  }\n\n  if (root._bokeh_is_loading === 0) {\n    console.debug(\"Bokeh: BokehJS loaded, going straight to plotting\");\n    run_inline_js();\n  } else {\n    load_libs(css_urls, js_urls, function() {\n      console.debug(\"Bokeh: BokehJS plotting callback run at\", now());\n      run_inline_js();\n    });\n  }\n}(window));",
      "application/vnd.bokehjs_load.v0+json": ""
     },
     "metadata": {},
     "output_type": "display_data"
    }
   ],
   "source": [
    "output_notebook()"
   ]
  },
  {
   "cell_type": "code",
   "execution_count": 4,
   "metadata": {},
   "outputs": [],
   "source": [
    "import pandas as pd\n",
    "\n",
    "\n",
    "# Read the csv files\n",
    "df_ds = pd.read_csv('interactions_screenplay96.csv')\n",
    "\n"
   ]
  },
  {
   "cell_type": "code",
   "execution_count": 5,
   "metadata": {},
   "outputs": [],
   "source": [
    "G = networkx.from_pandas_edgelist(df_ds, 'Character', 'Listener', 'Interaction Count')"
   ]
  },
  {
   "cell_type": "code",
   "execution_count": 6,
   "metadata": {},
   "outputs": [],
   "source": [
    "from bokeh.io import output_notebook, show, save\n",
    "from bokeh.models import Range1d, Circle, ColumnDataSource, MultiLine\n",
    "from bokeh.plotting import figure\n",
    "from bokeh.plotting import from_networkx"
   ]
  },
  {
   "cell_type": "code",
   "execution_count": 7,
   "metadata": {},
   "outputs": [
    {
     "data": {
      "text/html": [
       "\n",
       "\n",
       "\n",
       "\n",
       "\n",
       "\n",
       "  <div class=\"bk-root\" id=\"b9539f68-f854-4ca4-9396-127b3e344d67\" data-root-id=\"1005\"></div>\n"
      ]
     },
     "metadata": {},
     "output_type": "display_data"
    },
    {
     "data": {
      "application/javascript": "(function(root) {\n  function embed_document(root) {\n    \n  var docs_json = {\"b948f3d3-de66-4315-b46b-570aa2f815a7\":{\"defs\":[],\"roots\":{\"references\":[{\"attributes\":{\"below\":[{\"id\":\"1014\"}],\"center\":[{\"id\":\"1017\"},{\"id\":\"1021\"}],\"left\":[{\"id\":\"1018\"}],\"renderers\":[{\"id\":\"1033\"}],\"title\":{\"id\":\"1006\"},\"toolbar\":{\"id\":\"1027\"},\"x_range\":{\"id\":\"1003\"},\"x_scale\":{\"id\":\"1010\"},\"y_range\":{\"id\":\"1004\"},\"y_scale\":{\"id\":\"1012\"}},\"id\":\"1005\",\"subtype\":\"Figure\",\"type\":\"Plot\"},{\"attributes\":{},\"id\":\"1069\",\"type\":\"BasicTickFormatter\"},{\"attributes\":{\"line_alpha\":{\"value\":0.5}},\"id\":\"1048\",\"type\":\"MultiLine\"},{\"attributes\":{\"data_source\":{\"id\":\"1035\"},\"glyph\":{\"id\":\"1043\"},\"hover_glyph\":null,\"muted_glyph\":null,\"view\":{\"id\":\"1037\"}},\"id\":\"1036\",\"type\":\"GlyphRenderer\"},{\"attributes\":{},\"id\":\"1058\",\"type\":\"NodesOnly\"},{\"attributes\":{},\"id\":\"1019\",\"type\":\"BasicTicker\"},{\"attributes\":{\"callback\":null,\"tooltips\":[[\"Character\",\"@index\"]]},\"id\":\"1026\",\"type\":\"HoverTool\"},{\"attributes\":{\"data\":{\"index\":[\"ALICE\",\"BILL\",\"BABY-SITTER\",\"HELENA\",\"DOORMAN\",\"DRIVER\",\"ZIEGLER\",\"NICK\",\"SZABO\",\"GAYLE\",\"NUALA\",\" GAYLE\",\" NUALA\",\"HARRIS\",\"V.O.\",\"audience\",\"NILL\",\"MARION\",\"CARL\",\"DOMINO\",\"GIBSON\",\"KIMONO1\",\" KIMONO2\",\"KIMONO2\",\"YOUNG GIRL\",\" YOUNG GIRL\",\"CAB DRIVER\",\"GATEMAN 1\",\"SERVANTS\",\"SERVANT 1\",\"THE WOMAN\",\"ANOTHER WOMAN\",\"TALL MAN\",\"ELEGANT MAN\",\"CLEANING LADY\",\"MANAGERESS\",\"DESK CLERK\",\"SERVANT\",\"ARTY WOMANB\",\"ARTY WOMAN\",\"SALLY\",\"WAITRESS\",\"CLERK\",\"ORDERLY\",\"UNKNOWN\"]},\"selected\":{\"id\":\"1070\"},\"selection_policy\":{\"id\":\"1071\"}},\"id\":\"1035\",\"type\":\"ColumnDataSource\"},{\"attributes\":{},\"id\":\"1012\",\"type\":\"LinearScale\"},{\"attributes\":{},\"id\":\"1023\",\"type\":\"WheelZoomTool\"},{\"attributes\":{\"text\":\"Dream Story Network\"},\"id\":\"1006\",\"type\":\"Title\"},{\"attributes\":{},\"id\":\"1022\",\"type\":\"PanTool\"},{\"attributes\":{},\"id\":\"1024\",\"type\":\"SaveTool\"},{\"attributes\":{},\"id\":\"1025\",\"type\":\"ResetTool\"},{\"attributes\":{\"end\":10.1,\"start\":-10.1},\"id\":\"1003\",\"type\":\"Range1d\"},{\"attributes\":{\"end\":10.1,\"start\":-10.1},\"id\":\"1004\",\"type\":\"Range1d\"},{\"attributes\":{\"active_multi\":null,\"active_scroll\":{\"id\":\"1023\"},\"tools\":[{\"id\":\"1022\"},{\"id\":\"1023\"},{\"id\":\"1024\"},{\"id\":\"1025\"},{\"id\":\"1026\"}]},\"id\":\"1027\",\"type\":\"Toolbar\"},{\"attributes\":{\"data\":{\"Interaction Count\":[80,1,4,2,23,1,3,1,2,38,51,5,6,2,1,6,4,1,19,12,4,31,32,4,8,1,1,8,1,9,1,3,11,1,1,4,4,2,5,1,1,1,1,4,1,2,3,2,3,1,1,1,1,1,2,1],\"end\":[\"BILL\",\"BABY-SITTER\",\"HELENA\",\"ZIEGLER\",\"SZABO\",\"NILL\",\"DOORMAN\",\"BABY-SITTER\",\"DRIVER\",\"ZIEGLER\",\"NICK\",\"GAYLE\",\"NUALA\",\" GAYLE\",\" NUALA\",\"BILL\",\"HARRIS\",\"HELENA\",\"MARION\",\"V.O.\",\"CARL\",\"DOMINO\",\"GIBSON\",\"CAB DRIVER\",\"GATEMAN 1\",\"SERVANTS\",\"SERVANT 1\",\"THE WOMAN\",\"ANOTHER WOMAN\",\"ELEGANT MAN\",\"CLEANING LADY\",\"MANAGERESS\",\"DESK CLERK\",\"SERVANT\",\"ARTY WOMANB\",\"ARTY WOMAN\",\"SALLY\",\"WAITRESS\",\"CLERK\",\"ORDERLY\",\"UNKNOWN\",\"HARRIS\",\"ZIEGLER\",\"audience\",\"MARION\",\"CARL\",\"DOMINO\",\"KIMONO1\",\" KIMONO2\",\"KIMONO2\",\"YOUNG GIRL\",\" YOUNG GIRL\",\"ANOTHER WOMAN\",\"TALL MAN\",\"ELEGANT MAN\",\"MANAGERESS\"],\"start\":[\"ALICE\",\"ALICE\",\"ALICE\",\"ALICE\",\"ALICE\",\"ALICE\",\"BILL\",\"BILL\",\"BILL\",\"BILL\",\"BILL\",\"BILL\",\"BILL\",\"BILL\",\"BILL\",\"BILL\",\"BILL\",\"BILL\",\"BILL\",\"BILL\",\"BILL\",\"BILL\",\"BILL\",\"BILL\",\"BILL\",\"BILL\",\"BILL\",\"BILL\",\"BILL\",\"BILL\",\"BILL\",\"BILL\",\"BILL\",\"BILL\",\"BILL\",\"BILL\",\"BILL\",\"BILL\",\"BILL\",\"BILL\",\"BILL\",\"ZIEGLER\",\"ZIEGLER\",\"V.O.\",\"NILL\",\"MARION\",\"DOMINO\",\"GIBSON\",\"GIBSON\",\"GIBSON\",\"GIBSON\",\"GIBSON\",\"THE WOMAN\",\"THE WOMAN\",\"THE WOMAN\",\"CLEANING LADY\"]},\"selected\":{\"id\":\"1072\"},\"selection_policy\":{\"id\":\"1073\"}},\"id\":\"1039\",\"type\":\"ColumnDataSource\"},{\"attributes\":{},\"id\":\"1010\",\"type\":\"LinearScale\"},{\"attributes\":{\"axis\":{\"id\":\"1018\"},\"dimension\":1,\"ticker\":null},\"id\":\"1021\",\"type\":\"Grid\"},{\"attributes\":{\"edge_renderer\":{\"id\":\"1040\"},\"inspection_policy\":{\"id\":\"1063\"},\"layout_provider\":{\"id\":\"1042\"},\"node_renderer\":{\"id\":\"1036\"},\"selection_policy\":{\"id\":\"1058\"}},\"id\":\"1033\",\"type\":\"GraphRenderer\"},{\"attributes\":{},\"id\":\"1070\",\"type\":\"Selection\"},{\"attributes\":{\"source\":{\"id\":\"1039\"}},\"id\":\"1041\",\"type\":\"CDSView\"},{\"attributes\":{\"formatter\":{\"id\":\"1069\"},\"major_label_policy\":{\"id\":\"1067\"},\"ticker\":{\"id\":\"1015\"}},\"id\":\"1014\",\"type\":\"LinearAxis\"},{\"attributes\":{\"graph_layout\":{\" GAYLE\":[2.3070345234424,-2.4246760456691616],\" KIMONO2\":[-3.032363360036868,9.495244218713102],\" NUALA\":[-0.687999750093985,0.9719156233860146],\" YOUNG GIRL\":[-1.9513319899676282,9.85896044238798],\"ALICE\":[-4.198866400626708,0.5369032118059985],\"ANOTHER WOMAN\":[-2.4986698284385507,-3.145416220447671],\"ARTY WOMAN\":[4.524288132359013,-2.552421418804109],\"ARTY WOMANB\":[0.6309517026206126,-2.9850445773244227],\"BABY-SITTER\":[-2.6886710690052182,-0.33056798336941456],\"BILL\":[0.6314639150627972,-0.7778889940898225],\"CAB DRIVER\":[2.1471312403570173,-3.9783526236484157],\"CARL\":[-2.678996138112057,-1.7022900482674101],\"CLEANING LADY\":[3.5619749886140437,-3.1141497900015884],\"CLERK\":[4.4889649777577665,1.1554764497926933],\"DESK CLERK\":[1.1263777592725257,-4.426799266126425],\"DOMINO\":[3.595375282052677,1.9362610904779516],\"DOORMAN\":[3.7016845673589165,-1.4709520143431283],\"DRIVER\":[4.800555817252134,-0.16555142610219278],\"ELEGANT MAN\":[-1.6558326094404734,-3.953297387727856],\"GATEMAN 1\":[2.763710665811178,2.665818744927086],\"GAYLE\":[0.6445459660190326,1.7812165816011107],\"GIBSON\":[-1.1900408458506522,6.599734279884758],\"HARRIS\":[-1.288064850925399,2.237517090980502],\"HELENA\":[-2.6456533042197754,0.6227465513605754],\"KIMONO1\":[-0.822609167526263,10.0],\"KIMONO2\":[-3.7763971229252165,8.524317699540429],\"MANAGERESS\":[3.370895030582228,-4.000668289459225],\"MARION\":[-3.9203405688934216,-1.2196350307083135],\"NICK\":[-0.5197404896399604,-3.8135781506939295],\"NILL\":[-6.581260885734377,-0.548473100747575],\"NUALA\":[0.2790208675191119,2.9769866190811483],\"ORDERLY\":[2.216739460475793,1.3250662745102115],\"SALLY\":[-1.1735569230658207,-2.0265728894244215],\"SERVANT\":[-0.0017277623098478775,-4.848890683684326],\"SERVANT 1\":[4.944280383172391,-1.3362156910292786],\"SERVANTS\":[2.6487566023478823,-0.4529155660744299],\"SZABO\":[-7.641627950700302,1.591591437964678],\"TALL MAN\":[-5.141638326620707,-7.300509692928562],\"THE WOMAN\":[-2.8380153443863883,-4.603373219771361],\"UNKNOWN\":[1.5833007191003092,2.871620842400768],\"V.O.\":[2.185493852640452,-5.9846231921356],\"WAITRESS\":[3.6502056819443114,0.37868704773544903],\"YOUNG GIRL\":[0.3018473414848742,9.479538666361334],\"ZIEGLER\":[-2.394511438244446,1.562856559414791],\"audience\":[3.223316649516584,-9.409596129747975]}},\"id\":\"1042\",\"type\":\"StaticLayoutProvider\"},{\"attributes\":{\"axis\":{\"id\":\"1014\"},\"ticker\":null},\"id\":\"1017\",\"type\":\"Grid\"},{\"attributes\":{\"data_source\":{\"id\":\"1039\"},\"glyph\":{\"id\":\"1048\"},\"hover_glyph\":null,\"muted_glyph\":null,\"view\":{\"id\":\"1041\"}},\"id\":\"1040\",\"type\":\"GlyphRenderer\"},{\"attributes\":{},\"id\":\"1067\",\"type\":\"AllLabels\"},{\"attributes\":{},\"id\":\"1071\",\"type\":\"UnionRenderers\"},{\"attributes\":{\"formatter\":{\"id\":\"1066\"},\"major_label_policy\":{\"id\":\"1064\"},\"ticker\":{\"id\":\"1019\"}},\"id\":\"1018\",\"type\":\"LinearAxis\"},{\"attributes\":{},\"id\":\"1015\",\"type\":\"BasicTicker\"},{\"attributes\":{\"fill_color\":{\"value\":\"skyblue\"},\"size\":{\"value\":15}},\"id\":\"1043\",\"type\":\"Circle\"},{\"attributes\":{},\"id\":\"1063\",\"type\":\"NodesOnly\"},{\"attributes\":{},\"id\":\"1066\",\"type\":\"BasicTickFormatter\"},{\"attributes\":{},\"id\":\"1064\",\"type\":\"AllLabels\"},{\"attributes\":{},\"id\":\"1072\",\"type\":\"Selection\"},{\"attributes\":{},\"id\":\"1073\",\"type\":\"UnionRenderers\"},{\"attributes\":{\"source\":{\"id\":\"1035\"}},\"id\":\"1037\",\"type\":\"CDSView\"}],\"root_ids\":[\"1005\"]},\"title\":\"Bokeh Application\",\"version\":\"2.3.3\"}};\n  var render_items = [{\"docid\":\"b948f3d3-de66-4315-b46b-570aa2f815a7\",\"root_ids\":[\"1005\"],\"roots\":{\"1005\":\"b9539f68-f854-4ca4-9396-127b3e344d67\"}}];\n  root.Bokeh.embed.embed_items_notebook(docs_json, render_items);\n\n  }\n  if (root.Bokeh !== undefined) {\n    embed_document(root);\n  } else {\n    var attempts = 0;\n    var timer = setInterval(function(root) {\n      if (root.Bokeh !== undefined) {\n        clearInterval(timer);\n        embed_document(root);\n      } else {\n        attempts++;\n        if (attempts > 100) {\n          clearInterval(timer);\n          console.log(\"Bokeh: ERROR: Unable to run BokehJS code because BokehJS library is missing\");\n        }\n      }\n    }, 10, root)\n  }\n})(window);",
      "application/vnd.bokehjs_exec.v0+json": ""
     },
     "metadata": {
      "application/vnd.bokehjs_exec.v0+json": {
       "id": "1005"
      }
     },
     "output_type": "display_data"
    },
    {
     "name": "stderr",
     "output_type": "stream",
     "text": [
      "C:\\Users\\crosi\\AppData\\Roaming\\Python\\Python310\\site-packages\\bokeh\\io\\saving.py:126: UserWarning: save() called but no resources were supplied and output_file(...) was never called, defaulting to resources.CDN\n",
      "  warn(\"save() called but no resources were supplied and output_file(...) was never called, defaulting to resources.CDN\")\n",
      "C:\\Users\\crosi\\AppData\\Roaming\\Python\\Python310\\site-packages\\bokeh\\io\\saving.py:139: UserWarning: save() called but no title was supplied and output_file(...) was never called, using default title 'Bokeh Plot'\n",
      "  warn(\"save() called but no title was supplied and output_file(...) was never called, using default title 'Bokeh Plot'\")\n"
     ]
    },
    {
     "data": {
      "text/plain": [
       "'c:\\\\Users\\\\crosi\\\\Documents\\\\GitHub\\\\metascript\\\\utils\\\\network_analysis\\\\Dream Story Network.html'"
      ]
     },
     "execution_count": 7,
     "metadata": {},
     "output_type": "execute_result"
    }
   ],
   "source": [
    "#Choose a title!\n",
    "title = 'Dream Story Network'\n",
    "\n",
    "#Establish which categories will appear when hovering over each node\n",
    "HOVER_TOOLTIPS = [(\"Character\", \"@index\")]\n",
    "\n",
    "#Create a plot — set dimensions, toolbar, and title\n",
    "plot = figure(tooltips = HOVER_TOOLTIPS,\n",
    "              tools=\"pan,wheel_zoom,save,reset\", active_scroll='wheel_zoom',\n",
    "            x_range=Range1d(-10.1, 10.1), y_range=Range1d(-10.1, 10.1), title=title)\n",
    "\n",
    "#Create a network graph object with spring layout\n",
    "# https://networkx.github.io/documentation/networkx-1.9/reference/generated/networkx.drawing.layout.spring_layout.html\n",
    "network_graph = from_networkx(G, networkx.spring_layout, scale=10, center=(0, 0))\n",
    "\n",
    "#Set node size and color\n",
    "network_graph.node_renderer.glyph = Circle(size=15, fill_color='skyblue')\n",
    "\n",
    "#Set edge opacity and width\n",
    "network_graph.edge_renderer.glyph = MultiLine(line_alpha=0.5, line_width=1)\n",
    "\n",
    "#Add network graph to the plot\n",
    "plot.renderers.append(network_graph)\n",
    "\n",
    "show(plot)\n",
    "save(plot, filename=f\"{title}.html\")"
   ]
  },
  {
   "cell_type": "code",
   "execution_count": 8,
   "metadata": {},
   "outputs": [],
   "source": [
    "from bokeh.io import output_notebook, show, save\n",
    "from bokeh.models import Range1d, Circle, ColumnDataSource, MultiLine\n",
    "from bokeh.plotting import figure\n",
    "from bokeh.plotting import from_networkx\n",
    "from bokeh.palettes import Blues8, Reds8, Purples8, Oranges8, Viridis8, Spectral8\n",
    "from bokeh.transform import linear_cmap"
   ]
  },
  {
   "cell_type": "code",
   "execution_count": 9,
   "metadata": {},
   "outputs": [],
   "source": [
    "degrees = dict(networkx.degree(G))\n",
    "networkx.set_node_attributes(G, name='degree', values=degrees)"
   ]
  },
  {
   "cell_type": "code",
   "execution_count": 10,
   "metadata": {},
   "outputs": [],
   "source": [
    "number_to_adjust_by = 5\n",
    "adjusted_node_size = dict([(node, degree+number_to_adjust_by) for node, degree in networkx.degree(G)])\n",
    "networkx.set_node_attributes(G, name='adjusted_node_size', values=adjusted_node_size)"
   ]
  },
  {
   "cell_type": "code",
   "execution_count": 11,
   "metadata": {},
   "outputs": [
    {
     "data": {
      "text/html": [
       "\n",
       "\n",
       "\n",
       "\n",
       "\n",
       "\n",
       "  <div class=\"bk-root\" id=\"6de7a187-9c87-4b0e-95b6-333da498013a\" data-root-id=\"1395\"></div>\n"
      ]
     },
     "metadata": {},
     "output_type": "display_data"
    },
    {
     "data": {
      "application/javascript": "(function(root) {\n  function embed_document(root) {\n    \n  var docs_json = {\"6bde1276-1269-4d55-838c-d301b6cf39e1\":{\"defs\":[],\"roots\":{\"references\":[{\"attributes\":{\"below\":[{\"id\":\"1404\"}],\"center\":[{\"id\":\"1407\"},{\"id\":\"1411\"}],\"left\":[{\"id\":\"1408\"}],\"renderers\":[{\"id\":\"1423\"}],\"title\":{\"id\":\"1396\"},\"toolbar\":{\"id\":\"1417\"},\"x_range\":{\"id\":\"1393\"},\"x_scale\":{\"id\":\"1400\"},\"y_range\":{\"id\":\"1394\"},\"y_scale\":{\"id\":\"1402\"}},\"id\":\"1395\",\"subtype\":\"Figure\",\"type\":\"Plot\"},{\"attributes\":{\"end\":10.1,\"start\":-10.1},\"id\":\"1393\",\"type\":\"Range1d\"},{\"attributes\":{},\"id\":\"1415\",\"type\":\"ResetTool\"},{\"attributes\":{\"data\":{\"adjusted_node_size\":[11,42,7,7,6,6,10,6,6,6,6,6,6,7,7,6,7,8,7,8,11,6,6,6,6,6,6,6,6,6,9,7,6,7,7,7,6,6,6,6,6,6,6,6,6],\"degree\":[6,37,2,2,1,1,5,1,1,1,1,1,1,2,2,1,2,3,2,3,6,1,1,1,1,1,1,1,1,1,4,2,1,2,2,2,1,1,1,1,1,1,1,1,1],\"index\":[\"ALICE\",\"BILL\",\"BABY-SITTER\",\"HELENA\",\"DOORMAN\",\"DRIVER\",\"ZIEGLER\",\"NICK\",\"SZABO\",\"GAYLE\",\"NUALA\",\" GAYLE\",\" NUALA\",\"HARRIS\",\"V.O.\",\"audience\",\"NILL\",\"MARION\",\"CARL\",\"DOMINO\",\"GIBSON\",\"KIMONO1\",\" KIMONO2\",\"KIMONO2\",\"YOUNG GIRL\",\" YOUNG GIRL\",\"CAB DRIVER\",\"GATEMAN 1\",\"SERVANTS\",\"SERVANT 1\",\"THE WOMAN\",\"ANOTHER WOMAN\",\"TALL MAN\",\"ELEGANT MAN\",\"CLEANING LADY\",\"MANAGERESS\",\"DESK CLERK\",\"SERVANT\",\"ARTY WOMANB\",\"ARTY WOMAN\",\"SALLY\",\"WAITRESS\",\"CLERK\",\"ORDERLY\",\"UNKNOWN\"]},\"selected\":{\"id\":\"1490\"},\"selection_policy\":{\"id\":\"1491\"}},\"id\":\"1425\",\"type\":\"ColumnDataSource\"},{\"attributes\":{},\"id\":\"1405\",\"type\":\"BasicTicker\"},{\"attributes\":{},\"id\":\"1414\",\"type\":\"SaveTool\"},{\"attributes\":{},\"id\":\"1402\",\"type\":\"LinearScale\"},{\"attributes\":{\"axis\":{\"id\":\"1404\"},\"ticker\":null},\"id\":\"1407\",\"type\":\"Grid\"},{\"attributes\":{},\"id\":\"1492\",\"type\":\"Selection\"},{\"attributes\":{\"source\":{\"id\":\"1429\"}},\"id\":\"1431\",\"type\":\"CDSView\"},{\"attributes\":{\"edge_renderer\":{\"id\":\"1430\"},\"inspection_policy\":{\"id\":\"1483\"},\"layout_provider\":{\"id\":\"1432\"},\"node_renderer\":{\"id\":\"1426\"},\"selection_policy\":{\"id\":\"1478\"}},\"id\":\"1423\",\"type\":\"GraphRenderer\"},{\"attributes\":{},\"id\":\"1486\",\"type\":\"BasicTickFormatter\"},{\"attributes\":{},\"id\":\"1487\",\"type\":\"AllLabels\"},{\"attributes\":{\"active_multi\":null,\"active_scroll\":{\"id\":\"1413\"},\"tools\":[{\"id\":\"1412\"},{\"id\":\"1413\"},{\"id\":\"1414\"},{\"id\":\"1415\"},{\"id\":\"1416\"}]},\"id\":\"1417\",\"type\":\"Toolbar\"},{\"attributes\":{\"data_source\":{\"id\":\"1429\"},\"glyph\":{\"id\":\"1447\"},\"hover_glyph\":null,\"muted_glyph\":null,\"view\":{\"id\":\"1431\"}},\"id\":\"1430\",\"type\":\"GlyphRenderer\"},{\"attributes\":{},\"id\":\"1478\",\"type\":\"NodesOnly\"},{\"attributes\":{},\"id\":\"1489\",\"type\":\"BasicTickFormatter\"},{\"attributes\":{},\"id\":\"1412\",\"type\":\"PanTool\"},{\"attributes\":{\"data\":{\"Interaction Count\":[80,1,4,2,23,1,3,1,2,38,51,5,6,2,1,6,4,1,19,12,4,31,32,4,8,1,1,8,1,9,1,3,11,1,1,4,4,2,5,1,1,1,1,4,1,2,3,2,3,1,1,1,1,1,2,1],\"end\":[\"BILL\",\"BABY-SITTER\",\"HELENA\",\"ZIEGLER\",\"SZABO\",\"NILL\",\"DOORMAN\",\"BABY-SITTER\",\"DRIVER\",\"ZIEGLER\",\"NICK\",\"GAYLE\",\"NUALA\",\" GAYLE\",\" NUALA\",\"BILL\",\"HARRIS\",\"HELENA\",\"MARION\",\"V.O.\",\"CARL\",\"DOMINO\",\"GIBSON\",\"CAB DRIVER\",\"GATEMAN 1\",\"SERVANTS\",\"SERVANT 1\",\"THE WOMAN\",\"ANOTHER WOMAN\",\"ELEGANT MAN\",\"CLEANING LADY\",\"MANAGERESS\",\"DESK CLERK\",\"SERVANT\",\"ARTY WOMANB\",\"ARTY WOMAN\",\"SALLY\",\"WAITRESS\",\"CLERK\",\"ORDERLY\",\"UNKNOWN\",\"HARRIS\",\"ZIEGLER\",\"audience\",\"MARION\",\"CARL\",\"DOMINO\",\"KIMONO1\",\" KIMONO2\",\"KIMONO2\",\"YOUNG GIRL\",\" YOUNG GIRL\",\"ANOTHER WOMAN\",\"TALL MAN\",\"ELEGANT MAN\",\"MANAGERESS\"],\"start\":[\"ALICE\",\"ALICE\",\"ALICE\",\"ALICE\",\"ALICE\",\"ALICE\",\"BILL\",\"BILL\",\"BILL\",\"BILL\",\"BILL\",\"BILL\",\"BILL\",\"BILL\",\"BILL\",\"BILL\",\"BILL\",\"BILL\",\"BILL\",\"BILL\",\"BILL\",\"BILL\",\"BILL\",\"BILL\",\"BILL\",\"BILL\",\"BILL\",\"BILL\",\"BILL\",\"BILL\",\"BILL\",\"BILL\",\"BILL\",\"BILL\",\"BILL\",\"BILL\",\"BILL\",\"BILL\",\"BILL\",\"BILL\",\"BILL\",\"ZIEGLER\",\"ZIEGLER\",\"V.O.\",\"NILL\",\"MARION\",\"DOMINO\",\"GIBSON\",\"GIBSON\",\"GIBSON\",\"GIBSON\",\"GIBSON\",\"THE WOMAN\",\"THE WOMAN\",\"THE WOMAN\",\"CLEANING LADY\"]},\"selected\":{\"id\":\"1492\"},\"selection_policy\":{\"id\":\"1493\"}},\"id\":\"1429\",\"type\":\"ColumnDataSource\"},{\"attributes\":{\"end\":10.1,\"start\":-10.1},\"id\":\"1394\",\"type\":\"Range1d\"},{\"attributes\":{\"data_source\":{\"id\":\"1425\"},\"glyph\":{\"id\":\"1442\"},\"hover_glyph\":null,\"muted_glyph\":null,\"view\":{\"id\":\"1427\"}},\"id\":\"1426\",\"type\":\"GlyphRenderer\"},{\"attributes\":{},\"id\":\"1483\",\"type\":\"NodesOnly\"},{\"attributes\":{},\"id\":\"1484\",\"type\":\"AllLabels\"},{\"attributes\":{\"fill_color\":{\"field\":\"adjusted_node_size\",\"transform\":{\"id\":\"1441\"}},\"size\":{\"field\":\"adjusted_node_size\"}},\"id\":\"1442\",\"type\":\"Circle\"},{\"attributes\":{},\"id\":\"1400\",\"type\":\"LinearScale\"},{\"attributes\":{},\"id\":\"1413\",\"type\":\"WheelZoomTool\"},{\"attributes\":{},\"id\":\"1491\",\"type\":\"UnionRenderers\"},{\"attributes\":{\"formatter\":{\"id\":\"1489\"},\"major_label_policy\":{\"id\":\"1487\"},\"ticker\":{\"id\":\"1405\"}},\"id\":\"1404\",\"type\":\"LinearAxis\"},{\"attributes\":{\"source\":{\"id\":\"1425\"}},\"id\":\"1427\",\"type\":\"CDSView\"},{\"attributes\":{\"line_alpha\":{\"value\":0.5}},\"id\":\"1447\",\"type\":\"MultiLine\"},{\"attributes\":{},\"id\":\"1493\",\"type\":\"UnionRenderers\"},{\"attributes\":{\"text\":\"Screenplay 1996 Network\"},\"id\":\"1396\",\"type\":\"Title\"},{\"attributes\":{\"graph_layout\":{\" GAYLE\":[-3.761369212514501,1.6826324860981134],\" KIMONO2\":[8.860207087001863,2.349473759534256],\" NUALA\":[-3.4739615296287907,-3.568615022786561],\" YOUNG GIRL\":[9.150117971793206,-1.75584983014],\"ALICE\":[-2.128146128271582,4.561278059583162],\"ANOTHER WOMAN\":[0.789203225106008,-3.4102640309190537],\"ARTY WOMAN\":[1.010960742003738,2.8897320103490856],\"ARTY WOMANB\":[-2.2045326663439884,-2.4380128706968662],\"BABY-SITTER\":[-1.3325862285581098,3.239851001426619],\"BILL\":[-0.9244113479173681,-0.3032678486666013],\"CAB DRIVER\":[-2.535978990230511,-3.907642003612498],\"CARL\":[-0.10673128574552741,2.773999295373707],\"CLEANING LADY\":[-1.512167295722247,-4.456718200502621],\"CLERK\":[-5.064983699343734,-0.6917168338068936],\"DESK CLERK\":[2.3624636509067165,-1.9585100015401233],\"DOMINO\":[-4.709953681093758,0.818529649983696],\"DOORMAN\":[-4.267233139869822,-2.84007436385544],\"DRIVER\":[-3.4821670432807954,-1.8816276523026838],\"ELEGANT MAN\":[1.7612731763198248,-3.082175068986247],\"GATEMAN 1\":[1.1597393651103918,-1.1001703917431676],\"GAYLE\":[-2.99387170122382,-0.5098352054234164],\"GIBSON\":[6.542239107412572,0.16297909927497684],\"HARRIS\":[-2.3049217836041884,1.4227396322202899],\"HELENA\":[-2.962952001851674,3.1554118078963915],\"KIMONO1\":[10.0,0.35388498762632403],\"KIMONO2\":[9.554889845806482,1.392443824797935],\"MANAGERESS\":[-1.2052523878830643,-3.555242944660249],\"MARION\":[-0.3948767961148922,4.191618728089016],\"NICK\":[2.618623539163977,-0.7990039545709235],\"NILL\":[-1.0899535818313895,6.897336692076832],\"NUALA\":[-0.25982189458510974,-2.2872317424285726],\"ORDERLY\":[-4.7476890195702115,-1.7902996806953624],\"SALLY\":[2.3298105990921725,0.24464350273475166],\"SERVANT\":[-4.117893710147211,-0.06769280755854501],\"SERVANT 1\":[0.7166262059589434,1.0529980693414138],\"SERVANTS\":[2.4071212527714727,1.3002199512675645],\"SZABO\":[-3.332073190918727,7.895178011542217],\"TALL MAN\":[3.087690360996426,-7.717406501106907],\"THE WOMAN\":[1.603777242403668,-4.601521445374199],\"UNKNOWN\":[-0.163070976849289,-4.176587048668761],\"V.O.\":[-5.525524916985113,2.3436716257675956],\"WAITRESS\":[1.794940175117465,2.1816799077235367],\"YOUNG GIRL\":[9.591643464280878,-0.6671949317401731],\"ZIEGLER\":[-2.156765196698954,2.6027265062014204],\"audience\":[-8.582437604461413,4.053631772876981]}},\"id\":\"1432\",\"type\":\"StaticLayoutProvider\"},{\"attributes\":{\"callback\":null,\"tooltips\":[[\"Character\",\"@index\"],[\"Interactions\",\"@degree\"]]},\"id\":\"1416\",\"type\":\"HoverTool\"},{\"attributes\":{},\"id\":\"1490\",\"type\":\"Selection\"},{\"attributes\":{\"high\":42,\"low\":6,\"palette\":[\"#084594\",\"#2171b5\",\"#4292c6\",\"#6baed6\",\"#9ecae1\",\"#c6dbef\",\"#deebf7\",\"#f7fbff\"]},\"id\":\"1441\",\"type\":\"LinearColorMapper\"},{\"attributes\":{\"formatter\":{\"id\":\"1486\"},\"major_label_policy\":{\"id\":\"1484\"},\"ticker\":{\"id\":\"1409\"}},\"id\":\"1408\",\"type\":\"LinearAxis\"},{\"attributes\":{\"axis\":{\"id\":\"1408\"},\"dimension\":1,\"ticker\":null},\"id\":\"1411\",\"type\":\"Grid\"},{\"attributes\":{},\"id\":\"1409\",\"type\":\"BasicTicker\"}],\"root_ids\":[\"1395\"]},\"title\":\"Bokeh Application\",\"version\":\"2.3.3\"}};\n  var render_items = [{\"docid\":\"6bde1276-1269-4d55-838c-d301b6cf39e1\",\"root_ids\":[\"1395\"],\"roots\":{\"1395\":\"6de7a187-9c87-4b0e-95b6-333da498013a\"}}];\n  root.Bokeh.embed.embed_items_notebook(docs_json, render_items);\n\n  }\n  if (root.Bokeh !== undefined) {\n    embed_document(root);\n  } else {\n    var attempts = 0;\n    var timer = setInterval(function(root) {\n      if (root.Bokeh !== undefined) {\n        clearInterval(timer);\n        embed_document(root);\n      } else {\n        attempts++;\n        if (attempts > 100) {\n          clearInterval(timer);\n          console.log(\"Bokeh: ERROR: Unable to run BokehJS code because BokehJS library is missing\");\n        }\n      }\n    }, 10, root)\n  }\n})(window);",
      "application/vnd.bokehjs_exec.v0+json": ""
     },
     "metadata": {
      "application/vnd.bokehjs_exec.v0+json": {
       "id": "1395"
      }
     },
     "output_type": "display_data"
    }
   ],
   "source": [
    "#Choose attributes from G network to size and color by — setting manual size (e.g. 10) or color (e.g. 'skyblue') also allowed\n",
    "size_by_this_attribute = 'adjusted_node_size'\n",
    "color_by_this_attribute = 'adjusted_node_size'\n",
    "\n",
    "#Pick a color palette — Blues8, Reds8, Purples8, Oranges8, Viridis8\n",
    "color_palette = Blues8\n",
    "\n",
    "#Choose a title!\n",
    "title = 'Screenplay 1996 Network'\n",
    "\n",
    "#Establish which categories will appear when hovering over each node\n",
    "HOVER_TOOLTIPS = [\n",
    "       (\"Character\", \"@index\"),\n",
    "        (\"Interactions\", \"@degree\")\n",
    "]\n",
    "\n",
    "#Create a plot — set dimensions, toolbar, and title\n",
    "plot = figure(tooltips = HOVER_TOOLTIPS,\n",
    "              tools=\"pan,wheel_zoom,save,reset\", active_scroll='wheel_zoom',\n",
    "            x_range=Range1d(-10.1, 10.1), y_range=Range1d(-10.1, 10.1), title=title)\n",
    "\n",
    "#Create a network graph object\n",
    "# https://networkx.github.io/documentation/networkx-1.9/reference/generated/networkx.drawing.layout.spring_layout.html\\\n",
    "network_graph = from_networkx(G, networkx.spring_layout, scale=10, center=(0, 0))\n",
    "\n",
    "#Set node sizes and colors according to node degree (color as spectrum of color palette)\n",
    "minimum_value_color = min(network_graph.node_renderer.data_source.data[color_by_this_attribute])\n",
    "maximum_value_color = max(network_graph.node_renderer.data_source.data[color_by_this_attribute])\n",
    "network_graph.node_renderer.glyph = Circle(size=size_by_this_attribute, fill_color=linear_cmap(color_by_this_attribute, color_palette, minimum_value_color, maximum_value_color))\n",
    "\n",
    "#Set edge opacity and width\n",
    "network_graph.edge_renderer.glyph = MultiLine(line_alpha=0.5, line_width=1)\n",
    "\n",
    "plot.renderers.append(network_graph)\n",
    "\n",
    "show(plot)\n",
    "#save(plot, filename=f\"{title}.html\")"
   ]
  },
  {
   "cell_type": "code",
   "execution_count": 12,
   "metadata": {},
   "outputs": [],
   "source": [
    "from bokeh.io import output_notebook, show, save\n",
    "from bokeh.models import Range1d, Circle, ColumnDataSource, MultiLine\n",
    "from bokeh.plotting import figure\n",
    "from bokeh.plotting import from_networkx\n",
    "from bokeh.palettes import Blues8, Reds8, Purples8, Oranges8, Viridis8, Spectral8\n",
    "from bokeh.transform import linear_cmap\n",
    "from networkx.algorithms import community"
   ]
  },
  {
   "cell_type": "code",
   "execution_count": 13,
   "metadata": {},
   "outputs": [],
   "source": [
    "degrees = dict(networkx.degree(G))\n",
    "networkx.set_node_attributes(G, name='degree', values=degrees)"
   ]
  },
  {
   "cell_type": "code",
   "execution_count": 14,
   "metadata": {},
   "outputs": [],
   "source": [
    "number_to_adjust_by = 5\n",
    "adjusted_node_size = dict([(node, degree+number_to_adjust_by) for node, degree in networkx.degree(G)])\n",
    "networkx.set_node_attributes(G, name='adjusted_node_size', values=adjusted_node_size)"
   ]
  },
  {
   "cell_type": "code",
   "execution_count": 15,
   "metadata": {},
   "outputs": [],
   "source": [
    "communities = community.greedy_modularity_communities(G)"
   ]
  },
  {
   "cell_type": "code",
   "execution_count": 16,
   "metadata": {},
   "outputs": [],
   "source": [
    "# Create empty dictionaries\n",
    "modularity_class = {}\n",
    "modularity_color = {}\n",
    "#Loop through each community in the network\n",
    "for community_number, community in enumerate(communities):\n",
    "    #For each member of the community, add their community number and a distinct color\n",
    "    for name in community: \n",
    "        modularity_class[name] = community_number\n",
    "        modularity_color[name] = Spectral8[community_number]"
   ]
  },
  {
   "cell_type": "code",
   "execution_count": 17,
   "metadata": {},
   "outputs": [],
   "source": [
    "# Add modularity class and color as attributes from the network above\n",
    "networkx.set_node_attributes(G, modularity_class, 'modularity_class')\n",
    "networkx.set_node_attributes(G, modularity_color, 'modularity_color')"
   ]
  },
  {
   "cell_type": "code",
   "execution_count": 18,
   "metadata": {},
   "outputs": [
    {
     "data": {
      "text/html": [
       "\n",
       "\n",
       "\n",
       "\n",
       "\n",
       "\n",
       "  <div class=\"bk-root\" id=\"2e9a2e2c-d6e8-4258-aceb-5754458df0ac\" data-root-id=\"1613\"></div>\n"
      ]
     },
     "metadata": {},
     "output_type": "display_data"
    },
    {
     "data": {
      "application/javascript": "(function(root) {\n  function embed_document(root) {\n    \n  var docs_json = {\"3a91777c-2c86-46c5-96d8-e1a4b315517b\":{\"defs\":[],\"roots\":{\"references\":[{\"attributes\":{\"below\":[{\"id\":\"1622\"}],\"center\":[{\"id\":\"1625\"},{\"id\":\"1629\"}],\"left\":[{\"id\":\"1626\"}],\"renderers\":[{\"id\":\"1643\"}],\"title\":{\"id\":\"1614\"},\"toolbar\":{\"id\":\"1636\"},\"x_range\":{\"id\":\"1611\"},\"x_scale\":{\"id\":\"1618\"},\"y_range\":{\"id\":\"1612\"},\"y_scale\":{\"id\":\"1620\"}},\"id\":\"1613\",\"subtype\":\"Figure\",\"type\":\"Plot\"},{\"attributes\":{},\"id\":\"1724\",\"type\":\"Selection\"},{\"attributes\":{\"callback\":null},\"id\":\"1634\",\"type\":\"TapTool\"},{\"attributes\":{},\"id\":\"1725\",\"type\":\"UnionRenderers\"},{\"attributes\":{\"edge_renderer\":{\"id\":\"1650\"},\"inspection_policy\":{\"id\":\"1715\"},\"layout_provider\":{\"id\":\"1652\"},\"node_renderer\":{\"id\":\"1646\"},\"selection_policy\":{\"id\":\"1710\"}},\"id\":\"1643\",\"type\":\"GraphRenderer\"},{\"attributes\":{},\"id\":\"1632\",\"type\":\"SaveTool\"},{\"attributes\":{},\"id\":\"1633\",\"type\":\"ResetTool\"},{\"attributes\":{\"formatter\":{\"id\":\"1721\"},\"major_label_policy\":{\"id\":\"1719\"},\"ticker\":{\"id\":\"1623\"}},\"id\":\"1622\",\"type\":\"LinearAxis\"},{\"attributes\":{},\"id\":\"1710\",\"type\":\"NodesOnly\"},{\"attributes\":{\"formatter\":{\"id\":\"1718\"},\"major_label_policy\":{\"id\":\"1716\"},\"ticker\":{\"id\":\"1627\"}},\"id\":\"1626\",\"type\":\"LinearAxis\"},{\"attributes\":{\"source\":{\"id\":\"1645\"}},\"id\":\"1647\",\"type\":\"CDSView\"},{\"attributes\":{\"data\":{\"Interaction Count\":[80,1,4,2,23,1,3,1,2,38,51,5,6,2,1,6,4,1,19,12,4,31,32,4,8,1,1,8,1,9,1,3,11,1,1,4,4,2,5,1,1,1,1,4,1,2,3,2,3,1,1,1,1,1,2,1],\"end\":[\"BILL\",\"BABY-SITTER\",\"HELENA\",\"ZIEGLER\",\"SZABO\",\"NILL\",\"DOORMAN\",\"BABY-SITTER\",\"DRIVER\",\"ZIEGLER\",\"NICK\",\"GAYLE\",\"NUALA\",\" GAYLE\",\" NUALA\",\"BILL\",\"HARRIS\",\"HELENA\",\"MARION\",\"V.O.\",\"CARL\",\"DOMINO\",\"GIBSON\",\"CAB DRIVER\",\"GATEMAN 1\",\"SERVANTS\",\"SERVANT 1\",\"THE WOMAN\",\"ANOTHER WOMAN\",\"ELEGANT MAN\",\"CLEANING LADY\",\"MANAGERESS\",\"DESK CLERK\",\"SERVANT\",\"ARTY WOMANB\",\"ARTY WOMAN\",\"SALLY\",\"WAITRESS\",\"CLERK\",\"ORDERLY\",\"UNKNOWN\",\"HARRIS\",\"ZIEGLER\",\"audience\",\"MARION\",\"CARL\",\"DOMINO\",\"KIMONO1\",\" KIMONO2\",\"KIMONO2\",\"YOUNG GIRL\",\" YOUNG GIRL\",\"ANOTHER WOMAN\",\"TALL MAN\",\"ELEGANT MAN\",\"MANAGERESS\"],\"start\":[\"ALICE\",\"ALICE\",\"ALICE\",\"ALICE\",\"ALICE\",\"ALICE\",\"BILL\",\"BILL\",\"BILL\",\"BILL\",\"BILL\",\"BILL\",\"BILL\",\"BILL\",\"BILL\",\"BILL\",\"BILL\",\"BILL\",\"BILL\",\"BILL\",\"BILL\",\"BILL\",\"BILL\",\"BILL\",\"BILL\",\"BILL\",\"BILL\",\"BILL\",\"BILL\",\"BILL\",\"BILL\",\"BILL\",\"BILL\",\"BILL\",\"BILL\",\"BILL\",\"BILL\",\"BILL\",\"BILL\",\"BILL\",\"BILL\",\"ZIEGLER\",\"ZIEGLER\",\"V.O.\",\"NILL\",\"MARION\",\"DOMINO\",\"GIBSON\",\"GIBSON\",\"GIBSON\",\"GIBSON\",\"GIBSON\",\"THE WOMAN\",\"THE WOMAN\",\"THE WOMAN\",\"CLEANING LADY\"]},\"selected\":{\"id\":\"1724\"},\"selection_policy\":{\"id\":\"1725\"}},\"id\":\"1649\",\"type\":\"ColumnDataSource\"},{\"attributes\":{\"data_source\":{\"id\":\"1649\"},\"glyph\":{\"id\":\"1658\"},\"hover_glyph\":null,\"muted_glyph\":null,\"view\":{\"id\":\"1651\"}},\"id\":\"1650\",\"type\":\"GlyphRenderer\"},{\"attributes\":{\"data_source\":{\"id\":\"1645\"},\"glyph\":{\"id\":\"1653\"},\"hover_glyph\":null,\"muted_glyph\":null,\"view\":{\"id\":\"1647\"}},\"id\":\"1646\",\"type\":\"GlyphRenderer\"},{\"attributes\":{\"fill_color\":{\"field\":\"modularity_color\"},\"size\":{\"field\":\"adjusted_node_size\"}},\"id\":\"1653\",\"type\":\"Circle\"},{\"attributes\":{},\"id\":\"1715\",\"type\":\"NodesOnly\"},{\"attributes\":{},\"id\":\"1716\",\"type\":\"AllLabels\"},{\"attributes\":{\"end\":10.1,\"start\":-10.1},\"id\":\"1612\",\"type\":\"Range1d\"},{\"attributes\":{\"line_alpha\":{\"value\":0.5}},\"id\":\"1658\",\"type\":\"MultiLine\"},{\"attributes\":{\"axis\":{\"id\":\"1622\"},\"ticker\":null},\"id\":\"1625\",\"type\":\"Grid\"},{\"attributes\":{},\"id\":\"1718\",\"type\":\"BasicTickFormatter\"},{\"attributes\":{},\"id\":\"1719\",\"type\":\"AllLabels\"},{\"attributes\":{},\"id\":\"1631\",\"type\":\"WheelZoomTool\"},{\"attributes\":{},\"id\":\"1722\",\"type\":\"Selection\"},{\"attributes\":{},\"id\":\"1630\",\"type\":\"PanTool\"},{\"attributes\":{\"active_multi\":null,\"active_scroll\":{\"id\":\"1631\"},\"tools\":[{\"id\":\"1630\"},{\"id\":\"1631\"},{\"id\":\"1632\"},{\"id\":\"1633\"},{\"id\":\"1634\"},{\"id\":\"1635\"}]},\"id\":\"1636\",\"type\":\"Toolbar\"},{\"attributes\":{\"end\":10.1,\"start\":-10.1},\"id\":\"1611\",\"type\":\"Range1d\"},{\"attributes\":{},\"id\":\"1723\",\"type\":\"UnionRenderers\"},{\"attributes\":{},\"id\":\"1618\",\"type\":\"LinearScale\"},{\"attributes\":{},\"id\":\"1721\",\"type\":\"BasicTickFormatter\"},{\"attributes\":{\"graph_layout\":{\" GAYLE\":[0.23145336149841395,3.1123989961476206],\" KIMONO2\":[-2.339096663167919,9.71350813834296],\" NUALA\":[0.9154188608581802,-3.0186977170192657],\" YOUNG GIRL\":[-0.142559118084336,9.436454402737287],\"ALICE\":[-4.004075969726691,-3.198326979169093],\"ANOTHER WOMAN\":[2.36248534654748,-3.645155599539583],\"ARTY WOMAN\":[2.4547535039660713,0.8823417534248433],\"ARTY WOMANB\":[2.24048476405011,-1.7323365788988045],\"BABY-SITTER\":[-2.6296254139538955,-1.4950345126588427],\"BILL\":[0.2593756889692576,-0.6218533013225248],\"CAB DRIVER\":[-1.5355296202795188,-3.5088557585336946],\"CARL\":[-0.963756340274725,-4.411141402776426],\"CLEANING LADY\":[1.5521802084423366,1.9991645015738007],\"CLERK\":[3.5545768441934498,1.7759154630665153],\"DESK CLERK\":[2.72652627882334,2.6178289428200694],\"DOMINO\":[2.9953397800430954,-0.32220843202915295],\"DOORMAN\":[1.3464652918672395,-4.290849683234741],\"DRIVER\":[-1.6411253938295745,0.40144329605431295],\"ELEGANT MAN\":[3.252844449392005,-3.1014279708773858],\"GATEMAN 1\":[-1.6817756843535412,2.091960519105222],\"GAYLE\":[3.6437746424235113,-1.6110870347936974],\"GIBSON\":[-1.553426146667608,6.579832830010605],\"HARRIS\":[-0.7731528541965543,-2.4388940681201206],\"HELENA\":[-3.8721943304474205,-1.3050767168902477],\"KIMONO1\":[-3.413145597514269,9.438470936303862],\"KIMONO2\":[-1.253545356759303,10.0],\"MANAGERESS\":[1.451810681817963,2.988707621221004],\"MARION\":[-2.4803777463943777,-4.446404867885097],\"NICK\":[-3.202608981629358,-2.0118943377741587],\"NILL\":[-4.901973614280235,-5.809478783402628],\"NUALA\":[-3.5756778302820997,0.14270843911941347],\"ORDERLY\":[-2.7974448570650203,1.9669359508103932],\"SALLY\":[4.290210781962778,-0.43711162332961456],\"SERVANT\":[0.0788648903423426,1.4968075965348444],\"SERVANT 1\":[-2.9306011913779986,0.9012806062958433],\"SERVANTS\":[-0.8965191669637829,2.774215748964089],\"SZABO\":[-7.203718055561907,-4.78744354191661],\"TALL MAN\":[5.28865459488996,-7.576026455772212],\"THE WOMAN\":[3.305134474245852,-4.6142226050317205],\"UNKNOWN\":[0.302643993636875,-4.5713081801151985],\"V.O.\":[5.268341633307045,-2.35040722527832],\"WAITRESS\":[4.059381230610425,0.7555679012413256],\"YOUNG GIRL\":[-4.155719314500246,8.442603075384644],\"ZIEGLER\":[-2.173134778629105,-2.6383409988210897],\"audience\":[8.540062724051735,-3.574562343968447]}},\"id\":\"1652\",\"type\":\"StaticLayoutProvider\"},{\"attributes\":{},\"id\":\"1623\",\"type\":\"BasicTicker\"},{\"attributes\":{},\"id\":\"1627\",\"type\":\"BasicTicker\"},{\"attributes\":{\"data\":{\"adjusted_node_size\":[11,42,7,7,6,6,10,6,6,6,6,6,6,7,7,6,7,8,7,8,11,6,6,6,6,6,6,6,6,6,9,7,6,7,7,7,6,6,6,6,6,6,6,6,6],\"degree\":[6,37,2,2,1,1,5,1,1,1,1,1,1,2,2,1,2,3,2,3,6,1,1,1,1,1,1,1,1,1,4,2,1,2,2,2,1,1,1,1,1,1,1,1,1],\"index\":[\"ALICE\",\"BILL\",\"BABY-SITTER\",\"HELENA\",\"DOORMAN\",\"DRIVER\",\"ZIEGLER\",\"NICK\",\"SZABO\",\"GAYLE\",\"NUALA\",\" GAYLE\",\" NUALA\",\"HARRIS\",\"V.O.\",\"audience\",\"NILL\",\"MARION\",\"CARL\",\"DOMINO\",\"GIBSON\",\"KIMONO1\",\" KIMONO2\",\"KIMONO2\",\"YOUNG GIRL\",\" YOUNG GIRL\",\"CAB DRIVER\",\"GATEMAN 1\",\"SERVANTS\",\"SERVANT 1\",\"THE WOMAN\",\"ANOTHER WOMAN\",\"TALL MAN\",\"ELEGANT MAN\",\"CLEANING LADY\",\"MANAGERESS\",\"DESK CLERK\",\"SERVANT\",\"ARTY WOMANB\",\"ARTY WOMAN\",\"SALLY\",\"WAITRESS\",\"CLERK\",\"ORDERLY\",\"UNKNOWN\"],\"modularity_class\":[1,0,1,1,0,0,1,0,1,0,0,0,0,1,5,5,4,4,4,6,2,2,2,2,2,2,0,0,0,0,3,3,3,3,0,0,0,0,0,0,0,0,0,0,0],\"modularity_color\":[\"#66c2a5\",\"#3288bd\",\"#66c2a5\",\"#66c2a5\",\"#3288bd\",\"#3288bd\",\"#66c2a5\",\"#3288bd\",\"#66c2a5\",\"#3288bd\",\"#3288bd\",\"#3288bd\",\"#3288bd\",\"#66c2a5\",\"#fdae61\",\"#fdae61\",\"#fee08b\",\"#fee08b\",\"#fee08b\",\"#f46d43\",\"#abdda4\",\"#abdda4\",\"#abdda4\",\"#abdda4\",\"#abdda4\",\"#abdda4\",\"#3288bd\",\"#3288bd\",\"#3288bd\",\"#3288bd\",\"#e6f598\",\"#e6f598\",\"#e6f598\",\"#e6f598\",\"#3288bd\",\"#3288bd\",\"#3288bd\",\"#3288bd\",\"#3288bd\",\"#3288bd\",\"#3288bd\",\"#3288bd\",\"#3288bd\",\"#3288bd\",\"#3288bd\"]},\"selected\":{\"id\":\"1722\"},\"selection_policy\":{\"id\":\"1723\"}},\"id\":\"1645\",\"type\":\"ColumnDataSource\"},{\"attributes\":{\"text\":\"Screenplay 1996 Network\"},\"id\":\"1614\",\"type\":\"Title\"},{\"attributes\":{\"source\":{\"id\":\"1649\"}},\"id\":\"1651\",\"type\":\"CDSView\"},{\"attributes\":{\"axis\":{\"id\":\"1626\"},\"dimension\":1,\"ticker\":null},\"id\":\"1629\",\"type\":\"Grid\"},{\"attributes\":{\"callback\":null,\"tooltips\":[[\"Character\",\"@index\"],[\"Interactions\",\"@degree\"],[\"Modularity Class\",\"@modularity_class\"],[\"Modularity Color\",\"$color[swatch]:modularity_color\"]]},\"id\":\"1635\",\"type\":\"HoverTool\"},{\"attributes\":{},\"id\":\"1620\",\"type\":\"LinearScale\"}],\"root_ids\":[\"1613\"]},\"title\":\"Bokeh Application\",\"version\":\"2.3.3\"}};\n  var render_items = [{\"docid\":\"3a91777c-2c86-46c5-96d8-e1a4b315517b\",\"root_ids\":[\"1613\"],\"roots\":{\"1613\":\"2e9a2e2c-d6e8-4258-aceb-5754458df0ac\"}}];\n  root.Bokeh.embed.embed_items_notebook(docs_json, render_items);\n\n  }\n  if (root.Bokeh !== undefined) {\n    embed_document(root);\n  } else {\n    var attempts = 0;\n    var timer = setInterval(function(root) {\n      if (root.Bokeh !== undefined) {\n        clearInterval(timer);\n        embed_document(root);\n      } else {\n        attempts++;\n        if (attempts > 100) {\n          clearInterval(timer);\n          console.log(\"Bokeh: ERROR: Unable to run BokehJS code because BokehJS library is missing\");\n        }\n      }\n    }, 10, root)\n  }\n})(window);",
      "application/vnd.bokehjs_exec.v0+json": ""
     },
     "metadata": {
      "application/vnd.bokehjs_exec.v0+json": {
       "id": "1613"
      }
     },
     "output_type": "display_data"
    }
   ],
   "source": [
    "#Choose attributes from G network to size and color by — setting manual size (e.g. 10) or color (e.g. 'skyblue') also allowed\n",
    "size_by_this_attribute = 'adjusted_node_size'\n",
    "color_by_this_attribute = 'modularity_color'\n",
    "#Pick a color palette — Blues8, Reds8, Purples8, Oranges8, Viridis8\n",
    "color_palette = Blues8\n",
    "#Choose a title!\n",
    "title = 'Screenplay 1996 Network'\n",
    "\n",
    "#Establish which categories will appear when hovering over each node\n",
    "HOVER_TOOLTIPS = [\n",
    "       (\"Character\", \"@index\"),\n",
    "        (\"Interactions\", \"@degree\"),\n",
    "         (\"Modularity Class\", \"@modularity_class\"),\n",
    "        (\"Modularity Color\", \"$color[swatch]:modularity_color\"),\n",
    "]\n",
    "\n",
    "#Create a plot — set dimensions, toolbar, and title\n",
    "plot = figure(tooltips = HOVER_TOOLTIPS,\n",
    "              tools=\"pan,wheel_zoom,save,reset, tap\", active_scroll='wheel_zoom',\n",
    "            x_range=Range1d(-10.1, 10.1), y_range=Range1d(-10.1, 10.1), title=title)\n",
    "\n",
    "#Create a network graph object\n",
    "# https://networkx.github.io/documentation/networkx-1.9/reference/generated/networkx.drawing.layout.spring_layout.html\n",
    "network_graph = from_networkx(G, networkx.spring_layout, scale=10, center=(0, 0))\n",
    "\n",
    "#Set node sizes and colors according to node degree (color as category from attribute)\n",
    "network_graph.node_renderer.glyph = Circle(size=size_by_this_attribute, fill_color=color_by_this_attribute)\n",
    "\n",
    "#Set edge opacity and width\n",
    "network_graph.edge_renderer.glyph = MultiLine(line_alpha=0.5, line_width=1)\n",
    "\n",
    "plot.renderers.append(network_graph)\n",
    "\n",
    "show(plot)\n",
    "#save(plot, filename=f\"{title}.html\")"
   ]
  },
  {
   "cell_type": "code",
   "execution_count": 19,
   "metadata": {},
   "outputs": [],
   "source": [
    "from bokeh.io import output_notebook, show, save\n",
    "from bokeh.models import Range1d, Circle, ColumnDataSource, MultiLine, EdgesAndLinkedNodes, NodesAndLinkedEdges, LabelSet\n",
    "from bokeh.plotting import figure\n",
    "from bokeh.plotting import from_networkx\n",
    "from bokeh.palettes import Blues8, Reds8, Purples8, Oranges8, Viridis8, Spectral8\n",
    "from bokeh.transform import linear_cmap\n",
    "from networkx.algorithms import community"
   ]
  },
  {
   "cell_type": "code",
   "execution_count": 20,
   "metadata": {},
   "outputs": [],
   "source": [
    "degrees = dict(networkx.degree(G))\n",
    "networkx.set_node_attributes(G, name='degree', values=degrees)"
   ]
  },
  {
   "cell_type": "code",
   "execution_count": 21,
   "metadata": {},
   "outputs": [],
   "source": [
    "number_to_adjust_by = 5\n",
    "adjusted_node_size = dict([(node, degree+number_to_adjust_by) for node, degree in networkx.degree(G)])\n",
    "networkx.set_node_attributes(G, name='adjusted_node_size', values=adjusted_node_size)"
   ]
  },
  {
   "cell_type": "code",
   "execution_count": 22,
   "metadata": {},
   "outputs": [],
   "source": [
    "communities = community.greedy_modularity_communities(G)"
   ]
  },
  {
   "cell_type": "code",
   "execution_count": 23,
   "metadata": {},
   "outputs": [
    {
     "data": {
      "text/html": [
       "\n",
       "\n",
       "\n",
       "\n",
       "\n",
       "\n",
       "  <div class=\"bk-root\" id=\"bf5654ce-e9d3-4f28-b3ad-31b37ed5a581\" data-root-id=\"1845\"></div>\n"
      ]
     },
     "metadata": {},
     "output_type": "display_data"
    },
    {
     "data": {
      "application/javascript": "(function(root) {\n  function embed_document(root) {\n    \n  var docs_json = {\"85c21dad-c451-4c13-a2b0-91c81274760f\":{\"defs\":[],\"roots\":{\"references\":[{\"attributes\":{\"below\":[{\"id\":\"1854\"}],\"center\":[{\"id\":\"1857\"},{\"id\":\"1861\"}],\"left\":[{\"id\":\"1858\"}],\"renderers\":[{\"id\":\"1873\"},{\"id\":\"1918\"}],\"title\":{\"id\":\"1846\"},\"toolbar\":{\"id\":\"1867\"},\"x_range\":{\"id\":\"1843\"},\"x_scale\":{\"id\":\"1850\"},\"y_range\":{\"id\":\"1844\"},\"y_scale\":{\"id\":\"1852\"}},\"id\":\"1845\",\"subtype\":\"Figure\",\"type\":\"Plot\"},{\"attributes\":{},\"id\":\"1997\",\"type\":\"BasicTickFormatter\"},{\"attributes\":{\"edge_renderer\":{\"id\":\"1880\"},\"inspection_policy\":{\"id\":\"1915\"},\"layout_provider\":{\"id\":\"1882\"},\"node_renderer\":{\"id\":\"1876\"},\"selection_policy\":{\"id\":\"1913\"}},\"id\":\"1873\",\"type\":\"GraphRenderer\"},{\"attributes\":{\"line_alpha\":{\"value\":0.3}},\"id\":\"1898\",\"type\":\"MultiLine\"},{\"attributes\":{\"end\":10.1,\"start\":-10.1},\"id\":\"1844\",\"type\":\"Range1d\"},{\"attributes\":{\"text\":\"Screenplay 1996 Network\"},\"id\":\"1846\",\"type\":\"Title\"},{\"attributes\":{},\"id\":\"2000\",\"type\":\"Selection\"},{\"attributes\":{\"data\":{\"adjusted_node_size\":[11,42,7,7,6,6,10,6,6,6,6,6,6,7,7,6,7,8,7,8,11,6,6,6,6,6,6,6,6,6,9,7,6,7,7,7,6,6,6,6,6,6,6,6,6],\"degree\":[6,37,2,2,1,1,5,1,1,1,1,1,1,2,2,1,2,3,2,3,6,1,1,1,1,1,1,1,1,1,4,2,1,2,2,2,1,1,1,1,1,1,1,1,1],\"index\":[\"ALICE\",\"BILL\",\"BABY-SITTER\",\"HELENA\",\"DOORMAN\",\"DRIVER\",\"ZIEGLER\",\"NICK\",\"SZABO\",\"GAYLE\",\"NUALA\",\" GAYLE\",\" NUALA\",\"HARRIS\",\"V.O.\",\"audience\",\"NILL\",\"MARION\",\"CARL\",\"DOMINO\",\"GIBSON\",\"KIMONO1\",\" KIMONO2\",\"KIMONO2\",\"YOUNG GIRL\",\" YOUNG GIRL\",\"CAB DRIVER\",\"GATEMAN 1\",\"SERVANTS\",\"SERVANT 1\",\"THE WOMAN\",\"ANOTHER WOMAN\",\"TALL MAN\",\"ELEGANT MAN\",\"CLEANING LADY\",\"MANAGERESS\",\"DESK CLERK\",\"SERVANT\",\"ARTY WOMANB\",\"ARTY WOMAN\",\"SALLY\",\"WAITRESS\",\"CLERK\",\"ORDERLY\",\"UNKNOWN\"],\"modularity_class\":[1,0,1,1,0,0,1,0,1,0,0,0,0,1,5,5,4,4,4,6,2,2,2,2,2,2,0,0,0,0,3,3,3,3,0,0,0,0,0,0,0,0,0,0,0],\"modularity_color\":[\"#66c2a5\",\"#3288bd\",\"#66c2a5\",\"#66c2a5\",\"#3288bd\",\"#3288bd\",\"#66c2a5\",\"#3288bd\",\"#66c2a5\",\"#3288bd\",\"#3288bd\",\"#3288bd\",\"#3288bd\",\"#66c2a5\",\"#fdae61\",\"#fdae61\",\"#fee08b\",\"#fee08b\",\"#fee08b\",\"#f46d43\",\"#abdda4\",\"#abdda4\",\"#abdda4\",\"#abdda4\",\"#abdda4\",\"#abdda4\",\"#3288bd\",\"#3288bd\",\"#3288bd\",\"#3288bd\",\"#e6f598\",\"#e6f598\",\"#e6f598\",\"#e6f598\",\"#3288bd\",\"#3288bd\",\"#3288bd\",\"#3288bd\",\"#3288bd\",\"#3288bd\",\"#3288bd\",\"#3288bd\",\"#3288bd\",\"#3288bd\",\"#3288bd\"]},\"selected\":{\"id\":\"2000\"},\"selection_policy\":{\"id\":\"2001\"}},\"id\":\"1875\",\"type\":\"ColumnDataSource\"},{\"attributes\":{\"data\":{\"name\":[\"ALICE\",\"BILL\",\"BABY-SITTER\",\"HELENA\",\"DOORMAN\",\"DRIVER\",\"ZIEGLER\",\"NICK\",\"SZABO\",\"GAYLE\",\"NUALA\",\" GAYLE\",\" NUALA\",\"HARRIS\",\"V.O.\",\"audience\",\"NILL\",\"MARION\",\"CARL\",\"DOMINO\",\"GIBSON\",\"KIMONO1\",\" KIMONO2\",\"KIMONO2\",\"YOUNG GIRL\",\" YOUNG GIRL\",\"CAB DRIVER\",\"GATEMAN 1\",\"SERVANTS\",\"SERVANT 1\",\"THE WOMAN\",\"ANOTHER WOMAN\",\"TALL MAN\",\"ELEGANT MAN\",\"CLEANING LADY\",\"MANAGERESS\",\"DESK CLERK\",\"SERVANT\",\"ARTY WOMANB\",\"ARTY WOMAN\",\"SALLY\",\"WAITRESS\",\"CLERK\",\"ORDERLY\",\"UNKNOWN\"],\"x\":[1.5632813132552947,0.9832226092540213,2.8029016717396966,0.6406882807109235,2.799558436794805,4.949132400136108,1.7842040674017203,4.156440460621722,2.4932054746897956,-2.3434974736654786,5.723310643090007,3.8058065577345586,0.9635792829680898,1.9622859147295912,6.151532882564719,9.499968538723731,-0.07946100043646007,-0.44579946432357964,-1.1985162901801418,4.502551397678569,-6.266461299811657,-7.434358724154249,-8.730766353872697,-9.515576577085318,-9.85498464585487,-9.983249103521443,-1.5683220624673488,1.8905657678402723,3.5907747581145815,-1.5296834099424885,-4.011444914893505,-2.4925197065315188,-7.436201800770167,-3.1994780507369693,0.7599857691627935,-0.38701183836550795,-3.0824288345114157,-0.35137672637188694,-1.665558294438659,-0.4795120531209408,5.35255981104139,4.194342807157089,2.8486893042088446,5.422303760628315,3.2153167148096804],\"y\":[-6.071734640413,-0.27898382710101277,-4.6203211165812705,-4.3377105597966805,4.1999318238579795,-1.2559914859824577,-4.142856590129329,0.4645888744046488,-10.0,1.9442777338417119,-0.3998163518982778,-2.468569635020744,4.371092143637484,-2.8674456607248238,3.0225498967117472,5.093443582864274,-8.507460493086588,-5.313713484826748,-3.9297639741225354,2.1841571076934687,4.117298749577453,7.5611939196475655,7.095152751012129,6.081583028607209,3.5363899584279297,4.898369827601074,3.145559313253759,3.373418069247943,3.115384903656772,-1.1378430932032138,-2.788315689001842,-2.584144241527497,-4.7768486193684625,-1.3084686678246795,2.4147190569144192,2.1660229092412533,0.5094144615218471,3.9356173220663613,0.5276747683967732,-2.546274078032794,-2.4441788999819956,-3.637370343615886,1.677307931125033,0.9657717470047897,-0.9831084280737603]},\"selected\":{\"id\":\"1998\"},\"selection_policy\":{\"id\":\"1999\"}},\"id\":\"1917\",\"type\":\"ColumnDataSource\"},{\"attributes\":{\"background_fill_alpha\":{\"value\":0.7},\"background_fill_color\":{\"value\":\"white\"},\"source\":{\"id\":\"1917\"},\"text\":{\"field\":\"name\"},\"text_font_size\":{\"value\":\"10px\"},\"x\":{\"field\":\"x\"},\"y\":{\"field\":\"y\"}},\"id\":\"1918\",\"type\":\"LabelSet\"},{\"attributes\":{},\"id\":\"1998\",\"type\":\"Selection\"},{\"attributes\":{},\"id\":\"1855\",\"type\":\"BasicTicker\"},{\"attributes\":{\"formatter\":{\"id\":\"1997\"},\"major_label_policy\":{\"id\":\"1995\"},\"ticker\":{\"id\":\"1855\"}},\"id\":\"1854\",\"type\":\"LinearAxis\"},{\"attributes\":{},\"id\":\"1859\",\"type\":\"BasicTicker\"},{\"attributes\":{},\"id\":\"1913\",\"type\":\"NodesAndLinkedEdges\"},{\"attributes\":{\"source\":{\"id\":\"1879\"}},\"id\":\"1881\",\"type\":\"CDSView\"},{\"attributes\":{},\"id\":\"1852\",\"type\":\"LinearScale\"},{\"attributes\":{\"axis\":{\"id\":\"1858\"},\"dimension\":1,\"ticker\":null},\"id\":\"1861\",\"type\":\"Grid\"},{\"attributes\":{\"formatter\":{\"id\":\"1994\"},\"major_label_policy\":{\"id\":\"1992\"},\"ticker\":{\"id\":\"1859\"}},\"id\":\"1858\",\"type\":\"LinearAxis\"},{\"attributes\":{\"axis\":{\"id\":\"1854\"},\"ticker\":null},\"id\":\"1857\",\"type\":\"Grid\"},{\"attributes\":{\"data_source\":{\"id\":\"1879\"},\"glyph\":{\"id\":\"1898\"},\"hover_glyph\":{\"id\":\"1908\"},\"muted_glyph\":null,\"selection_glyph\":{\"id\":\"1903\"},\"view\":{\"id\":\"1881\"}},\"id\":\"1880\",\"type\":\"GlyphRenderer\"},{\"attributes\":{\"data_source\":{\"id\":\"1875\"},\"glyph\":{\"id\":\"1883\"},\"hover_glyph\":{\"id\":\"1888\"},\"muted_glyph\":null,\"selection_glyph\":{\"id\":\"1893\"},\"view\":{\"id\":\"1877\"}},\"id\":\"1876\",\"type\":\"GlyphRenderer\"},{\"attributes\":{},\"id\":\"2001\",\"type\":\"UnionRenderers\"},{\"attributes\":{\"line_width\":{\"value\":2}},\"id\":\"1903\",\"type\":\"MultiLine\"},{\"attributes\":{},\"id\":\"2002\",\"type\":\"Selection\"},{\"attributes\":{},\"id\":\"2003\",\"type\":\"UnionRenderers\"},{\"attributes\":{\"graph_layout\":{\" GAYLE\":[3.8058065577345586,-2.468569635020744],\" KIMONO2\":[-8.730766353872697,7.095152751012129],\" NUALA\":[0.9635792829680898,4.371092143637484],\" YOUNG GIRL\":[-9.983249103521443,4.898369827601074],\"ALICE\":[1.5632813132552947,-6.071734640413],\"ANOTHER WOMAN\":[-2.4925197065315188,-2.584144241527497],\"ARTY WOMAN\":[-0.4795120531209408,-2.546274078032794],\"ARTY WOMANB\":[-1.665558294438659,0.5276747683967732],\"BABY-SITTER\":[2.8029016717396966,-4.6203211165812705],\"BILL\":[0.9832226092540213,-0.27898382710101277],\"CAB DRIVER\":[-1.5683220624673488,3.145559313253759],\"CARL\":[-1.1985162901801418,-3.9297639741225354],\"CLEANING LADY\":[0.7599857691627935,2.4147190569144192],\"CLERK\":[2.8486893042088446,1.677307931125033],\"DESK CLERK\":[-3.0824288345114157,0.5094144615218471],\"DOMINO\":[4.502551397678569,2.1841571076934687],\"DOORMAN\":[2.799558436794805,4.1999318238579795],\"DRIVER\":[4.949132400136108,-1.2559914859824577],\"ELEGANT MAN\":[-3.1994780507369693,-1.3084686678246795],\"GATEMAN 1\":[1.8905657678402723,3.373418069247943],\"GAYLE\":[-2.3434974736654786,1.9442777338417119],\"GIBSON\":[-6.266461299811657,4.117298749577453],\"HARRIS\":[1.9622859147295912,-2.8674456607248238],\"HELENA\":[0.6406882807109235,-4.3377105597966805],\"KIMONO1\":[-7.434358724154249,7.5611939196475655],\"KIMONO2\":[-9.515576577085318,6.081583028607209],\"MANAGERESS\":[-0.38701183836550795,2.1660229092412533],\"MARION\":[-0.44579946432357964,-5.313713484826748],\"NICK\":[4.156440460621722,0.4645888744046488],\"NILL\":[-0.07946100043646007,-8.507460493086588],\"NUALA\":[5.723310643090007,-0.3998163518982778],\"ORDERLY\":[5.422303760628315,0.9657717470047897],\"SALLY\":[5.35255981104139,-2.4441788999819956],\"SERVANT\":[-0.35137672637188694,3.9356173220663613],\"SERVANT 1\":[-1.5296834099424885,-1.1378430932032138],\"SERVANTS\":[3.5907747581145815,3.115384903656772],\"SZABO\":[2.4932054746897956,-10.0],\"TALL MAN\":[-7.436201800770167,-4.7768486193684625],\"THE WOMAN\":[-4.011444914893505,-2.788315689001842],\"UNKNOWN\":[3.2153167148096804,-0.9831084280737603],\"V.O.\":[6.151532882564719,3.0225498967117472],\"WAITRESS\":[4.194342807157089,-3.637370343615886],\"YOUNG GIRL\":[-9.85498464585487,3.5363899584279297],\"ZIEGLER\":[1.7842040674017203,-4.142856590129329],\"audience\":[9.499968538723731,5.093443582864274]}},\"id\":\"1882\",\"type\":\"StaticLayoutProvider\"},{\"attributes\":{\"active_multi\":null,\"active_scroll\":{\"id\":\"1863\"},\"tools\":[{\"id\":\"1862\"},{\"id\":\"1863\"},{\"id\":\"1864\"},{\"id\":\"1865\"},{\"id\":\"1866\"}]},\"id\":\"1867\",\"type\":\"Toolbar\"},{\"attributes\":{},\"id\":\"1865\",\"type\":\"ResetTool\"},{\"attributes\":{\"source\":{\"id\":\"1875\"}},\"id\":\"1877\",\"type\":\"CDSView\"},{\"attributes\":{},\"id\":\"1915\",\"type\":\"NodesAndLinkedEdges\"},{\"attributes\":{},\"id\":\"1864\",\"type\":\"SaveTool\"},{\"attributes\":{},\"id\":\"1862\",\"type\":\"PanTool\"},{\"attributes\":{\"fill_color\":{\"value\":\"white\"},\"line_width\":{\"value\":2},\"size\":{\"field\":\"adjusted_node_size\"}},\"id\":\"1893\",\"type\":\"Circle\"},{\"attributes\":{},\"id\":\"1863\",\"type\":\"WheelZoomTool\"},{\"attributes\":{\"fill_color\":{\"value\":\"white\"},\"line_width\":{\"value\":2},\"size\":{\"field\":\"adjusted_node_size\"}},\"id\":\"1888\",\"type\":\"Circle\"},{\"attributes\":{\"data\":{\"Interaction Count\":[80,1,4,2,23,1,3,1,2,38,51,5,6,2,1,6,4,1,19,12,4,31,32,4,8,1,1,8,1,9,1,3,11,1,1,4,4,2,5,1,1,1,1,4,1,2,3,2,3,1,1,1,1,1,2,1],\"end\":[\"BILL\",\"BABY-SITTER\",\"HELENA\",\"ZIEGLER\",\"SZABO\",\"NILL\",\"DOORMAN\",\"BABY-SITTER\",\"DRIVER\",\"ZIEGLER\",\"NICK\",\"GAYLE\",\"NUALA\",\" GAYLE\",\" NUALA\",\"BILL\",\"HARRIS\",\"HELENA\",\"MARION\",\"V.O.\",\"CARL\",\"DOMINO\",\"GIBSON\",\"CAB DRIVER\",\"GATEMAN 1\",\"SERVANTS\",\"SERVANT 1\",\"THE WOMAN\",\"ANOTHER WOMAN\",\"ELEGANT MAN\",\"CLEANING LADY\",\"MANAGERESS\",\"DESK CLERK\",\"SERVANT\",\"ARTY WOMANB\",\"ARTY WOMAN\",\"SALLY\",\"WAITRESS\",\"CLERK\",\"ORDERLY\",\"UNKNOWN\",\"HARRIS\",\"ZIEGLER\",\"audience\",\"MARION\",\"CARL\",\"DOMINO\",\"KIMONO1\",\" KIMONO2\",\"KIMONO2\",\"YOUNG GIRL\",\" YOUNG GIRL\",\"ANOTHER WOMAN\",\"TALL MAN\",\"ELEGANT MAN\",\"MANAGERESS\"],\"start\":[\"ALICE\",\"ALICE\",\"ALICE\",\"ALICE\",\"ALICE\",\"ALICE\",\"BILL\",\"BILL\",\"BILL\",\"BILL\",\"BILL\",\"BILL\",\"BILL\",\"BILL\",\"BILL\",\"BILL\",\"BILL\",\"BILL\",\"BILL\",\"BILL\",\"BILL\",\"BILL\",\"BILL\",\"BILL\",\"BILL\",\"BILL\",\"BILL\",\"BILL\",\"BILL\",\"BILL\",\"BILL\",\"BILL\",\"BILL\",\"BILL\",\"BILL\",\"BILL\",\"BILL\",\"BILL\",\"BILL\",\"BILL\",\"BILL\",\"ZIEGLER\",\"ZIEGLER\",\"V.O.\",\"NILL\",\"MARION\",\"DOMINO\",\"GIBSON\",\"GIBSON\",\"GIBSON\",\"GIBSON\",\"GIBSON\",\"THE WOMAN\",\"THE WOMAN\",\"THE WOMAN\",\"CLEANING LADY\"]},\"selected\":{\"id\":\"2002\"},\"selection_policy\":{\"id\":\"2003\"}},\"id\":\"1879\",\"type\":\"ColumnDataSource\"},{\"attributes\":{\"line_width\":{\"value\":2}},\"id\":\"1908\",\"type\":\"MultiLine\"},{\"attributes\":{},\"id\":\"1992\",\"type\":\"AllLabels\"},{\"attributes\":{},\"id\":\"1999\",\"type\":\"UnionRenderers\"},{\"attributes\":{},\"id\":\"1850\",\"type\":\"LinearScale\"},{\"attributes\":{\"fill_color\":{\"field\":\"modularity_color\"},\"size\":{\"field\":\"adjusted_node_size\"}},\"id\":\"1883\",\"type\":\"Circle\"},{\"attributes\":{\"end\":10.1,\"start\":-10.1},\"id\":\"1843\",\"type\":\"Range1d\"},{\"attributes\":{},\"id\":\"1994\",\"type\":\"BasicTickFormatter\"},{\"attributes\":{\"callback\":null,\"tooltips\":[[\"Character\",\"@index\"],[\"Interactions\",\"@degree\"],[\"Modularity Class\",\"@modularity_class\"],[\"Modularity Color\",\"$color[swatch]:modularity_color\"]]},\"id\":\"1866\",\"type\":\"HoverTool\"},{\"attributes\":{},\"id\":\"1995\",\"type\":\"AllLabels\"}],\"root_ids\":[\"1845\"]},\"title\":\"Bokeh Application\",\"version\":\"2.3.3\"}};\n  var render_items = [{\"docid\":\"85c21dad-c451-4c13-a2b0-91c81274760f\",\"root_ids\":[\"1845\"],\"roots\":{\"1845\":\"bf5654ce-e9d3-4f28-b3ad-31b37ed5a581\"}}];\n  root.Bokeh.embed.embed_items_notebook(docs_json, render_items);\n\n  }\n  if (root.Bokeh !== undefined) {\n    embed_document(root);\n  } else {\n    var attempts = 0;\n    var timer = setInterval(function(root) {\n      if (root.Bokeh !== undefined) {\n        clearInterval(timer);\n        embed_document(root);\n      } else {\n        attempts++;\n        if (attempts > 100) {\n          clearInterval(timer);\n          console.log(\"Bokeh: ERROR: Unable to run BokehJS code because BokehJS library is missing\");\n        }\n      }\n    }, 10, root)\n  }\n})(window);",
      "application/vnd.bokehjs_exec.v0+json": ""
     },
     "metadata": {
      "application/vnd.bokehjs_exec.v0+json": {
       "id": "1845"
      }
     },
     "output_type": "display_data"
    }
   ],
   "source": [
    "#Choose colors for node and edge highlighting\n",
    "node_highlight_color = 'white'\n",
    "edge_highlight_color = 'black'\n",
    "\n",
    "#Choose attributes from G network to size and color by — setting manual size (e.g. 10) or color (e.g. 'skyblue') also allowed\n",
    "size_by_this_attribute = 'adjusted_node_size'\n",
    "color_by_this_attribute = 'modularity_color'\n",
    "\n",
    "#Pick a color palette — Blues8, Reds8, Purples8, Oranges8, Viridis8\n",
    "color_palette = Blues8\n",
    "\n",
    "#Choose a title!\n",
    "title = 'Screenplay 1996 Network'\n",
    "\n",
    "#Establish which categories will appear when hovering over each node\n",
    "HOVER_TOOLTIPS = [\n",
    "       (\"Character\", \"@index\"),\n",
    "        (\"Interactions\", \"@degree\"),\n",
    "         (\"Modularity Class\", \"@modularity_class\"),\n",
    "        (\"Modularity Color\", \"$color[swatch]:modularity_color\"),\n",
    "]\n",
    "\n",
    "#Create a plot — set dimensions, toolbar, and title\n",
    "plot = figure(tooltips = HOVER_TOOLTIPS,\n",
    "              tools=\"pan,wheel_zoom,save,reset\", active_scroll='wheel_zoom',\n",
    "            x_range=Range1d(-10.1, 10.1), y_range=Range1d(-10.1, 10.1), title=title)\n",
    "\n",
    "#Create a network graph object\n",
    "# https://networkx.github.io/documentation/networkx-1.9/reference/generated/networkx.drawing.layout.spring_layout.html\n",
    "network_graph = from_networkx(G, networkx.spring_layout, scale=10, center=(0, 0))\n",
    "\n",
    "#Set node sizes and colors according to node degree (color as category from attribute)\n",
    "network_graph.node_renderer.glyph = Circle(size=size_by_this_attribute, fill_color=color_by_this_attribute)\n",
    "#Set node highlight colors\n",
    "network_graph.node_renderer.hover_glyph = Circle(size=size_by_this_attribute, fill_color=node_highlight_color, line_width=2)\n",
    "network_graph.node_renderer.selection_glyph = Circle(size=size_by_this_attribute, fill_color=node_highlight_color, line_width=2)\n",
    "\n",
    "#Set edge opacity and width\n",
    "network_graph.edge_renderer.glyph = MultiLine(line_alpha=0.3, line_width=1)\n",
    "#Set edge highlight colors\n",
    "network_graph.edge_renderer.selection_glyph = MultiLine(line_color=edge_highlight_color, line_width=2)\n",
    "network_graph.edge_renderer.hover_glyph = MultiLine(line_color=edge_highlight_color, line_width=2)\n",
    "\n",
    "#Highlight nodes and edges\n",
    "network_graph.selection_policy = NodesAndLinkedEdges()\n",
    "network_graph.inspection_policy = NodesAndLinkedEdges()\n",
    "\n",
    "plot.renderers.append(network_graph)\n",
    "\n",
    "#Add Labels\n",
    "x, y = zip(*network_graph.layout_provider.graph_layout.values())\n",
    "node_labels = list(G.nodes())\n",
    "source = ColumnDataSource({'x': x, 'y': y, 'name': [node_labels[i] for i in range(len(x))]})\n",
    "labels = LabelSet(x='x', y='y', text='name', source=source, background_fill_color='white', text_font_size='10px', background_fill_alpha=.7)\n",
    "plot.renderers.append(labels)\n",
    "\n",
    "show(plot)\n",
    "#save(plot, filename=f\"{title}.html\")"
   ]
  }
 ],
 "metadata": {
  "kernelspec": {
   "display_name": "Python 3",
   "language": "python",
   "name": "python3"
  },
  "language_info": {
   "codemirror_mode": {
    "name": "ipython",
    "version": 3
   },
   "file_extension": ".py",
   "mimetype": "text/x-python",
   "name": "python",
   "nbconvert_exporter": "python",
   "pygments_lexer": "ipython3",
   "version": "3.10.8"
  },
  "orig_nbformat": 4
 },
 "nbformat": 4,
 "nbformat_minor": 2
}
