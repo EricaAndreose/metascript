{
 "cells": [
  {
   "cell_type": "markdown",
   "metadata": {},
   "source": [
    "# Documentation on time analysis\n",
    "The main goal of the time/space analysis was to answer these questions:\n",
    "- when is the screenplay mostly set? Day or night?\n",
    "- are the scenes mostly shot inside or outside?\n",
    "- are the scenes that are shot inside/outside mostly set during the day or night?\n",
    "\n",
    "This analysis gives an idea of the prevalent time and space setting, extracting the stage directions that the director had written on the screenplay. \n",
    "\n",
    "The first thing that was done was to search for all the places inside the texts and then tag inside the **XML-TEI document**. The stage directions are tagged using ```<stage>``` , the time in which the scene takes place is specified using the attribute type=\"time\", and the setting using type=\"environment\". \n",
    "\n",
    "The libraries needed to extract information from the TEI document and visualize graphically the data are: [xml.etree](https://docs.python.org/3/library/xml.etree.elementtree.html#) and [matplotlib](https://matplotlib.org/stable/tutorials/index).\n",
    "\n",
    "**xml.etree** is used to progressively search into the hierarchical structure of the XML-TEI document. In this case we need to search inside the TEI header the content inside the tag ```<stage>``` two specific attributes which content is stored in lists. \n",
    "`time_analysis_list` is a list of tuples, each tuple contains the information of time setting and related environment.\n",
    "We iterate over the list, and use `time_analysis_dict` to count the occurrences that are now values of the dictionary.\n",
    "\n",
    "**matplotlib** is a library used to create graphs based on the data that we have extracted before. \n",
    "In this case we wanted to represent our data with a pie chart that represents the percentage of space/time settings. \n",
    "The values of the dictionary, so the occurrences, are stored into a list, and then automatically transformed into percentage values. \n",
    "The keys are used as labels. \n",
    "\n",
    "\n"
   ]
  },
  {
   "cell_type": "code",
   "execution_count": 2,
   "metadata": {},
   "outputs": [],
   "source": [
    "from xml.etree import ElementTree as ET\n",
    "import pandas as pd\n",
    "from math import pi\n",
    "from bokeh.palettes import Category20c\n",
    "from bokeh.plotting import figure, output_file, show\n",
    "from bokeh.transform import cumsum\n",
    "from bokeh.models import ColumnDataSource, CustomJS, OpenURL, TapTool, Div\n",
    "\n",
    "\n",
    "# Function to analyze XML data and create a pie chart\n",
    "def timeanalysis(xml_file_path):\n",
    "    try:\n",
    "        tree = ET.parse(xml_file_path)\n",
    "        root = tree.getroot()\n",
    "    except ET.ParseError as e:\n",
    "        print(f\"Error parsing XML: {e}\")\n",
    "        return\n",
    "\n",
    "    time_analysis_dict = {}\n",
    "\n",
    "    time_stage_elements = root.findall(\".//{http://www.tei-c.org/ns/1.0}stage[@type='time']\")\n",
    "    env_stage_elements = root.findall(\".//{http://www.tei-c.org/ns/1.0}stage[@type='environment']\")\n",
    "\n",
    "    for time_stage, env in zip(time_stage_elements, env_stage_elements):\n",
    "        time_content = time_stage.text.strip() if time_stage.text else \"\"\n",
    "        env_content = env.text.strip() if env.text else \"\"\n",
    "        pair = (time_content, env_content)\n",
    "\n",
    "        if pair in time_analysis_dict:\n",
    "            time_analysis_dict[pair] += 1\n",
    "        else:\n",
    "            time_analysis_dict[pair] = 1\n",
    "    \n",
    "\n",
    "    data = pd.DataFrame({'pair': list(time_analysis_dict.keys()), 'value': list(time_analysis_dict.values())})\n",
    "\n",
    "    data['angle'] = data['value'] / data['value'].sum() * 2 * pi\n",
    "    data['color'] = Category20c[len(data)]\n",
    "\n",
    "    p = figure(height=350, title=\"Pie Chart\", toolbar_location=None,\n",
    "               tools=\"hover\", tooltips=\"@pair: @value\", x_range=(-0.5, 1.0))\n",
    "\n",
    "    source = ColumnDataSource(data=data)\n",
    "\n",
    "    p.wedge(x=0, y=1, radius=0.4,\n",
    "            start_angle=cumsum('angle', include_zero=True), end_angle=cumsum('angle'),\n",
    "            line_color=\"white\", fill_color='color', legend_field='pair', source=source)\n",
    "\n",
    "    show(p)\n",
    "if __name__ == \"__main__\":\n",
    "    xml_file_path = \"C:/Users/crosi/Documents/GitHub/metascript/eyes-wide-shut-1999-transcription.xml\"\n",
    "    pie_chart = timeanalysis(xml_file_path)\n",
    "    \n",
    "\n",
    "\n"
   ]
  },
  {
   "cell_type": "code",
   "execution_count": 1,
   "metadata": {},
   "outputs": [
    {
     "data": {
      "application/vnd.plotly.v1+json": {
       "config": {
        "plotlyServerURL": "https://plot.ly"
       },
       "data": [
        {
         "mode": "lines",
         "name": "Time",
         "type": "scatter",
         "x": [
          "1",
          "2",
          "3",
          "4",
          "5",
          "6",
          "7",
          "8",
          "9",
          "10",
          "11",
          "12",
          "13",
          "14",
          "15",
          "16",
          "17",
          "18",
          "19",
          "20",
          "21",
          "22",
          "23",
          "24",
          "25",
          "26",
          "27",
          "28",
          "29",
          "30",
          "31",
          "32",
          "33",
          "34",
          "35",
          "36",
          "37",
          "38",
          "39",
          "40",
          "41",
          "42",
          "43",
          "44",
          "45",
          "46",
          "47",
          "48",
          "49",
          "50",
          "51",
          "52",
          "53",
          "54",
          "55",
          "56",
          "57",
          "58",
          "59",
          "60",
          "61",
          "62",
          "63",
          "64",
          "65",
          "66",
          "67",
          "68",
          "69",
          "70",
          "71",
          "72",
          "73",
          "74",
          "75",
          "76",
          "77",
          "78",
          "79",
          "80",
          "81",
          "82",
          "83",
          "84",
          "85",
          "86",
          "87",
          "88",
          "89",
          "90",
          "91",
          "92",
          "93",
          "94",
          "95",
          "96",
          "97",
          "98",
          "99",
          "100",
          "101",
          "102",
          "103",
          "104",
          "105",
          "106",
          "107",
          "108",
          "109",
          "110",
          "111",
          "112",
          "113",
          "114",
          "115",
          "116",
          "117",
          "118",
          "119",
          "120",
          "121",
          "122",
          "123",
          "124",
          "125",
          "126",
          "127",
          "128",
          "129",
          "130",
          "131",
          "132",
          "133",
          "134"
         ],
         "y": [
          "NIGHT",
          "NIGHT",
          "NIGHT",
          "NIGHT",
          "NIGHT",
          "NIGHT",
          "NIGHT",
          "NIGHT",
          "NIGHT",
          "NIGHT",
          "NIGHT",
          "NIGHT",
          "NIGHT",
          "NIGHT",
          "NIGHT",
          "NIGHT",
          "NIGHT",
          "NIGHT",
          "NIGHT",
          "DAY",
          "DAY",
          "DAY",
          "DAY",
          "DAY",
          "DAY",
          "DAY",
          "DAY",
          "DAY",
          "NIGHT",
          "NIGHT",
          "NIGHT",
          "NIGHT",
          "NIGHT",
          "NIGHT",
          "DAY",
          "NIGHT",
          "NIGHT",
          "NIGHT",
          "NIGHT",
          "NIGHT",
          "NIGHT",
          "NIGHT",
          "NIGHT",
          "DAY",
          "NIGHT",
          "NIGHT",
          "NIGHT",
          "NIGHT",
          "NIGHT",
          "NIGHT",
          "NIGHT",
          "NIGHT",
          "NIGHT",
          "NIGHT",
          "NIGHT",
          "NIGHT",
          "NIGHT",
          "NIGHT",
          "NIGHT",
          "NIGHT",
          "NIGHT",
          "NIGHT",
          "NIGHT",
          "NIGHT",
          "NIGHT",
          "NIGHT",
          "DAY",
          "NIGHT",
          "NIGHT",
          "NIGHT",
          "NIGHT",
          "NIGHT",
          "NIGHT",
          "NIGHT",
          "NIGHT",
          "NIGHT",
          "NIGHT",
          "NIGHT",
          "NIGHT",
          "NIGHT",
          "NIGHT",
          "NIGHT",
          "NIGHT",
          "NIGHT",
          "NIGHT",
          "NIGHT",
          "NIGHT",
          "NIGHT",
          "MORNING",
          "DAY",
          "DAY",
          "DAY",
          "DAY",
          "DAY",
          "DAY",
          "DAY",
          "DAY",
          "DAY",
          "DAY",
          "DAY",
          "DAY",
          "DAY",
          "DAY",
          "NIGHT",
          "NIGHT",
          "NIGHT",
          "NIGHT",
          "DAY",
          "NIGHT",
          "NIGHT",
          "NIGHT",
          "NIGHT",
          "NIGHT",
          "NIGHT",
          "NIGHT",
          "NIGHT",
          "NIGHT",
          "NIGHT",
          "NIGHT",
          "NIGHT",
          "NIGHT",
          "NIGHT",
          "NIGHT",
          "NIGHT",
          "NIGHT",
          "NIGHT",
          "NIGHT",
          "NIGHT",
          "NIGHT",
          "NIGHT",
          "NIGHT",
          "NIGHT",
          "DAY",
          "DAY"
         ],
         "yaxis": "y"
        },
        {
         "mode": "lines",
         "name": "Environment",
         "type": "scatter",
         "x": [
          "1",
          "2",
          "3",
          "4",
          "5",
          "6",
          "7",
          "8",
          "9",
          "10",
          "11",
          "12",
          "13",
          "14",
          "15",
          "16",
          "17",
          "18",
          "19",
          "20",
          "21",
          "22",
          "23",
          "24",
          "25",
          "26",
          "27",
          "28",
          "29",
          "30",
          "31",
          "32",
          "33",
          "34",
          "35",
          "36",
          "37",
          "38",
          "39",
          "40",
          "41",
          "42",
          "43",
          "44",
          "45",
          "46",
          "47",
          "48",
          "49",
          "50",
          "51",
          "52",
          "53",
          "54",
          "55",
          "56",
          "57",
          "58",
          "59",
          "60",
          "61",
          "62",
          "63",
          "64",
          "65",
          "66",
          "67",
          "68",
          "69",
          "70",
          "71",
          "72",
          "73",
          "74",
          "75",
          "76",
          "77",
          "78",
          "79",
          "80",
          "81",
          "82",
          "83",
          "84",
          "85",
          "86",
          "87",
          "88",
          "89",
          "90",
          "91",
          "92",
          "93",
          "94",
          "95",
          "96",
          "97",
          "98",
          "99",
          "100",
          "101",
          "102",
          "103",
          "104",
          "105",
          "106",
          "107",
          "108",
          "109",
          "110",
          "111",
          "112",
          "113",
          "114",
          "115",
          "116",
          "117",
          "118",
          "119",
          "120",
          "121",
          "122",
          "123",
          "124",
          "125",
          "126",
          "127",
          "128",
          "129",
          "130",
          "131",
          "132",
          "133",
          "134"
         ],
         "y": [
          "INT.",
          "EXT.",
          "INT.",
          "INT.",
          "EXT.",
          "INT.",
          "INT.",
          "INT.",
          "INT.",
          "INT.",
          "INT.",
          "INT.",
          "INT.",
          "INT.",
          "INT.",
          "INT.",
          "INT.",
          "INT.",
          "INT.",
          "INT.",
          "INT.",
          "INT.",
          "INT.",
          "INT.",
          "INT.",
          "INT.",
          "INT.",
          "INT.",
          "INT.",
          "INT.",
          "INT.",
          "INT.",
          "INT.",
          "INT.",
          "INT.",
          "INT.",
          "INT.",
          "INT.",
          "INT.",
          "INT.",
          "INT.",
          "EXT.",
          "EXT.",
          "INT.",
          "EXT.",
          "EXT.",
          "INT.",
          "INT.",
          "INT.",
          "INT.",
          "INT.",
          "INT.",
          "INT.",
          "INT.",
          "INT.",
          "INT.",
          "INT.",
          "INT.",
          "EXT.",
          "INT.",
          "EXT.",
          "INT.",
          "INT.",
          "INT.",
          "EXT.",
          "INT.",
          "INT.",
          "INT.",
          "INT.",
          "EXT.",
          "EXT.",
          "INT.",
          "INT.",
          "EXT.",
          "INT.",
          "EXT.",
          "EXT.",
          "INT.",
          "INT.",
          "INT.",
          "INT.",
          "INT.",
          "INT.",
          "INT.",
          "INT.",
          "INT.",
          "INT.",
          "INT.",
          "EXT.",
          "EXT.",
          "INT.",
          "EXT.",
          "INT.",
          "EXT.",
          "INT.",
          "EXT.",
          "INT.",
          "INT.",
          "INT.",
          "EXT.",
          "INT.",
          "EXT.",
          "EXT.",
          "EXT.",
          "INT.",
          "INT.",
          "INT.",
          "INT.",
          "INT.",
          "INT.",
          "INT.",
          "INT.",
          "INT.",
          "EXT.",
          "INT.",
          "INT.",
          "EXT.",
          "EXT.",
          "EXT.",
          "INT.",
          "INT.",
          "EXT.",
          "INT.",
          "INT.",
          "INT.",
          "INT.",
          "EXT.",
          "INT.",
          "INT.",
          "INT.",
          "INT.",
          "INT.",
          "INT.",
          "INT."
         ],
         "yaxis": "y2"
        }
       ],
       "layout": {
        "template": {
         "data": {
          "bar": [
           {
            "error_x": {
             "color": "#2a3f5f"
            },
            "error_y": {
             "color": "#2a3f5f"
            },
            "marker": {
             "line": {
              "color": "#E5ECF6",
              "width": 0.5
             },
             "pattern": {
              "fillmode": "overlay",
              "size": 10,
              "solidity": 0.2
             }
            },
            "type": "bar"
           }
          ],
          "barpolar": [
           {
            "marker": {
             "line": {
              "color": "#E5ECF6",
              "width": 0.5
             },
             "pattern": {
              "fillmode": "overlay",
              "size": 10,
              "solidity": 0.2
             }
            },
            "type": "barpolar"
           }
          ],
          "carpet": [
           {
            "aaxis": {
             "endlinecolor": "#2a3f5f",
             "gridcolor": "white",
             "linecolor": "white",
             "minorgridcolor": "white",
             "startlinecolor": "#2a3f5f"
            },
            "baxis": {
             "endlinecolor": "#2a3f5f",
             "gridcolor": "white",
             "linecolor": "white",
             "minorgridcolor": "white",
             "startlinecolor": "#2a3f5f"
            },
            "type": "carpet"
           }
          ],
          "choropleth": [
           {
            "colorbar": {
             "outlinewidth": 0,
             "ticks": ""
            },
            "type": "choropleth"
           }
          ],
          "contour": [
           {
            "colorbar": {
             "outlinewidth": 0,
             "ticks": ""
            },
            "colorscale": [
             [
              0,
              "#0d0887"
             ],
             [
              0.1111111111111111,
              "#46039f"
             ],
             [
              0.2222222222222222,
              "#7201a8"
             ],
             [
              0.3333333333333333,
              "#9c179e"
             ],
             [
              0.4444444444444444,
              "#bd3786"
             ],
             [
              0.5555555555555556,
              "#d8576b"
             ],
             [
              0.6666666666666666,
              "#ed7953"
             ],
             [
              0.7777777777777778,
              "#fb9f3a"
             ],
             [
              0.8888888888888888,
              "#fdca26"
             ],
             [
              1,
              "#f0f921"
             ]
            ],
            "type": "contour"
           }
          ],
          "contourcarpet": [
           {
            "colorbar": {
             "outlinewidth": 0,
             "ticks": ""
            },
            "type": "contourcarpet"
           }
          ],
          "heatmap": [
           {
            "colorbar": {
             "outlinewidth": 0,
             "ticks": ""
            },
            "colorscale": [
             [
              0,
              "#0d0887"
             ],
             [
              0.1111111111111111,
              "#46039f"
             ],
             [
              0.2222222222222222,
              "#7201a8"
             ],
             [
              0.3333333333333333,
              "#9c179e"
             ],
             [
              0.4444444444444444,
              "#bd3786"
             ],
             [
              0.5555555555555556,
              "#d8576b"
             ],
             [
              0.6666666666666666,
              "#ed7953"
             ],
             [
              0.7777777777777778,
              "#fb9f3a"
             ],
             [
              0.8888888888888888,
              "#fdca26"
             ],
             [
              1,
              "#f0f921"
             ]
            ],
            "type": "heatmap"
           }
          ],
          "heatmapgl": [
           {
            "colorbar": {
             "outlinewidth": 0,
             "ticks": ""
            },
            "colorscale": [
             [
              0,
              "#0d0887"
             ],
             [
              0.1111111111111111,
              "#46039f"
             ],
             [
              0.2222222222222222,
              "#7201a8"
             ],
             [
              0.3333333333333333,
              "#9c179e"
             ],
             [
              0.4444444444444444,
              "#bd3786"
             ],
             [
              0.5555555555555556,
              "#d8576b"
             ],
             [
              0.6666666666666666,
              "#ed7953"
             ],
             [
              0.7777777777777778,
              "#fb9f3a"
             ],
             [
              0.8888888888888888,
              "#fdca26"
             ],
             [
              1,
              "#f0f921"
             ]
            ],
            "type": "heatmapgl"
           }
          ],
          "histogram": [
           {
            "marker": {
             "pattern": {
              "fillmode": "overlay",
              "size": 10,
              "solidity": 0.2
             }
            },
            "type": "histogram"
           }
          ],
          "histogram2d": [
           {
            "colorbar": {
             "outlinewidth": 0,
             "ticks": ""
            },
            "colorscale": [
             [
              0,
              "#0d0887"
             ],
             [
              0.1111111111111111,
              "#46039f"
             ],
             [
              0.2222222222222222,
              "#7201a8"
             ],
             [
              0.3333333333333333,
              "#9c179e"
             ],
             [
              0.4444444444444444,
              "#bd3786"
             ],
             [
              0.5555555555555556,
              "#d8576b"
             ],
             [
              0.6666666666666666,
              "#ed7953"
             ],
             [
              0.7777777777777778,
              "#fb9f3a"
             ],
             [
              0.8888888888888888,
              "#fdca26"
             ],
             [
              1,
              "#f0f921"
             ]
            ],
            "type": "histogram2d"
           }
          ],
          "histogram2dcontour": [
           {
            "colorbar": {
             "outlinewidth": 0,
             "ticks": ""
            },
            "colorscale": [
             [
              0,
              "#0d0887"
             ],
             [
              0.1111111111111111,
              "#46039f"
             ],
             [
              0.2222222222222222,
              "#7201a8"
             ],
             [
              0.3333333333333333,
              "#9c179e"
             ],
             [
              0.4444444444444444,
              "#bd3786"
             ],
             [
              0.5555555555555556,
              "#d8576b"
             ],
             [
              0.6666666666666666,
              "#ed7953"
             ],
             [
              0.7777777777777778,
              "#fb9f3a"
             ],
             [
              0.8888888888888888,
              "#fdca26"
             ],
             [
              1,
              "#f0f921"
             ]
            ],
            "type": "histogram2dcontour"
           }
          ],
          "mesh3d": [
           {
            "colorbar": {
             "outlinewidth": 0,
             "ticks": ""
            },
            "type": "mesh3d"
           }
          ],
          "parcoords": [
           {
            "line": {
             "colorbar": {
              "outlinewidth": 0,
              "ticks": ""
             }
            },
            "type": "parcoords"
           }
          ],
          "pie": [
           {
            "automargin": true,
            "type": "pie"
           }
          ],
          "scatter": [
           {
            "fillpattern": {
             "fillmode": "overlay",
             "size": 10,
             "solidity": 0.2
            },
            "type": "scatter"
           }
          ],
          "scatter3d": [
           {
            "line": {
             "colorbar": {
              "outlinewidth": 0,
              "ticks": ""
             }
            },
            "marker": {
             "colorbar": {
              "outlinewidth": 0,
              "ticks": ""
             }
            },
            "type": "scatter3d"
           }
          ],
          "scattercarpet": [
           {
            "marker": {
             "colorbar": {
              "outlinewidth": 0,
              "ticks": ""
             }
            },
            "type": "scattercarpet"
           }
          ],
          "scattergeo": [
           {
            "marker": {
             "colorbar": {
              "outlinewidth": 0,
              "ticks": ""
             }
            },
            "type": "scattergeo"
           }
          ],
          "scattergl": [
           {
            "marker": {
             "colorbar": {
              "outlinewidth": 0,
              "ticks": ""
             }
            },
            "type": "scattergl"
           }
          ],
          "scattermapbox": [
           {
            "marker": {
             "colorbar": {
              "outlinewidth": 0,
              "ticks": ""
             }
            },
            "type": "scattermapbox"
           }
          ],
          "scatterpolar": [
           {
            "marker": {
             "colorbar": {
              "outlinewidth": 0,
              "ticks": ""
             }
            },
            "type": "scatterpolar"
           }
          ],
          "scatterpolargl": [
           {
            "marker": {
             "colorbar": {
              "outlinewidth": 0,
              "ticks": ""
             }
            },
            "type": "scatterpolargl"
           }
          ],
          "scatterternary": [
           {
            "marker": {
             "colorbar": {
              "outlinewidth": 0,
              "ticks": ""
             }
            },
            "type": "scatterternary"
           }
          ],
          "surface": [
           {
            "colorbar": {
             "outlinewidth": 0,
             "ticks": ""
            },
            "colorscale": [
             [
              0,
              "#0d0887"
             ],
             [
              0.1111111111111111,
              "#46039f"
             ],
             [
              0.2222222222222222,
              "#7201a8"
             ],
             [
              0.3333333333333333,
              "#9c179e"
             ],
             [
              0.4444444444444444,
              "#bd3786"
             ],
             [
              0.5555555555555556,
              "#d8576b"
             ],
             [
              0.6666666666666666,
              "#ed7953"
             ],
             [
              0.7777777777777778,
              "#fb9f3a"
             ],
             [
              0.8888888888888888,
              "#fdca26"
             ],
             [
              1,
              "#f0f921"
             ]
            ],
            "type": "surface"
           }
          ],
          "table": [
           {
            "cells": {
             "fill": {
              "color": "#EBF0F8"
             },
             "line": {
              "color": "white"
             }
            },
            "header": {
             "fill": {
              "color": "#C8D4E3"
             },
             "line": {
              "color": "white"
             }
            },
            "type": "table"
           }
          ]
         },
         "layout": {
          "annotationdefaults": {
           "arrowcolor": "#2a3f5f",
           "arrowhead": 0,
           "arrowwidth": 1
          },
          "autotypenumbers": "strict",
          "coloraxis": {
           "colorbar": {
            "outlinewidth": 0,
            "ticks": ""
           }
          },
          "colorscale": {
           "diverging": [
            [
             0,
             "#8e0152"
            ],
            [
             0.1,
             "#c51b7d"
            ],
            [
             0.2,
             "#de77ae"
            ],
            [
             0.3,
             "#f1b6da"
            ],
            [
             0.4,
             "#fde0ef"
            ],
            [
             0.5,
             "#f7f7f7"
            ],
            [
             0.6,
             "#e6f5d0"
            ],
            [
             0.7,
             "#b8e186"
            ],
            [
             0.8,
             "#7fbc41"
            ],
            [
             0.9,
             "#4d9221"
            ],
            [
             1,
             "#276419"
            ]
           ],
           "sequential": [
            [
             0,
             "#0d0887"
            ],
            [
             0.1111111111111111,
             "#46039f"
            ],
            [
             0.2222222222222222,
             "#7201a8"
            ],
            [
             0.3333333333333333,
             "#9c179e"
            ],
            [
             0.4444444444444444,
             "#bd3786"
            ],
            [
             0.5555555555555556,
             "#d8576b"
            ],
            [
             0.6666666666666666,
             "#ed7953"
            ],
            [
             0.7777777777777778,
             "#fb9f3a"
            ],
            [
             0.8888888888888888,
             "#fdca26"
            ],
            [
             1,
             "#f0f921"
            ]
           ],
           "sequentialminus": [
            [
             0,
             "#0d0887"
            ],
            [
             0.1111111111111111,
             "#46039f"
            ],
            [
             0.2222222222222222,
             "#7201a8"
            ],
            [
             0.3333333333333333,
             "#9c179e"
            ],
            [
             0.4444444444444444,
             "#bd3786"
            ],
            [
             0.5555555555555556,
             "#d8576b"
            ],
            [
             0.6666666666666666,
             "#ed7953"
            ],
            [
             0.7777777777777778,
             "#fb9f3a"
            ],
            [
             0.8888888888888888,
             "#fdca26"
            ],
            [
             1,
             "#f0f921"
            ]
           ]
          },
          "colorway": [
           "#636efa",
           "#EF553B",
           "#00cc96",
           "#ab63fa",
           "#FFA15A",
           "#19d3f3",
           "#FF6692",
           "#B6E880",
           "#FF97FF",
           "#FECB52"
          ],
          "font": {
           "color": "#2a3f5f"
          },
          "geo": {
           "bgcolor": "white",
           "lakecolor": "white",
           "landcolor": "#E5ECF6",
           "showlakes": true,
           "showland": true,
           "subunitcolor": "white"
          },
          "hoverlabel": {
           "align": "left"
          },
          "hovermode": "closest",
          "mapbox": {
           "style": "light"
          },
          "paper_bgcolor": "white",
          "plot_bgcolor": "#E5ECF6",
          "polar": {
           "angularaxis": {
            "gridcolor": "white",
            "linecolor": "white",
            "ticks": ""
           },
           "bgcolor": "#E5ECF6",
           "radialaxis": {
            "gridcolor": "white",
            "linecolor": "white",
            "ticks": ""
           }
          },
          "scene": {
           "xaxis": {
            "backgroundcolor": "#E5ECF6",
            "gridcolor": "white",
            "gridwidth": 2,
            "linecolor": "white",
            "showbackground": true,
            "ticks": "",
            "zerolinecolor": "white"
           },
           "yaxis": {
            "backgroundcolor": "#E5ECF6",
            "gridcolor": "white",
            "gridwidth": 2,
            "linecolor": "white",
            "showbackground": true,
            "ticks": "",
            "zerolinecolor": "white"
           },
           "zaxis": {
            "backgroundcolor": "#E5ECF6",
            "gridcolor": "white",
            "gridwidth": 2,
            "linecolor": "white",
            "showbackground": true,
            "ticks": "",
            "zerolinecolor": "white"
           }
          },
          "shapedefaults": {
           "line": {
            "color": "#2a3f5f"
           }
          },
          "ternary": {
           "aaxis": {
            "gridcolor": "white",
            "linecolor": "white",
            "ticks": ""
           },
           "baxis": {
            "gridcolor": "white",
            "linecolor": "white",
            "ticks": ""
           },
           "bgcolor": "#E5ECF6",
           "caxis": {
            "gridcolor": "white",
            "linecolor": "white",
            "ticks": ""
           }
          },
          "title": {
           "x": 0.05
          },
          "xaxis": {
           "automargin": true,
           "gridcolor": "white",
           "linecolor": "white",
           "ticks": "",
           "title": {
            "standoff": 15
           },
           "zerolinecolor": "white",
           "zerolinewidth": 2
          },
          "yaxis": {
           "automargin": true,
           "gridcolor": "white",
           "linecolor": "white",
           "ticks": "",
           "title": {
            "standoff": 15
           },
           "zerolinecolor": "white",
           "zerolinewidth": 2
          }
         }
        },
        "title": {
         "text": "Time and Environment Analysis"
        },
        "xaxis": {
         "title": {
          "text": "Scene"
         }
        },
        "yaxis": {
         "showgrid": false,
         "side": "left",
         "title": {
          "text": "Time"
         }
        },
        "yaxis2": {
         "overlaying": "y",
         "showgrid": false,
         "side": "right",
         "title": {
          "text": "Environment"
         }
        }
       }
      }
     },
     "metadata": {},
     "output_type": "display_data"
    }
   ],
   "source": [
    "from xml.etree import ElementTree as ET\n",
    "import plotly.graph_objects as go\n",
    "\n",
    "def timeanalysis(xml_file_path):\n",
    "    tree = ET.parse(xml_file_path)\n",
    "    root = tree.getroot()\n",
    "\n",
    "    n_list = []\n",
    "    time_list = []\n",
    "    env_list = []\n",
    "\n",
    "    for tag in root.findall('.//{http://www.tei-c.org/ns/1.0}div[@type=\"scene\"]'):\n",
    "        listener_tag = tag.get('n')\n",
    "        n_list.append(listener_tag)\n",
    "\n",
    "        time_stage_elements = tag.findall(\".//{http://www.tei-c.org/ns/1.0}stage[@type='time']\")\n",
    "        for i in time_stage_elements:\n",
    "            a = i.text\n",
    "            time_list.append(a)\n",
    "\n",
    "        env_stage_elements = tag.findall(\".//{http://www.tei-c.org/ns/1.0}stage[@type='environment']\")\n",
    "        for i in env_stage_elements:\n",
    "            a = i.text\n",
    "            env_list.append(a)\n",
    "\n",
    "    \n",
    "    x_list = n_list  \n",
    "    y1_list = time_list  \n",
    "    y2_list = env_list  \n",
    "\n",
    "    # Create traces with different y-axes on the right side\n",
    "    trace1 = go.Scatter(x=x_list, y=y1_list, mode='lines', name='Time', yaxis='y1')\n",
    "    trace2 = go.Scatter(x=x_list, y=y2_list, mode='lines', name='Environment', yaxis='y2')\n",
    "\n",
    "    # Create layout with two y-axes on the right side\n",
    "    layout = go.Layout(\n",
    "        title='Time and Environment Analysis',\n",
    "        xaxis=dict(title='Scene'),\n",
    "        yaxis=dict(title='Time', side='left', showgrid=False),\n",
    "        yaxis2=dict(title='Environment', side='right', overlaying='y', showgrid=False)\n",
    "    )\n",
    "\n",
    "    # Create a figure with the traces and layout\n",
    "    fig = go.Figure(data=[trace1, trace2], layout=layout)\n",
    "\n",
    "    # Show the figure\n",
    "    fig.show()\n",
    "\n",
    "# Call the function with the path to your XML file\n",
    "timeanalysis('C:/Users/crosi/Documents/GitHub/metascript/eyes-wide-shut-1999-transcription.xml')\n",
    "\n"
   ]
  }
 ],
 "metadata": {
  "kernelspec": {
   "display_name": "Python 3",
   "language": "python",
   "name": "python3"
  },
  "language_info": {
   "codemirror_mode": {
    "name": "ipython",
    "version": 3
   },
   "file_extension": ".py",
   "mimetype": "text/x-python",
   "name": "python",
   "nbconvert_exporter": "python",
   "pygments_lexer": "ipython3",
   "version": "3.10.8"
  },
  "orig_nbformat": 4
 },
 "nbformat": 4,
 "nbformat_minor": 2
}
